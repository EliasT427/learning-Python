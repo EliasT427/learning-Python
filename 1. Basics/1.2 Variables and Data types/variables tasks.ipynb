{
  "nbformat": 4,
  "nbformat_minor": 0,
  "metadata": {
    "interpreter": {
      "hash": "fd61235da8d855c081cbd5d7c6398e4c179a40a950675235256f7f30499f1124"
    },
    "kernelspec": {
      "display_name": "Python 3.7.4 64-bit ('base': conda)",
      "name": "python3"
    },
    "language_info": {
      "codemirror_mode": {
        "name": "ipython",
        "version": 3
      },
      "file_extension": ".py",
      "mimetype": "text/x-python",
      "name": "python",
      "nbconvert_exporter": "python",
      "pygments_lexer": "ipython3",
      "version": "3.7.4"
    },
    "orig_nbformat": 4,
    "colab": {
      "name": "variables tasks.ipynb",
      "provenance": []
    }
  },
  "cells": [
    {
      "cell_type": "markdown",
      "metadata": {
        "id": "im-TZXrExDge"
      },
      "source": [
        "# Variable Exercises"
      ]
    },
    {
      "cell_type": "markdown",
      "metadata": {
        "id": "IX5STvgaxDgj"
      },
      "source": [
        "## Task 1\n",
        "<b>Create a numeric variable and print out its memory address</b>\n",
        "\n",
        "***You print memory addresses using the id() function***"
      ]
    },
    {
      "cell_type": "code",
      "metadata": {
        "id": "BvnXfi54xDgj",
        "outputId": "3334a786-4148-4514-9837-a7e7e7a9ee2c",
        "colab": {
          "base_uri": "https://localhost:8080/"
        }
      },
      "source": [
        "# Code goes here\n",
        "var=10\n",
        "print(id(var))"
      ],
      "execution_count": 1,
      "outputs": [
        {
          "output_type": "stream",
          "name": "stdout",
          "text": [
            "94889584499488\n"
          ]
        }
      ]
    },
    {
      "cell_type": "markdown",
      "metadata": {
        "id": "1LXAAlNZxDgl"
      },
      "source": [
        "## Task 2\n",
        "<b>Create a variable of type string and print out its value, then reassign a value of type float to the same variable and printout its value</b>"
      ]
    },
    {
      "cell_type": "code",
      "metadata": {
        "id": "1pPG9m61xDgl",
        "outputId": "f0ae2241-542d-4dfb-c2e4-8fb18a01b73e",
        "colab": {
          "base_uri": "https://localhost:8080/"
        }
      },
      "source": [
        "# Code goes here\n",
        "var='1'\n",
        "print(var)\n",
        "print(type(var))\n",
        "var=1.23\n",
        "print(var)\n",
        "print(type(var))\n"
      ],
      "execution_count": 17,
      "outputs": [
        {
          "output_type": "stream",
          "name": "stdout",
          "text": [
            "1\n",
            "<class 'str'>\n",
            "1.23\n",
            "<class 'float'>\n"
          ]
        }
      ]
    },
    {
      "cell_type": "markdown",
      "metadata": {
        "id": "H0eZ1_vHxDgl"
      },
      "source": [
        "## Task 3\n",
        "<b>Assign values of different types to each of the following variables and print out their types</b>"
      ]
    },
    {
      "cell_type": "code",
      "metadata": {
        "id": "iEks0B6cxDgm",
        "outputId": "9504cf5e-c654-4405-e0e8-074db06f1717",
        "colab": {
          "base_uri": "https://localhost:8080/"
        }
      },
      "source": [
        "# Code goes here\n",
        "var1, var2, var3 = 1, 2, 3\n",
        "print(var1, var2, var3)"
      ],
      "execution_count": 20,
      "outputs": [
        {
          "output_type": "stream",
          "name": "stdout",
          "text": [
            "1 2 3\n"
          ]
        }
      ]
    },
    {
      "cell_type": "markdown",
      "metadata": {
        "id": "RvwozIKqxDgm"
      },
      "source": [
        "------------------\n",
        "# String Exercises"
      ]
    },
    {
      "cell_type": "markdown",
      "metadata": {
        "id": "4Um7OS0wxDgn"
      },
      "source": [
        "## Task 1\n",
        "<b>Create a string and print the first character</b>"
      ]
    },
    {
      "cell_type": "code",
      "metadata": {
        "id": "JoVGj2nuxDgn",
        "outputId": "c4486b93-9083-43b4-af83-5c140c4bac66",
        "colab": {
          "base_uri": "https://localhost:8080/"
        }
      },
      "source": [
        "# Code goes here\n",
        "var='hello i am elias'\n",
        "print(var[0])\n"
      ],
      "execution_count": 24,
      "outputs": [
        {
          "output_type": "stream",
          "name": "stdout",
          "text": [
            "h\n"
          ]
        }
      ]
    },
    {
      "cell_type": "markdown",
      "metadata": {
        "id": "CZO-XwJlxDgo"
      },
      "source": [
        "## Task 2\n",
        "<b>In your own words, describe what is meant by an index</b>"
      ]
    },
    {
      "cell_type": "code",
      "metadata": {
        "id": "B80JJWhLxDgo"
      },
      "source": [
        "# Response goes here\n",
        "# \n",
        "# An index is ... a number for where something is in a in a sequence \n"
      ],
      "execution_count": null,
      "outputs": []
    },
    {
      "cell_type": "markdown",
      "metadata": {
        "id": "1cI2pKkUxDgp"
      },
      "source": [
        "## Task 3\n",
        "<b>Create a string and print out the last character (without using the len() function)</b>"
      ]
    },
    {
      "cell_type": "code",
      "metadata": {
        "id": "BWxHkbjVxDgp",
        "outputId": "11565256-081f-4e20-9853-8907b4434c26",
        "colab": {
          "base_uri": "https://localhost:8080/",
          "height": 35
        }
      },
      "source": [
        "# Code goes here\n",
        "string = \"hello\"\n",
        "string[4]"
      ],
      "execution_count": 25,
      "outputs": [
        {
          "output_type": "execute_result",
          "data": {
            "application/vnd.google.colaboratory.intrinsic+json": {
              "type": "string"
            },
            "text/plain": [
              "'o'"
            ]
          },
          "metadata": {},
          "execution_count": 25
        }
      ]
    },
    {
      "cell_type": "markdown",
      "metadata": {
        "id": "bLsFC4cOxDgp"
      },
      "source": [
        "## Task 4\n",
        "<b>Create a string and print out the last character using the len() function</b>"
      ]
    },
    {
      "cell_type": "code",
      "metadata": {
        "id": "vG3Cjj0ZxDgp",
        "outputId": "369f9e2f-51a4-4253-ad5c-b50cbd2be13b",
        "colab": {
          "base_uri": "https://localhost:8080/"
        }
      },
      "source": [
        "# Code goes here\n",
        "string = \"hello my name is elias\"\n",
        "index=len(string)-1\n",
        "print(string[index])\n",
        "\n"
      ],
      "execution_count": 64,
      "outputs": [
        {
          "output_type": "stream",
          "name": "stdout",
          "text": [
            "s\n"
          ]
        }
      ]
    },
    {
      "cell_type": "markdown",
      "metadata": {
        "id": "TSaRagDQxDgq"
      },
      "source": [
        "## Task 5\n",
        "<b> Print the first, middle, and last character of the string, as well as its length</b>"
      ]
    },
    {
      "cell_type": "code",
      "metadata": {
        "id": "mo2kCS9jxDgq",
        "outputId": "f6577478-dcdf-4f66-db46-b38e10a52c64",
        "colab": {
          "base_uri": "https://localhost:8080/"
        }
      },
      "source": [
        "# Code goes here\n",
        "var = \"Directing\"\n",
        "print(len(var))\n",
        "print(var[0])\n",
        "print(var[4])\n",
        "print(var[8])"
      ],
      "execution_count": 33,
      "outputs": [
        {
          "output_type": "stream",
          "name": "stdout",
          "text": [
            "9\n",
            "D\n",
            "c\n",
            "g\n"
          ]
        }
      ]
    },
    {
      "cell_type": "markdown",
      "metadata": {
        "id": "FH4sYoj4xDgq"
      },
      "source": [
        "## Task 6\n",
        "<b> Create two string variables and concatenate (combine) them to create a new variable called message, then print the message.</b>"
      ]
    },
    {
      "cell_type": "code",
      "metadata": {
        "id": "J1m6838ExDgr",
        "outputId": "2f6b6251-d244-4551-b362-7101825e6e1e",
        "colab": {
          "base_uri": "https://localhost:8080/"
        }
      },
      "source": [
        "# Code goes here\n",
        "var1, var2 = 'hi','hello'\n",
        "print(var1+var2)"
      ],
      "execution_count": 37,
      "outputs": [
        {
          "output_type": "stream",
          "name": "stdout",
          "text": [
            "hihello\n"
          ]
        }
      ]
    },
    {
      "cell_type": "markdown",
      "metadata": {
        "id": "ee3FJgNSxDgr"
      },
      "source": [
        "-------------------\n",
        "# Lists and Tuple Exercises"
      ]
    },
    {
      "cell_type": "markdown",
      "metadata": {
        "id": "YiFQ4JKUxDgr"
      },
      "source": [
        "## Task 1\n",
        "<b> Create a 5 element list and print out its length</b>"
      ]
    },
    {
      "cell_type": "code",
      "metadata": {
        "id": "ElgS2ziyxDgr",
        "outputId": "6271282a-4946-4497-b951-4c8941299fbb",
        "colab": {
          "base_uri": "https://localhost:8080/"
        }
      },
      "source": [
        "# Code goes here\n",
        "var=[1,2,3,4,5]\n",
        "print(len(var))"
      ],
      "execution_count": 38,
      "outputs": [
        {
          "output_type": "stream",
          "name": "stdout",
          "text": [
            "5\n"
          ]
        }
      ]
    },
    {
      "cell_type": "markdown",
      "metadata": {
        "id": "L0LKJogJxDgs"
      },
      "source": [
        "## Task 2\n",
        "<b> create a 5 element list of integers then print the list. Next, change the first and last elements then print the list</b>"
      ]
    },
    {
      "cell_type": "code",
      "metadata": {
        "id": "O97v_4cVxDgs",
        "outputId": "8fceb538-f650-4fad-aff6-6514aa7d951d",
        "colab": {
          "base_uri": "https://localhost:8080/"
        }
      },
      "source": [
        "# Code goes here\n",
        "var=[1,2,3,4,5]\n",
        "var[0]=2\n",
        "var[4]=1\n",
        "print(var)"
      ],
      "execution_count": 43,
      "outputs": [
        {
          "output_type": "stream",
          "name": "stdout",
          "text": [
            "[2, 2, 3, 4, 1]\n"
          ]
        }
      ]
    },
    {
      "cell_type": "markdown",
      "metadata": {
        "id": "phmoRECCxDgs"
      },
      "source": [
        "## Task 3\n",
        "<b> create a 3 element list where each element is a diffrent type, then print out the type of each element</b>"
      ]
    },
    {
      "cell_type": "code",
      "metadata": {
        "id": "xIXpWg5ExDgt",
        "outputId": "7de90900-8eba-432a-bc18-cc745df14e6a",
        "colab": {
          "base_uri": "https://localhost:8080/"
        }
      },
      "source": [
        "# Code goes here\n",
        "var=[1,2.2,3j]\n",
        "print(type(var[0]))\n",
        "print(type(var[1]))\n",
        "print(type(var[2]))"
      ],
      "execution_count": 47,
      "outputs": [
        {
          "output_type": "stream",
          "name": "stdout",
          "text": [
            "<class 'int'>\n",
            "<class 'float'>\n",
            "<class 'complex'>\n"
          ]
        }
      ]
    },
    {
      "cell_type": "markdown",
      "metadata": {
        "id": "1O79UybNxDgt"
      },
      "source": [
        "## Task 4\n",
        "<b> Create a 5 element tuple of floats, then print out the middle value</b>"
      ]
    },
    {
      "cell_type": "code",
      "metadata": {
        "id": "s_LsuHJoxDgt",
        "outputId": "6e8006f0-770f-4edb-de38-2b7d84972a4c",
        "colab": {
          "base_uri": "https://localhost:8080/"
        }
      },
      "source": [
        "# Code goes here\n",
        "var=(1.2,2.3,3.4,4.5,5.6)\n",
        "var[2]"
      ],
      "execution_count": 49,
      "outputs": [
        {
          "output_type": "execute_result",
          "data": {
            "text/plain": [
              "3.4"
            ]
          },
          "metadata": {},
          "execution_count": 49
        }
      ]
    },
    {
      "cell_type": "markdown",
      "metadata": {
        "id": "WX5lMGBJxDgt"
      },
      "source": [
        "## Task 5\n",
        "<b>The following code produces an error. Change the data type so that the error gets fixed</b>"
      ]
    },
    {
      "cell_type": "code",
      "metadata": {
        "id": "3qKkRV2_xDgt",
        "outputId": "7cef5428-614e-4eef-ebfd-c8f0e0c40f2d",
        "colab": {
          "base_uri": "https://localhost:8080/"
        }
      },
      "source": [
        "# Solution goes here\n",
        "var = ['This', \"is\", \"a\", 'tuple']\n",
        "var[3] = 'list'\n",
        "print(var)"
      ],
      "execution_count": 54,
      "outputs": [
        {
          "output_type": "stream",
          "name": "stdout",
          "text": [
            "['This', 'is', 'a', 'list']\n"
          ]
        }
      ]
    },
    {
      "cell_type": "markdown",
      "metadata": {
        "id": "eyFC16cmxDgt"
      },
      "source": [
        "## TASK 6\n",
        "**Create a list of numbers then append the values 10, 15, and 20 to the list**"
      ]
    },
    {
      "cell_type": "code",
      "metadata": {
        "id": "9zYz-YMRxDgu",
        "outputId": "b81359f1-7a9f-4015-a16c-4c8be44facaf",
        "colab": {
          "base_uri": "https://localhost:8080/"
        }
      },
      "source": [
        "#TODO: \n",
        "var=[1,2,3,4,5]\n",
        "print(var)\n",
        "var.append(10)\n",
        "var.append(15)\n",
        "var.append(20)\n",
        "print(var)"
      ],
      "execution_count": 60,
      "outputs": [
        {
          "output_type": "stream",
          "name": "stdout",
          "text": [
            "[1, 2, 3, 4, 5]\n",
            "[1, 2, 3, 4, 5, 10, 15, 20]\n"
          ]
        }
      ]
    },
    {
      "cell_type": "code",
      "metadata": {
        "id": "JwiQFWju3l6I"
      },
      "source": [
        ""
      ],
      "execution_count": null,
      "outputs": []
    }
  ]
}