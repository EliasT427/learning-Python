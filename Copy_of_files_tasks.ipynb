{
  "cells": [
    {
      "cell_type": "markdown",
      "metadata": {
        "id": "view-in-github",
        "colab_type": "text"
      },
      "source": [
        "<a href=\"https://colab.research.google.com/github/EliasT427/learning-Python/blob/main/Copy_of_files_tasks.ipynb\" target=\"_parent\"><img src=\"https://colab.research.google.com/assets/colab-badge.svg\" alt=\"Open In Colab\"/></a>"
      ]
    },
    {
      "cell_type": "code",
      "execution_count": null,
      "metadata": {
        "id": "vAr4iL5fq7ib"
      },
      "outputs": [],
      "source": [
        "import json\n",
        "\n",
        "data1 = {\n",
        "    \"fruit\": \"Apple\",\n",
        "    \"size\": \"Large\",\n",
        "    \"color\": \"Red\"\n",
        "}\n",
        "\n",
        "data2 = {\n",
        "   \"firstName\": \"Joe\",\n",
        "   \"lastName\": \"Jackson\",\n",
        "   \"gender\": \"male\",\n",
        "   \"age\": 28,\n",
        "   \"address\": {\n",
        "       \"streetAddress\": \"101\",\n",
        "       \"city\": \"San Diego\",\n",
        "       \"state\": \"CA\"\n",
        "   },\n",
        "   \"phoneNumbers\": [\n",
        "       { \"type\": \"home\", \"number\": \"7349282382\" }\n",
        "   ]\n",
        "}\n",
        "\n",
        "data3 = {\n",
        "  \"people\" : [\n",
        "    {\n",
        "       \"firstName\": \"Joe\",\n",
        "       \"lastName\": \"Jackson\",\n",
        "       \"gender\": \"male\",\n",
        "       \"age\": 28,\n",
        "       \"number\": \"7349282382\"\n",
        "    },\n",
        "    {\n",
        "       \"firstName\": \"James\",\n",
        "       \"lastName\": \"Smith\",\n",
        "       \"gender\": \"male\",\n",
        "       \"age\": 32,\n",
        "       \"number\": \"5678568567\"\n",
        "    },\n",
        "    {\n",
        "       \"firstName\": \"Emily\",\n",
        "       \"lastName\": \"Jones\",\n",
        "       \"gender\": \"female\",\n",
        "       \"age\": 24,\n",
        "       \"number\": \"456754675\"\n",
        "    }\n",
        "  ]\n",
        "}\n"
      ]
    },
    {
      "cell_type": "markdown",
      "metadata": {
        "id": "BZb47PF9q7id"
      },
      "source": [
        "# TASK 1\n",
        "Create a directory called `task files`."
      ]
    },
    {
      "cell_type": "code",
      "execution_count": null,
      "metadata": {
        "id": "AfGul2UAq7if"
      },
      "outputs": [],
      "source": [
        "#TODO\n",
        "os.makedirs('/content/task files')"
      ]
    },
    {
      "cell_type": "code",
      "source": [
        "import os\n",
        "os.chdir('/content/task files/outputs')\n",
        "os.getcwd()"
      ],
      "metadata": {
        "id": "ksjnUqcRrWJ9",
        "outputId": "1ca06886-89ea-457a-e805-12839da5f1d2",
        "colab": {
          "base_uri": "https://localhost:8080/",
          "height": 35
        }
      },
      "execution_count": null,
      "outputs": [
        {
          "output_type": "execute_result",
          "data": {
            "application/vnd.google.colaboratory.intrinsic+json": {
              "type": "string"
            },
            "text/plain": [
              "'/content/task files/outputs'"
            ]
          },
          "metadata": {},
          "execution_count": 10
        }
      ]
    },
    {
      "cell_type": "markdown",
      "metadata": {
        "id": "JXUihi5Yq7if"
      },
      "source": [
        "# TASK 2\n",
        "In the `task files` directory, create a subdirectory called `outputs` and then create text file that will store your name, age, and favorite game."
      ]
    },
    {
      "cell_type": "code",
      "execution_count": null,
      "metadata": {
        "id": "ni4KjPFZq7ig"
      },
      "outputs": [],
      "source": [
        "#TODO\n",
        "os.makedirs('/content/task files/outputs')\n"
      ]
    },
    {
      "cell_type": "code",
      "source": [
        "with open('/content/task files/outputs/elias.txt', 'w') as file:\n",
        "  file.write('elias, 15, tarkov')\n",
        "  "
      ],
      "metadata": {
        "id": "rPRRma_jsc_P"
      },
      "execution_count": null,
      "outputs": []
    },
    {
      "cell_type": "markdown",
      "metadata": {
        "id": "1OiBz5ksq7ih"
      },
      "source": [
        "# TASK 3\n",
        "Using the data3 dictionary, count how many people there are and calculate the average age. Then save the number of people and average age to a json file called `people.json` under the `outputs` subdirectory."
      ]
    },
    {
      "cell_type": "code",
      "execution_count": null,
      "metadata": {
        "id": "Kk24c15Sq7ih"
      },
      "outputs": [],
      "source": [
        "#TODO\n",
        "ages = []\n",
        "for i in data3['people']:\n",
        "  ages.append(i['age'])\n",
        "avg_age = sum(ages)/len(ages)\n",
        "num_ppl = len(data3['people'])\n",
        "data = {\n",
        "    'avg_ages': avg_age,\n",
        "    'num_people': num_ppl\n",
        "}\n",
        "with open('/content/task files/outputs/people.json', 'w') as file:\n",
        "  json.dump(data, file, indent = 4)\n"
      ]
    },
    {
      "cell_type": "markdown",
      "metadata": {
        "id": "0xwsHcOcq7ih"
      },
      "source": [
        "# TASK 4\n",
        "Use the function below to download some json data for you. Then load the file and count how many `primary` and `secondary` followers there are. Then create a dictionary with the count of each and save that dictionary to a file called `ftypes.json` under the `task files/outputs` directory."
      ]
    },
    {
      "cell_type": "code",
      "execution_count": null,
      "metadata": {
        "id": "fvVxeNR0q7ii"
      },
      "outputs": [],
      "source": [
        "import requests\n",
        "def generate_json():\n",
        "    url = \"https://raw.githubusercontent.com/Gabe-flomo/Instagram-Dashboard/master/JSON/followers.json?token=GHSAT0AAAAAABPLRJR7FM6TOSFGFT4ZZ6MCYQVWYFQ\"\n",
        "    data = requests.get(url).json()\n",
        "    try:\n",
        "        with open('task files/followers.json', 'w') as file:\n",
        "            json.dump(data, file, indent = 4)\n",
        "    except FileNotFoundError as e:\n",
        "        print(\"The directory `task files` has either not been created, been created with the wrong name, or has been created in the wrong location.\")\n",
        "        print(\"Make sure the folder `task files` is created, then run the function again.\")\n",
        "\n",
        "generate_json()"
      ]
    },
    {
      "cell_type": "code",
      "execution_count": null,
      "metadata": {
        "id": "a1AbVNR3q7ij"
      },
      "outputs": [],
      "source": [
        "#TODO\n"
      ]
    },
    {
      "cell_type": "markdown",
      "metadata": {
        "id": "Ae7UoxSeq7ik"
      },
      "source": [
        "# TASK 5\n",
        "using the same follower data, write a function that will group all of the followers into categories determined based on the `group_type` argument.\n",
        "- `alpha`: Groups by the starting letter of the username. So all the usernames that start with `A` go to the `A` category and all the usernames that start with `B` go to the `B` category.\n",
        "\n",
        "- `length`: Groups by the length of each username.\n",
        "\n",
        "```python\n",
        "categories = group(group_type = 'alpha')\n",
        "categories -> {\n",
        "    'A': ['Alexis','Amber','Anya'],\n",
        "    'B': ['Brian', 'Bianca'],\n",
        "    'C': ['Chris', 'Chyanne', 'corey']\n",
        "    ...\n",
        "}\n",
        "\n",
        "categories = group(group_type = 'length')\n",
        "categories -> {\n",
        "    2: ['io', 'me'],\n",
        "    3: ['cam', 'ben', 'lia'],\n",
        "    4: ['brin', 'alex'],\n",
        "    ...\n",
        "}\n",
        "```\n",
        "Then write the dictionary to a JSON file called `groups.json` under the `outputs` directory."
      ]
    },
    {
      "cell_type": "code",
      "execution_count": null,
      "metadata": {
        "id": "HkBQi7tUq7ik"
      },
      "outputs": [],
      "source": [
        ""
      ]
    }
  ],
  "metadata": {
    "interpreter": {
      "hash": "f1a916808f2d29f1a5fbd48aa1cb9129993ca703ecce713879d0cd946e898e32"
    },
    "kernelspec": {
      "display_name": "Python 3.9.7 ('legacy')",
      "language": "python",
      "name": "python3"
    },
    "language_info": {
      "codemirror_mode": {
        "name": "ipython",
        "version": 3
      },
      "file_extension": ".py",
      "mimetype": "text/x-python",
      "name": "python",
      "nbconvert_exporter": "python",
      "pygments_lexer": "ipython3",
      "version": "3.9.7"
    },
    "orig_nbformat": 4,
    "colab": {
      "name": "Copy of files_tasks.ipynb",
      "provenance": [],
      "include_colab_link": true
    }
  },
  "nbformat": 4,
  "nbformat_minor": 0
}