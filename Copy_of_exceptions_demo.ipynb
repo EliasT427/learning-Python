{
  "cells": [
    {
      "cell_type": "markdown",
      "metadata": {
        "id": "view-in-github",
        "colab_type": "text"
      },
      "source": [
        "<a href=\"https://colab.research.google.com/github/EliasT427/learning-Python/blob/main/Copy_of_exceptions_demo.ipynb\" target=\"_parent\"><img src=\"https://colab.research.google.com/assets/colab-badge.svg\" alt=\"Open In Colab\"/></a>"
      ]
    },
    {
      "cell_type": "markdown",
      "metadata": {
        "id": "1YVrfEAqrQl4"
      },
      "source": [
        "# What is an exception and how do they occur\n",
        "An exception is an event, which occurs during the execution of a program that disrupts the normal flow of the program's instructions. In general, when a Python script encounters a situation that it cannot cope with, it raises an exception. An exception is a Python object that represents an error.\n",
        "\n",
        "# Types of exceptions\n",
        "There are many types of object that represent exceptions, however there are only 2 categories of exceptions that you can encounter. Syntactical errors and Logical errors.\n",
        "\n",
        "## Syntax errors\n",
        "Syntax errors, also known as parsing errors, are the most common kind of complaint you will get while still learning Python. These are errors caused by writing instructions that do not follow the proper structure of the language. You can think of a syntax error as writing code that simply doesn't make any sense.\n",
        "\n",
        "**For example:** `Walked stairs the Gabe down` makes 0 sense and it is because it is full of syntax errors. This sentence doesn't follow any of the rules or structure of the english language, making it hard to understand what it is trying to say.\n",
        "\n",
        "### Syntax error examples in python\n",
        "```python\n",
        "# starting a for loop without a colon\n",
        "for i in range(10)\n",
        "print(i)\n",
        "\n",
        "# just no\n",
        "print() name\n",
        "\n",
        "# what?\n",
        "while for i in range(i):\n",
        "    print(i)\n",
        "```\n",
        "\n",
        "## Logical Errors\n",
        "Errors that occur at runtime (While the program is running) are called exceptions or logical errors. For instance, they may occur when we trying to read a file that does not exist (FileNotFoundError), trying to divide a number by zero (ZeroDivisionError), or trying to import a module that does not exist (ImportError).\n",
        "Whenever these types of runtime errors occur, Python creates an exception object. If not handled properly, it prints a traceback to that error along with some details about why that error occurred.\n",
        "\n",
        "### Logical errors in python\n",
        "```python\n",
        "import NonExistentModule -> ImportError\n",
        "\n",
        "with open('NonExistentFile', 'r') as file: -> FileNotFoundError\n",
        "\n",
        "10 / 0 -> ZeroDivisionError\n",
        "```\n",
        "\n",
        "## Other types of Exceptions\n",
        "The full list of builtin exceptions can be found [here](https://www.programiz.com/python-programming/exceptions)"
      ]
    },
    {
      "cell_type": "code",
      "execution_count": null,
      "metadata": {
        "id": "E2BZRKTArQl6",
        "outputId": "60919641-2c67-4a87-c9b1-8a8d3918d6f1",
        "colab": {
          "base_uri": "https://localhost:8080/",
          "height": 201
        }
      },
      "outputs": [
        {
          "output_type": "error",
          "ename": "FileNotFoundError",
          "evalue": "ignored",
          "traceback": [
            "\u001b[0;31m---------------------------------------------------------------------------\u001b[0m",
            "\u001b[0;31mFileNotFoundError\u001b[0m                         Traceback (most recent call last)",
            "\u001b[0;32m<ipython-input-1-5bf8102b9bfe>\u001b[0m in \u001b[0;36m<module>\u001b[0;34m()\u001b[0m\n\u001b[1;32m      1\u001b[0m \u001b[0;31m# cause a FileNotFound error\u001b[0m\u001b[0;34m\u001b[0m\u001b[0;34m\u001b[0m\u001b[0;34m\u001b[0m\u001b[0m\n\u001b[0;32m----> 2\u001b[0;31m \u001b[0;32mwith\u001b[0m \u001b[0mopen\u001b[0m\u001b[0;34m(\u001b[0m\u001b[0;34m'filenotfound'\u001b[0m\u001b[0;34m,\u001b[0m\u001b[0;34m'r'\u001b[0m\u001b[0;34m)\u001b[0m \u001b[0;32mas\u001b[0m \u001b[0mfile\u001b[0m\u001b[0;34m:\u001b[0m\u001b[0;34m\u001b[0m\u001b[0;34m\u001b[0m\u001b[0m\n\u001b[0m\u001b[1;32m      3\u001b[0m   \u001b[0mvar\u001b[0m \u001b[0;34m=\u001b[0m \u001b[0mfile\u001b[0m\u001b[0;34m.\u001b[0m\u001b[0mread\u001b[0m\u001b[0;34m\u001b[0m\u001b[0;34m\u001b[0m\u001b[0m\n",
            "\u001b[0;31mFileNotFoundError\u001b[0m: [Errno 2] No such file or directory: 'filenotfound'"
          ]
        }
      ],
      "source": [
        "# cause a FileNotFound error\n",
        "with open('filenotfound','r') as file:\n",
        "  var = file.read"
      ]
    },
    {
      "cell_type": "code",
      "execution_count": null,
      "metadata": {
        "id": "v2E-fs5ArQl6",
        "outputId": "c2dda58d-9bb5-432f-b961-62be50b4fc96",
        "colab": {
          "base_uri": "https://localhost:8080/",
          "height": 131
        }
      },
      "outputs": [
        {
          "output_type": "error",
          "ename": "SyntaxError",
          "evalue": "ignored",
          "traceback": [
            "\u001b[0;36m  File \u001b[0;32m\"<ipython-input-2-6fe84e0f23d7>\"\u001b[0;36m, line \u001b[0;32m2\u001b[0m\n\u001b[0;31m    while if True print() > if\u001b[0m\n\u001b[0m           ^\u001b[0m\n\u001b[0;31mSyntaxError\u001b[0m\u001b[0;31m:\u001b[0m invalid syntax\n"
          ]
        }
      ],
      "source": [
        "# cause a syntax error\n",
        "while if True print() > if"
      ]
    },
    {
      "cell_type": "code",
      "execution_count": null,
      "metadata": {
        "id": "v5pOGLrgrQl7",
        "outputId": "e3d42839-1777-4de7-da78-cac7f0941ef4",
        "colab": {
          "base_uri": "https://localhost:8080/",
          "height": 201
        }
      },
      "outputs": [
        {
          "output_type": "error",
          "ename": "IndexError",
          "evalue": "ignored",
          "traceback": [
            "\u001b[0;31m---------------------------------------------------------------------------\u001b[0m",
            "\u001b[0;31mIndexError\u001b[0m                                Traceback (most recent call last)",
            "\u001b[0;32m<ipython-input-3-b82dcca2d6be>\u001b[0m in \u001b[0;36m<module>\u001b[0;34m()\u001b[0m\n\u001b[1;32m      1\u001b[0m \u001b[0;31m# cause an IndexError\u001b[0m\u001b[0;34m\u001b[0m\u001b[0;34m\u001b[0m\u001b[0;34m\u001b[0m\u001b[0m\n\u001b[1;32m      2\u001b[0m \u001b[0mvar\u001b[0m \u001b[0;34m=\u001b[0m \u001b[0;34m[\u001b[0m\u001b[0;36m1\u001b[0m\u001b[0;34m,\u001b[0m\u001b[0;36m2\u001b[0m\u001b[0;34m,\u001b[0m\u001b[0;36m3\u001b[0m\u001b[0;34m,\u001b[0m\u001b[0;36m4\u001b[0m\u001b[0;34m,\u001b[0m\u001b[0;36m5\u001b[0m\u001b[0;34m]\u001b[0m\u001b[0;34m\u001b[0m\u001b[0;34m\u001b[0m\u001b[0m\n\u001b[0;32m----> 3\u001b[0;31m \u001b[0mvar\u001b[0m\u001b[0;34m[\u001b[0m\u001b[0;36m100\u001b[0m\u001b[0;34m]\u001b[0m\u001b[0;34m\u001b[0m\u001b[0;34m\u001b[0m\u001b[0m\n\u001b[0m",
            "\u001b[0;31mIndexError\u001b[0m: list index out of range"
          ]
        }
      ],
      "source": [
        "# cause an IndexError\n",
        "var = [1,2,3,4,5]\n",
        "var[100]"
      ]
    },
    {
      "cell_type": "markdown",
      "metadata": {
        "id": "L-7HCmAfrQl7"
      },
      "source": [
        "# How to handle exceptions\n",
        "In python, exceptions can be handled by using a `try` `except` clause. The `try` statement will catch any error that occurs within the block of code that is written inside of it. You can then write code that will handle the code in the `except` statement. "
      ]
    },
    {
      "cell_type": "code",
      "execution_count": null,
      "metadata": {
        "id": "7F4jXJSHrQl7",
        "outputId": "7e7db969-5fc8-4126-e0e2-c6ec701b1e88",
        "colab": {
          "base_uri": "https://localhost:8080/"
        }
      },
      "outputs": [
        {
          "output_type": "stream",
          "name": "stdout",
          "text": [
            "an error occured\n"
          ]
        }
      ],
      "source": [
        "#TODO handle the exception by using a try except clause\n",
        "try:\n",
        "  value = 10 / 0\n",
        "except:\n",
        "  print('an error occured')"
      ]
    },
    {
      "cell_type": "markdown",
      "metadata": {
        "id": "86sBOSrVrQl7"
      },
      "source": [
        "# Catching specific exceptions\n",
        "In the example above, we wrote an except statement that will catch *all* exceptions and will handle them in the same way. Usually when writing code to catch exceptions, you won't know when or where the exception will occur until it has happened and once it has happened, you can see which exception has been thrown and handle each exception appropriately. \n",
        "\n",
        "**For example:** Consider the following list `[1, 2, '3', 4, 0]`. Say we want to loop through this list and divide 2 from every element. Because some of the elements aren't a numeric data type we will run into `TypeErrors`. Also some of the elements are equal to 0 so we will also get `ZeroDivision` errors. We can catch each of these errors individually and do different things depending on which error occurs.\n",
        "\n",
        "```python\n",
        "var = [1, 2, '3', 4, 0]\n",
        "for ele in var:  \n",
        "    try:\n",
        "        print(2 / ele)\n",
        "    except TypeError as err:\n",
        "        # Do something\n",
        "    except ZeroDivisionError as err:\n",
        "        # Do something\n",
        "```"
      ]
    },
    {
      "cell_type": "code",
      "execution_count": null,
      "metadata": {
        "id": "wDe9RuYYrQl8",
        "outputId": "1555c93e-fdfb-47bf-efec-15cf9161a540",
        "colab": {
          "base_uri": "https://localhost:8080/"
        }
      },
      "outputs": [
        {
          "output_type": "stream",
          "name": "stdout",
          "text": [
            "cannot do the operation 5/0\n",
            "5.0\n",
            "2.5\n",
            "1.6666666666666667\n",
            "1.25\n",
            "1.0\n",
            "0.8333333333333334\n",
            "0.7142857142857143\n",
            "0.625\n",
            "0.5555555555555556\n",
            "end of list reached\n",
            "end of list reached\n"
          ]
        }
      ],
      "source": [
        "#TODO Determine which errors will be raised and hande each error\n",
        "var = [str(x) if x % 3 == 0 else x for x in range(10)]\n",
        "for index in range(12):\n",
        "    \n",
        "    try:\n",
        "      element = var[index]\n",
        "      print(5 / element)\n",
        "    except TypeError as err:\n",
        "      try:\n",
        "        if element.isnumeric():\n",
        "          element = int(element)\n",
        "          print(5 / element)\n",
        "        else:\n",
        "          print('cannot divide 5 by element')\n",
        "      except ZeroDivisionError as err:\n",
        "        print(f'cannot do the operation 5/{element}')\n",
        "    except IndexError as err:\n",
        "      print('end of list reached')\n",
        "    "
      ]
    },
    {
      "cell_type": "markdown",
      "metadata": {
        "id": "k5A7txEXrQl8"
      },
      "source": [
        "# The finally clause\n",
        "After you have caught all of your exceptions, you can add an optional statement called `finally` that will execute some code no matter what. So say for example you try to read from a file that doesn't exist so you get a `FileNotFound` error, you can catch the exception and create the file, then use finally to read from the file.\n",
        "\n",
        "```python \n",
        "file = 'file.txt\"\n",
        "try:\n",
        "    with open(file, 'r') as f:\n",
        "        content = f.read()\n",
        "except FileNotFound as err:\n",
        "    with open(file, 'w') as f:\n",
        "        f.write(\"File created\")\n",
        "finally:\n",
        "    with open(file, 'r') as f:\n",
        "        content = f.read()\n",
        "\n",
        "print(content) -> \"File created\"\n",
        "```\n"
      ]
    },
    {
      "cell_type": "markdown",
      "metadata": {
        "id": "n4RYkTAlrQl8"
      },
      "source": [
        "# Assertions\n",
        "Assert statements are like little traffic stops in your code. It helps detect problems early in your program, where the cause is clear, rather than later when some other operation fails. A type error in Python, for example, can go through several layers of code before actually raising an Exception if not caught early on.\n",
        "\n",
        "### Creating an assertion statement\n",
        "```python\n",
        "assert condition, \"message\"\n",
        "```\n",
        "\n",
        "If the condition is `True` then the assertion test passes and the execution continues. However, if the condition is `False` the assertion statement will stop the execution and print out the `message` if there is one."
      ]
    },
    {
      "cell_type": "code",
      "execution_count": null,
      "metadata": {
        "id": "ff8nIt-NrQl9",
        "outputId": "0f97a2ef-2657-4ef2-d704-7cab61697656",
        "colab": {
          "base_uri": "https://localhost:8080/",
          "height": 218
        }
      },
      "outputs": [
        {
          "output_type": "stream",
          "name": "stdout",
          "text": [
            "you're dumb\n"
          ]
        },
        {
          "output_type": "error",
          "ename": "AssertionError",
          "evalue": "ignored",
          "traceback": [
            "\u001b[0;31m---------------------------------------------------------------------------\u001b[0m",
            "\u001b[0;31mAssertionError\u001b[0m                            Traceback (most recent call last)",
            "\u001b[0;32m<ipython-input-18-bd456f926667>\u001b[0m in \u001b[0;36m<module>\u001b[0;34m()\u001b[0m\n\u001b[1;32m      7\u001b[0m   \u001b[0mprint\u001b[0m\u001b[0;34m(\u001b[0m\u001b[0;34m\"you're dumb\"\u001b[0m\u001b[0;34m)\u001b[0m\u001b[0;34m\u001b[0m\u001b[0;34m\u001b[0m\u001b[0m\n\u001b[1;32m      8\u001b[0m \u001b[0;31m#TODO assert that a the string 'Hello world' is less than 3 characters\u001b[0m\u001b[0;34m\u001b[0m\u001b[0;34m\u001b[0m\u001b[0;34m\u001b[0m\u001b[0m\n\u001b[0;32m----> 9\u001b[0;31m \u001b[0;32massert\u001b[0m \u001b[0mlen\u001b[0m\u001b[0;34m(\u001b[0m\u001b[0;34m'hello world'\u001b[0m\u001b[0;34m)\u001b[0m \u001b[0;34m<\u001b[0m \u001b[0;36m3\u001b[0m\u001b[0;34m,\u001b[0m \u001b[0;34m'hello world has more that 3 characters'\u001b[0m\u001b[0;34m\u001b[0m\u001b[0;34m\u001b[0m\u001b[0m\n\u001b[0m",
            "\u001b[0;31mAssertionError\u001b[0m: hello world has more that 3 characters"
          ]
        }
      ],
      "source": [
        "#TODO assert that 2 + 2 == 4\n",
        "assert 2+2 == 4, '2+2 is not equal to 4'\n",
        "#TODO assert that 2 + 2 == 5\n",
        "try:\n",
        "  assert 2+2 == 5, '2+2 is not equal to 5'\n",
        "except AssertionError as err:\n",
        "  print(\"you're dumb\")\n",
        "#TODO assert that a the string 'Hello world' is less than 3 characters\n",
        "assert len('hello world') < 3, 'hello world has more that 3 characters'"
      ]
    },
    {
      "cell_type": "markdown",
      "metadata": {
        "id": "1B1vWM4NrQl9"
      },
      "source": [
        "**Assertion Use case:** Say that we have a program that asks for a users age and we use the age to calculate a discount price using the formula `discount = (age * .05) + 10`. Users can get a maximum discount of 15% meaning that the maximum age of a user is 100 years old. If we don't add any assertion statements to verify that the discount percent does't go over a certain value, users could enter any age and get any amount discounted from the product.\n",
        "\n",
        "```python\n",
        "age = int(input(\"Your age: \"))\n",
        "y = (age * .05) + 10\n",
        "assert y <= 15 and y > 10, \"This is an invalid discount percentage\"\n",
        "```"
      ]
    },
    {
      "cell_type": "code",
      "execution_count": null,
      "metadata": {
        "id": "x_ddiu_xrQl9"
      },
      "outputs": [],
      "source": [
        "#TODO edit the code so that the assertion doesn't evaluate to false\n",
        "number = int(input(\"Enter your phone number: \"))\n",
        "assert isinstance(number, str), \"The phone number needs to be a string\""
      ]
    },
    {
      "cell_type": "markdown",
      "metadata": {
        "id": "ozP2sxCurQl9"
      },
      "source": [
        "# Raising Exceptions\n",
        "Another way you can halt the execution of your program is simply to raise an exception yourself. Say for example that you write a function that requires the two integers as arguments. If for some reason, the values given to the function are not integers, you may want to stop the execution and raise an error before a much more troublesome problem occurs. You can raise an exception by using the `raise` keyword followed by the [exception that you want to raise](https://www.programiz.com/python-programming/exceptions).\n",
        "\n",
        "**Common Exceptions to raise are**\n",
        "* `ValueError`: Raised when a function gets an argument of correct type but improper value.\n",
        "* `TypeError`: Raised when a function or operation is applied to an object of incorrect type.\n",
        "* `AssertionError`: Raised when an assert statement fails.\n",
        "\n",
        "### Raising an exception\n",
        "```python \n",
        "raise ValueError(\"The value provided is incorrect\")\n",
        "raise TypeError(\"What is this type???\")\n",
        "raise AssertionError(\"You failed the test\")\n",
        "```"
      ]
    },
    {
      "cell_type": "code",
      "execution_count": null,
      "metadata": {
        "id": "HjoymP7trQl9",
        "outputId": "3d90fcae-7f73-4ea3-bb74-fce592ef9d66",
        "colab": {
          "base_uri": "https://localhost:8080/",
          "height": 322
        }
      },
      "outputs": [
        {
          "output_type": "error",
          "ename": "TypeError",
          "evalue": "ignored",
          "traceback": [
            "\u001b[0;31m---------------------------------------------------------------------------\u001b[0m",
            "\u001b[0;31mTypeError\u001b[0m                                 Traceback (most recent call last)",
            "\u001b[0;32m<ipython-input-32-efe1ba85f3ca>\u001b[0m in \u001b[0;36m<module>\u001b[0;34m()\u001b[0m\n\u001b[1;32m     18\u001b[0m     \u001b[0;32mreturn\u001b[0m \u001b[0;32mTrue\u001b[0m\u001b[0;34m\u001b[0m\u001b[0;34m\u001b[0m\u001b[0m\n\u001b[1;32m     19\u001b[0m   \u001b[0;32melse\u001b[0m\u001b[0;34m:\u001b[0m \u001b[0;32mreturn\u001b[0m \u001b[0;32mFalse\u001b[0m\u001b[0;34m\u001b[0m\u001b[0;34m\u001b[0m\u001b[0m\n\u001b[0;32m---> 20\u001b[0;31m \u001b[0mcompare\u001b[0m\u001b[0;34m(\u001b[0m\u001b[0mtuple\u001b[0m\u001b[0;34m(\u001b[0m\u001b[0mvar\u001b[0m\u001b[0;34m)\u001b[0m\u001b[0;34m,\u001b[0m \u001b[0mval\u001b[0m\u001b[0;34m)\u001b[0m\u001b[0;34m\u001b[0m\u001b[0;34m\u001b[0m\u001b[0m\n\u001b[0m",
            "\u001b[0;32m<ipython-input-32-efe1ba85f3ca>\u001b[0m in \u001b[0;36mcompare\u001b[0;34m(lst, val)\u001b[0m\n\u001b[1;32m     14\u001b[0m     \u001b[0;32mraise\u001b[0m \u001b[0mTypeError\u001b[0m\u001b[0;34m(\u001b[0m\u001b[0;34mf'the parameter val needs to be of type int not of type {type(val)}'\u001b[0m\u001b[0;34m)\u001b[0m\u001b[0;34m\u001b[0m\u001b[0;34m\u001b[0m\u001b[0m\n\u001b[1;32m     15\u001b[0m   \u001b[0;32melif\u001b[0m \u001b[0;32mnot\u001b[0m \u001b[0misinstance\u001b[0m\u001b[0;34m(\u001b[0m\u001b[0mlst\u001b[0m\u001b[0;34m,\u001b[0m \u001b[0mlist\u001b[0m\u001b[0;34m)\u001b[0m\u001b[0;34m:\u001b[0m\u001b[0;34m\u001b[0m\u001b[0;34m\u001b[0m\u001b[0m\n\u001b[0;32m---> 16\u001b[0;31m     \u001b[0;32mraise\u001b[0m \u001b[0mTypeError\u001b[0m\u001b[0;34m(\u001b[0m\u001b[0;34m(\u001b[0m\u001b[0;34mf'the parameter lst needs to be of type list not of type {type(lst)}'\u001b[0m\u001b[0;34m)\u001b[0m\u001b[0;34m)\u001b[0m\u001b[0;34m\u001b[0m\u001b[0;34m\u001b[0m\u001b[0m\n\u001b[0m\u001b[1;32m     17\u001b[0m   \u001b[0;32mif\u001b[0m \u001b[0mlen\u001b[0m\u001b[0;34m(\u001b[0m\u001b[0mlst\u001b[0m\u001b[0;34m)\u001b[0m \u001b[0;34m<\u001b[0m \u001b[0mval\u001b[0m\u001b[0;34m:\u001b[0m\u001b[0;34m\u001b[0m\u001b[0;34m\u001b[0m\u001b[0m\n\u001b[1;32m     18\u001b[0m     \u001b[0;32mreturn\u001b[0m \u001b[0;32mTrue\u001b[0m\u001b[0;34m\u001b[0m\u001b[0;34m\u001b[0m\u001b[0m\n",
            "\u001b[0;31mTypeError\u001b[0m: the parameter lst needs to be of type list not of type <class 'tuple'>"
          ]
        }
      ],
      "source": [
        "# Define a function that accepts 2 arguments\n",
        "# the first argument is a list\n",
        "# the second argument is an integer\n",
        "# have the function return True or False depending on if the length of the list is less than second argument\n",
        "# verify that the first argument is a list\n",
        "# verify that that the second argument is a whole number \n",
        "# raise a value error if either of these conditions are false\n",
        "from random import randint\n",
        "val = randint(5, 25)\n",
        "var = [x for x in range(randint(2, 20))]\n",
        "\n",
        "def compare(lst, val):\n",
        "  if not isinstance(val, int):\n",
        "    raise TypeError(f'the parameter val needs to be of type int not of type {type(val)}')\n",
        "  elif not isinstance(lst, list):\n",
        "    raise TypeError((f'the parameter lst needs to be of type list not of type {type(lst)}'))\n",
        "  if len(lst) < val:\n",
        "    return True\n",
        "  else: return False\n",
        "compare(tuple(var), val)\n"
      ]
    },
    {
      "cell_type": "code",
      "execution_count": null,
      "metadata": {
        "id": "c_npzciqrQl-"
      },
      "outputs": [],
      "source": [
        ""
      ]
    }
  ],
  "metadata": {
    "interpreter": {
      "hash": "f1a916808f2d29f1a5fbd48aa1cb9129993ca703ecce713879d0cd946e898e32"
    },
    "kernelspec": {
      "display_name": "Python 3.9.7 ('legacy')",
      "language": "python",
      "name": "python3"
    },
    "language_info": {
      "codemirror_mode": {
        "name": "ipython",
        "version": 3
      },
      "file_extension": ".py",
      "mimetype": "text/x-python",
      "name": "python",
      "nbconvert_exporter": "python",
      "pygments_lexer": "ipython3",
      "version": "3.9.7"
    },
    "orig_nbformat": 4,
    "colab": {
      "name": "Copy of exceptions_demo.ipynb",
      "provenance": [],
      "include_colab_link": true
    }
  },
  "nbformat": 4,
  "nbformat_minor": 0
}