{
  "cells": [
    {
      "cell_type": "markdown",
      "metadata": {
        "id": "view-in-github",
        "colab_type": "text"
      },
      "source": [
        "<a href=\"https://colab.research.google.com/github/EliasT427/learning-Python/blob/main/Copy_of_built_in_func_tasks.ipynb\" target=\"_parent\"><img src=\"https://colab.research.google.com/assets/colab-badge.svg\" alt=\"Open In Colab\"/></a>"
      ]
    },
    {
      "cell_type": "markdown",
      "metadata": {
        "id": "2BLdxbwf4BLh"
      },
      "source": [
        "# TASK 1\n",
        "Describe in your own words what a built in function is"
      ]
    },
    {
      "cell_type": "markdown",
      "metadata": {
        "id": "4SbGIezw4BLi"
      },
      "source": [
        "***Double click to edit***\n",
        "a built in function is a function that comes with python. a function is a reusuable block of code."
      ]
    },
    {
      "cell_type": "markdown",
      "metadata": {
        "id": "97tsYo7-4BLi"
      },
      "source": [
        "# TASK 2\n",
        "Generate a list of 50 random numbers between -100 and 100. Find the `min` `max` and `sum` of the list. Then add the minimum and maximum value and see if it is greater than the sum.\n",
        "\n",
        "## Example output\n",
        "```python\n",
        "var = [random numbers]\n",
        "result = calulation\n",
        "print(f\"Is the min + max greater than the sum? {result}\")\n",
        "```"
      ]
    },
    {
      "cell_type": "code",
      "execution_count": null,
      "metadata": {
        "id": "xjsCiPbK4BLi",
        "outputId": "81f839d2-441f-4a52-d7b8-6f50364320e1",
        "colab": {
          "base_uri": "https://localhost:8080/"
        }
      },
      "outputs": [
        {
          "output_type": "stream",
          "name": "stdout",
          "text": [
            "is the min + max greater than the sum? False\n"
          ]
        }
      ],
      "source": [
        "#TODO\n",
        "from random import randint\n",
        "var = [randint(-100, 100) for _ in range(50)]\n",
        "var_max = max(var)\n",
        "var_min = min(var)\n",
        "var_sum = sum(var)\n",
        "result = var_min + var_max\n",
        "calc = result > var_sum\n",
        "print(f\"is the min + max greater than the sum? {calc}\")"
      ]
    },
    {
      "cell_type": "markdown",
      "metadata": {
        "id": "ojs1yDNB4BLi"
      },
      "source": [
        "# TASK 3\n",
        "Given a list of numbers, the `range` is defined as the difference between the largest and smallest value. Generate a list of 10 random numbers and calculate the range.\n",
        "\n",
        "## Example output\n",
        "```python \n",
        "var = [1,2,3,4,5,6,7,100]\n",
        "range = 99\n",
        "```"
      ]
    },
    {
      "cell_type": "code",
      "source": [
        "var = [randint(0,100) for _ in range(10)]\n",
        "varrange = max(var) - min(var)\n",
        "varrange"
      ],
      "metadata": {
        "id": "hqTcQGOzU6Rz",
        "outputId": "1b9b3a12-0f8b-4ea4-cb3b-e130f812710a",
        "colab": {
          "base_uri": "https://localhost:8080/"
        }
      },
      "execution_count": null,
      "outputs": [
        {
          "output_type": "execute_result",
          "data": {
            "text/plain": [
              "80"
            ]
          },
          "metadata": {},
          "execution_count": 57
        }
      ]
    },
    {
      "cell_type": "markdown",
      "metadata": {
        "id": "97ROf8ro4BLi"
      },
      "source": [
        "# TASK 4\n",
        "Below you're given a list of files. Print out the file name as well as it's position in the list.\n",
        "\n",
        "## Expected output\n",
        "```python\n",
        "1) file1\n",
        "2) file2\n",
        "3) file3\n",
        "```"
      ]
    },
    {
      "cell_type": "code",
      "execution_count": null,
      "metadata": {
        "id": "07GRmFAR4BLi",
        "outputId": "2a31d6bf-d94e-4bba-b38a-9916e9cf5f82",
        "colab": {
          "base_uri": "https://localhost:8080/",
          "height": 201
        }
      },
      "outputs": [
        {
          "output_type": "error",
          "ename": "TypeError",
          "evalue": "ignored",
          "traceback": [
            "\u001b[0;31m---------------------------------------------------------------------------\u001b[0m",
            "\u001b[0;31mTypeError\u001b[0m                                 Traceback (most recent call last)",
            "\u001b[0;32m<ipython-input-61-1ec45f389ac0>\u001b[0m in \u001b[0;36m<module>\u001b[0;34m()\u001b[0m\n\u001b[1;32m      2\u001b[0m \u001b[0mvar\u001b[0m \u001b[0;34m=\u001b[0m \u001b[0;34m[\u001b[0m\u001b[0;34mf'file_{x}.{choice([\"wav\", \"mp3\", \"mp4\", \"mov\"])}'\u001b[0m \u001b[0;32mfor\u001b[0m \u001b[0mx\u001b[0m \u001b[0;32min\u001b[0m \u001b[0mrange\u001b[0m\u001b[0;34m(\u001b[0m\u001b[0;36m20\u001b[0m\u001b[0;34m)\u001b[0m\u001b[0;34m]\u001b[0m\u001b[0;34m\u001b[0m\u001b[0;34m\u001b[0m\u001b[0m\n\u001b[1;32m      3\u001b[0m \u001b[0;32mfor\u001b[0m \u001b[0miteration\u001b[0m\u001b[0;34m,\u001b[0m \u001b[0melement\u001b[0m \u001b[0;32min\u001b[0m \u001b[0menumerate\u001b[0m\u001b[0;34m(\u001b[0m\u001b[0mvar\u001b[0m\u001b[0;34m)\u001b[0m\u001b[0;34m:\u001b[0m\u001b[0;34m\u001b[0m\u001b[0;34m\u001b[0m\u001b[0m\n\u001b[0;32m----> 4\u001b[0;31m   \u001b[0mprint\u001b[0m\u001b[0;34m(\u001b[0m\u001b[0miteration\u001b[0m\u001b[0;34m,\u001b[0m \u001b[0melement\u001b[0m\u001b[0;34m,\u001b[0m \u001b[0mstart\u001b[0m \u001b[0;34m=\u001b[0m \u001b[0;36m1\u001b[0m\u001b[0;34m)\u001b[0m\u001b[0;34m\u001b[0m\u001b[0;34m\u001b[0m\u001b[0m\n\u001b[0m",
            "\u001b[0;31mTypeError\u001b[0m: 'start' is an invalid keyword argument for print()"
          ]
        }
      ],
      "source": [
        "from random import choice\n",
        "var = [f'file_{x}.{choice([\"wav\", \"mp3\", \"mp4\", \"mov\"])}' for x in range(20)]\n",
        "for iteration, element in enumerate(var):\n",
        "  print(iteration, element)"
      ]
    },
    {
      "cell_type": "markdown",
      "metadata": {
        "id": "qZj4yv9N4BLj"
      },
      "source": [
        "# TASK 5 \n",
        "using the previous list of file names, convert all of the audio files (wav or mp3) to be `wav` and all of the video files (mp4 or mov) to be `mp4`.\n",
        "\n",
        "## Expected output\n",
        "```python\n",
        "file.wav\n",
        "file.mp4\n",
        "file.mp4\n",
        "```\n"
      ]
    },
    {
      "cell_type": "code",
      "execution_count": null,
      "metadata": {
        "id": "tsGeXR3O4BLj",
        "outputId": "ddeeca86-f760-45ff-e369-49412c4329bd",
        "colab": {
          "base_uri": "https://localhost:8080/"
        }
      },
      "outputs": [
        {
          "output_type": "execute_result",
          "data": {
            "text/plain": [
              "['file_0.wav',\n",
              " 'file_1.wav',\n",
              " 'file_2.wav',\n",
              " 'file_3.wav',\n",
              " 'file_4.mp4',\n",
              " 'file_5.wav',\n",
              " 'file_6.wav',\n",
              " 'file_7.wav',\n",
              " 'file_8.mp4',\n",
              " 'file_9.mp4',\n",
              " 'file_10.mp4',\n",
              " 'file_11.wav',\n",
              " 'file_12.mp4',\n",
              " 'file_13.mp4',\n",
              " 'file_14.wav',\n",
              " 'file_15.wav',\n",
              " 'file_16.mp4',\n",
              " 'file_17.mp4',\n",
              " 'file_18.wav',\n",
              " 'file_19.wav']"
            ]
          },
          "metadata": {},
          "execution_count": 82
        }
      ],
      "source": [
        "#TODO\n",
        "for index, element in enumerate(var):\n",
        "  if element.endswith(\"mp3\"):\n",
        "    var[index] = element.replace(\"mp3\", \"wav\")\n",
        "  elif element.endswith(\"mov\"):\n",
        "    var[index] = element.replace(\"mov\", \"mp4\")\n",
        "var"
      ]
    },
    {
      "cell_type": "markdown",
      "metadata": {
        "id": "ZV8kO0kd4BLj"
      },
      "source": [
        "# TASK 6\n",
        "Using the list from the previous task, split the file type from the file name and add the file types to a seperate list. Then recombine the filename and type so that it is in this format:\n",
        "\n",
        "```python \n",
        "[('filename', 'filetype'), ('filename', 'filetype')]\n",
        "```\n",
        "\n",
        "***I expect you to use the zip function for this***"
      ]
    },
    {
      "cell_type": "code",
      "execution_count": null,
      "metadata": {
        "id": "SINJnMHm4BLj"
      },
      "outputs": [],
      "source": [
        "#TODO\n"
      ]
    },
    {
      "cell_type": "markdown",
      "metadata": {
        "id": "qQyKl_Kc4BLj"
      },
      "source": [
        "# TASK 7 \n",
        "Using the list from the previous task, I want you to verify that all of the filetypes are of the extension `wav` or `mp4`."
      ]
    },
    {
      "cell_type": "code",
      "execution_count": null,
      "metadata": {
        "id": "AtFS9eRZ4BLj"
      },
      "outputs": [],
      "source": [
        "#TODO"
      ]
    },
    {
      "cell_type": "markdown",
      "metadata": {
        "id": "seeFX3-64BLj"
      },
      "source": [
        "# TASK 8\n",
        "Below you are given a list and you need to check if all of the elements are either a `string` or a `float`"
      ]
    },
    {
      "cell_type": "code",
      "execution_count": null,
      "metadata": {
        "id": "8DmtwSYW4BLj"
      },
      "outputs": [],
      "source": [
        "values = [1, 43.2, \"43.2\", 54.554, \"332\"]\n",
        "#TODO"
      ]
    },
    {
      "cell_type": "markdown",
      "metadata": {
        "id": "OtgjraKy4BLj"
      },
      "source": [
        "# TASK 9\n",
        "Check to see if any of the strings are numeric"
      ]
    },
    {
      "cell_type": "code",
      "execution_count": null,
      "metadata": {
        "id": "pGcSU-se4BLj"
      },
      "outputs": [],
      "source": [
        "strings = ['hello', \"world\", \"today it is\", \"negative\", \"16\", \"degrees\"]\n",
        "#TODO"
      ]
    },
    {
      "cell_type": "markdown",
      "metadata": {
        "id": "UNfXLqal4BLj"
      },
      "source": [
        "# TASK 10\n",
        "Given a list of elements you are tasked with sorting the list. However, before you can sort you need to make sure that all of the elements are numbers. Implement the logic to:\n",
        "* check to see if all of the elements are numeric\n",
        "* if they're not numeric, convert them into a number\n",
        "* sort the list"
      ]
    },
    {
      "cell_type": "code",
      "execution_count": null,
      "metadata": {
        "id": "iXCgmEOC4BLj"
      },
      "outputs": [],
      "source": [
        "#RUN THIS CELL FIRST\n",
        "from random import randint\n",
        "def get_value():\n",
        "    number = randint(0, 100) \n",
        "    string_number = str(randint(0, 100))\n",
        "    complex_number = complex(randint(0, 100))\n",
        "    bool_value = choice([True, False])\n",
        "    return choice([number, string_number, complex_number, bool_value])"
      ]
    },
    {
      "cell_type": "code",
      "execution_count": null,
      "metadata": {
        "id": "S6uzMeNd4BLk"
      },
      "outputs": [],
      "source": [
        "elements = [get_value() for _ in range(100)]\n",
        "#TODO"
      ]
    }
  ],
  "metadata": {
    "interpreter": {
      "hash": "f1a916808f2d29f1a5fbd48aa1cb9129993ca703ecce713879d0cd946e898e32"
    },
    "kernelspec": {
      "display_name": "Python 3.9.7 64-bit ('legacy': conda)",
      "language": "python",
      "name": "python3"
    },
    "language_info": {
      "codemirror_mode": {
        "name": "ipython",
        "version": 3
      },
      "file_extension": ".py",
      "mimetype": "text/x-python",
      "name": "python",
      "nbconvert_exporter": "python",
      "pygments_lexer": "ipython3",
      "version": "3.9.7"
    },
    "orig_nbformat": 4,
    "colab": {
      "name": "Copy of built_in_func_tasks.ipynb",
      "provenance": [],
      "include_colab_link": true
    }
  },
  "nbformat": 4,
  "nbformat_minor": 0
}