{
  "nbformat": 4,
  "nbformat_minor": 0,
  "metadata": {
    "interpreter": {
      "hash": "fd61235da8d855c081cbd5d7c6398e4c179a40a950675235256f7f30499f1124"
    },
    "kernelspec": {
      "display_name": "Python 3.7.4 64-bit ('base': conda)",
      "name": "python3"
    },
    "language_info": {
      "codemirror_mode": {
        "name": "ipython",
        "version": 3
      },
      "file_extension": ".py",
      "mimetype": "text/x-python",
      "name": "python",
      "nbconvert_exporter": "python",
      "pygments_lexer": "ipython3",
      "version": "3.7.4"
    },
    "orig_nbformat": 4,
    "colab": {
      "name": "Copy of operators and expressions tasks.ipynb",
      "provenance": [],
      "include_colab_link": true
    }
  },
  "cells": [
    {
      "cell_type": "markdown",
      "metadata": {
        "id": "view-in-github",
        "colab_type": "text"
      },
      "source": [
        "<a href=\"https://colab.research.google.com/github/EliasT427/learning-Python/blob/main/Copy_of_operators_and_expressions_tasks.ipynb\" target=\"_parent\"><img src=\"https://colab.research.google.com/assets/colab-badge.svg\" alt=\"Open In Colab\"/></a>"
      ]
    },
    {
      "cell_type": "markdown",
      "metadata": {
        "id": "D5QpwaA8zBcA"
      },
      "source": [
        "# Expression Exercises"
      ]
    },
    {
      "cell_type": "markdown",
      "metadata": {
        "id": "EKJ1a247zBcE"
      },
      "source": [
        "## TASK 1\n",
        "write an expression that evaluates to 20"
      ]
    },
    {
      "cell_type": "code",
      "metadata": {
        "id": "6sjF3bOSzBcF",
        "colab": {
          "base_uri": "https://localhost:8080/"
        },
        "outputId": "edf17101-34d4-428e-8c5f-cf71278eed30"
      },
      "source": [
        "#TODO:\n",
        "10+10"
      ],
      "execution_count": null,
      "outputs": [
        {
          "output_type": "execute_result",
          "data": {
            "text/plain": [
              "20"
            ]
          },
          "metadata": {},
          "execution_count": 1
        }
      ]
    },
    {
      "cell_type": "markdown",
      "metadata": {
        "id": "f8jbGHmWzBcG"
      },
      "source": [
        "## TASK 2\n",
        "write an expression that evaluates to -45"
      ]
    },
    {
      "cell_type": "code",
      "metadata": {
        "id": "9V3TpdZGzBcG",
        "colab": {
          "base_uri": "https://localhost:8080/"
        },
        "outputId": "b7e6d5a9-3e64-46ca-bc3d-14a6d431b816"
      },
      "source": [
        "#TODO:\n",
        "-44-1"
      ],
      "execution_count": null,
      "outputs": [
        {
          "output_type": "execute_result",
          "data": {
            "text/plain": [
              "-45"
            ]
          },
          "metadata": {},
          "execution_count": 2
        }
      ]
    },
    {
      "cell_type": "markdown",
      "metadata": {
        "id": "iFm1xE5XzBcH"
      },
      "source": [
        "## TASK 3 \n",
        "create a 5 element list and write an expression that evaluates to the length of the list squared"
      ]
    },
    {
      "cell_type": "code",
      "metadata": {
        "id": "TvpNZq30zBcH",
        "colab": {
          "base_uri": "https://localhost:8080/"
        },
        "outputId": "cee26070-23e7-4965-8325-5b6b7c2e13e7"
      },
      "source": [
        "#TODO:\n",
        "var=[1,2,3,4,5]\n",
        "len(var)\n",
        "len(var)**2"
      ],
      "execution_count": null,
      "outputs": [
        {
          "output_type": "execute_result",
          "data": {
            "text/plain": [
              "25"
            ]
          },
          "metadata": {},
          "execution_count": 5
        }
      ]
    },
    {
      "cell_type": "markdown",
      "metadata": {
        "id": "RexBhD17zBcI"
      },
      "source": [
        "# Statement Exercises"
      ]
    },
    {
      "cell_type": "markdown",
      "metadata": {
        "id": "rP-noqftzBcJ"
      },
      "source": [
        "## TASK 1\n",
        "Write a simple assignment statement that assigns 10 to var"
      ]
    },
    {
      "cell_type": "code",
      "metadata": {
        "id": "aT4TRS0WzBcJ"
      },
      "source": [
        "#TODO:\n",
        "var=10"
      ],
      "execution_count": null,
      "outputs": []
    },
    {
      "cell_type": "markdown",
      "metadata": {
        "id": "2B07e6lbzBcK"
      },
      "source": [
        "## TASK 2\n",
        "write an expression that evaluates to 200 and assign it to var"
      ]
    },
    {
      "cell_type": "code",
      "metadata": {
        "id": "qC401KYFzBcK"
      },
      "source": [
        "#TODO:\n",
        "var=99+101"
      ],
      "execution_count": null,
      "outputs": []
    },
    {
      "cell_type": "markdown",
      "metadata": {
        "id": "K7HjVb3NzBcK"
      },
      "source": [
        "## TASK 3\n",
        "write a statement that prints out your first and last name separated by semi-colons."
      ]
    },
    {
      "cell_type": "code",
      "metadata": {
        "id": "G8hwggcOzBcL",
        "colab": {
          "base_uri": "https://localhost:8080/"
        },
        "outputId": "fa38a566-9677-4e70-bb42-adea959258e9"
      },
      "source": [
        "#TODO:\n",
        "print('Elias' , 'Turpen', sep = ':')"
      ],
      "execution_count": null,
      "outputs": [
        {
          "output_type": "stream",
          "name": "stdout",
          "text": [
            "Elias:Turpen\n"
          ]
        }
      ]
    },
    {
      "cell_type": "markdown",
      "metadata": {
        "id": "AG7KWyJvzBcL"
      },
      "source": [
        "# Arithmetic operator exercises"
      ]
    },
    {
      "cell_type": "markdown",
      "metadata": {
        "id": "ugn61cI1zBcL"
      },
      "source": [
        "## TASK 1\n",
        "calculate the product of 6 and 7, then floor divide the result by 3 and assign the value to var. Then print out the result."
      ]
    },
    {
      "cell_type": "code",
      "metadata": {
        "id": "FoVwPFwXzBcL",
        "colab": {
          "base_uri": "https://localhost:8080/"
        },
        "outputId": "e785d7e6-00f3-470c-870f-1777757adde1"
      },
      "source": [
        "#TODO:\n",
        "var=(6*7)//3\n",
        "print(var)"
      ],
      "execution_count": null,
      "outputs": [
        {
          "output_type": "stream",
          "name": "stdout",
          "text": [
            "14\n"
          ]
        }
      ]
    },
    {
      "cell_type": "markdown",
      "metadata": {
        "id": "USbJ9OkJzBcM"
      },
      "source": [
        "## TASK 2\n",
        "* Calculate 50 divided by 5 and assign the result to `var`.\n",
        "* Then find the remainder of 20 divided by 6 and assign the result to `remainder` \n",
        "* Calculate `var` to the power of `remainder` and print the result"
      ]
    },
    {
      "cell_type": "code",
      "metadata": {
        "id": "dfclncDOzBcM",
        "colab": {
          "base_uri": "https://localhost:8080/"
        },
        "outputId": "ae96de0d-eae5-4f3b-fb92-397ada716190"
      },
      "source": [
        "#TODO:\n",
        "var=50/5\n",
        "remainder=30/6\n",
        "print(var**remainder)"
      ],
      "execution_count": null,
      "outputs": [
        {
          "output_type": "stream",
          "name": "stdout",
          "text": [
            "100000.0\n"
          ]
        }
      ]
    },
    {
      "cell_type": "markdown",
      "metadata": {
        "id": "0MMALu5zzBcM"
      },
      "source": [
        "## TASK 3\n",
        "This is the formula for the pythagorean therom\n",
        "\n",
        "$a^{2}+b^{2}=c^{2}$\n",
        "\n",
        "using the variables below, solve for $c^{2}$"
      ]
    },
    {
      "cell_type": "code",
      "metadata": {
        "id": "-U_Abi4kzBcN",
        "colab": {
          "base_uri": "https://localhost:8080/"
        },
        "outputId": "5fc72ae8-2f90-4be2-d6b9-32e962d8d0e0"
      },
      "source": [
        "a = 8\n",
        "b = 4\n",
        "#TODO: \n",
        "8**2+4**2"
      ],
      "execution_count": null,
      "outputs": [
        {
          "output_type": "execute_result",
          "data": {
            "text/plain": [
              "80"
            ]
          },
          "metadata": {},
          "execution_count": 26
        }
      ]
    },
    {
      "cell_type": "markdown",
      "metadata": {
        "id": "jPLpPNs5zBcN"
      },
      "source": [
        "# Comparison operators exercises"
      ]
    },
    {
      "cell_type": "markdown",
      "metadata": {
        "id": "GapjDJLIzBcN"
      },
      "source": [
        "## TASK 1\n",
        "check to see if x is greater than y"
      ]
    },
    {
      "cell_type": "code",
      "metadata": {
        "id": "ihmb46VbzBcN",
        "colab": {
          "base_uri": "https://localhost:8080/"
        },
        "outputId": "66c3b68f-4f19-4999-8de2-d5bba2fb3105"
      },
      "source": [
        "x = 10\n",
        "y = 5\n",
        "#TODO:\n",
        "x>y"
      ],
      "execution_count": null,
      "outputs": [
        {
          "output_type": "execute_result",
          "data": {
            "text/plain": [
              "True"
            ]
          },
          "metadata": {},
          "execution_count": 27
        }
      ]
    },
    {
      "cell_type": "markdown",
      "metadata": {
        "id": "EyeQlFPOzBcN"
      },
      "source": [
        "## TASK 2\n",
        "check to see if x is less than y"
      ]
    },
    {
      "cell_type": "code",
      "metadata": {
        "id": "u_4_82GtzBcO",
        "colab": {
          "base_uri": "https://localhost:8080/"
        },
        "outputId": "866d9ffb-5e90-4654-cd9c-bdad292830dc"
      },
      "source": [
        "x = 10\n",
        "y = 5\n",
        "#TODO:\n",
        "x<y\n"
      ],
      "execution_count": null,
      "outputs": [
        {
          "output_type": "execute_result",
          "data": {
            "text/plain": [
              "False"
            ]
          },
          "metadata": {},
          "execution_count": 28
        }
      ]
    },
    {
      "cell_type": "markdown",
      "metadata": {
        "id": "SMkqMA_TzBcO"
      },
      "source": [
        "## TASK 3\n",
        "check to see if a is equal to b"
      ]
    },
    {
      "cell_type": "code",
      "metadata": {
        "id": "FIdRH0DUzBcO",
        "colab": {
          "base_uri": "https://localhost:8080/"
        },
        "outputId": "b932f193-4a14-4175-849e-572912ee1fcf"
      },
      "source": [
        "a = (True or False) and (True and True)\n",
        "b = False\n",
        "#TODO:\n",
        "a==b\n"
      ],
      "execution_count": null,
      "outputs": [
        {
          "output_type": "execute_result",
          "data": {
            "text/plain": [
              "False"
            ]
          },
          "metadata": {},
          "execution_count": 29
        }
      ]
    },
    {
      "cell_type": "markdown",
      "metadata": {
        "id": "LTkcEWw9zBcO"
      },
      "source": [
        "## TASK 4 \n",
        "check to see if a is greater than or equal to b"
      ]
    },
    {
      "cell_type": "code",
      "metadata": {
        "id": "scjJhOSMzBcO",
        "colab": {
          "base_uri": "https://localhost:8080/"
        },
        "outputId": "2bbdbba3-f02f-457e-bdf6-9c4b7ceb5274"
      },
      "source": [
        "a = len([1,2,3,4]) ** 2\n",
        "b = (10//3) * 5\n",
        "#TODO:\n",
        "a>b"
      ],
      "execution_count": null,
      "outputs": [
        {
          "output_type": "execute_result",
          "data": {
            "text/plain": [
              "True"
            ]
          },
          "metadata": {},
          "execution_count": 30
        }
      ]
    },
    {
      "cell_type": "markdown",
      "metadata": {
        "id": "U2NUH9z4zBcO"
      },
      "source": [
        "## TASK 5\n",
        "Check to see if a is not equal to b"
      ]
    },
    {
      "cell_type": "code",
      "metadata": {
        "id": "WjNjq2g0zBcO",
        "colab": {
          "base_uri": "https://localhost:8080/"
        },
        "outputId": "d6e32947-43da-42bc-aadb-a814762cb557"
      },
      "source": [
        "a = \"I am a\"\n",
        "b = \"I am b\"\n",
        "#TODO:\n",
        "a != b"
      ],
      "execution_count": null,
      "outputs": [
        {
          "output_type": "execute_result",
          "data": {
            "text/plain": [
              "True"
            ]
          },
          "metadata": {},
          "execution_count": 32
        }
      ]
    },
    {
      "cell_type": "markdown",
      "metadata": {
        "id": "v_0CHwCAzBcO"
      },
      "source": [
        "## TASK 6\n",
        "check to see if a is less than or equal to b"
      ]
    },
    {
      "cell_type": "code",
      "metadata": {
        "id": "M9tpwM4KzBcP",
        "colab": {
          "base_uri": "https://localhost:8080/"
        },
        "outputId": "ff2fc29f-b9c3-4c6d-86ef-4fad6e6b4187"
      },
      "source": [
        "a = 99\n",
        "b = len([x for x in range(100)]) - 1\n",
        "#TODO:\n",
        "a<=b\n"
      ],
      "execution_count": null,
      "outputs": [
        {
          "output_type": "execute_result",
          "data": {
            "text/plain": [
              "True"
            ]
          },
          "metadata": {},
          "execution_count": 33
        }
      ]
    },
    {
      "cell_type": "markdown",
      "metadata": {
        "id": "cgEJUwJdzBcP"
      },
      "source": [
        "# Logic exercises"
      ]
    },
    {
      "cell_type": "markdown",
      "metadata": {
        "id": "GHMqSrKGzBcP"
      },
      "source": [
        "## TASK 1\n",
        "Create and evaluate the truth of the following\n",
        "* `a` is True\n",
        "* `b` is False\n",
        "* Is `a` and `b` true?"
      ]
    },
    {
      "cell_type": "code",
      "metadata": {
        "id": "Luz1KnkpzBcP",
        "colab": {
          "base_uri": "https://localhost:8080/"
        },
        "outputId": "adba63a8-8719-42ef-aa58-c10953ae6040"
      },
      "source": [
        "#TODO:\n",
        "a=True\n",
        "b=False\n",
        "a and b"
      ],
      "execution_count": null,
      "outputs": [
        {
          "output_type": "execute_result",
          "data": {
            "text/plain": [
              "False"
            ]
          },
          "metadata": {},
          "execution_count": 34
        }
      ]
    },
    {
      "cell_type": "markdown",
      "metadata": {
        "id": "Aw9WDnKizBcP"
      },
      "source": [
        "## TASK 2\n",
        "* assign the expression 5 is greater than 2, to `a`\n",
        "* assign the expression len([1,2,3,4]) is less than 10, to `b`\n",
        "* What is the result of the expression `a or b is true`"
      ]
    },
    {
      "cell_type": "code",
      "metadata": {
        "id": "bvKwMQcRzBcP",
        "colab": {
          "base_uri": "https://localhost:8080/"
        },
        "outputId": "ab5b0a63-1329-4806-c976-a69cffcfe147"
      },
      "source": [
        "#TODO:\n",
        "a=5>2\n",
        "b=(len([1,2,3,4])>10)\n",
        "a or b"
      ],
      "execution_count": null,
      "outputs": [
        {
          "output_type": "execute_result",
          "data": {
            "text/plain": [
              "True"
            ]
          },
          "metadata": {},
          "execution_count": 38
        }
      ]
    },
    {
      "cell_type": "markdown",
      "metadata": {
        "id": "cNUV6rOdzBcQ"
      },
      "source": [
        "## TASK 3 \n",
        "what are the values for `a`, `b`, `x`, and `y` if the expression `(a and b) and not (x or y)` is true?\n",
        "\n",
        "***There may be more than one solution***"
      ]
    },
    {
      "cell_type": "code",
      "metadata": {
        "id": "CyZFKljrzBcQ",
        "colab": {
          "base_uri": "https://localhost:8080/"
        },
        "outputId": "e9d67c72-df7a-417a-8c68-ed5b9b8dc92e"
      },
      "source": [
        "a = True \n",
        "b = True\n",
        "x = False\n",
        "y = False\n",
        "(a and b) and not (x or y)\n"
      ],
      "execution_count": null,
      "outputs": [
        {
          "output_type": "execute_result",
          "data": {
            "text/plain": [
              "True"
            ]
          },
          "metadata": {},
          "execution_count": 40
        }
      ]
    },
    {
      "cell_type": "markdown",
      "metadata": {
        "id": "7ib2fLkAzBcQ"
      },
      "source": [
        "## TASK 4\n",
        "What are the values for `x` and `y` if the expression    `not((x and not y) or (not x and not y))` evaluates to false.\n",
        "\n",
        "***There may be more than one solution***"
      ]
    },
    {
      "cell_type": "code",
      "metadata": {
        "id": "NFHZRIskzBcQ",
        "colab": {
          "base_uri": "https://localhost:8080/"
        },
        "outputId": "1c2c478a-b767-4021-a403-5d61d5c43d72"
      },
      "source": [
        "x = True\n",
        "y = False\n",
        "not((x and not y) or (not x and not y))"
      ],
      "execution_count": null,
      "outputs": [
        {
          "output_type": "execute_result",
          "data": {
            "text/plain": [
              "False"
            ]
          },
          "metadata": {},
          "execution_count": 41
        }
      ]
    },
    {
      "cell_type": "markdown",
      "metadata": {
        "id": "ykijELtPzBcQ"
      },
      "source": [
        "# Membership exercises"
      ]
    },
    {
      "cell_type": "markdown",
      "metadata": {
        "id": "FCV7lIFtzBcQ"
      },
      "source": [
        "## TASK 1\n",
        "Check to see if 'burn' is present in the string and print the result"
      ]
    },
    {
      "cell_type": "code",
      "metadata": {
        "id": "TmYMPhJczBcQ",
        "colab": {
          "base_uri": "https://localhost:8080/"
        },
        "outputId": "7dd850aa-2fff-4fd2-98a9-95a0a4a75152"
      },
      "source": [
        "string = \"Wasburn\"\n",
        "#TODO:\n",
        "'burn' in string"
      ],
      "execution_count": null,
      "outputs": [
        {
          "output_type": "execute_result",
          "data": {
            "text/plain": [
              "True"
            ]
          },
          "metadata": {},
          "execution_count": 43
        }
      ]
    },
    {
      "cell_type": "markdown",
      "metadata": {
        "id": "kMMk6-bCzBcR"
      },
      "source": [
        "## TASK 2\n",
        "check to see if 'Grandma' is present in the tuple and print the result"
      ]
    },
    {
      "cell_type": "code",
      "metadata": {
        "id": "f01JI9l-zBcR",
        "colab": {
          "base_uri": "https://localhost:8080/"
        },
        "outputId": "a3391b6e-9145-48c8-9c76-18bbe29e9a61"
      },
      "source": [
        "\n",
        "tpl = (\"Mom\", \"Dad\", \"Brother\", \"Brother\", \"Sister\", \"Pet\")\n",
        "#TODO\n",
        "'grandma' in tpl\n"
      ],
      "execution_count": null,
      "outputs": [
        {
          "output_type": "execute_result",
          "data": {
            "text/plain": [
              "False"
            ]
          },
          "metadata": {},
          "execution_count": 45
        }
      ]
    },
    {
      "cell_type": "markdown",
      "metadata": {
        "id": "noir4aSNzBcR"
      },
      "source": [
        "## TASK 3\n",
        "Is 10 squared present in the list?"
      ]
    },
    {
      "cell_type": "code",
      "metadata": {
        "id": "oxVtjWxSzBcR",
        "colab": {
          "base_uri": "https://localhost:8080/"
        },
        "outputId": "accea454-32e5-46f3-8849-ff3cb70eae3c"
      },
      "source": [
        "lst = [100 - 10, 99 + 6, 100 ** .5, 'Bruh']\n",
        "#TODO\n",
        "10**2 in lst"
      ],
      "execution_count": null,
      "outputs": [
        {
          "output_type": "execute_result",
          "data": {
            "text/plain": [
              "False"
            ]
          },
          "metadata": {},
          "execution_count": 47
        }
      ]
    },
    {
      "cell_type": "markdown",
      "metadata": {
        "id": "D5YrXCQ8zBcS"
      },
      "source": [
        "## TASK 4\n",
        "Is the key 'awareness' not in the dictionary?"
      ]
    },
    {
      "cell_type": "code",
      "metadata": {
        "id": "GnXRdcIgzBcS",
        "colab": {
          "base_uri": "https://localhost:8080/"
        },
        "outputId": "5c9d9491-ed43-4bb8-c90a-aa4c5c907eaf"
      },
      "source": [
        "dct = {'mind':\"Thinking\",\n",
        "       'body':\"Feeling\",\n",
        "       'world':\"Acting\"}\n",
        "#TODO\n",
        "'awareness' in dct"
      ],
      "execution_count": null,
      "outputs": [
        {
          "output_type": "execute_result",
          "data": {
            "text/plain": [
              "False"
            ]
          },
          "metadata": {},
          "execution_count": 48
        }
      ]
    },
    {
      "cell_type": "markdown",
      "metadata": {
        "id": "_QCDs-hezBcS"
      },
      "source": [
        "# Identity exercises"
      ]
    },
    {
      "cell_type": "markdown",
      "metadata": {
        "id": "dffDXvU0zBcS"
      },
      "source": [
        "## TASK 1\n",
        "are the two variables identical?"
      ]
    },
    {
      "cell_type": "code",
      "metadata": {
        "id": "PqCH435JzBcS",
        "colab": {
          "base_uri": "https://localhost:8080/"
        },
        "outputId": "cab5c944-8e26-41be-f43a-4a3356a3b4e3"
      },
      "source": [
        "var = 44\n",
        "var2 = 50 - 6\n",
        "#TODO\n",
        "print(var is var2)"
      ],
      "execution_count": null,
      "outputs": [
        {
          "output_type": "stream",
          "name": "stdout",
          "text": [
            "True\n"
          ]
        }
      ]
    },
    {
      "cell_type": "markdown",
      "metadata": {
        "id": "jvzC0tJuzBcT"
      },
      "source": [
        "## TASK 2\n",
        "are the two variables identical"
      ]
    },
    {
      "cell_type": "code",
      "metadata": {
        "id": "nueqKSlWzBcT",
        "colab": {
          "base_uri": "https://localhost:8080/"
        },
        "outputId": "2abf94b7-30ac-4fcb-e995-103955f14226"
      },
      "source": [
        "var = len([1,2,3,4,5])\n",
        "var2 = len([54,23,54,12,69])\n",
        "#TODO\n",
        "print( var is var2)"
      ],
      "execution_count": null,
      "outputs": [
        {
          "output_type": "stream",
          "name": "stdout",
          "text": [
            "True\n"
          ]
        }
      ]
    },
    {
      "cell_type": "markdown",
      "metadata": {
        "id": "PCfTt5lCzBcT"
      },
      "source": [
        "## TASK 3\n",
        "Are the two variables identical?"
      ]
    },
    {
      "cell_type": "code",
      "metadata": {
        "id": "zFvwgY3_zBcT",
        "colab": {
          "base_uri": "https://localhost:8080/"
        },
        "outputId": "aafdb6bf-a4b6-453b-837e-2580897c2b2d"
      },
      "source": [
        "var = [10, 12, 14, 16]\n",
        "var2 = [10, 12, 14, 16]\n",
        "#TODO\n",
        "print(var is var2)"
      ],
      "execution_count": null,
      "outputs": [
        {
          "output_type": "stream",
          "name": "stdout",
          "text": [
            "False\n"
          ]
        }
      ]
    },
    {
      "cell_type": "markdown",
      "metadata": {
        "id": "b6vUPRoPzBcT"
      },
      "source": [
        "## TASK 4\n",
        "Are the two variables identical?"
      ]
    },
    {
      "cell_type": "code",
      "metadata": {
        "id": "kMmof3HvzBcT",
        "colab": {
          "base_uri": "https://localhost:8080/"
        },
        "outputId": "b449bc31-7cfc-4606-a6e4-4c1aa2ccd438"
      },
      "source": [
        "var = {1: 111, 2:222, 3:333}\n",
        "var2 = var\n",
        "#TODO\n",
        "print(var is var2)"
      ],
      "execution_count": null,
      "outputs": [
        {
          "output_type": "stream",
          "name": "stdout",
          "text": [
            "True\n"
          ]
        }
      ]
    },
    {
      "cell_type": "markdown",
      "metadata": {
        "id": "cn6LVbLQzBcU"
      },
      "source": [
        "## TASK 5 \n",
        "are the two variables not identical?"
      ]
    },
    {
      "cell_type": "code",
      "metadata": {
        "id": "PgscugcEzBcU",
        "colab": {
          "base_uri": "https://localhost:8080/"
        },
        "outputId": "67f01458-6405-4341-9cc7-0e6fd07b2e89"
      },
      "source": [
        "var = 'Hello'\n",
        "var2 = 'hello'\n",
        "#TODO\n",
        "print(var is var2)"
      ],
      "execution_count": null,
      "outputs": [
        {
          "output_type": "stream",
          "name": "stdout",
          "text": [
            "False\n"
          ]
        }
      ]
    },
    {
      "cell_type": "code",
      "metadata": {
        "id": "7Vg9BwYj5pab"
      },
      "source": [
        ""
      ],
      "execution_count": null,
      "outputs": []
    }
  ]
}