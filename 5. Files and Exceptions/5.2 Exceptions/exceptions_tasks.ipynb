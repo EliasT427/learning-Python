{
  "cells": [
    {
      "cell_type": "code",
      "execution_count": 11,
      "metadata": {
        "id": "A_V9VUY3pOWn"
      },
      "outputs": [],
      "source": [
        "#RUN THIS FIRST\n",
        "import requests\n",
        "from random import randint, choice\n",
        "url = \"https://raw.githubusercontent.com/Gabe-flomo/Instagram-Dashboard/master/JSON/saved.json?token=GHSAT0AAAAAABPLRJR7VD53GB6XVC3DWAC6YQZEPNQ\"\n",
        "data = requests.get(url).json()\n",
        "data = [data[key] for key in data]"
      ]
    },
    {
      "cell_type": "markdown",
      "metadata": {
        "id": "n4is1ua3pOWp"
      },
      "source": [
        "# TASK 1\n",
        "Run the code and locate where the error is occuring and handle it using a `try except` clause"
      ]
    },
    {
      "cell_type": "code",
      "execution_count": 12,
      "metadata": {
        "id": "iQL2Pw-ZpOWq",
        "outputId": "441ff616-af1d-46d4-ca95-fa893e3a7692",
        "colab": {
          "base_uri": "https://localhost:8080/"
        }
      },
      "outputs": [
        {
          "output_type": "execute_result",
          "data": {
            "text/plain": [
              "13514.83"
            ]
          },
          "metadata": {},
          "execution_count": 12
        }
      ],
      "source": [
        "def get_total_duration(data):\n",
        "    duration_total = 0\n",
        "    for row in data:\n",
        "        duration = row['duration']\n",
        "        try:\n",
        "          duration_total += duration\n",
        "        except TypeError as err:\n",
        "          continue\n",
        "    return duration_total\n",
        "\n",
        "get_total_duration(data)"
      ]
    },
    {
      "cell_type": "markdown",
      "metadata": {
        "id": "I9Tl6hYfpOWr"
      },
      "source": [
        "# TASK 2\n",
        "Below is a list of users and some information about them. Write a function that returns the users that meet these conditions.\n",
        "- They're at least 20 years old\n",
        "- They either use a mac or a windows computer\n",
        "\n",
        "The condition should be checked using an assertion and the assertion should be handled if it fails by using a `try except` clause."
      ]
    },
    {
      "cell_type": "code",
      "execution_count": 15,
      "metadata": {
        "id": "r2LL9ygupOWs"
      },
      "outputs": [],
      "source": [
        "users = [\n",
        "    {\n",
        "        'name':'Gabe',\n",
        "        'age': 12,\n",
        "        'computer': 'Mac'\n",
        "    },{\n",
        "        'name':'Elias',\n",
        "        'age': 15,\n",
        "        'computer': 'Windows'\n",
        "    },{\n",
        "        'name':'Oliver',\n",
        "        'age': 15,\n",
        "        'computer': 'Windows'\n",
        "    },{\n",
        "        'name':'Cianni',\n",
        "        'age': 19,\n",
        "        'computer': 'Mac'\n",
        "    },{\n",
        "        'name':'Safe',\n",
        "        'age': 20,\n",
        "        'computer': 'Windows'\n",
        "    },{\n",
        "        'name':'Matt',\n",
        "        'age': 15,\n",
        "        'computer': 'Mac'\n",
        "    },{\n",
        "        'name':'Nathan',\n",
        "        'age': 21,\n",
        "        'computer': 'Windows'\n",
        "    },{\n",
        "        'name':'Aaron',\n",
        "        'age': 12,\n",
        "        'computer': 'Mac'\n",
        "    },{\n",
        "        'name':'Nene',\n",
        "        'age': 26,\n",
        "        'computer': 'Windows'\n",
        "    },{\n",
        "        'name':'Deanne',\n",
        "        'age': 23,\n",
        "        'computer': 'Linux'\n",
        "    },{\n",
        "        'name':'Arthur',\n",
        "        'age': 43,\n",
        "        'computer': 'Linux'\n",
        "    },\n",
        "]"
      ]
    },
    {
      "cell_type": "code",
      "source": [
        "def filter():\n",
        "  for dicts in users:\n",
        "    try:\n",
        "      assert dicts['age'] >= 20 and dicts['computer'] == 'Linux' or dicts['computer'] == 'Windows', dicts['name']\n",
        "    except AssertionError as err:\n",
        "      print(err)\n",
        "      continue\n",
        "filter()"
      ],
      "metadata": {
        "id": "n2_1ihYJr2Ok",
        "outputId": "6c93aa69-fa55-44f7-c817-35aba2d616c1",
        "colab": {
          "base_uri": "https://localhost:8080/"
        }
      },
      "execution_count": 36,
      "outputs": [
        {
          "output_type": "stream",
          "name": "stdout",
          "text": [
            "Gabe\n",
            "Cianni\n",
            "Matt\n",
            "Aaron\n"
          ]
        }
      ]
    },
    {
      "cell_type": "markdown",
      "metadata": {
        "id": "QlV2-nBopOWs"
      },
      "source": [
        "# TASK 3\n",
        "Edit the code so that if the file is not found it will be created. Read the content of each file and print it to the screen\n",
        "\n",
        "### Expected output\n",
        "```python \n",
        "\"Hello i am file files/file0.txt\"\n",
        "\"Hello i am file files/file1.txt\"\n",
        "\"Hello i am file files/file2.txt\"\n",
        "\"Hello i am file files/file3.txt\"\n",
        "\"Hello i am file files/file4.txt\"\n",
        "\"Hello i am file files/file5.txt\"\n",
        "\"Hello i am file files/file6.txt\"\n",
        "\"Hello i am file files/file7.txt\"\n",
        "\"Hello i am file files/file8.txt\"\n",
        "\"Hello i am file files/file9.txt\"\n",
        "\"Hello i am file files/file10.txt\"\n",
        "```"
      ]
    },
    {
      "cell_type": "code",
      "source": [
        "import os\n",
        "os.makedirs('files')"
      ],
      "metadata": {
        "id": "BFvGc_lixiWN"
      },
      "execution_count": 48,
      "outputs": []
    },
    {
      "cell_type": "code",
      "execution_count": 53,
      "metadata": {
        "id": "YbDR_XWGpOWs",
        "outputId": "7872a4c6-76c9-4a37-ad40-1d805b43ea4b",
        "colab": {
          "base_uri": "https://localhost:8080/",
          "height": 340
        }
      },
      "outputs": [
        {
          "output_type": "error",
          "ename": "TypeError",
          "evalue": "ignored",
          "traceback": [
            "\u001b[0;31m---------------------------------------------------------------------------\u001b[0m",
            "\u001b[0;31mTypeError\u001b[0m                                 Traceback (most recent call last)",
            "\u001b[0;32m<ipython-input-53-12fb9eafaf80>\u001b[0m in \u001b[0;36m<module>\u001b[0;34m()\u001b[0m\n\u001b[1;32m     26\u001b[0m \u001b[0;34m\u001b[0m\u001b[0m\n\u001b[1;32m     27\u001b[0m \u001b[0;34m\u001b[0m\u001b[0m\n\u001b[0;32m---> 28\u001b[0;31m \u001b[0mread_dummy_files\u001b[0m\u001b[0;34m(\u001b[0m\u001b[0;34m)\u001b[0m\u001b[0;34m\u001b[0m\u001b[0;34m\u001b[0m\u001b[0m\n\u001b[0m\u001b[1;32m     29\u001b[0m \u001b[0;34m\u001b[0m\u001b[0m\n",
            "\u001b[0;32m<ipython-input-53-12fb9eafaf80>\u001b[0m in \u001b[0;36mread_dummy_files\u001b[0;34m()\u001b[0m\n\u001b[1;32m     22\u001b[0m         \u001b[0mfile\u001b[0m\u001b[0;34m.\u001b[0m\u001b[0mwrite\u001b[0m\u001b[0;34m(\u001b[0m\u001b[0;34mf\"Hello i am file {file}\"\u001b[0m\u001b[0;34m)\u001b[0m\u001b[0;34m\u001b[0m\u001b[0;34m\u001b[0m\u001b[0m\n\u001b[1;32m     23\u001b[0m     \u001b[0;32mfinally\u001b[0m\u001b[0;34m:\u001b[0m\u001b[0;34m\u001b[0m\u001b[0;34m\u001b[0m\u001b[0m\n\u001b[0;32m---> 24\u001b[0;31m       \u001b[0;32mwith\u001b[0m \u001b[0mopen\u001b[0m\u001b[0;34m(\u001b[0m\u001b[0mfile\u001b[0m\u001b[0;34m,\u001b[0m \u001b[0;34m'r'\u001b[0m\u001b[0;34m)\u001b[0m \u001b[0;32mas\u001b[0m \u001b[0mf\u001b[0m\u001b[0;34m:\u001b[0m\u001b[0;34m\u001b[0m\u001b[0;34m\u001b[0m\u001b[0m\n\u001b[0m\u001b[1;32m     25\u001b[0m         \u001b[0mf\u001b[0m\u001b[0;34m.\u001b[0m\u001b[0mread\u001b[0m\u001b[0;34m(\u001b[0m\u001b[0;34mf\"Hello i am file {file}\"\u001b[0m\u001b[0;34m)\u001b[0m\u001b[0;34m\u001b[0m\u001b[0;34m\u001b[0m\u001b[0m\n\u001b[1;32m     26\u001b[0m \u001b[0;34m\u001b[0m\u001b[0m\n",
            "\u001b[0;31mTypeError\u001b[0m: expected str, bytes or os.PathLike object, not _io.TextIOWrapper"
          ]
        }
      ],
      "source": [
        "\n",
        "def create_dummy_files():\n",
        "\n",
        "    filenames = [f\"files/file{i}.txt\" for i in range(10) if i % 2 == 0]\n",
        "    try:\n",
        "        for file in filenames:\n",
        "            with open(file, 'w') as f:\n",
        "                f.write(f\"Hello i am file {file}\")\n",
        "    except Exception as e:\n",
        "        print(e)\n",
        "\n",
        "create_dummy_files()\n",
        "\n",
        "def read_dummy_files():\n",
        "  filenames = [f\"files/file{i}.txt\" for i in range(10)]\n",
        "  for file in filenames:\n",
        "    try:\n",
        "      with open(file, 'r') as f:\n",
        "        pass\n",
        "    except TypeError as err:\n",
        "      with open(file, 'w') as file:\n",
        "        file.write(f\"Hello i am file {file}\")\n",
        "    finally:\n",
        "      with open(file, 'r') as f:\n",
        "        f.read(f\"Hello i am file {file}\")\n",
        "      \n",
        "\n",
        "read_dummy_files()\n",
        "\n"
      ]
    },
    {
      "cell_type": "code",
      "source": [
        ""
      ],
      "metadata": {
        "id": "rEQyFxxRwGdk"
      },
      "execution_count": null,
      "outputs": []
    }
  ],
  "metadata": {
    "interpreter": {
      "hash": "f1a916808f2d29f1a5fbd48aa1cb9129993ca703ecce713879d0cd946e898e32"
    },
    "kernelspec": {
      "display_name": "Python 3.9.7 ('legacy')",
      "language": "python",
      "name": "python3"
    },
    "language_info": {
      "codemirror_mode": {
        "name": "ipython",
        "version": 3
      },
      "file_extension": ".py",
      "mimetype": "text/x-python",
      "name": "python",
      "nbconvert_exporter": "python",
      "pygments_lexer": "ipython3",
      "version": "3.9.7"
    },
    "orig_nbformat": 4,
    "colab": {
      "name": "exceptions_tasks.ipynb",
      "provenance": []
    }
  },
  "nbformat": 4,
  "nbformat_minor": 0
}