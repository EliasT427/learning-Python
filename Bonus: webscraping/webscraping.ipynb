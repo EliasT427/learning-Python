{
  "cells": [
    {
      "cell_type": "markdown",
      "metadata": {
        "id": "XLMnudFrGGqx"
      },
      "source": [
        "## websites to scrape\n",
        "* [Simple page](https://dataquestio.github.io/web-scraping-pages/simple.html)\n",
        "* [Another simple page](https://realpython.github.io/fake-jobs/jobs/senior-python-developer-0.html)\n",
        "* [More complex webpage](https://au.indeed.com/software-developer-jobs-in-Australia?vjk=6fcf7af0c601fbca)\n",
        "* [Complex webpage](https://www.pacsun.com/mens/)\n",
        "\n",
        "## [BeautifulSoup documentation](https://beautiful-soup-4.readthedocs.io/en/latest/)"
      ]
    },
    {
      "cell_type": "code",
      "execution_count": 10,
      "metadata": {
        "id": "MPnkbtP-GGq0",
        "outputId": "a34ab20f-9aa8-4bc1-d2d9-346b6b315bc3",
        "colab": {
          "base_uri": "https://localhost:8080/"
        }
      },
      "outputs": [
        {
          "output_type": "stream",
          "name": "stdout",
          "text": [
            "<!DOCTYPE html>\n",
            "<html>\n",
            "  <head>\n",
            "    <meta charset=\"utf-8\">\n",
            "    <meta name=\"viewport\" content=\"width=device-width, initial-scale=1\">\n",
            "    <title>Fake Python</title>\n",
            "    <link rel=\"stylesheet\" href=\"https://cdn.jsdelivr.net/npm/bulma@0.9.2/css/bulma.min.css\">\n",
            "  </head>\n",
            "  <body>\n",
            "  <section class=\"section\">\n",
            "    <div class=\"container mb-5\">\n",
            "      <h1 class=\"title is-1\">\n",
            "        Fake Python\n",
            "      </h1>\n",
            "      <p class=\"subtitle is-3\">\n",
            "        Fake Jobs for Your Web Scraping Journey\n",
            "      </p>\n",
            "    </div>\n",
            "    <div class=\"container\">\n",
            "    <div id=\"ResultsContainer\" class=\"columns is-multiline\">\n",
            "    <div class=\"box\">\n",
            "<h1 class=\"title is-2\">Senior Python Developer</h1>\n",
            "<h2 class=\"subtitle is-4 company\">Payne, Roberts and Davis</h2>\n",
            "<div class=\"content\">\n",
            "    <p>Professional asset web application environmentally friendly detail-oriented asset. Coordinate educational dashboard agile employ growth opportunity. Company programs CSS explore role. Html educational grit web application. Oversea SCRUM talented support. Web Application fast-growing communities inclusive programs job CSS. Css discussions growth opportunity explore open-minded oversee. Css Python environmentally friendly collaborate inclusive role. Django no experience oversee dashboard environmentally friendly willing to learn programs. Programs open-minded programs asset.</p>\n",
            "    <p id=\"location\"><strong>Location:</strong> Stewartbury, AA</p>\n",
            "    <p id=\"date\"><strong>Posted:</strong> 2021-04-08</p>\n",
            "</div>\n",
            "</div>\n",
            "\n",
            "    </div>\n",
            "    </div>\n",
            "  </section>\n",
            "  </body>\n",
            "</html>\n",
            "\n"
          ]
        }
      ],
      "source": [
        "from bs4 import BeautifulSoup # import the package\n",
        "import requests\n",
        "\n",
        "# variable that holds our URL\n",
        "url = \"https://realpython.github.io/fake-jobs/jobs/senior-python-developer-0.html\"\n",
        "\n",
        "# make a request to the URL and extract the HTML text with requests\n",
        "html = requests.get(url).text\n",
        "print(html)"
      ]
    },
    {
      "cell_type": "code",
      "execution_count": 8,
      "metadata": {
        "id": "3tCyZfxEGGq0",
        "outputId": "632dcae1-00ca-46cb-8fa4-c4bb27e821e0",
        "colab": {
          "base_uri": "https://localhost:8080/"
        }
      },
      "outputs": [
        {
          "output_type": "stream",
          "name": "stdout",
          "text": [
            "<!DOCTYPE html>\n",
            "<html>\n",
            " <head>\n",
            "  <meta charset=\"utf-8\"/>\n",
            "  <meta content=\"width=device-width, initial-scale=1\" name=\"viewport\"/>\n",
            "  <title>\n",
            "   Fake Python\n",
            "  </title>\n",
            "  <link href=\"https://cdn.jsdelivr.net/npm/bulma@0.9.2/css/bulma.min.css\" rel=\"stylesheet\"/>\n",
            " </head>\n",
            " <body>\n",
            "  <section class=\"section\">\n",
            "   <div class=\"container mb-5\">\n",
            "    <h1 class=\"title is-1\">\n",
            "     Fake Python\n",
            "    </h1>\n",
            "    <p class=\"subtitle is-3\">\n",
            "     Fake Jobs for Your Web Scraping Journey\n",
            "    </p>\n",
            "   </div>\n",
            "   <div class=\"container\">\n",
            "    <div class=\"columns is-multiline\" id=\"ResultsContainer\">\n",
            "     <div class=\"box\">\n",
            "      <h1 class=\"title is-2\">\n",
            "       Senior Python Developer\n",
            "      </h1>\n",
            "      <h2 class=\"subtitle is-4 company\">\n",
            "       Payne, Roberts and Davis\n",
            "      </h2>\n",
            "      <div class=\"content\">\n",
            "       <p>\n",
            "        Professional asset web application environmentally friendly detail-oriented asset. Coordinate educational dashboard agile employ growth opportunity. Company programs CSS explore role. Html educational grit web application. Oversea SCRUM talented support. Web Application fast-growing communities inclusive programs job CSS. Css discussions growth opportunity explore open-minded oversee. Css Python environmentally friendly collaborate inclusive role. Django no experience oversee dashboard environmentally friendly willing to learn programs. Programs open-minded programs asset.\n",
            "       </p>\n",
            "       <p id=\"location\">\n",
            "        <strong>\n",
            "         Location:\n",
            "        </strong>\n",
            "        Stewartbury, AA\n",
            "       </p>\n",
            "       <p id=\"date\">\n",
            "        <strong>\n",
            "         Posted:\n",
            "        </strong>\n",
            "        2021-04-08\n",
            "       </p>\n",
            "      </div>\n",
            "     </div>\n",
            "    </div>\n",
            "   </div>\n",
            "  </section>\n",
            " </body>\n",
            "</html>\n",
            "\n"
          ]
        }
      ],
      "source": [
        "soup = BeautifulSoup(html, 'html.parser')\n",
        "print(soup.prettify())"
      ]
    },
    {
      "cell_type": "code",
      "source": [
        "soup.body.section.find('h1', class_ = 'title is-2').text"
      ],
      "metadata": {
        "id": "vZOivXRaJGZ1",
        "outputId": "81c000d2-98c9-4e83-c1e4-6ecb89483d6d",
        "colab": {
          "base_uri": "https://localhost:8080/",
          "height": 35
        }
      },
      "execution_count": 6,
      "outputs": [
        {
          "output_type": "execute_result",
          "data": {
            "application/vnd.google.colaboratory.intrinsic+json": {
              "type": "string"
            },
            "text/plain": [
              "'Senior Python Developer'"
            ]
          },
          "metadata": {},
          "execution_count": 6
        }
      ]
    },
    {
      "cell_type": "code",
      "source": [
        "soup.body.find_all('h1')"
      ],
      "metadata": {
        "id": "vFaRdqWLJo2p",
        "outputId": "ad438c8d-b508-4acf-ed17-d4567c8465c7",
        "colab": {
          "base_uri": "https://localhost:8080/"
        }
      },
      "execution_count": 15,
      "outputs": [
        {
          "output_type": "execute_result",
          "data": {
            "text/plain": [
              "[<h1 class=\"title is-1\">\n",
              "         Fake Python\n",
              "       </h1>, <h1 class=\"title is-2\">Senior Python Developer</h1>]"
            ]
          },
          "metadata": {},
          "execution_count": 15
        }
      ]
    },
    {
      "cell_type": "code",
      "source": [
        "for h1 in soup.body.find_all('h1'):\n",
        "  print(h1.text)"
      ],
      "metadata": {
        "id": "3bzaX0aOQMRt",
        "outputId": "2dfb75c0-5bcc-469d-d03f-f91d3d844c7f",
        "colab": {
          "base_uri": "https://localhost:8080/"
        }
      },
      "execution_count": 16,
      "outputs": [
        {
          "output_type": "stream",
          "name": "stdout",
          "text": [
            "\n",
            "        Fake Python\n",
            "      \n",
            "Senior Python Developer\n"
          ]
        }
      ]
    },
    {
      "cell_type": "code",
      "source": [
        "content = soup.body.find('div', class_ = 'content')\n",
        "content"
      ],
      "metadata": {
        "id": "FFDcDAW4Q2D8",
        "outputId": "ebffd2c6-8586-41ca-efbe-579055255ac3",
        "colab": {
          "base_uri": "https://localhost:8080/"
        }
      },
      "execution_count": 35,
      "outputs": [
        {
          "output_type": "execute_result",
          "data": {
            "text/plain": [
              "<div class=\"content\">\n",
              "<p>Professional asset web application environmentally friendly detail-oriented asset. Coordinate educational dashboard agile employ growth opportunity. Company programs CSS explore role. Html educational grit web application. Oversea SCRUM talented support. Web Application fast-growing communities inclusive programs job CSS. Css discussions growth opportunity explore open-minded oversee. Css Python environmentally friendly collaborate inclusive role. Django no experience oversee dashboard environmentally friendly willing to learn programs. Programs open-minded programs asset.</p>\n",
              "<p id=\"location\"><strong>Location:</strong> Stewartbury, AA</p>\n",
              "<p id=\"date\"><strong>Posted:</strong> 2021-04-08</p>\n",
              "</div>"
            ]
          },
          "metadata": {},
          "execution_count": 35
        }
      ]
    },
    {
      "cell_type": "code",
      "source": [
        "for ele in content.find_all('p', id=[\"location\", 'date']):\n",
        "  print(ele.text)"
      ],
      "metadata": {
        "id": "e24GiTxCRY-6",
        "outputId": "ee3b2f81-5b57-4363-941b-99baaf01b192",
        "colab": {
          "base_uri": "https://localhost:8080/"
        }
      },
      "execution_count": 41,
      "outputs": [
        {
          "output_type": "stream",
          "name": "stdout",
          "text": [
            "Location: Stewartbury, AA\n",
            "Posted: 2021-04-08\n"
          ]
        }
      ]
    },
    {
      "cell_type": "code",
      "source": [
        ""
      ],
      "metadata": {
        "id": "8IXeQirBS4kl"
      },
      "execution_count": null,
      "outputs": []
    }
  ],
  "metadata": {
    "interpreter": {
      "hash": "f1a916808f2d29f1a5fbd48aa1cb9129993ca703ecce713879d0cd946e898e32"
    },
    "kernelspec": {
      "display_name": "Python 3.9.7 ('legacy')",
      "language": "python",
      "name": "python3"
    },
    "language_info": {
      "codemirror_mode": {
        "name": "ipython",
        "version": 3
      },
      "file_extension": ".py",
      "mimetype": "text/x-python",
      "name": "python",
      "nbconvert_exporter": "python",
      "pygments_lexer": "ipython3",
      "version": "3.9.7"
    },
    "orig_nbformat": 4,
    "colab": {
      "name": "webscraping.ipynb",
      "provenance": []
    }
  },
  "nbformat": 4,
  "nbformat_minor": 0
}