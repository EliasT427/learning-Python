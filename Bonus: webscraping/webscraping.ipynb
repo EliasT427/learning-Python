{
  "cells": [
    {
      "cell_type": "markdown",
      "metadata": {
        "id": "XLMnudFrGGqx"
      },
      "source": [
        "## websites to scrape\n",
        "* [Simple page](https://dataquestio.github.io/web-scraping-pages/simple.html)\n",
        "* [Another simple page](https://realpython.github.io/fake-jobs/jobs/senior-python-developer-0.html)\n",
        "* [More complex webpage](https://au.indeed.com/software-developer-jobs-in-Australia?vjk=6fcf7af0c601fbca)\n",
        "* [Complex webpage](https://www.pacsun.com/mens/)\n",
        "\n",
        "## [BeautifulSoup documentation](https://beautiful-soup-4.readthedocs.io/en/latest/)"
      ]
    },
    {
      "cell_type": "code",
      "execution_count": 19,
      "metadata": {
        "id": "MPnkbtP-GGq0",
        "outputId": "38031e55-66cb-4192-e08d-f66f6176da40",
        "colab": {
          "base_uri": "https://localhost:8080/"
        }
      },
      "outputs": [
        {
          "output_type": "stream",
          "name": "stdout",
          "text": [
            "<!DOCTYPE html>\n",
            "<html>\n",
            "  <head>\n",
            "    <meta charset=\"utf-8\">\n",
            "    <meta name=\"viewport\" content=\"width=device-width, initial-scale=1\">\n",
            "    <title>Fake Python</title>\n",
            "    <link rel=\"stylesheet\" href=\"https://cdn.jsdelivr.net/npm/bulma@0.9.2/css/bulma.min.css\">\n",
            "  </head>\n",
            "  <body>\n",
            "  <section class=\"section\">\n",
            "    <div class=\"container mb-5\">\n",
            "      <h1 class=\"title is-1\">\n",
            "        Fake Python\n",
            "      </h1>\n",
            "      <p class=\"subtitle is-3\">\n",
            "        Fake Jobs for Your Web Scraping Journey\n",
            "      </p>\n",
            "    </div>\n",
            "    <div class=\"container\">\n",
            "    <div id=\"ResultsContainer\" class=\"columns is-multiline\">\n",
            "    <div class=\"box\">\n",
            "<h1 class=\"title is-2\">Senior Python Developer</h1>\n",
            "<h2 class=\"subtitle is-4 company\">Payne, Roberts and Davis</h2>\n",
            "<div class=\"content\">\n",
            "    <p>Professional asset web application environmentally friendly detail-oriented asset. Coordinate educational dashboard agile employ growth opportunity. Company programs CSS explore role. Html educational grit web application. Oversea SCRUM talented support. Web Application fast-growing communities inclusive programs job CSS. Css discussions growth opportunity explore open-minded oversee. Css Python environmentally friendly collaborate inclusive role. Django no experience oversee dashboard environmentally friendly willing to learn programs. Programs open-minded programs asset.</p>\n",
            "    <p id=\"location\"><strong>Location:</strong> Stewartbury, AA</p>\n",
            "    <p id=\"date\"><strong>Posted:</strong> 2021-04-08</p>\n",
            "</div>\n",
            "</div>\n",
            "\n",
            "    </div>\n",
            "    </div>\n",
            "  </section>\n",
            "  </body>\n",
            "</html>\n",
            "\n"
          ]
        }
      ],
      "source": [
        "from bs4 import BeautifulSoup # import the package\n",
        "import requests\n",
        "\n",
        "# variable that holds our URL\n",
        "url = \"https://realpython.github.io/fake-jobs/jobs/senior-python-developer-0.html\"\n",
        "\n",
        "# make a request to the URL and extract the HTML text with requests\n",
        "html = requests.get(url).text\n",
        "print(html)"
      ]
    },
    {
      "cell_type": "code",
      "execution_count": 22,
      "metadata": {
        "id": "3tCyZfxEGGq0",
        "outputId": "48b7edff-6664-4312-e549-6b6820de3270",
        "colab": {
          "base_uri": "https://localhost:8080/"
        }
      },
      "outputs": [
        {
          "output_type": "stream",
          "name": "stdout",
          "text": [
            "<!DOCTYPE html>\n",
            "<html>\n",
            " <head>\n",
            "  <meta charset=\"utf-8\"/>\n",
            "  <meta content=\"width=device-width, initial-scale=1\" name=\"viewport\"/>\n",
            "  <title>\n",
            "   Fake Python\n",
            "  </title>\n",
            "  <link href=\"https://cdn.jsdelivr.net/npm/bulma@0.9.2/css/bulma.min.css\" rel=\"stylesheet\"/>\n",
            " </head>\n",
            " <body>\n",
            "  <section class=\"section\">\n",
            "   <div class=\"container mb-5\">\n",
            "    <h1 class=\"title is-1\">\n",
            "     Fake Python\n",
            "    </h1>\n",
            "    <p class=\"subtitle is-3\">\n",
            "     Fake Jobs for Your Web Scraping Journey\n",
            "    </p>\n",
            "   </div>\n",
            "   <div class=\"container\">\n",
            "    <div class=\"columns is-multiline\" id=\"ResultsContainer\">\n",
            "     <div class=\"box\">\n",
            "      <h1 class=\"title is-2\">\n",
            "       Senior Python Developer\n",
            "      </h1>\n",
            "      <h2 class=\"subtitle is-4 company\">\n",
            "       Payne, Roberts and Davis\n",
            "      </h2>\n",
            "      <div class=\"content\">\n",
            "       <p>\n",
            "        Professional asset web application environmentally friendly detail-oriented asset. Coordinate educational dashboard agile employ growth opportunity. Company programs CSS explore role. Html educational grit web application. Oversea SCRUM talented support. Web Application fast-growing communities inclusive programs job CSS. Css discussions growth opportunity explore open-minded oversee. Css Python environmentally friendly collaborate inclusive role. Django no experience oversee dashboard environmentally friendly willing to learn programs. Programs open-minded programs asset.\n",
            "       </p>\n",
            "       <p id=\"location\">\n",
            "        <strong>\n",
            "         Location:\n",
            "        </strong>\n",
            "        Stewartbury, AA\n",
            "       </p>\n",
            "       <p id=\"date\">\n",
            "        <strong>\n",
            "         Posted:\n",
            "        </strong>\n",
            "        2021-04-08\n",
            "       </p>\n",
            "      </div>\n",
            "     </div>\n",
            "    </div>\n",
            "   </div>\n",
            "  </section>\n",
            " </body>\n",
            "</html>\n",
            "\n"
          ]
        }
      ],
      "source": [
        "soup = BeautifulSoup(html, 'html.parser')\n",
        "print(soup.prettify())"
      ]
    },
    {
      "cell_type": "code",
      "source": [
        "soup.body.section.find('h1', class_ = 'title is-2')"
      ],
      "metadata": {
        "id": "vZOivXRaJGZ1",
        "outputId": "57f51d9f-4cd6-400b-be1b-60fd6e252f7c",
        "colab": {
          "base_uri": "https://localhost:8080/"
        }
      },
      "execution_count": 27,
      "outputs": [
        {
          "output_type": "execute_result",
          "data": {
            "text/plain": [
              "<h1 class=\"title is-2\">Senior Python Developer</h1>"
            ]
          },
          "metadata": {},
          "execution_count": 27
        }
      ]
    },
    {
      "cell_type": "code",
      "source": [
        ""
      ],
      "metadata": {
        "id": "vFaRdqWLJo2p"
      },
      "execution_count": null,
      "outputs": []
    }
  ],
  "metadata": {
    "interpreter": {
      "hash": "f1a916808f2d29f1a5fbd48aa1cb9129993ca703ecce713879d0cd946e898e32"
    },
    "kernelspec": {
      "display_name": "Python 3.9.7 ('legacy')",
      "language": "python",
      "name": "python3"
    },
    "language_info": {
      "codemirror_mode": {
        "name": "ipython",
        "version": 3
      },
      "file_extension": ".py",
      "mimetype": "text/x-python",
      "name": "python",
      "nbconvert_exporter": "python",
      "pygments_lexer": "ipython3",
      "version": "3.9.7"
    },
    "orig_nbformat": 4,
    "colab": {
      "name": "webscraping.ipynb",
      "provenance": []
    }
  },
  "nbformat": 4,
  "nbformat_minor": 0
}