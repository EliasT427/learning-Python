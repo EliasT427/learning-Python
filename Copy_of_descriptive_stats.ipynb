{
  "nbformat": 4,
  "nbformat_minor": 0,
  "metadata": {
    "interpreter": {
      "hash": "aee8b7b246df8f9039afb4144a1f6fd8d2ca17a180786b69acc140d282b71a49"
    },
    "kernelspec": {
      "display_name": "Python 3.10.0 64-bit",
      "language": "python",
      "name": "python3"
    },
    "language_info": {
      "codemirror_mode": {
        "name": "ipython",
        "version": 3
      },
      "file_extension": ".py",
      "mimetype": "text/x-python",
      "name": "python",
      "nbconvert_exporter": "python",
      "pygments_lexer": "ipython3",
      "version": "3.10.0"
    },
    "orig_nbformat": 4,
    "colab": {
      "name": "Copy of descriptive stats.ipynb",
      "provenance": [],
      "include_colab_link": true
    }
  },
  "cells": [
    {
      "cell_type": "markdown",
      "metadata": {
        "id": "view-in-github",
        "colab_type": "text"
      },
      "source": [
        "<a href=\"https://colab.research.google.com/github/EliasT427/learning-Python/blob/main/Copy_of_descriptive_stats.ipynb\" target=\"_parent\"><img src=\"https://colab.research.google.com/assets/colab-badge.svg\" alt=\"Open In Colab\"/></a>"
      ]
    },
    {
      "cell_type": "markdown",
      "metadata": {
        "id": "13vFWwE8LWjY"
      },
      "source": [
        "# Instructions \n",
        "Below is a dataset consisting of country data. Your task is to analyze the data to create the following report.\n",
        "* Country with the highest population and the total number of people\n",
        "* Country with the lowest population and the total number of people\n",
        "* The average Population (Try out the [sum](https://www.programiz.com/python-programming/methods/built-in/sum) function for this)\n",
        "* The total population\n",
        "* The population range (max population - min population)\n",
        "* Which country has a population closest to the average\n",
        "\n",
        "### Example output \n",
        "```\n",
        "China: 1439323776\n",
        "France: 67886231\n",
        "Average Population: 890324555\n",
        "Total Population: 4562679231\n",
        "Population Range: 1371437542\n",
        "```\n"
      ]
    },
    {
      "cell_type": "code",
      "metadata": {
        "id": "1ka5_yy5LWje"
      },
      "source": [
        "data = [\n",
        "    (\"USA\", 331002651 ),\n",
        "    (\"India\", 1380004385 ),\n",
        "    (\"Brazil\", 212559417),\n",
        "    (\"Nigeria\", 206139589 ),\n",
        "    (\"Mexico\", 128932753),\n",
        "    (\"China\", 1439323776),\n",
        "    (\"Russia\", 145934462),\n",
        "    (\"Iran\", 83992949),\n",
        "    (\"Elmos world\", 1039894432 ),\n",
        "    (\"Egypt\", 102334404),\n",
        "    (\"UK\", 67886231 ),\n",
        "]"
      ],
      "execution_count": null,
      "outputs": []
    },
    {
      "cell_type": "code",
      "metadata": {
        "id": "pjG5uNMpLah0",
        "colab": {
          "base_uri": "https://localhost:8080/"
        },
        "outputId": "5fb287bc-8303-4dbf-e3a9-a63b75bcff12"
      },
      "source": [
        "max_pop_val = 0\n",
        "max_pop_country = ''\n",
        "min_pop_country = ''\n",
        "min_pop_val = 0\n",
        "average_pop = 0\n",
        "total_pop = 0\n",
        "closest_to_average = ''\n",
        "pop_range = 0 \n",
        "\n",
        "for count_pop in data:\n",
        "  if max_pop_val < count_pop[-1]:\n",
        "    max_pop_val = count_pop[-1]\n",
        "    max_pop_country = count_pop[0]\n",
        "  total_pop = sum([total[-1] for total in data])\n",
        "  min_pop_val = max_pop_val\n",
        "for count_pop in data:\n",
        "  if min_pop_val > count_pop[-1]:\n",
        "    min_pop_val = count_pop[-1]\n",
        "    min_pop_country = count_pop[0]\n",
        "average_pop = total_pop / len(data)\n",
        "pop_range = max_pop_val - min_pop_val\n",
        "min_dif_average = abs(average_pop - max_pop_val)\n",
        "for count_pop in data:\n",
        "  if min_dif_average > abs(average_pop - count_pop[-1]):\n",
        "    min_dif_average = abs(average_pop - count_pop[-1])\n",
        "    min_dif_average_country = count_pop[0]\n",
        "print(f'{max_pop_country}: {max_pop_val} \\n{min_pop_country}: {min_pop_val} \\nAverage population: {int(average_pop)} \\nTotal population: {total_pop} \\nPopulation range: {pop_range}')\n",
        "\n"
      ],
      "execution_count": null,
      "outputs": [
        {
          "output_type": "stream",
          "name": "stdout",
          "text": [
            "China: 1439323776 \n",
            "UK: 67886231 \n",
            "Average population: 467091368 \n",
            "Total population: 5138005049 \n",
            "Population range: 1371437545\n"
          ]
        }
      ]
    },
    {
      "cell_type": "code",
      "metadata": {
        "id": "DkB9gd0LT8T_"
      },
      "source": [
        ""
      ],
      "execution_count": null,
      "outputs": []
    }
  ]
}