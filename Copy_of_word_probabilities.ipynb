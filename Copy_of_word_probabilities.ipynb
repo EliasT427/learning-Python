{
  "cells": [
    {
      "cell_type": "markdown",
      "metadata": {
        "id": "view-in-github",
        "colab_type": "text"
      },
      "source": [
        "<a href=\"https://colab.research.google.com/github/EliasT427/learning-Python/blob/main/Copy_of_word_probabilities.ipynb\" target=\"_parent\"><img src=\"https://colab.research.google.com/assets/colab-badge.svg\" alt=\"Open In Colab\"/></a>"
      ]
    },
    {
      "cell_type": "markdown",
      "metadata": {
        "id": "p3pc2CFbSxU5"
      },
      "source": [
        "# Instructions \n",
        "Given a list of 150 random words create a dictionary with the chance of each word occuring, then have the user input a word from the list and return the probability of it occuring.\n",
        "\n",
        "### Example\n",
        "```\n",
        "{'imposter': 16,\n",
        " 'thot': 22,\n",
        " 'friday': 24,\n",
        " 'eminent': 28,\n",
        " 'chance': 24,\n",
        " 'yesterday': 17,\n",
        " 'help': 19}\n",
        "\n",
        "Enter a word: Thought\n",
        "word not in list, try again.\n",
        "\n",
        "Enter a word: imposter\n",
        "the probability of imposter is 8%\n",
        " ```\n",
        "\n",
        "\n"
      ]
    },
    {
      "cell_type": "code",
      "execution_count": null,
      "metadata": {
        "id": "gEX2ediASxU6"
      },
      "outputs": [],
      "source": [
        "from random import choice\n",
        "words = [choice([\n",
        "    \"chance\",\n",
        "    \"eminent\",\n",
        "    \"imposter\",\n",
        "    \"help\",\n",
        "    \"thot\",\n",
        "    \"friday\",\n",
        "    \"yesterday\"\n",
        "]) for _ in range(150)]\n",
        "\n",
        "counts = {word: words.count(word) for word in set(words)}"
      ]
    },
    {
      "cell_type": "code",
      "execution_count": null,
      "metadata": {
        "id": "ZGM8RC64CA7U"
      },
      "outputs": [],
      "source": [
        "#TODO Code goes here\n",
        "\n",
        "\n",
        "while 1>0:\n",
        "  person_input = input('what word do you want to search for, if youd like to stop type \"stop\"').lower()\n",
        "  if person_input == 'stop':\n",
        "    break\n",
        "  elif person_input in counts:\n",
        "    print(counts[person_input]/150 * 100)\n"
      ]
    },
    {
      "cell_type": "code",
      "source": [
        "counts"
      ],
      "metadata": {
        "id": "FckZD3oFDlE9",
        "outputId": "c8c088a7-3539-47df-fc52-566e212f2ccd",
        "colab": {
          "base_uri": "https://localhost:8080/"
        }
      },
      "execution_count": null,
      "outputs": [
        {
          "output_type": "execute_result",
          "data": {
            "text/plain": [
              "{'chance': 17,\n",
              " 'eminent': 19,\n",
              " 'friday': 23,\n",
              " 'help': 20,\n",
              " 'imposter': 24,\n",
              " 'thot': 23,\n",
              " 'yesterday': 24}"
            ]
          },
          "metadata": {},
          "execution_count": 38
        }
      ]
    }
  ],
  "metadata": {
    "colab": {
      "name": "Copy of word probabilities.ipynb",
      "provenance": [],
      "include_colab_link": true
    },
    "interpreter": {
      "hash": "f1a916808f2d29f1a5fbd48aa1cb9129993ca703ecce713879d0cd946e898e32"
    },
    "kernelspec": {
      "display_name": "Python 3.9.7 64-bit ('legacy': conda)",
      "language": "python",
      "name": "python3"
    },
    "language_info": {
      "codemirror_mode": {
        "name": "ipython",
        "version": 3
      },
      "file_extension": ".py",
      "mimetype": "text/x-python",
      "name": "python",
      "nbconvert_exporter": "python",
      "pygments_lexer": "ipython3",
      "version": "3.9.7"
    },
    "orig_nbformat": 4
  },
  "nbformat": 4,
  "nbformat_minor": 0
}