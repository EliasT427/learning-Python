{
  "nbformat": 4,
  "nbformat_minor": 0,
  "metadata": {
    "orig_nbformat": 4,
    "colab": {
      "name": "Copy of hills and valleys.ipynb",
      "provenance": [],
      "collapsed_sections": [],
      "include_colab_link": true
    },
    "language_info": {
      "name": "python"
    },
    "kernelspec": {
      "name": "python3",
      "display_name": "Python 3"
    }
  },
  "cells": [
    {
      "cell_type": "markdown",
      "metadata": {
        "id": "view-in-github",
        "colab_type": "text"
      },
      "source": [
        "<a href=\"https://colab.research.google.com/github/EliasT427/learning-Python/blob/main/Copy_of_hills_and_valleys.ipynb\" target=\"_parent\"><img src=\"https://colab.research.google.com/assets/colab-badge.svg\" alt=\"Open In Colab\"/></a>"
      ]
    },
    {
      "cell_type": "markdown",
      "metadata": {
        "id": "YZ2wQyykplvS"
      },
      "source": [
        "An avid hiker keeps meticulous records of their hikes. During the last hike that took exactly ***x*** steps, for every step it was noted ***U*** if it was an uphill, or a ***D*** if it was downhill step. Hikes always start and end at sea level, and each step up or down represents a ***1*** unit change in altitude. We define the following terms:\n",
        "\n",
        "* A mountain is a sequence of consecutive steps above sea level, starting with a step up from sea level and ending with a step down to sea level.\n",
        "* A valley is a sequence of consecutive steps below sea level, starting with a step down from sea level and ending with a step up to sea level.\n",
        "\n",
        "Given the sequence of up and down steps during a hike, find and print the number of valleys walked through.\n",
        "\n",
        "## Example\n",
        "`steps =  [D, D, U, U, U, U, D, D]`\n",
        "\n",
        "The hiker first enters a valley ***2*** units deep. Then they climb out and up onto a mountain ***2*** units high. Finally, the hiker returns to sea level and ends the hike.\n",
        "\n",
        "If we represent _ as sea level, a step up as /, and a step down as \\, the hike can be drawn as:\n",
        "\n",
        "```\n",
        "      /\\\n",
        "_    /  \\_\n",
        " \\  /\n",
        "  \\/     \n",
        "```      \n",
        "`The hiker enters and leaves 1 valley and 1 mountain.`\n",
        "\n",
        "***Hint: keep track of when the hiker crosses the sea level as wll as thier current altitude.***\n"
      ]
    },
    {
      "cell_type": "code",
      "metadata": {
        "id": "JdbZt5yfplvU",
        "colab": {
          "base_uri": "https://localhost:8080/"
        },
        "outputId": "39718c4e-2f8a-491e-8c59-d4100b8880e3"
      },
      "source": [
        "path1 = [\"D\", \"D\", \"U\", \"U\", \"U\", \"U\", \"D\", \"D\"]\n",
        "path2 = [\"D\", \"D\", \"U\", \"U\", \"U\", \"U\", \"D\", \"D\", \"D\", \"D\", \"U\"]\n",
        "path3 = [\"U\", \"U\", \"D\", \"D\", \"U\", \"U\", \"D\", \"D\", \"D\", \"D\", \"D\", \"D\", \"U\", \"U\", \"U\", \"U\"]\n",
        "\n",
        "at_sea_level = True\n",
        "paths = (path1, path2, path3)\n",
        "#TODO count the hills and valleys\n",
        "for path in paths:\n",
        "  altitude = 0\n",
        "  hills = 0\n",
        "  valleys = 0\n",
        "  for step in path:\n",
        "    if altitude == 0:\n",
        "      at_sea_level = True\n",
        "    if step == 'D':\n",
        "      altitude = altitude - 1\n",
        "      if (altitude<0) and (at_sea_level == True):\n",
        "        valleys = valleys + 1\n",
        "        at_sea_level = False\n",
        "    if step == 'U':\n",
        "      altitude = altitude + 1\n",
        "      if (altitude>0) and (at_sea_level == True):\n",
        "        hills = hills + 1\n",
        "        at_sea_level = False\n",
        "  print(f'the hiker enters and leaves {valleys} valleys and {hills} mountains')\n",
        "\n",
        "  \n",
        "\n",
        "\n",
        "\n",
        "#create a loop to loop through the paths\n",
        "\n",
        "#create a way to track how many Ds or Us\n"
      ],
      "execution_count": 6,
      "outputs": [
        {
          "output_type": "stream",
          "name": "stdout",
          "text": [
            "the hiker enters and leaves 1 valleys and 1 mountains\n",
            "the hiker enters and leaves 2 valleys and 1 mountains\n",
            "the hiker enters and leaves 1 valleys and 2 mountains\n"
          ]
        }
      ]
    }
  ]
}