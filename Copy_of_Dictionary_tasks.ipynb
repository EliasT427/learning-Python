{
  "nbformat": 4,
  "nbformat_minor": 0,
  "metadata": {
    "orig_nbformat": 4,
    "colab": {
      "name": "Copy of Dictionary_tasks.ipynb",
      "provenance": [],
      "collapsed_sections": [],
      "include_colab_link": true
    },
    "language_info": {
      "name": "python"
    },
    "kernelspec": {
      "name": "python3",
      "display_name": "Python 3"
    }
  },
  "cells": [
    {
      "cell_type": "markdown",
      "metadata": {
        "id": "view-in-github",
        "colab_type": "text"
      },
      "source": [
        "<a href=\"https://colab.research.google.com/github/EliasT427/learning-Python/blob/main/Copy_of_Dictionary_tasks.ipynb\" target=\"_parent\"><img src=\"https://colab.research.google.com/assets/colab-badge.svg\" alt=\"Open In Colab\"/></a>"
      ]
    },
    {
      "cell_type": "markdown",
      "metadata": {
        "id": "jj598watez6Q"
      },
      "source": [
        "# PART 1 Tasks\n",
        "---"
      ]
    },
    {
      "cell_type": "markdown",
      "metadata": {
        "id": "uOT8pKOQez6R"
      },
      "source": [
        "# TASK 1\n",
        "Create a dictionary where the keys are numbers and the values are equal to the number squared"
      ]
    },
    {
      "cell_type": "code",
      "metadata": {
        "id": "ajRkaV1Oez6R",
        "colab": {
          "base_uri": "https://localhost:8080/"
        },
        "outputId": "4fe0fbdc-034a-46cb-ca97-19d9b0dbfd52"
      },
      "source": [
        "#TODO\n",
        "keys = [1,2,3,4,5,6,7]\n",
        "data = {}\n",
        "for key in keys:\n",
        "  data[key] = key**2\n",
        "data"
      ],
      "execution_count": null,
      "outputs": [
        {
          "output_type": "execute_result",
          "data": {
            "text/plain": [
              "{1: 1, 2: 4, 3: 9, 4: 16, 5: 25, 6: 36, 7: 49}"
            ]
          },
          "metadata": {},
          "execution_count": 7
        }
      ]
    },
    {
      "cell_type": "markdown",
      "metadata": {
        "id": "N9ofOF2Kez6R"
      },
      "source": [
        "# TASK 2\n",
        "Using the dictionary from Task 1, loop through the keys to print out all the values."
      ]
    },
    {
      "cell_type": "code",
      "metadata": {
        "id": "DpDs6b0Eez6R",
        "colab": {
          "base_uri": "https://localhost:8080/"
        },
        "outputId": "91d5a759-b1b3-46dc-8c1c-9375dcea69bb"
      },
      "source": [
        "#TODO\n",
        "for numbers in data:\n",
        "  print(data[numbers])"
      ],
      "execution_count": null,
      "outputs": [
        {
          "output_type": "stream",
          "name": "stdout",
          "text": [
            "1\n",
            "4\n",
            "9\n",
            "16\n",
            "25\n",
            "36\n",
            "49\n"
          ]
        }
      ]
    },
    {
      "cell_type": "markdown",
      "metadata": {
        "id": "_253Qr5wez6R"
      },
      "source": [
        "# TASK 3\n",
        "create a dictionary called `temperature` with the keys `low, medium, high`. Try and access the key `extreme`, which should result in an error. Resolve this error by having the dictionary return \"Extreme not in temperature\"."
      ]
    },
    {
      "cell_type": "code",
      "metadata": {
        "id": "cNFJZD9fez6R",
        "colab": {
          "base_uri": "https://localhost:8080/",
          "height": 35
        },
        "outputId": "3248ed0d-2731-48e2-ff7a-2c8408e46f96"
      },
      "source": [
        "#TODO\n",
        "temperature = {\n",
        "    'low': 1,\n",
        "    \"medium\": 2,\n",
        "    'high': 3\n",
        "}\n",
        "key = 'extreme'\n",
        "default = f'{key} was not found'\n",
        "temperature.get(key, default)"
      ],
      "execution_count": null,
      "outputs": [
        {
          "output_type": "execute_result",
          "data": {
            "application/vnd.google.colaboratory.intrinsic+json": {
              "type": "string"
            },
            "text/plain": [
              "'extreme was not found'"
            ]
          },
          "metadata": {},
          "execution_count": 12
        }
      ]
    },
    {
      "cell_type": "markdown",
      "metadata": {
        "id": "ErABLKpxez6R"
      },
      "source": [
        "# TASK 4\n",
        "***Below is a dictionary with words as the keys and `None` as the value. You are also provided with a list that contains all of the keys in the dictionary, plus a few extra.*** \n",
        "\n",
        "Your task is to loop through the list and check if the key is present in the dictionary.\n",
        "- If the key is present, update the value to be equal to the length of the word\n",
        "- If the key is not present, add the key to the dictionary and set the value equal to the length of the word\n",
        "\n",
        "### ***Example Input***\n",
        "\n",
        "`d = {'Hello':None, \"world\": None}`\n",
        "\n",
        "`l = [\"hello\", \"world\", \"good\", \"day\"]`\n",
        "### ***Expected output***\n",
        "`print(d) -> {'Hello':5, \"world\": 5, \"good\": 4, \"day\": 3}`\n",
        "\n"
      ]
    },
    {
      "cell_type": "code",
      "metadata": {
        "id": "V4gpW0rIez6S",
        "colab": {
          "base_uri": "https://localhost:8080/"
        },
        "outputId": "9ba63105-c3a8-48d9-c7bd-888978a3be84"
      },
      "source": [
        "d = {\n",
        "    \"green\": None,\n",
        "    \"eggs\": None\n",
        "}\n",
        "\n",
        "l = [\n",
        "    \"green\",\n",
        "    \"eggs\",\n",
        "    \"and\",\n",
        "    \"ham\"\n",
        "]\n",
        "\n",
        "#TODO: update the dictionary to add all of the elements from the list as keys, and the length of each element as the values\n",
        "for words in l:\n",
        "  if words in d:\n",
        "    d[words] = len(words)\n",
        "  if words not in d:\n",
        "    d[words] = len(words)\n",
        "d"
      ],
      "execution_count": null,
      "outputs": [
        {
          "output_type": "execute_result",
          "data": {
            "text/plain": [
              "{'and': 3, 'eggs': 4, 'green': 5, 'ham': 3}"
            ]
          },
          "metadata": {},
          "execution_count": 17
        }
      ]
    },
    {
      "cell_type": "markdown",
      "metadata": {
        "id": "r_O2n7ozez6S"
      },
      "source": [
        "# TASK 5\n",
        "Create a dictionary where a color are the keys and the values are a list of objects that are that color. For example,\n",
        "`\"red\": [\"stop sign\", \"red pepper\", \"blood\"]`. Then write a for loop to print each key, and another for loop inside the first one to print each value.\n",
        "\n",
        "### **Example Output**\n",
        "```python\n",
        "{\n",
        "    'red':[\"stop sign\", \"red pepper\", \"blood\"],\n",
        "    'blue': ['sky', 'water', 'blueberry']\n",
        "}\n",
        "\n",
        "# output\n",
        "red\n",
        "    stop sign \n",
        "    red pepper\n",
        "    blood\n",
        "\n",
        "blue \n",
        "    sky\n",
        "    water\n",
        "    blueberry\n",
        "```\n",
        "\n",
        "***HINT: May need to use nested for loops***"
      ]
    },
    {
      "cell_type": "code",
      "metadata": {
        "id": "isGePu39ez6S",
        "colab": {
          "base_uri": "https://localhost:8080/"
        },
        "outputId": "0b0746b9-4f51-4fad-d400-24475900d122"
      },
      "source": [
        "#TODO\n",
        "colors = {\n",
        "    'red':[\"stop sign\", \"red pepper\", \"blood\"],\n",
        "    'blue': ['sky', 'water', 'blueberry']\n",
        "}\n",
        "for color in colors:\n",
        "  print(color)\n",
        "  for each_thing in colors[color]:\n",
        "    print(each_thing)"
      ],
      "execution_count": null,
      "outputs": [
        {
          "output_type": "stream",
          "name": "stdout",
          "text": [
            "red\n",
            "stop sign\n",
            "red pepper\n",
            "blood\n",
            "blue\n",
            "sky\n",
            "water\n",
            "blueberry\n"
          ]
        }
      ]
    }
  ]
}