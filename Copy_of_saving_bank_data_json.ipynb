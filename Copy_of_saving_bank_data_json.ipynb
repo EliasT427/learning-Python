{
  "cells": [
    {
      "cell_type": "markdown",
      "metadata": {
        "id": "view-in-github",
        "colab_type": "text"
      },
      "source": [
        "<a href=\"https://colab.research.google.com/github/EliasT427/learning-Python/blob/main/Copy_of_saving_bank_data_json.ipynb\" target=\"_parent\"><img src=\"https://colab.research.google.com/assets/colab-badge.svg\" alt=\"Open In Colab\"/></a>"
      ]
    },
    {
      "cell_type": "markdown",
      "metadata": {
        "id": "MCDrtYwX5nag"
      },
      "source": [
        "# Instructions \n",
        "In this version of the project you are tasked with using the previous code from your bank project (`Functional Accounts`) but adding the functionality for users to save data. This will allow you to have multiple users at a bank and each user can login to their own accounts.\n",
        "\n",
        "## New functions\n",
        "- `Create account`: allows users to create an account (required for all users before they have access to the bank)\n",
        "    * `username`: the username of the account being created. This will also be the name of the file used to save the data\n",
        "    * `password`: the password used to verify the users account\n",
        "    * `data`: All account names and balances for that users account\n",
        "- `logout`: allows users to logout of their account and all account balances will be saved\n",
        "    * will save the current state of the users account\n",
        "- `login`: will use the username to locate the file and load the previous state of the users account\n",
        "    * `username`: used to locate the file\n",
        "    * `password`: Used to log the user into the account\n",
        "- `change password`: allows the user to change their password\n",
        "- `delete account`: allows the user to delete their account which will delete the file. See how to delete files [here](https://www.w3schools.com/python/python_file_remove.asp)\n",
        "\n",
        "***Use your knowledge of handling exceptions to catch any errors that may occur.***"
      ]
    },
    {
      "cell_type": "code",
      "execution_count": null,
      "metadata": {
        "id": "ilVdTY4T5naj"
      },
      "outputs": [],
      "source": [
        "import os\n",
        "\n",
        "def withdraw(amount, account):\n",
        "  if accounts[account] >= amount:\n",
        "    print(f'You have withdrew {amount}$')\n",
        "    accounts[account] = accounts[account] - amount\n",
        "    print(accounts)\n",
        "    return accounts[account]\n",
        "  else:\n",
        "    print('You do not have the necessary funds')\n",
        "\n",
        "def deposit(amount, account):\n",
        "  if accounts[account] <= amount:\n",
        "    print(f'You have deposited {amount}$')\n",
        "    accounts[account] = accounts[account] + amount\n",
        "    print(accounts)\n",
        "    return accounts[account]\n",
        "\n",
        "def add_account(account_name):\n",
        "  accounts[account_name] = 0\n",
        "  print(accounts)\n",
        "  return accounts[account_name]\n",
        "\n",
        "def remove_account(account, transfer):\n",
        "  accounts[transfer] = accounts[transfer] + accounts[account]\n",
        "  accounts.pop(account)\n",
        "  print(accounts)\n",
        "  return accounts[transfer]\n",
        "\n",
        "def transfer_money(amount, account, transfer_account):\n",
        "  if accounts[account] >= amount:\n",
        "    accounts[transfer_account] = accounts[transfer_account] + amount\n",
        "    accounts[account] = accounts[account] - amount\n",
        "    print(accounts)\n",
        "    return accounts\n",
        "\n",
        "def filter(amount):\n",
        "  for i in accounts:\n",
        "    if accounts[i] > amount:\n",
        "      print(i)\n",
        "  return \n",
        "\n",
        "def create_acc(user, password):\n",
        "  if not os.path.isdir('/accounts'):\n",
        "    os.makedirs('/content/accounts')\n",
        "  else: print('account exists')\n",
        "\n",
        "def help_me():\n",
        "  directory = os.getcwd()\n",
        "  if directory != '/content':\n",
        "    os.chdir('/content')\n",
        "  else: print(\"you're fine suck it up\")"
      ]
    },
    {
      "cell_type": "code",
      "source": [
        "accounts = {\n",
        "    'checkings': 50\n",
        "}\n",
        "while True:\n",
        "  type_input = input('What type of transaction would you like to do? ').lower()\n",
        "  if type_input == 'break':\n",
        "    print('Goodbye')\n",
        "    break\n",
        "  elif type_input == 'withdraw':\n",
        "    amount = int(input('How much do you want to withdraw '))\n",
        "    account = input('What account do you want to withdraw this from ').lower()\n",
        "    withdraw(amount, account)\n",
        "  elif type_input == 'deposit':\n",
        "    amount = int(input('How much do you want to deposit '))\n",
        "    account = input('What account do you want to deposit this to ').lower()\n",
        "    deposit(amount, account)\n",
        "  elif type_input == 'add account':\n",
        "    account_name = input('what do you want the account to be named? ').lower()\n",
        "    add_account(account_name)\n",
        "  elif type_input == 'info':\n",
        "    print(accounts)\n",
        "  elif type_input == 'remove account':\n",
        "    account = input('What account do you want to remove ').lower()\n",
        "    transfer = input('What account do you want to transfer the money to ').lower()\n",
        "    remove_account(account, transfer)\n",
        "  elif type_input == 'transfer':\n",
        "    amount = int(input('how much would you like to transfer '))\n",
        "    account = input('what account do you want to transfer the money from ').lower()\n",
        "    transfer_account = input('what account do you want to transfer the money to ').lower()\n",
        "    transfer_money(amount, account, transfer_account)\n",
        "  elif type_input == 'filter':\n",
        "    amount = int(input('What amount do you want the filter to be '))\n",
        "    filter(amount)"
      ],
      "metadata": {
        "id": "-vuWCjjq5xXe"
      },
      "execution_count": null,
      "outputs": []
    },
    {
      "cell_type": "code",
      "source": [
        "create_acc(1,1)"
      ],
      "metadata": {
        "id": "6yvD0WmR7liM"
      },
      "execution_count": null,
      "outputs": []
    },
    {
      "cell_type": "code",
      "source": [
        "help_me()"
      ],
      "metadata": {
        "id": "BBhoUnto7z_L",
        "outputId": "7a272862-200d-4294-b40d-afcfebd1b368",
        "colab": {
          "base_uri": "https://localhost:8080/"
        }
      },
      "execution_count": null,
      "outputs": [
        {
          "output_type": "stream",
          "name": "stdout",
          "text": [
            "you're fine suck it up\n"
          ]
        }
      ]
    },
    {
      "cell_type": "code",
      "source": [
        "os.chdir('..')"
      ],
      "metadata": {
        "id": "Ntt-v2Sd8tl4"
      },
      "execution_count": null,
      "outputs": []
    },
    {
      "cell_type": "code",
      "source": [
        ""
      ],
      "metadata": {
        "id": "jhWhB7RQ9i8R"
      },
      "execution_count": null,
      "outputs": []
    }
  ],
  "metadata": {
    "language_info": {
      "name": "python"
    },
    "orig_nbformat": 4,
    "colab": {
      "name": "Copy of saving_bank_data_json.ipynb",
      "provenance": [],
      "include_colab_link": true
    },
    "kernelspec": {
      "name": "python3",
      "display_name": "Python 3"
    }
  },
  "nbformat": 4,
  "nbformat_minor": 0
}