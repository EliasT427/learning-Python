{
  "nbformat": 4,
  "nbformat_minor": 0,
  "metadata": {
    "interpreter": {
      "hash": "fd61235da8d855c081cbd5d7c6398e4c179a40a950675235256f7f30499f1124"
    },
    "kernelspec": {
      "display_name": "Python 3.7.4 64-bit ('base': conda)",
      "name": "python3"
    },
    "language_info": {
      "codemirror_mode": {
        "name": "ipython",
        "version": 3
      },
      "file_extension": ".py",
      "mimetype": "text/x-python",
      "name": "python",
      "nbconvert_exporter": "python",
      "pygments_lexer": "ipython3",
      "version": "3.7.4"
    },
    "orig_nbformat": 4,
    "colab": {
      "name": "Copy of lists tasks.ipynb",
      "provenance": [],
      "collapsed_sections": [],
      "include_colab_link": true
    }
  },
  "cells": [
    {
      "cell_type": "markdown",
      "metadata": {
        "id": "view-in-github",
        "colab_type": "text"
      },
      "source": [
        "<a href=\"https://colab.research.google.com/github/EliasT427/learning-Python/blob/main/Copy_of_lists_tasks.ipynb\" target=\"_parent\"><img src=\"https://colab.research.google.com/assets/colab-badge.svg\" alt=\"Open In Colab\"/></a>"
      ]
    },
    {
      "cell_type": "markdown",
      "metadata": {
        "id": "3oMH2DYr1CV-"
      },
      "source": [
        "# TASK 1\n",
        "use negative indexing to return the 3rd value in the list\n",
        "--"
      ]
    },
    {
      "cell_type": "code",
      "metadata": {
        "id": "R5xVl7y71CWC",
        "colab": {
          "base_uri": "https://localhost:8080/",
          "height": 35
        },
        "outputId": "5d328c3f-d4f4-4420-ffb7-5049646db2f8"
      },
      "source": [
        "var = [\"I\", \"am\", \"the\", \"third\", \"index\"]\n",
        "#TODO\n",
        "var[-3]"
      ],
      "execution_count": null,
      "outputs": [
        {
          "output_type": "execute_result",
          "data": {
            "application/vnd.google.colaboratory.intrinsic+json": {
              "type": "string"
            },
            "text/plain": [
              "'the'"
            ]
          },
          "metadata": {},
          "execution_count": 1
        }
      ]
    },
    {
      "cell_type": "markdown",
      "metadata": {
        "id": "Av1tey141CWD"
      },
      "source": [
        "# TASK 2\n",
        "Slice the list so that the following gets returned:\n",
        "`[(5, 10), (11, -2), (8, -12)]`\n",
        "--"
      ]
    },
    {
      "cell_type": "code",
      "metadata": {
        "id": "-WHN5Kv21CWD",
        "colab": {
          "base_uri": "https://localhost:8080/"
        },
        "outputId": "cd199464-858b-4082-9dd1-6e66f4044bd7"
      },
      "source": [
        "points = [(23, 56),  (5, 10), (11, -2), (8, -12),  (-5, -5), (0, 4)]\n",
        "#TODO\n",
        "points[1:4]"
      ],
      "execution_count": null,
      "outputs": [
        {
          "output_type": "execute_result",
          "data": {
            "text/plain": [
              "[(5, 10), (11, -2), (8, -12)]"
            ]
          },
          "metadata": {},
          "execution_count": 4
        }
      ]
    },
    {
      "cell_type": "markdown",
      "metadata": {
        "id": "1FhyWVFI1CWD"
      },
      "source": [
        "# TASK 3\n",
        "Slice the list so that everything after the 3rd position gets returned.\n",
        "--"
      ]
    },
    {
      "cell_type": "code",
      "metadata": {
        "id": "5j4OO0Ns1CWE",
        "colab": {
          "base_uri": "https://localhost:8080/"
        },
        "outputId": "fd7342b9-4226-4512-f95b-f7af93b0fdb3"
      },
      "source": [
        "prices = [4.99, 3.50, 99.99, 10.00, 5.85, 6.90, .25, 55.00]\n",
        "#TODO\n",
        "prices[2:]"
      ],
      "execution_count": null,
      "outputs": [
        {
          "output_type": "execute_result",
          "data": {
            "text/plain": [
              "[99.99, 10.0, 5.85, 6.9, 0.25, 55.0]"
            ]
          },
          "metadata": {},
          "execution_count": 5
        }
      ]
    },
    {
      "cell_type": "markdown",
      "metadata": {
        "id": "65Zn5gWB1CWF"
      },
      "source": [
        "# TASK 4\n",
        "Slice the string so that the following gets returned: **\"Battery life\"**\n",
        "---"
      ]
    },
    {
      "cell_type": "code",
      "metadata": {
        "id": "SoI408Oi1CWG",
        "colab": {
          "base_uri": "https://localhost:8080/",
          "height": 35
        },
        "outputId": "a7643e09-b0ba-4d9b-e911-55f7ac0b3bac"
      },
      "source": [
        "message = \"Amazing battery life. And a 14‑inch or 16‑inch Liquid Retina XDR display.\"\n",
        "#TODO\n",
        "message[8:20]"
      ],
      "execution_count": null,
      "outputs": [
        {
          "output_type": "execute_result",
          "data": {
            "application/vnd.google.colaboratory.intrinsic+json": {
              "type": "string"
            },
            "text/plain": [
              "'battery life'"
            ]
          },
          "metadata": {},
          "execution_count": 10
        }
      ]
    },
    {
      "cell_type": "markdown",
      "metadata": {
        "id": "hyye6cZV1CWG"
      },
      "source": [
        "# TASK 5\n",
        "In this example we have a list of words and we want to create a new list with only the last character from each word. Convert the for loop that does this below into a list comprehension.\n",
        "---"
      ]
    },
    {
      "cell_type": "code",
      "metadata": {
        "id": "oMljzYDC1CWH",
        "colab": {
          "base_uri": "https://localhost:8080/"
        },
        "outputId": "1f46ff52-7c4b-42d0-b76b-98a210071420"
      },
      "source": [
        "var = [\"Hello\", \"Washburn\", \"big\", \"banana\", \"saw\", \"dad\"]\n",
        "new = []\n",
        "for word in var:\n",
        "    new.append(word[-1])\n",
        "\n",
        "#TODO\n",
        "new = [i[-1] for i in var]\n",
        "new"
      ],
      "execution_count": null,
      "outputs": [
        {
          "output_type": "execute_result",
          "data": {
            "text/plain": [
              "['o', 'n', 'g', 'a', 'w', 'd']"
            ]
          },
          "metadata": {},
          "execution_count": 16
        }
      ]
    },
    {
      "cell_type": "markdown",
      "metadata": {
        "id": "Dst6f-Io1CWI"
      },
      "source": [
        "# TASK 6\n",
        "In this example, we have a for loop that iterates over a list of numbers and squares them. For each number in the list, a tuple is created with the original number and its squared value which is then appended to a new list resulting in a list of tuples. Convert the for loop implementation into a list comprehension.\n",
        "----\n",
        "\n",
        "### Example Output:\n",
        "[(5, 25), (11, 121), (8, 64)]"
      ]
    },
    {
      "cell_type": "code",
      "metadata": {
        "id": "2mx8piL21CWI",
        "colab": {
          "base_uri": "https://localhost:8080/"
        },
        "outputId": "3839bb2e-8aa2-4e04-d1c1-170a6faa4d35"
      },
      "source": [
        "var = [.554, 32.5, 88.88, 43.5, 32, 54, 62, 100]\n",
        "new = []\n",
        "for value in var:\n",
        "    tup = (value, value ** 2)\n",
        "    new.append(tup)\n",
        "\n",
        "#TODO\n",
        "tup = [i**2 for i in var]\n",
        "new.append(tup)\n",
        "new"
      ],
      "execution_count": null,
      "outputs": [
        {
          "output_type": "execute_result",
          "data": {
            "text/plain": [
              "[(0.554, 0.3069160000000001),\n",
              " (32.5, 1056.25),\n",
              " (88.88, 7899.654399999999),\n",
              " (43.5, 1892.25),\n",
              " (32, 1024),\n",
              " (54, 2916),\n",
              " (62, 3844),\n",
              " (100, 10000),\n",
              " [0.3069160000000001,\n",
              "  1056.25,\n",
              "  7899.654399999999,\n",
              "  1892.25,\n",
              "  1024,\n",
              "  2916,\n",
              "  3844,\n",
              "  10000]]"
            ]
          },
          "metadata": {},
          "execution_count": 20
        }
      ]
    },
    {
      "cell_type": "markdown",
      "metadata": {
        "id": "TpGtvvRR1CWI"
      },
      "source": [
        "# TASK 7\n",
        "Write a list comprehension to create a list of cubed values (to the power of 3) from 1 to 15.\n",
        "---"
      ]
    },
    {
      "cell_type": "code",
      "metadata": {
        "id": "agHmxqzZ1CWI",
        "colab": {
          "base_uri": "https://localhost:8080/"
        },
        "outputId": "8e6aca53-6d32-4a36-e251-609a677ce1aa"
      },
      "source": [
        "#TODO\n",
        "var = [i**3 for i in range(1,15)]\n",
        "var"
      ],
      "execution_count": 4,
      "outputs": [
        {
          "output_type": "execute_result",
          "data": {
            "text/plain": [
              "[1, 8, 27, 64, 125, 216, 343, 512, 729, 1000, 1331, 1728, 2197, 2744]"
            ]
          },
          "metadata": {},
          "execution_count": 4
        }
      ]
    },
    {
      "cell_type": "markdown",
      "metadata": {
        "id": "AXCn5O6a1CWJ"
      },
      "source": [
        "# TASK 8\n",
        "Write a list comprehension to create the numbers 0 to 100 and assign it to the variable `hundred`. Then write a for loop or list comprehension to create a new list with only the even numbers from the `hundred` list.\n",
        "---\n",
        "\n",
        "### Example output\n",
        "`[0, 2, 4, 6, 8, 10, 12, ... 100]`"
      ]
    },
    {
      "cell_type": "code",
      "metadata": {
        "id": "6HQ12iCH1CWJ",
        "colab": {
          "base_uri": "https://localhost:8080/"
        },
        "outputId": "e770ac67-5028-4af5-a243-025210ffc9b1"
      },
      "source": [
        "#TODO\n",
        "hundred = [i for i in range(1,101)]\n",
        "hundred\n",
        "new_even = []\n",
        "for i in hundred:\n",
        "  if i%2 == 0:\n",
        "    new_even.append(i)\n",
        "print(new_even)\n"
      ],
      "execution_count": 16,
      "outputs": [
        {
          "output_type": "stream",
          "name": "stdout",
          "text": [
            "[2, 4, 6, 8, 10, 12, 14, 16, 18, 20, 22, 24, 26, 28, 30, 32, 34, 36, 38, 40, 42, 44, 46, 48, 50, 52, 54, 56, 58, 60, 62, 64, 66, 68, 70, 72, 74, 76, 78, 80, 82, 84, 86, 88, 90, 92, 94, 96, 98, 100]\n"
          ]
        }
      ]
    },
    {
      "cell_type": "markdown",
      "metadata": {
        "id": "pLoZPvTE1CWJ"
      },
      "source": [
        "# TASK 9\n",
        "Calculate and return the median value of the list *(May need to use floor division -> `//`)*\n",
        "--\n",
        "\n",
        "### Example output:\n",
        "`[43, 54, 22, 12, 78] -> median = 43` \n",
        "\n",
        "**The median is the middle index of a sorted list of numbers**"
      ]
    },
    {
      "cell_type": "code",
      "metadata": {
        "id": "byr2ty291CWK",
        "colab": {
          "base_uri": "https://localhost:8080/"
        },
        "outputId": "ade2a8e1-ebae-44c0-d3b2-206176ec5e15"
      },
      "source": [
        "#TODO:\n",
        "var = [4, 5, 2, 4, 6]\n",
        "var.sort()\n",
        "index=len(var)//2\n",
        "var[index]"
      ],
      "execution_count": 22,
      "outputs": [
        {
          "output_type": "execute_result",
          "data": {
            "text/plain": [
              "4"
            ]
          },
          "metadata": {},
          "execution_count": 22
        }
      ]
    },
    {
      "cell_type": "markdown",
      "metadata": {
        "id": "Kc6OJ2NJ1CWK"
      },
      "source": [
        "# TASK 10\n",
        "write a for loop that removes and returns the values in the last index of the list. Print the values as they're returned.\n",
        "\n",
        "**Sample output:**\n",
        "[1,2,3]\n",
        "> value = 3, [1,2]\n",
        "\n",
        "> value = 2, [1]\n",
        "\n",
        "> value = 1, []\n"
      ]
    },
    {
      "cell_type": "code",
      "metadata": {
        "id": "jcTbfyKA1CWK",
        "colab": {
          "base_uri": "https://localhost:8080/"
        },
        "outputId": "a51a688d-a010-48d5-bc4e-3aeae0d185ad"
      },
      "source": [
        "var = [\"last\", True, 5+5, False, [1,2,3], \"first\"]\n",
        "#TODO:\n",
        "for i in var:\n",
        "  temp = var.pop()\n",
        "  print(temp, var)"
      ],
      "execution_count": 54,
      "outputs": [
        {
          "output_type": "stream",
          "name": "stdout",
          "text": [
            "first ['last', True, 10, False, [1, 2, 3]]\n",
            "[1, 2, 3] ['last', True, 10, False]\n",
            "False ['last', True, 10]\n"
          ]
        }
      ]
    },
    {
      "cell_type": "markdown",
      "metadata": {
        "id": "xLPsYcpV1CWK"
      },
      "source": [
        "# TASK 11\n",
        "\n",
        "Below is a list of numbers, some of which are repeated. Use a list comprehension or for loop to count how many times each number appears and create a tuple with the original number and its count. Append the tuple to a new list to create a list of tuples.\n",
        "---\n",
        "\n",
        "### Example output:\n",
        "`[1,2,2,2,3,4,4,4,5,5,6,6,7,7,7,8,8,8,8,8] -> [(1, 1), (2, 3), (4, 3), (5, 2), (6, 2), (7, 3), (8, 5)]`\n",
        "\n",
        "\n",
        "***DO NOT USE THE COUNTER METHOD FROM COLLECTIONS***\n"
      ]
    },
    {
      "cell_type": "code",
      "metadata": {
        "id": "Cf_CkFVK1CWL",
        "colab": {
          "base_uri": "https://localhost:8080/"
        },
        "outputId": "a378e2f7-6182-4fc4-a9cd-d7ded2cb92d5"
      },
      "source": [
        "values = [10, 10, 2, 43, 43, 90, 2, 2, 10, 5, 68, 86, 86, 86, 86, 100, 0.5, .5, .5, 10, 19, 20, 20, 20, 20, 20, 20, 20, 20]\n",
        "unique = list(set(values))\n",
        "for value in unique:\n",
        "  tup = (value, values.count(value))\n",
        "  print(tup)"
      ],
      "execution_count": 70,
      "outputs": [
        {
          "output_type": "stream",
          "name": "stdout",
          "text": [
            "(0.5, 3)\n",
            "(2, 3)\n",
            "(68, 1)\n",
            "(5, 1)\n",
            "(100, 1)\n",
            "(10, 4)\n",
            "(43, 2)\n",
            "(19, 1)\n",
            "(20, 8)\n",
            "(86, 4)\n",
            "(90, 1)\n"
          ]
        }
      ]
    }
  ]
}