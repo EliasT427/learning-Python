{
  "cells": [
    {
      "cell_type": "markdown",
      "metadata": {
        "id": "view-in-github",
        "colab_type": "text"
      },
      "source": [
        "<a href=\"https://colab.research.google.com/github/EliasT427/learning-Python/blob/main/Copy_of_in_class_demo_part2.ipynb\" target=\"_parent\"><img src=\"https://colab.research.google.com/assets/colab-badge.svg\" alt=\"Open In Colab\"/></a>"
      ]
    },
    {
      "cell_type": "markdown",
      "metadata": {
        "id": "1oyFusbNe50D"
      },
      "source": [
        "# Other ways to create dictionaries\n",
        "Like with many other concepts in python, there are multiple ways to create dictionaries. In this section we will look at the most useful alternatives to creating this data structure.\n",
        "\n",
        "# The `dict()` constructor\n",
        "Since dictionaries are a collection of items, or `key:value` pairs, we can create a list containing 2 element tuples that can be converted into items in a dictionary.\n",
        "--\n",
        "\n",
        "```python \n",
        "items = [\n",
        "    ('name', 'Gabe'),\n",
        "    ('age', 22),\n",
        "    ('job', 'instructor')\n",
        "]\n",
        "```\n",
        "\n",
        "Now that we have our list of items, all we need to do is call the `dict()` constructor and give it our list of items and it will convert it to a dictionary for us.\n",
        "--\n",
        "\n",
        "```python\n",
        "dictionary = dict(items)\n",
        "print(dictionary) -> {'name': 'Gabe', 'age', 22, 'job', 'instructor'}\n",
        "\n",
        "```"
      ]
    },
    {
      "cell_type": "code",
      "execution_count": null,
      "metadata": {
        "id": "8yMNSUYge50F",
        "colab": {
          "base_uri": "https://localhost:8080/"
        },
        "outputId": "7334847d-97da-4e3e-f259-8cde2eaff4ad"
      },
      "outputs": [
        {
          "output_type": "execute_result",
          "data": {
            "text/plain": [
              "{'age': 22, 'job': 'instructor', 'name': 'Gabe'}"
            ]
          },
          "metadata": {},
          "execution_count": 2
        }
      ],
      "source": [
        "#TODO create a list of tuples and convert it inot a dictionary\n",
        "emp = [\n",
        "    ('name', 'Gabe'),\n",
        "    ('age', 22),\n",
        "    ('job', 'instructor')\n",
        "]\n",
        "emp = dict(emp)\n",
        "emp\n",
        "\n"
      ]
    },
    {
      "cell_type": "code",
      "execution_count": null,
      "metadata": {
        "id": "VT3MAfBMe50G",
        "colab": {
          "base_uri": "https://localhost:8080/"
        },
        "outputId": "09e77ee4-7332-4475-d4ff-7473d3caca5e"
      },
      "outputs": [
        {
          "name": "stdout",
          "output_type": "stream",
          "text": [
            "Enter your name: elias\n",
            "whats your department: school\n",
            "Enter your name: gabe\n",
            "whats your department: coding teacher\n",
            "Enter your name: oliver\n",
            "whats your department: loser nerd\n"
          ]
        },
        {
          "output_type": "execute_result",
          "data": {
            "text/plain": [
              "{'elias': 'school', 'gabe': 'coding teacher', 'oliver': 'loser nerd'}"
            ]
          },
          "metadata": {},
          "execution_count": 7
        }
      ],
      "source": [
        "#TODO Lets use a for loop to create an employee list of tuples, then convert it into a dictionary\n",
        "# create an empty list\n",
        "employees_list = []\n",
        "# create a for loop that iterates 3 times\n",
        "for _ in range(3):\n",
        "    # get the employee name\n",
        "    name = input('Enter your name: ')\n",
        "    # get the employee department\n",
        "    dep = input('whats your department: ')\n",
        "    # create a tuple with the name and department\n",
        "    info = (name, dep)\n",
        "    # add the employee tuple to the list of employees\n",
        "    employees_list.append(info)\n",
        "# create a dictionary from the list of employee tuples\n",
        "employees_list = dict(employees_list)\n",
        "employees_list"
      ]
    },
    {
      "cell_type": "markdown",
      "metadata": {
        "id": "HSPmyTA2e50H"
      },
      "source": [
        "# The `.fromkeys()` method\n",
        "The `.fromkeys()` method is a way to create a dictionary from another iterable object. Given a sequence, like a list or tuple, the `.fromkeys()` method will create a dictionary where the keys of the dictionary are generated from the elements of the sequence.\n",
        "--\n",
        "\n",
        "```python \n",
        "var = [\"Name\", \"age\", \"title\"]\n",
        "dictionary = dict.fromkeys(var) -> {\"Name\": None, \"age\": None, \"title\": None}\n",
        "```\n",
        "\n",
        "When the dictionary gets created, all the values are set to `None` by default. `None` in python basically means *no type* or *not a value* which isn't very useful. To resolve this issue, the `.fromkeys()` method can take a second argument that will specify a default value for each of keys in our dictionary.\n",
        "--\n",
        "\n",
        "```python \n",
        "var = [\"Name\", \"age\", \"title\"]\n",
        "default = 'unknown'\n",
        "dictionary = dict.fromkeys(var, default) -> {\"Name\": 'unknown', \"age\": 'unknown', \"title\": 'unknown'}\n",
        "```"
      ]
    },
    {
      "cell_type": "code",
      "execution_count": null,
      "metadata": {
        "id": "oERJbR-6e50H",
        "colab": {
          "base_uri": "https://localhost:8080/"
        },
        "outputId": "8ee92338-a717-486e-9c00-9f11d06d7826"
      },
      "outputs": [
        {
          "output_type": "execute_result",
          "data": {
            "text/plain": [
              "{'C++': 'general_purpose',\n",
              " 'java': 'general_purpose',\n",
              " 'python': 'general_purpose'}"
            ]
          },
          "metadata": {},
          "execution_count": 9
        }
      ],
      "source": [
        "#TODO create a list of programming languages then create a dictionary and  set the default value to 'general_purpose'\n",
        "languages = ['python', 'C++', 'java']\n",
        "default = 'general_purpose'\n",
        "dictonary = dict.fromkeys(languages, default)\n",
        "dictonary\n"
      ]
    },
    {
      "cell_type": "markdown",
      "metadata": {
        "id": "hfhtVnpke50H"
      },
      "source": [
        "# Accessing all keys, values, and item pairs\n",
        "Say we have a dictionary of social media apps where the app name is the key and the app type or category are the values.\n",
        "--\n",
        "```python\n",
        "{\n",
        "    'Snapchat': 'social networking',\n",
        "    'discord': 'social networking',\n",
        "    'twitter': 'microblogging',\n",
        "    'instagram': 'media sharing',\n",
        "    'vsco': 'media sharing'\n",
        "}\n",
        "```\n",
        "Given this information, we want to create a new dictionary where the app category is the key and the apps that fall under that category are our values. We are going to look at a few ways to do this using the `.keys(), .values(), and .items()` dictionary methods.\n",
        "--\n",
        "-----\n",
        "# *.keys()*\n",
        "The `keys()` method returns an iterable object containing all the keys in a dictionary.\n",
        "--"
      ]
    },
    {
      "cell_type": "code",
      "execution_count": null,
      "metadata": {
        "id": "YO6l4pcme50I"
      },
      "outputs": [],
      "source": [
        "data = {\n",
        "    'Snapchat': 'social networking',\n",
        "    'discord': 'social networking',\n",
        "    'twitter': 'microblogging',\n",
        "    'instagram': 'media sharing',\n",
        "    'vsco': 'media sharing'\n",
        "}\n",
        "\n",
        "#TODO get all the keys from the dict and show its type\n",
        "keys = data.keys()"
      ]
    },
    {
      "cell_type": "code",
      "execution_count": null,
      "metadata": {
        "id": "WycNhhX2e50I",
        "colab": {
          "base_uri": "https://localhost:8080/"
        },
        "outputId": "bb0fc725-de6d-4cd6-8e4a-3d76c8870bf2"
      },
      "outputs": [
        {
          "output_type": "execute_result",
          "data": {
            "text/plain": [
              "['Snapchat', 'discord', 'twitter', 'instagram', 'vsco']"
            ]
          },
          "metadata": {},
          "execution_count": 14
        }
      ],
      "source": [
        "#TODO cast the keys to a list\n",
        "keys = list(keys)\n",
        "keys"
      ]
    },
    {
      "cell_type": "markdown",
      "metadata": {
        "id": "sMtPIKmse50J"
      },
      "source": [
        "-------\n",
        "# *.values()*\n",
        "The `values()` method returns all the values in a dictionary.\n",
        "--"
      ]
    },
    {
      "cell_type": "code",
      "execution_count": null,
      "metadata": {
        "id": "Cs9dnvPpe50J"
      },
      "outputs": [],
      "source": [
        "#TODO get all of the dictionary values and show its type\n",
        "values = data.values()"
      ]
    },
    {
      "cell_type": "code",
      "execution_count": null,
      "metadata": {
        "id": "eERSlKede50J",
        "colab": {
          "base_uri": "https://localhost:8080/"
        },
        "outputId": "b3807003-0932-430e-f333-f86a912236dd"
      },
      "outputs": [
        {
          "output_type": "execute_result",
          "data": {
            "text/plain": [
              "['social networking',\n",
              " 'social networking',\n",
              " 'microblogging',\n",
              " 'media sharing',\n",
              " 'media sharing']"
            ]
          },
          "metadata": {},
          "execution_count": 19
        }
      ],
      "source": [
        "#TODO We can convert the values into a list by casting it as well\n",
        "values = list(values)\n",
        "values"
      ]
    },
    {
      "cell_type": "markdown",
      "metadata": {
        "id": "mUQkz3fae50K"
      },
      "source": [
        "-----\n",
        "# *.items()*\n",
        "This method returns all the keys and values of the dictionary at the same time.\n",
        "--"
      ]
    },
    {
      "cell_type": "code",
      "execution_count": null,
      "metadata": {
        "id": "Vh3MUQYje50K",
        "colab": {
          "base_uri": "https://localhost:8080/"
        },
        "outputId": "0e455ca3-ba6e-4567-c2a5-d902a15f3fa0"
      },
      "outputs": [
        {
          "output_type": "execute_result",
          "data": {
            "text/plain": [
              "[('Snapchat', 'social networking'),\n",
              " ('discord', 'social networking'),\n",
              " ('twitter', 'microblogging'),\n",
              " ('instagram', 'media sharing'),\n",
              " ('vsco', 'media sharing')]"
            ]
          },
          "metadata": {},
          "execution_count": 22
        }
      ],
      "source": [
        "items = list(data.items())\n",
        "items"
      ]
    },
    {
      "cell_type": "markdown",
      "metadata": {
        "id": "X0Xk-np8e50K"
      },
      "source": [
        "Notice how the items get returned as a list of tuples, this goes back to the dictionary constructor where we could intialize a dictionary simply by giving it a list of tuples, or in other words, a list of items. We can convert this list of items from the type `dict_items` to a `list` by using the same casting technique.\n",
        "--"
      ]
    },
    {
      "cell_type": "code",
      "execution_count": null,
      "metadata": {
        "id": "QeheSvKWe50K"
      },
      "outputs": [],
      "source": [
        ""
      ]
    },
    {
      "cell_type": "markdown",
      "metadata": {
        "id": "ZjbCCdoQ_Dxx"
      },
      "source": [
        "# Looping through keys, values and items\n",
        "Since the each of these methods are used to convert the dictionary into some kind of iterable, we are able to loop through them as if they were lists."
      ]
    },
    {
      "cell_type": "code",
      "execution_count": null,
      "metadata": {
        "id": "ehX4k-Xx_Dxx"
      },
      "outputs": [],
      "source": [
        "data = {\n",
        "    'Snapchat': 'social networking',\n",
        "    'discord': 'social networking',\n",
        "    'twitter': 'microblogging',\n",
        "    'instagram': 'media sharing',\n",
        "    'vsco': 'media sharing'\n",
        "}"
      ]
    },
    {
      "cell_type": "code",
      "execution_count": null,
      "metadata": {
        "id": "wxxAfEU2_Dxx",
        "colab": {
          "base_uri": "https://localhost:8080/"
        },
        "outputId": "bff6a7df-af8f-4563-a1fe-4ec4a5b4b7ff"
      },
      "outputs": [
        {
          "output_type": "stream",
          "name": "stdout",
          "text": [
            "Snapchat\n",
            "discord\n",
            "twitter\n",
            "instagram\n",
            "vsco\n"
          ]
        }
      ],
      "source": [
        "#TODO Loop through dictionary keys\n",
        "for key in data:\n",
        "  print(key)"
      ]
    },
    {
      "cell_type": "code",
      "execution_count": null,
      "metadata": {
        "id": "fsvZBaEZ_Dxx",
        "colab": {
          "base_uri": "https://localhost:8080/"
        },
        "outputId": "fb5e1434-cd59-41db-acee-def0bc0d4893"
      },
      "outputs": [
        {
          "output_type": "stream",
          "name": "stdout",
          "text": [
            "social networking\n",
            "social networking\n",
            "microblogging\n",
            "media sharing\n",
            "media sharing\n"
          ]
        }
      ],
      "source": [
        "#TODO loop through dictionary values\n",
        "for value in data.values():\n",
        "  print(value)"
      ]
    },
    {
      "cell_type": "code",
      "execution_count": null,
      "metadata": {
        "id": "4XkHTXbZ_Dxx",
        "colab": {
          "base_uri": "https://localhost:8080/"
        },
        "outputId": "50f8628c-a613-47a9-fddf-ee914c234403"
      },
      "outputs": [
        {
          "output_type": "stream",
          "name": "stdout",
          "text": [
            "Snapchat social networking\n",
            "discord social networking\n",
            "twitter microblogging\n",
            "instagram media sharing\n",
            "vsco media sharing\n"
          ]
        }
      ],
      "source": [
        "#TODO loop through dictionary items\n",
        "for key, value in data.items():\n",
        "  print(key, value)"
      ]
    },
    {
      "cell_type": "code",
      "execution_count": null,
      "metadata": {
        "id": "sYV4_13g_Dxx"
      },
      "outputs": [],
      "source": [
        "#TODO loop through dictionary items by unpacking the pairs\n"
      ]
    },
    {
      "cell_type": "markdown",
      "metadata": {
        "id": "m0WOIE_xe50L"
      },
      "source": [
        "# Nested Data structures\n",
        "A nested data structure is basically a data structure that has another data structure as one of its elements. You've already seen something this when working with a `list of tuples` or a `list of lists` and you can also do this with dictionaries. All you have to do is add the data structure as one of the values to your dictionary and you're set."
      ]
    },
    {
      "cell_type": "code",
      "execution_count": null,
      "metadata": {
        "id": "2quxAH6b_Dxy",
        "colab": {
          "base_uri": "https://localhost:8080/"
        },
        "outputId": "e3498f45-9865-43a1-a02d-1d65f9ea1a97"
      },
      "outputs": [
        {
          "output_type": "execute_result",
          "data": {
            "text/plain": [
              "3.3"
            ]
          },
          "metadata": {},
          "execution_count": 39
        }
      ],
      "source": [
        "#TODO create a dictionary with a list as its values\n",
        "var = {\n",
        "    'integers': [1,2,3,4,5,6],\n",
        "    'floats': [1.1, 2.2, 3.3, 4.4, 5.5]\n",
        "}\n",
        "var['floats'][2]"
      ]
    },
    {
      "cell_type": "markdown",
      "metadata": {
        "id": "S8u4Npx9_Dxy"
      },
      "source": [
        "# Question: If I want to return the number 3.3 from my dictionary how should I do it?"
      ]
    },
    {
      "cell_type": "code",
      "execution_count": null,
      "metadata": {
        "id": "JYRWAv0z_Dxy",
        "colab": {
          "base_uri": "https://localhost:8080/"
        },
        "outputId": "312f5fbc-cc80-4673-a260-e86a22f697cf"
      },
      "outputs": [
        {
          "output_type": "execute_result",
          "data": {
            "text/plain": [
              "3.3"
            ]
          },
          "metadata": {},
          "execution_count": 36
        }
      ],
      "source": [
        "#TODO return the value 3.3\n",
        "var['floats'][2]"
      ]
    },
    {
      "cell_type": "code",
      "source": [
        "var['floats'].append(6.6)\n",
        "var"
      ],
      "metadata": {
        "colab": {
          "base_uri": "https://localhost:8080/"
        },
        "id": "zGJcNtZyzCB7",
        "outputId": "feb82e09-ed03-4455-8e02-9b3b73b9fdd1"
      },
      "execution_count": null,
      "outputs": [
        {
          "output_type": "execute_result",
          "data": {
            "text/plain": [
              "{'floats': [1.1, 2.2, 3.3, 4.4, 5.5, 6.6, 6.6], 'integers': [1, 2, 3, 4, 5, 6]}"
            ]
          },
          "metadata": {},
          "execution_count": 41
        }
      ]
    },
    {
      "cell_type": "markdown",
      "metadata": {
        "id": "u5xzBQFm_Dxy"
      },
      "source": [
        "## Dictionary inside of a dictionary\n",
        "Noy only can you nest list/tuples or any other data structure inside of dictionaries, but you can also nest a dictionary inside of itself."
      ]
    },
    {
      "cell_type": "code",
      "execution_count": null,
      "metadata": {
        "id": "aMOAfBPc_Dxy",
        "colab": {
          "base_uri": "https://localhost:8080/"
        },
        "outputId": "11ab95b2-b693-4b3e-8f91-b7d834492005"
      },
      "outputs": [
        {
          "output_type": "execute_result",
          "data": {
            "text/plain": [
              "{'dict1': {'bool': True, 'list': [1, 2, 3, 4, 5]},\n",
              " 'dict2': {'bool': False, 'tuple': (5, 4, 3, 2, 1)}}"
            ]
          },
          "metadata": {},
          "execution_count": 44
        }
      ],
      "source": [
        "#TODO create a nested dictionary dict1 and dict2 with lists and bools as values\n",
        "var = {\n",
        "    'dict1': {\n",
        "        'bool': True,\n",
        "        'list': [1,2,3,4,5]\n",
        "    },\n",
        "    'dict2': {\n",
        "        'bool': False,\n",
        "        'tuple': (5,4,3,2,1)\n",
        "    }\n",
        "\n",
        "}\n",
        "var"
      ]
    },
    {
      "cell_type": "markdown",
      "metadata": {
        "id": "QaD2gJMT_Dxy"
      },
      "source": [
        "# Question: If I wanted to access the list in dict2, how would I do it?"
      ]
    },
    {
      "cell_type": "code",
      "execution_count": null,
      "metadata": {
        "id": "9d62tVUs_Dxy",
        "colab": {
          "base_uri": "https://localhost:8080/"
        },
        "outputId": "3e47abb1-b567-4677-96b3-a587601f2933"
      },
      "outputs": [
        {
          "output_type": "execute_result",
          "data": {
            "text/plain": [
              "False"
            ]
          },
          "metadata": {},
          "execution_count": 45
        }
      ],
      "source": [
        "#TODO access the list in dict2\n",
        "var['dict2']['bool']"
      ]
    },
    {
      "cell_type": "markdown",
      "metadata": {
        "id": "QTQFl35U_Dxy"
      },
      "source": [
        "# Adding values to a list nested in a dictionary\n",
        "When we nest other data structures inside of dictionaries, we can still treat them like the original object. This means that if we have a list nested inside of a dictionary, we can still do things like appending or slicing"
      ]
    },
    {
      "cell_type": "code",
      "source": [
        "#TODO create a dictionary with a list nested inside of it and append new values to the list."
      ],
      "metadata": {
        "id": "x3psTi32_N-T"
      },
      "execution_count": null,
      "outputs": []
    },
    {
      "cell_type": "markdown",
      "metadata": {
        "id": "ldYjXp0We50L"
      },
      "source": [
        "----\n",
        "# Mini Project: Clustering app names by category\n",
        "Utilize either the `keys()`, `values()`, or `items()` methods along with nested data types to group the resturaunts by category.\n",
        "\n",
        "### Expected output\n",
        "```python\n",
        "resturaunts = {\n",
        "    'mcdonalds': 'fast food',\n",
        "    'wakame': 'sushi',\n",
        "    'wendys': 'fast food',\n",
        "    'caribou': 'cafe',\n",
        "    'starbucks': 'cafe',\n",
        "    'burger king': 'fast food',\n",
        "    'bagu': 'sushi',\n",
        "    'popeyes': 'fast food',\n",
        "    'dunkin doughnuts': 'cafe',\n",
        "    'kyoto sushi': 'sushi'\n",
        "}\n",
        "\n",
        "categories = {\n",
        "    'fast food': ['mcdonalds', 'wendys', 'burger king', 'popeyes'],\n",
        "    'cafe': ['caribou', 'starbucks', 'dunkin doughnuts'],\n",
        "    'sushi': ['wakame', 'kyoto sushi', 'bagu sushi'],\n",
        "}\n",
        "```"
      ]
    },
    {
      "cell_type": "code",
      "execution_count": null,
      "metadata": {
        "id": "1ZO8v_Q0_Dxy",
        "colab": {
          "base_uri": "https://localhost:8080/"
        },
        "outputId": "47b1f050-8700-4855-a97a-603c31abafe9"
      },
      "outputs": [
        {
          "output_type": "execute_result",
          "data": {
            "text/plain": [
              "{'cafe': ['caribou', 'starbucks', 'dunkin doughnuts'],\n",
              " 'fast food': ['mcdonalds', 'wendys', 'burger king', 'popeyes'],\n",
              " 'sushi': ['wakame', 'bagu', 'kyoto sushi']}"
            ]
          },
          "metadata": {},
          "execution_count": 51
        }
      ],
      "source": [
        "restaurants = {\n",
        "    'mcdonalds': 'fast food',\n",
        "    'wakame': 'sushi',\n",
        "    'wendys': 'fast food',\n",
        "    'caribou': 'cafe',\n",
        "    'starbucks': 'cafe',\n",
        "    'burger king': 'fast food',\n",
        "    'bagu': 'sushi',\n",
        "    'popeyes': 'fast food',\n",
        "    'dunkin doughnuts': 'cafe',\n",
        "    'kyoto sushi': 'sushi'\n",
        "}\n",
        "\n",
        "#TODO group by catagory\n",
        "categories = {}\n",
        "for key, value in restaurants.items():\n",
        "  if value not in categories:\n",
        "    categories[value] = [key]\n",
        "  else:\n",
        "    categories[value].append(key)\n",
        "categories"
      ]
    },
    {
      "cell_type": "markdown",
      "metadata": {
        "id": "TYuQ2Vwje50L"
      },
      "source": [
        "# Other Methods\n",
        "In this section we will look at some of the remaining dictionary methods that'll be useful for current and future projects.\n",
        "\n",
        "* `.pop()`, `.popitem()`, and `.clear()`\n",
        "* `.update()`\n",
        "* `setdefault()`\n",
        "\n",
        "\n",
        "## Removing items from dictionaries\n",
        "There are 3 methods that can be used to remove items from dictionaries. `pop(key)` removes and returns the item with the specified key, `popitem()` returns and removes the last added item, and `clear()` deletes all items in the dictionary."
      ]
    },
    {
      "cell_type": "code",
      "execution_count": null,
      "metadata": {
        "id": "Zxj60dVw_Dxz"
      },
      "outputs": [],
      "source": [
        "#TODO remove all items where the key starts with the letter F\n",
        "var = {\n",
        "    'filler': None,\n",
        "    'bunjee': None,\n",
        "    'fast': None,\n",
        "    'furious': None,\n",
        "    'great': None,\n",
        "    'fax': None\n",
        "}\n",
        "var.pop('filler')\n",
        "var.pop('fast')\n",
        "var.pop('furious')\n",
        "var.pop('fax')"
      ]
    },
    {
      "cell_type": "code",
      "execution_count": null,
      "metadata": {
        "id": "cMXvFYsm_Dxz",
        "colab": {
          "base_uri": "https://localhost:8080/"
        },
        "outputId": "b0b00f0b-b151-4752-ec4c-b45c737864a9"
      },
      "outputs": [
        {
          "output_type": "execute_result",
          "data": {
            "text/plain": [
              "{1: 1.11, 2: 2.22, 3: 3.33}"
            ]
          },
          "metadata": {},
          "execution_count": 59
        }
      ],
      "source": [
        "#TODO create a dictionary of integer keys and float values. Remove the last item\n",
        "var = {\n",
        "    1: 1.11,\n",
        "    2: 2.22,\n",
        "    3: 3.33,\n",
        "    4: 4.44\n",
        "}\n",
        "var.popitem()\n",
        "var"
      ]
    },
    {
      "cell_type": "code",
      "execution_count": null,
      "metadata": {
        "id": "f3uDc-Gs_Dxz",
        "colab": {
          "base_uri": "https://localhost:8080/"
        },
        "outputId": "feaad92f-a8e4-4ad4-a5e6-dbd3af3eb97b"
      },
      "outputs": [
        {
          "output_type": "execute_result",
          "data": {
            "text/plain": [
              "{}"
            ]
          },
          "metadata": {},
          "execution_count": 60
        }
      ],
      "source": [
        "#TODO delete all items from the dictionary\n",
        "var = {\n",
        "    \"I\": \"am\",\n",
        "    \"A\": \"Dictionary\",\n",
        "    'And': \"I\", \n",
        "    \"Want\": \"to\",\n",
        "    \"Be\": \"Deleted 🥲\"\n",
        "}\n",
        "var.clear()\n",
        "var"
      ]
    },
    {
      "cell_type": "markdown",
      "metadata": {
        "id": "CtczPr_k_Dxz"
      },
      "source": [
        "# Combining dictionaries\n",
        "The `update()` method inserts the specified items to the dictionary.\n",
        "The specified items can be a dictionary, or an iterable object with key value pairs.\n",
        "\n",
        "```python\n",
        "dict.update(items)\n",
        "```"
      ]
    },
    {
      "cell_type": "code",
      "execution_count": null,
      "metadata": {
        "id": "Kzm13u5Q_Dxz",
        "colab": {
          "base_uri": "https://localhost:8080/"
        },
        "outputId": "4d636bbf-a3f9-447e-e300-6806fb20c83e"
      },
      "outputs": [
        {
          "output_type": "execute_result",
          "data": {
            "text/plain": [
              "{'ninety-nine-thousand': 99000,\n",
              " 'one': 1,\n",
              " 'one and a half': 1.5,\n",
              " 'one-hundred': 100,\n",
              " 'pi': 3.14159,\n",
              " 'two and three quarters': 2.75}"
            ]
          },
          "metadata": {},
          "execution_count": 62
        }
      ],
      "source": [
        "#TODO update the float dictionary to also hold integers by combining the integers and float dictionaries\n",
        "integers = {\n",
        "    'one': 1,\n",
        "    'one-hundred': 100,\n",
        "    'ninety-nine-thousand': 99000\n",
        "}\n",
        "\n",
        "floats = {\n",
        "    'one and a half': 1.5,\n",
        "    'two and three quarters': 2.75,\n",
        "    'pi': 3.14159\n",
        "}\n",
        "floats.update(integers)\n",
        "floats\n"
      ]
    },
    {
      "cell_type": "code",
      "execution_count": null,
      "metadata": {
        "id": "dry6LrU-_Dxz",
        "colab": {
          "base_uri": "https://localhost:8080/"
        },
        "outputId": "3e155a21-a389-4a29-e78b-3c2ca87f6ab6"
      },
      "outputs": [
        {
          "output_type": "execute_result",
          "data": {
            "text/plain": [
              "{'Iron man': 'Marvel',\n",
              " 'batman': 'DC',\n",
              " 'joker': 'DC',\n",
              " 'spider man': 'Marvel',\n",
              " 'venom': 'marvel',\n",
              " 'wonder woman': 'DC'}"
            ]
          },
          "metadata": {},
          "execution_count": 63
        }
      ],
      "source": [
        "#TODO update the dictionary with a list of item tuples\n",
        "var = {\n",
        "    'Iron man':'Marvel',\n",
        "    'spider man': 'Marvel',\n",
        "    'batman': 'DC'\n",
        "}\n",
        "\n",
        "items = [\n",
        "    ('wonder woman', 'DC'),\n",
        "    (\"venom\", \"marvel\"),\n",
        "    (\"joker\", \"DC\")\n",
        "]\n",
        "var.update(items)\n",
        "var\n"
      ]
    },
    {
      "cell_type": "markdown",
      "metadata": {
        "id": "8bl6pRa6_Dxz"
      },
      "source": [
        "# Default values\n",
        "The `setdefault()` method returns the value of the item with the specified key.\n",
        "If the key does not exist, insert the key, with the specified value. If the key does exist, the original value will be returned.\n",
        "\n",
        "***This methog is similar to `.get()` except that this method will actuall create a new `key : value` pair if the key doesn't exist.\n",
        "\n",
        "```python\n",
        "dict.setdefault(key, value)\n",
        "```"
      ]
    },
    {
      "cell_type": "code",
      "execution_count": null,
      "metadata": {
        "id": "ognXrWqF_Dxz",
        "colab": {
          "base_uri": "https://localhost:8080/"
        },
        "outputId": "a6db9c7b-0ede-4e3b-9ef4-a81fb386e56a"
      },
      "outputs": [
        {
          "output_type": "execute_result",
          "data": {
            "text/plain": [
              "{'air uber': 'plane', 'space uber': 'rocket ship', 'uber': 'car'}"
            ]
          },
          "metadata": {},
          "execution_count": 66
        }
      ],
      "source": [
        "var = {\n",
        "    'uber': 'car',\n",
        "    'air uber': \"plane\"\n",
        "}\n",
        "\n",
        "# use setdefault to return the value for uber\n",
        "var.setdefault('uber','pickup')\n",
        "# use setdefault to return the value for air uber\n",
        "var.setdefault('air uber', 'helicopter')\n",
        "# use setdefault to return the value for space uber, if the key is not present set the value to rocketship\n",
        "var.setdefault('space uber', 'rocket ship')\n",
        "var"
      ]
    },
    {
      "cell_type": "markdown",
      "metadata": {
        "id": "-hwXCd4X_Dxz"
      },
      "source": [
        "## Using setdefault to simplify our resturaunt grouping\n",
        "In the original project, if we wanted to add a new key and value, we had to check if the key existed in the dictionary already. If it didn't exist, we would create the key and set its value as a list. \n",
        "\n",
        "We can simplify this with the `setdefault()` method to check and create the `key : value` pair for us."
      ]
    },
    {
      "cell_type": "code",
      "execution_count": null,
      "metadata": {
        "id": "yqy-ysFO_Dxz",
        "outputId": "bf7e53b8-91ef-441e-ac5a-6b37c4663294",
        "colab": {
          "base_uri": "https://localhost:8080/"
        }
      },
      "outputs": [
        {
          "output_type": "execute_result",
          "data": {
            "text/plain": [
              "{'cafe': ['caribou', 'starbucks', 'dunkin doughnuts'],\n",
              " 'fast food': ['mcdonalds', 'wendys', 'burger king', 'popeyes'],\n",
              " 'sushi': ['wakame', 'bagu', 'kyoto sushi']}"
            ]
          },
          "metadata": {},
          "execution_count": 68
        }
      ],
      "source": [
        "categories2 = {}\n",
        "for key, value in restaurants.items():\n",
        "  categories2.setdefault(value, [])\n",
        "  categories2[value].append(key)\n",
        "categories2"
      ]
    },
    {
      "cell_type": "code",
      "source": [
        ""
      ],
      "metadata": {
        "id": "aNNHMgMO7Nju"
      },
      "execution_count": null,
      "outputs": []
    }
  ],
  "metadata": {
    "colab": {
      "name": "Copy of in_class_demo part2.ipynb",
      "provenance": [],
      "include_colab_link": true
    },
    "interpreter": {
      "hash": "fd61235da8d855c081cbd5d7c6398e4c179a40a950675235256f7f30499f1124"
    },
    "kernelspec": {
      "display_name": "Python 3.7.4 64-bit ('base': conda)",
      "name": "python3"
    },
    "language_info": {
      "codemirror_mode": {
        "name": "ipython",
        "version": 3
      },
      "file_extension": ".py",
      "mimetype": "text/x-python",
      "name": "python",
      "nbconvert_exporter": "python",
      "pygments_lexer": "ipython3",
      "version": "3.9.7"
    },
    "orig_nbformat": 4
  },
  "nbformat": 4,
  "nbformat_minor": 0
}