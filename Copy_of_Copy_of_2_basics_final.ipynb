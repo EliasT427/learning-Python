{
  "nbformat": 4,
  "nbformat_minor": 0,
  "metadata": {
    "interpreter": {
      "hash": "fd61235da8d855c081cbd5d7c6398e4c179a40a950675235256f7f30499f1124"
    },
    "kernelspec": {
      "display_name": "Python 3.7.4 64-bit ('base': conda)",
      "language": "python",
      "name": "python3"
    },
    "language_info": {
      "codemirror_mode": {
        "name": "ipython",
        "version": 3
      },
      "file_extension": ".py",
      "mimetype": "text/x-python",
      "name": "python",
      "nbconvert_exporter": "python",
      "pygments_lexer": "ipython3",
      "version": "3.7.4"
    },
    "orig_nbformat": 4,
    "colab": {
      "name": "Copy of Copy of 2. basics_final.ipynb",
      "provenance": [],
      "include_colab_link": true
    }
  },
  "cells": [
    {
      "cell_type": "markdown",
      "metadata": {
        "id": "view-in-github",
        "colab_type": "text"
      },
      "source": [
        "<a href=\"https://colab.research.google.com/github/EliasT427/learning-Python/blob/main/Copy_of_Copy_of_2_basics_final.ipynb\" target=\"_parent\"><img src=\"https://colab.research.google.com/assets/colab-badge.svg\" alt=\"Open In Colab\"/></a>"
      ]
    },
    {
      "cell_type": "markdown",
      "metadata": {
        "id": "3Oj9JpYTKGra"
      },
      "source": [
        "# Instructions\n",
        "Below is a \"dataset\" that contains information about the residents in Elmo city. Elmo and Big bird have noticed some problems with their data and would like your help to fix it. The dataset structure is a list of list, where each internal list is its own section. "
      ]
    },
    {
      "cell_type": "code",
      "metadata": {
        "id": "TJKQPVJvKGre"
      },
      "source": [
        "data = [\n",
        "    ['number of trash cans', 1_000_000],\n",
        "    ['number of cleaners', 109_001],\n",
        "    ['number of houses', 900000],\n",
        "    ['Annual visitors', '200000'],\n",
        "    ['average house cost', '650000'],\n",
        "    ['average yearly income', 120000],\n",
        "    ['Common Jobs', ('Quantum computing', 'Psychologist', 'Data scientist', 'Construction', 'Cleaning')],\n",
        "    ['Total Number of available job positions', 250000 ],\n",
        "    ['Total number of jobs', 1700543],\n",
        "    ['number of children', 258710],\n",
        "]\n"
      ],
      "execution_count": null,
      "outputs": []
    },
    {
      "cell_type": "markdown",
      "metadata": {
        "id": "g61I08ClKGrf"
      },
      "source": [
        "# How many children per house\n",
        "Calculate the number of children there are per house, and cerate a new section named `children per house` with the value you calculated."
      ]
    },
    {
      "cell_type": "code",
      "metadata": {
        "id": "OMPoKTxUKGrg",
        "colab": {
          "base_uri": "https://localhost:8080/"
        },
        "outputId": "ba8bc126-0dff-4748-eda9-f5e64851c2b4"
      },
      "source": [
        "#TODO\n",
        "print(data[2][1]/data[9][1])"
      ],
      "execution_count": null,
      "outputs": [
        {
          "output_type": "stream",
          "name": "stdout",
          "text": [
            "3.4787986548645202\n"
          ]
        }
      ]
    },
    {
      "cell_type": "markdown",
      "metadata": {
        "id": "ljdFlGT_KGrg"
      },
      "source": [
        "# Fixing the data Types\n",
        "It seems that the data type for annual visitors and for average house cost are strings when they should be integers. Convert the values into the appropriate data type."
      ]
    },
    {
      "cell_type": "code",
      "metadata": {
        "id": "OkAEKk5kKGrh",
        "colab": {
          "base_uri": "https://localhost:8080/"
        },
        "outputId": "9992fa01-aaf8-4775-cb8b-5e0a855dbf48"
      },
      "source": [
        "#TODO\n",
        "print(int(data[3][1]))\n",
        "print(int(data[4][1]))"
      ],
      "execution_count": null,
      "outputs": [
        {
          "output_type": "stream",
          "name": "stdout",
          "text": [
            "200000\n",
            "650000\n"
          ]
        }
      ]
    },
    {
      "cell_type": "markdown",
      "metadata": {
        "id": "i__t3a44KGrh"
      },
      "source": [
        "# How many should we hire\n",
        "Right now, elmo city has 1 million trash cans, and only ~109 thousand city cleaners. How many more workers do they need to hire so that each cleaner can get to 8 trash cans per day?\n",
        "\n",
        "Once you've calculated how many more people they need to hire, update the list where the `number of cleaners` is present to the new amount of city cleaners they have."
      ]
    },
    {
      "cell_type": "code",
      "metadata": {
        "id": "_0OQcTKOKGri",
        "colab": {
          "base_uri": "https://localhost:8080/"
        },
        "outputId": "854793d5-ba44-40f9-d780-6dffae92dea9"
      },
      "source": [
        "#TODO claculate how many more cleaners they need to hire and update the list\n",
        "cleaners_needed = 1000000/8\n",
        "data[1][1] = cleaners_needed\n",
        "print(data[1][1])"
      ],
      "execution_count": null,
      "outputs": [
        {
          "output_type": "stream",
          "name": "stdout",
          "text": [
            "125000.0\n"
          ]
        }
      ]
    },
    {
      "cell_type": "markdown",
      "metadata": {
        "id": "G00JcamPKGri"
      },
      "source": [
        "# Adding new jobs\n",
        "The list of common jobs is incomplete. There are thousands of different jobs in Elmo city yet the common jobs section only lists 5 of them. Add these 3 other common jobs to the common jobs section. \n",
        "- photographer\n",
        "- Journalist\n",
        "- physicist"
      ]
    },
    {
      "cell_type": "code",
      "metadata": {
        "id": "LFsVq0rtKGrj",
        "colab": {
          "base_uri": "https://localhost:8080/"
        },
        "outputId": "a442f98f-3209-4bb9-ed86-9bd8528862ce"
      },
      "source": [
        "common_jobs = data[6][1]\n",
        "common_jobs = list(common_jobs)\n",
        "new_jobs = ['journalist', 'physicist', 'photographer']\n",
        "common_jobs.extend(new_jobs)\n",
        "print(common_jobs)"
      ],
      "execution_count": null,
      "outputs": [
        {
          "output_type": "stream",
          "name": "stdout",
          "text": [
            "['Quantum computing', 'Psychologist', 'Data scientist', 'Construction', 'Cleaning', 'journalist', 'physicist', 'photographer']\n"
          ]
        }
      ]
    },
    {
      "cell_type": "markdown",
      "metadata": {
        "id": "B9c5N7dnKGrj"
      },
      "source": [
        "# Adding a new resident\n",
        "Add some input statements for your `name, age, and occupation` then add these 3 fields to a list. Create a section in the dataset with your info as a new resident in Elmo city. \n",
        "\n",
        "### Example\n",
        "```python\n",
        "name = \"gabe\"\n",
        "age = 22\n",
        "occupation = \"psychologist\"\n",
        "\n",
        "data = [\n",
        "    ['number of trash cans', 1_000_000],\n",
        "    ['number of cleaners', 109_001],\n",
        "    ['number of houses', 900000],\n",
        "    ['Annual visitors', '200000'],\n",
        "    ['average house cost', '650000'],\n",
        "    ['average yearly income', 120000],\n",
        "    ['Common Jobs', ('Quantum computing', 'Psychologist', 'Data scientist', 'Construction', 'Cleaning')],\n",
        "    ['Total Number of available job positions', 250000 ],\n",
        "    ['Total number of jobs', 1700543]\n",
        "    ['number of children', 258710],\n",
        "    ['New resident', ['Gabe', 22, \"psychologist\"]] <-- new resident\n",
        "]\n",
        "```"
      ]
    },
    {
      "cell_type": "code",
      "metadata": {
        "id": "-q7FYr-6KGrk",
        "colab": {
          "base_uri": "https://localhost:8080/"
        },
        "outputId": "c99c3de8-0a60-47b2-df2a-9be6e11ee2ba"
      },
      "source": [
        "#TODO\n",
        "name = input('What is your name')\n",
        "age = input('how old are you')\n",
        "job = input('what is your occupation')\n",
        "new_resident = [name, age, job]\n",
        "data.append(['new resident', new_resident])\n",
        "print(data)"
      ],
      "execution_count": null,
      "outputs": [
        {
          "output_type": "stream",
          "name": "stdout",
          "text": [
            "What is your nameelias\n",
            "how old are you15\n",
            "what is your occupationschool\n",
            "[['number of trash cans', 1000000], ['number of cleaners', 109001], ['number of houses', 900000], ['Annual visitors', '200000'], ['average house cost', '650000'], ['average yearly income', 120000], ['Common Jobs', ('Quantum computing', 'Psychologist', 'Data scientist', 'Construction', 'Cleaning')], ['Total Number of available job positions', 250000], ['Total number of jobs', 1700543], ['number of children', 258710], 'new resident, elias, 15, school', ['new resident', ['elias', '15', 'school']]]\n"
          ]
        }
      ]
    },
    {
      "cell_type": "code",
      "metadata": {
        "id": "ZOyjk-SPFqcO"
      },
      "source": [
        ""
      ],
      "execution_count": null,
      "outputs": []
    }
  ]
}