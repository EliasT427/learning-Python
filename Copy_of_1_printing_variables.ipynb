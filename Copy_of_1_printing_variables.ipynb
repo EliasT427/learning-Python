{
  "nbformat": 4,
  "nbformat_minor": 0,
  "metadata": {
    "interpreter": {
      "hash": "fd61235da8d855c081cbd5d7c6398e4c179a40a950675235256f7f30499f1124"
    },
    "kernelspec": {
      "display_name": "Python 3.7.4 64-bit ('base': conda)",
      "name": "python3"
    },
    "language_info": {
      "codemirror_mode": {
        "name": "ipython",
        "version": 3
      },
      "file_extension": ".py",
      "mimetype": "text/x-python",
      "name": "python",
      "nbconvert_exporter": "python",
      "pygments_lexer": "ipython3",
      "version": "3.7.4"
    },
    "orig_nbformat": 4,
    "colab": {
      "name": "Copy of 1. printing_variables.ipynb",
      "provenance": [],
      "include_colab_link": true
    }
  },
  "cells": [
    {
      "cell_type": "markdown",
      "metadata": {
        "id": "view-in-github",
        "colab_type": "text"
      },
      "source": [
        "<a href=\"https://colab.research.google.com/github/EliasT427/learning-Python/blob/main/Copy_of_1_printing_variables.ipynb\" target=\"_parent\"><img src=\"https://colab.research.google.com/assets/colab-badge.svg\" alt=\"Open In Colab\"/></a>"
      ]
    },
    {
      "cell_type": "markdown",
      "metadata": {
        "id": "Yn29Rp4RD7Va"
      },
      "source": [
        "# Instructions\n",
        "Below is a list of elements where each element is a different data type. Your task is to perform some basic analysis on the list of elements to come up with the following report.\n",
        "\n",
        "1. What is the data type of the element in position 3?\n",
        "2. are the data types in position 0 and position 2 the same?\n",
        "3. index the list so that you return the tuple. Assign the tuple to a new variable called `extracted`. What is the data type of the element in the 2nd position of this tuple?\n",
        "4. Index the list to return the string `return me`, what are the characters at position 0, 3, and 5\n",
        "5. Index the list to return the string `return me`, concatenate the characters at positions 0, 3, and 5 to create a new string. What is the new string?\n",
        "6. return the element at position 9 and store it in a value called `squares`. What is the data type and what are it's values.\n",
        "7. What is the result of the element at position 1 subtracted from the element at position 10\n",
        "8. what is the memory address of the list `data`\n",
        "9. are the memory addresses of the element in position 2 and position 8 the same? ***Bonus: If they are the same, explain why***"
      ]
    },
    {
      "cell_type": "code",
      "metadata": {
        "id": "IA3h5Cd0D7Vf"
      },
      "source": [
        "data = [\n",
        "    True,\n",
        "    600.548,\n",
        "    False,\n",
        "    45j,\n",
        "    [1,2,3,4,5],\n",
        "    False,\n",
        "    (True, \"Minecraft is the best\", 10.098, 'one billion', {1,2,3,4}),\n",
        "    \"return me\",\n",
        "    5 == 5,\n",
        "    [x**2 for x in [1,2,3,4,5]],\n",
        "    654.548    \n",
        "]"
      ],
      "execution_count": null,
      "outputs": []
    },
    {
      "cell_type": "code",
      "metadata": {
        "id": "pK_Qjy4rD7Vh",
        "colab": {
          "base_uri": "https://localhost:8080/"
        },
        "outputId": "132db016-f76d-4745-b93d-c38991bba35d"
      },
      "source": [
        "print(type(data[3]))\n",
        "print(type(data[0]))\n",
        "print(type(data[2]))\n",
        "type(data[0]) == type(data[2])\n",
        "extracted= data[6]\n",
        "print(type(extracted[1]))\n",
        "ReturnMe = data[7]\n",
        "print(ReturnMe[0])\n",
        "print(ReturnMe[3])\n",
        "print(ReturnMe[5])\n",
        "print(ReturnMe[0]+ReturnMe[3]+ReturnMe[5])\n",
        "squares=data[8]\n",
        "print(type(squares))\n",
        "print(data[1]-data[10])\n",
        "print(id(data))\n",
        "id(data[2])==id(data[8])\n"
      ],
      "execution_count": null,
      "outputs": [
        {
          "output_type": "stream",
          "name": "stdout",
          "text": [
            "<class 'complex'>\n",
            "<class 'bool'>\n",
            "<class 'bool'>\n",
            "<class 'str'>\n",
            "r\n",
            "u\n",
            "n\n",
            "run\n",
            "<class 'bool'>\n",
            "-54.0\n",
            "139929412922896\n"
          ]
        },
        {
          "output_type": "execute_result",
          "data": {
            "text/plain": [
              "False"
            ]
          },
          "metadata": {},
          "execution_count": 35
        }
      ]
    },
    {
      "cell_type": "markdown",
      "metadata": {
        "id": "lRd1WIsJD7Vi"
      },
      "source": [
        "## YOUR ANSWERS GO HERE\n",
        "***Double click on this cell to edit it***\n",
        "1. Complex\n",
        "2. yes they are the same\n",
        "3. string\n",
        "4. Run\n",
        "5. Run\n",
        "6. bool\n",
        "7. -54 \n",
        "8. 139929412922896\n",
        "9. false \n",
        "\n"
      ]
    },
    {
      "cell_type": "markdown",
      "metadata": {
        "id": "QlqCqX3HEInK"
      },
      "source": [
        ""
      ]
    }
  ]
}