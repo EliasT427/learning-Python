{
  "nbformat": 4,
  "nbformat_minor": 0,
  "metadata": {
    "orig_nbformat": 4,
    "colab": {
      "name": "Copy of palindrome.ipynb",
      "provenance": [],
      "include_colab_link": true
    },
    "language_info": {
      "name": "python"
    },
    "kernelspec": {
      "name": "python3",
      "display_name": "Python 3"
    }
  },
  "cells": [
    {
      "cell_type": "markdown",
      "metadata": {
        "id": "view-in-github",
        "colab_type": "text"
      },
      "source": [
        "<a href=\"https://colab.research.google.com/github/EliasT427/learning-Python/blob/main/Copy_of_palindrome.ipynb\" target=\"_parent\"><img src=\"https://colab.research.google.com/assets/colab-badge.svg\" alt=\"Open In Colab\"/></a>"
      ]
    },
    {
      "cell_type": "markdown",
      "metadata": {
        "id": "YmH3wUHpaRIU"
      },
      "source": [
        "# Instructions \n",
        "A palindrome is any word or phrase that is the same when read normally or reversed. \n",
        "---\n",
        "\n",
        "***Your task is to write an algorithm that checks if a given string is a palindrome or not***"
      ]
    },
    {
      "cell_type": "code",
      "metadata": {
        "id": "AXvIr66ZaRIe",
        "colab": {
          "base_uri": "https://localhost:8080/"
        },
        "outputId": "6da3ab59-5ea8-4590-a25b-f561d247e179"
      },
      "source": [
        "strings = [\n",
        "    \"racecar\",\n",
        "    \"washburn\",\n",
        "    \"radar\",\n",
        "    \"top spot\",\n",
        "    \"never\",\n",
        "    \"stats\"    \n",
        "]\n",
        "\n",
        "palindromes = []\n",
        "#TODO find all palindromes\n",
        "for i in strings:\n",
        "  backwards = i[::-1]\n",
        "  if backwards == i:\n",
        "    palindromes.append(i)\n",
        "    print(palindromes)\n"
      ],
      "execution_count": null,
      "outputs": [
        {
          "output_type": "stream",
          "name": "stdout",
          "text": [
            "['racecar']\n",
            "['racecar', 'radar']\n",
            "['racecar', 'radar', 'stats']\n"
          ]
        }
      ]
    }
  ]
}