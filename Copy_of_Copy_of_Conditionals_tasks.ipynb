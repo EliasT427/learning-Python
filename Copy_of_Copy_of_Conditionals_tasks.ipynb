{
  "nbformat": 4,
  "nbformat_minor": 0,
  "metadata": {
    "interpreter": {
      "hash": "fd61235da8d855c081cbd5d7c6398e4c179a40a950675235256f7f30499f1124"
    },
    "kernelspec": {
      "display_name": "Python 3.7.4 64-bit ('base': conda)",
      "name": "python3"
    },
    "language_info": {
      "codemirror_mode": {
        "name": "ipython",
        "version": 3
      },
      "file_extension": ".py",
      "mimetype": "text/x-python",
      "name": "python",
      "nbconvert_exporter": "python",
      "pygments_lexer": "ipython3",
      "version": "3.7.4"
    },
    "orig_nbformat": 4,
    "colab": {
      "name": "Copy of Copy of Conditionals tasks.ipynb",
      "provenance": [],
      "include_colab_link": true
    }
  },
  "cells": [
    {
      "cell_type": "markdown",
      "metadata": {
        "id": "view-in-github",
        "colab_type": "text"
      },
      "source": [
        "<a href=\"https://colab.research.google.com/github/EliasT427/learning-Python/blob/main/Copy_of_Copy_of_Conditionals_tasks.ipynb\" target=\"_parent\"><img src=\"https://colab.research.google.com/assets/colab-badge.svg\" alt=\"Open In Colab\"/></a>"
      ]
    },
    {
      "cell_type": "markdown",
      "metadata": {
        "id": "1sZQrAiHnAkJ"
      },
      "source": [
        "# IF, ELSE, ELIF Statement Exercises\n",
        "Below are a series of tasks to complete that will require the use of conditional statements."
      ]
    },
    {
      "cell_type": "code",
      "metadata": {
        "id": "JxsjpD1NnAkN"
      },
      "source": [
        "#TODO MAKE SURE TO RUN THIS!\n",
        "from random import randint, choice\n",
        "\n",
        "def generate_number(range_=(1, 100)):\n",
        "    return randint(range_[0], range_[1])\n",
        "\n",
        "\n",
        "def random_fruit():\n",
        "    fruits = [\"pomegranate\", \"apple\", \"plum\", \"orange\", \"kiwi\",\n",
        "              \"pitanga\", \"pear\", \"pineapple\", \"raspberry\", \"peach\", \"watermelon\"]\n",
        "    return choice(fruits)\n",
        "\n",
        "\n"
      ],
      "execution_count": null,
      "outputs": []
    },
    {
      "cell_type": "markdown",
      "metadata": {
        "id": "3dnUdGAQnAkP"
      },
      "source": [
        "## TASK 1 \n",
        "Write a conditional to test if `x` is greater than or equal to `y`. Print the result of the conditional."
      ]
    },
    {
      "cell_type": "code",
      "metadata": {
        "id": "avWS5L-pnAkQ",
        "colab": {
          "base_uri": "https://localhost:8080/"
        },
        "outputId": "7f87a63d-8858-4d20-9c12-a4e3d88b5ca9"
      },
      "source": [
        "x = generate_number()\n",
        "y = generate_number()\n",
        "\n",
        "#TODO: check to see if x is greater than y\n",
        "if x>y:\n",
        "  print('x is greater than y')\n",
        "else:\n",
        "  print('x is less than y')"
      ],
      "execution_count": null,
      "outputs": [
        {
          "output_type": "stream",
          "name": "stdout",
          "text": [
            "x is greater than y\n"
          ]
        }
      ]
    },
    {
      "cell_type": "markdown",
      "metadata": {
        "id": "zSty7246nAkR"
      },
      "source": [
        "## TASK 2\n",
        "write a conditional to see if x and y are equal. Print the result of the conditional"
      ]
    },
    {
      "cell_type": "code",
      "metadata": {
        "id": "dkX5cAl9nAkS",
        "colab": {
          "base_uri": "https://localhost:8080/"
        },
        "outputId": "62d3765c-92e6-4885-d522-cd29feecd0e1"
      },
      "source": [
        "x = generate_number((0, 5))\n",
        "y = generate_number((0, 5))\n",
        "\n",
        "#TODO: write a conditional to check if x and y are equal\n",
        "if x == y:\n",
        "  print('x is equal to y')\n",
        "else:\n",
        "  print('x is not equal to y')"
      ],
      "execution_count": null,
      "outputs": [
        {
          "output_type": "stream",
          "name": "stdout",
          "text": [
            "x is not equal to y\n"
          ]
        }
      ]
    },
    {
      "cell_type": "markdown",
      "metadata": {
        "id": "ZnS76vXOnAkT"
      },
      "source": [
        "## TASK 3\n",
        "Jasmine has a fruit store and wants to answer the following questions:\n",
        "> If I choose a random fruit, will it start with the letter `P`?"
      ]
    },
    {
      "cell_type": "code",
      "metadata": {
        "id": "fPDiopH0nAkV",
        "colab": {
          "base_uri": "https://localhost:8080/"
        },
        "outputId": "9b4b48cb-561d-4b03-e326-84411afe7f66"
      },
      "source": [
        "fruit = random_fruit()\n",
        "#TODO: Write conditional statement to check if the fruits first character is the letter p. If it is print 'starts with p' otherwise\n",
        "# print the letter that the fruit starts with. (all letters are lowercase)\n",
        "if fruit[0] == 'p':\n",
        "  print('starts with p')\n",
        "else:\n",
        "  print(fruit[0])"
      ],
      "execution_count": null,
      "outputs": [
        {
          "output_type": "stream",
          "name": "stdout",
          "text": [
            "starts with p\n"
          ]
        }
      ]
    },
    {
      "cell_type": "markdown",
      "metadata": {
        "id": "8OE_36iInAkW"
      },
      "source": [
        "## TASK 4\n",
        "Write a conditional statement to see if the random number that gets generated is equal to the length of a randomly chosen fruit. \n",
        "* If they are equal print the fruit as well as the length. \n",
        "* If they are not equal, print the fruit, the length of the fruit, and the number that was generated"
      ]
    },
    {
      "cell_type": "code",
      "metadata": {
        "id": "ZY4bQ8XynAkY",
        "colab": {
          "base_uri": "https://localhost:8080/"
        },
        "outputId": "6bda54a8-ebea-4190-daef-d8085b28e2c1"
      },
      "source": [
        "fruit = random_fruit()\n",
        "number = generate_number((3, 11))\n",
        "#TODO: Write a conditional statement to see if the random number that is generated is equal to the length of a randomly chosen fruit.\n",
        "if len(fruit) == number:\n",
        "  print('equal length')\n",
        "else:\n",
        "  print('not equal')"
      ],
      "execution_count": null,
      "outputs": [
        {
          "output_type": "stream",
          "name": "stdout",
          "text": [
            "not equal\n"
          ]
        }
      ]
    },
    {
      "cell_type": "markdown",
      "metadata": {
        "id": "I6rFw3YunAkY"
      },
      "source": [
        "## TASK 5\n",
        "Use a ternary conditional assign the value `greater` or `smaller` to the variable `var` if the length of the random fruit is greater than 5 characters. Then print `var`"
      ]
    },
    {
      "cell_type": "code",
      "metadata": {
        "id": "dZMx66lenAkZ",
        "colab": {
          "base_uri": "https://localhost:8080/"
        },
        "outputId": "a2247218-9f92-427e-813c-191c865d0eaf"
      },
      "source": [
        "fruit = random_fruit()\n",
        "#TODO\n",
        "fruit_len=len(fruit)\n",
        "if fruit_len >5:\n",
        "  var = 'Greater'\n",
        "else:\n",
        "  var='Smaller'\n",
        "print(var)"
      ],
      "execution_count": null,
      "outputs": [
        {
          "output_type": "stream",
          "name": "stdout",
          "text": [
            "Smaller\n"
          ]
        }
      ]
    },
    {
      "cell_type": "markdown",
      "metadata": {
        "id": "lPHpYb2dnAka"
      },
      "source": [
        "## TASK 6\n",
        "Below is a list of random characters and one of them will be chosen at random. Write a series of if and elif statements to print different things based on the sign chosen.\n",
        "- @: print `@your_name`\n",
        "- #: print `#itBeLikeThat`\n",
        "- $: print `$10,000`\n",
        "- !: print `WHY AM I YELLING!!!`"
      ]
    },
    {
      "cell_type": "code",
      "metadata": {
        "id": "DjoMEYghnAka",
        "colab": {
          "base_uri": "https://localhost:8080/"
        },
        "outputId": "99f3ca7d-4e40-4626-9c5b-43599d8c29bd"
      },
      "source": [
        "sign = choice([\"@\", \"#\", \"$\", \"!\"])\n",
        "#TODO:\n",
        "if sign == '@':\n",
        "  print('@elias')\n",
        "elif sign == '#':\n",
        "  print('#itBeLikeThat')\n",
        "elif sign == '$':\n",
        "  print('$10,000')\n",
        "else:\n",
        "  print('WHY AM I YELLING!!!')\n",
        "print(sign)\n",
        " "
      ],
      "execution_count": null,
      "outputs": [
        {
          "output_type": "stream",
          "name": "stdout",
          "text": [
            "#itBeLikeThat\n",
            "#\n"
          ]
        }
      ]
    },
    {
      "cell_type": "markdown",
      "metadata": {
        "id": "d15d88P6nAkb"
      },
      "source": [
        "# TASK 7\n",
        "you are building an online store and depending on a users age, they are allowed access to certain products.\n",
        "\n",
        "- if they are younger than 18, they can only buy candy and school supplies\n",
        "- if they are older than or equal to 18 but younger than 21, they can buy lighters and house supplies\n",
        "- if they are 21+ they can buy anything in the store\n",
        "\n",
        "Write a series of if and elif statements to implement this logic."
      ]
    },
    {
      "cell_type": "code",
      "metadata": {
        "id": "mz-tLWDDnAkc",
        "colab": {
          "base_uri": "https://localhost:8080/"
        },
        "outputId": "63b3ef48-8c2e-49dd-88d8-dd12b9e1536b"
      },
      "source": [
        "#TODO\n",
        "age = int(input('what is your age '))\n",
        "if age <18:\n",
        "  print('you can only buy candy and school supplies')\n",
        "elif 21>age>=18:\n",
        "  print('you can buy lighters and house supplies')\n",
        "else:\n",
        "  print('you can buy anything')"
      ],
      "execution_count": null,
      "outputs": [
        {
          "output_type": "stream",
          "name": "stdout",
          "text": [
            "what is your age 30\n",
            "you can buy anything\n"
          ]
        }
      ]
    },
    {
      "cell_type": "markdown",
      "metadata": {
        "id": "cipWgtUjnAkg"
      },
      "source": [
        "# Task 8\n",
        "* ask the user for a number, assign to `value`\n",
        "* ask the user for a number less than the first one, assign to `divisor`\n",
        "* if the `divisor` is greater than `value`, print `\"Divisor too big\"`\n",
        "* if the `divisor` is less than the `value`, check to see if `divisor` is a multiple of `value`.\n",
        "    * if it is a multiple, print `value` can be divided by `divisor`\n",
        "\n",
        "### Example output \n",
        "`\"10 can be divided by 5\"`"
      ]
    },
    {
      "cell_type": "code",
      "metadata": {
        "id": "bbBD3eXAnAkm",
        "colab": {
          "base_uri": "https://localhost:8080/"
        },
        "outputId": "4c3b9f8e-2f48-412d-938e-13425cbacaf7"
      },
      "source": [
        "#TODO\n",
        "value=int(input('pick a number '))\n",
        "divisor=int(input('pick a number less than the first number '))\n",
        "if divisor>value:\n",
        "  print('divisor is too large')\n",
        "else:\n",
        "  if value % divisor==0:\n",
        "    print('value can be divided by divisor')\n",
        "  else:\n",
        "    print('value can not be divided by divisor')"
      ],
      "execution_count": null,
      "outputs": [
        {
          "output_type": "stream",
          "name": "stdout",
          "text": [
            "pick a number 15\n",
            "pick a number less than the first number 5\n",
            "value can be divided by divisor\n"
          ]
        }
      ]
    }
  ]
}