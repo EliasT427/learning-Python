{
  "cells": [
    {
      "cell_type": "markdown",
      "metadata": {
        "id": "view-in-github",
        "colab_type": "text"
      },
      "source": [
        "<a href=\"https://colab.research.google.com/github/EliasT427/learning-Python/blob/main/Copy_of_files_demo.ipynb\" target=\"_parent\"><img src=\"https://colab.research.google.com/assets/colab-badge.svg\" alt=\"Open In Colab\"/></a>"
      ]
    },
    {
      "cell_type": "markdown",
      "metadata": {
        "id": "jRT-cqWCZBUn"
      },
      "source": [
        "# Module Objectives\n",
        "In this module, you will be introduced to the process of working with files as well as handling any errors you may run into when writing code. By the end of this section you will be able to:\n",
        "- Use the `os` module to interface with your computers operating system\n",
        "- Read and write to files\n",
        "- Learn to work with different file formats (csv and json) and the modules used to handle them\n",
        "- Handle any errors that come up in your code"
      ]
    },
    {
      "cell_type": "markdown",
      "metadata": {
        "id": "B3A9qkjaZBUr"
      },
      "source": [
        "# The OS module\n",
        "The `OS` module in Python provides functions for interacting with the operating system. This module provides a portable way of using operating system-dependent functionality like changing the working directory, creating directories, locating files in a directory and more.\n",
        "---\n",
        "To get started using the `os` module, you can import it with the following command:\n",
        "```python \n",
        "import os\n",
        "```"
      ]
    },
    {
      "cell_type": "code",
      "execution_count": null,
      "metadata": {
        "id": "n-NwUFrtZBUs"
      },
      "outputs": [],
      "source": [
        "import os"
      ]
    },
    {
      "cell_type": "markdown",
      "metadata": {
        "id": "CCdeb_WSZBUs"
      },
      "source": [
        "# Creating Paths\n",
        "Paths are how computers are able to locate files and directories. You can join two or more pathname components, inserting `/` as needed using the `os.path.join` method.\n",
        "--\n",
        "\n",
        "### Example\n",
        "```python\n",
        "path = os.path.join('Python', 'Files', 'OS module')\n",
        "print(path) -> \"Python/Files/OS module\"\n",
        "\n",
        "path = os.path.join(path, 'creating paths')\n",
        "print(path) -> \"Python/Files/OS module/creating paths\"\n",
        "```"
      ]
    },
    {
      "cell_type": "code",
      "execution_count": null,
      "metadata": {
        "id": "CRvytRjWZBUs",
        "outputId": "b0306bb1-4535-4fb8-a1c8-c044fbcf1de4",
        "colab": {
          "base_uri": "https://localhost:8080/",
          "height": 364
        }
      },
      "outputs": [
        {
          "output_type": "error",
          "ename": "KeyboardInterrupt",
          "evalue": "ignored",
          "traceback": [
            "\u001b[0;31m---------------------------------------------------------------------------\u001b[0m",
            "\u001b[0;31mKeyboardInterrupt\u001b[0m                         Traceback (most recent call last)",
            "\u001b[0;32m<ipython-input-19-bbef40c7dc84>\u001b[0m in \u001b[0;36m<module>\u001b[0;34m()\u001b[0m\n\u001b[1;32m      7\u001b[0m \u001b[0;32mfor\u001b[0m \u001b[0mi\u001b[0m \u001b[0;32min\u001b[0m \u001b[0mrange\u001b[0m\u001b[0;34m(\u001b[0m\u001b[0;36m100000\u001b[0m\u001b[0;34m)\u001b[0m\u001b[0;34m:\u001b[0m\u001b[0;34m\u001b[0m\u001b[0;34m\u001b[0m\u001b[0m\n\u001b[1;32m      8\u001b[0m   \u001b[0mpath1\u001b[0m \u001b[0;34m=\u001b[0m \u001b[0mos\u001b[0m\u001b[0;34m.\u001b[0m\u001b[0mpath\u001b[0m\u001b[0;34m.\u001b[0m\u001b[0mjoin\u001b[0m\u001b[0;34m(\u001b[0m\u001b[0mpath1\u001b[0m\u001b[0;34m,\u001b[0m \u001b[0;34m'a'\u001b[0m\u001b[0;34m)\u001b[0m\u001b[0;34m\u001b[0m\u001b[0;34m\u001b[0m\u001b[0m\n\u001b[0;32m----> 9\u001b[0;31m   \u001b[0mprint\u001b[0m\u001b[0;34m(\u001b[0m\u001b[0mpath1\u001b[0m\u001b[0;34m)\u001b[0m\u001b[0;34m\u001b[0m\u001b[0;34m\u001b[0m\u001b[0m\n\u001b[0m",
            "\u001b[0;32m/usr/local/lib/python3.7/dist-packages/ipykernel/iostream.py\u001b[0m in \u001b[0;36mwrite\u001b[0;34m(self, string)\u001b[0m\n\u001b[1;32m    398\u001b[0m             \u001b[0mis_child\u001b[0m \u001b[0;34m=\u001b[0m \u001b[0;34m(\u001b[0m\u001b[0;32mnot\u001b[0m \u001b[0mself\u001b[0m\u001b[0;34m.\u001b[0m\u001b[0m_is_master_process\u001b[0m\u001b[0;34m(\u001b[0m\u001b[0;34m)\u001b[0m\u001b[0;34m)\u001b[0m\u001b[0;34m\u001b[0m\u001b[0;34m\u001b[0m\u001b[0m\n\u001b[1;32m    399\u001b[0m             \u001b[0;31m# only touch the buffer in the IO thread to avoid races\u001b[0m\u001b[0;34m\u001b[0m\u001b[0;34m\u001b[0m\u001b[0;34m\u001b[0m\u001b[0m\n\u001b[0;32m--> 400\u001b[0;31m             \u001b[0mself\u001b[0m\u001b[0;34m.\u001b[0m\u001b[0mpub_thread\u001b[0m\u001b[0;34m.\u001b[0m\u001b[0mschedule\u001b[0m\u001b[0;34m(\u001b[0m\u001b[0;32mlambda\u001b[0m \u001b[0;34m:\u001b[0m \u001b[0mself\u001b[0m\u001b[0;34m.\u001b[0m\u001b[0m_buffer\u001b[0m\u001b[0;34m.\u001b[0m\u001b[0mwrite\u001b[0m\u001b[0;34m(\u001b[0m\u001b[0mstring\u001b[0m\u001b[0;34m)\u001b[0m\u001b[0;34m)\u001b[0m\u001b[0;34m\u001b[0m\u001b[0;34m\u001b[0m\u001b[0m\n\u001b[0m\u001b[1;32m    401\u001b[0m             \u001b[0;32mif\u001b[0m \u001b[0mis_child\u001b[0m\u001b[0;34m:\u001b[0m\u001b[0;34m\u001b[0m\u001b[0;34m\u001b[0m\u001b[0m\n\u001b[1;32m    402\u001b[0m                 \u001b[0;31m# newlines imply flush in subprocesses\u001b[0m\u001b[0;34m\u001b[0m\u001b[0;34m\u001b[0m\u001b[0;34m\u001b[0m\u001b[0m\n",
            "\u001b[0;32m/usr/local/lib/python3.7/dist-packages/ipykernel/iostream.py\u001b[0m in \u001b[0;36mschedule\u001b[0;34m(self, f)\u001b[0m\n\u001b[1;32m    201\u001b[0m             \u001b[0mself\u001b[0m\u001b[0;34m.\u001b[0m\u001b[0m_events\u001b[0m\u001b[0;34m.\u001b[0m\u001b[0mappend\u001b[0m\u001b[0;34m(\u001b[0m\u001b[0mf\u001b[0m\u001b[0;34m)\u001b[0m\u001b[0;34m\u001b[0m\u001b[0;34m\u001b[0m\u001b[0m\n\u001b[1;32m    202\u001b[0m             \u001b[0;31m# wake event thread (message content is ignored)\u001b[0m\u001b[0;34m\u001b[0m\u001b[0;34m\u001b[0m\u001b[0;34m\u001b[0m\u001b[0m\n\u001b[0;32m--> 203\u001b[0;31m             \u001b[0mself\u001b[0m\u001b[0;34m.\u001b[0m\u001b[0m_event_pipe\u001b[0m\u001b[0;34m.\u001b[0m\u001b[0msend\u001b[0m\u001b[0;34m(\u001b[0m\u001b[0;34mb''\u001b[0m\u001b[0;34m)\u001b[0m\u001b[0;34m\u001b[0m\u001b[0;34m\u001b[0m\u001b[0m\n\u001b[0m\u001b[1;32m    204\u001b[0m         \u001b[0;32melse\u001b[0m\u001b[0;34m:\u001b[0m\u001b[0;34m\u001b[0m\u001b[0;34m\u001b[0m\u001b[0m\n\u001b[1;32m    205\u001b[0m             \u001b[0mf\u001b[0m\u001b[0;34m(\u001b[0m\u001b[0;34m)\u001b[0m\u001b[0;34m\u001b[0m\u001b[0;34m\u001b[0m\u001b[0m\n",
            "\u001b[0;32m/usr/local/lib/python3.7/dist-packages/zmq/sugar/socket.py\u001b[0m in \u001b[0;36msend\u001b[0;34m(self, data, flags, copy, track, routing_id, group)\u001b[0m\n\u001b[1;32m    545\u001b[0m                 )\n\u001b[1;32m    546\u001b[0m             \u001b[0mdata\u001b[0m\u001b[0;34m.\u001b[0m\u001b[0mgroup\u001b[0m \u001b[0;34m=\u001b[0m \u001b[0mgroup\u001b[0m\u001b[0;34m\u001b[0m\u001b[0;34m\u001b[0m\u001b[0m\n\u001b[0;32m--> 547\u001b[0;31m         \u001b[0;32mreturn\u001b[0m \u001b[0msuper\u001b[0m\u001b[0;34m(\u001b[0m\u001b[0mSocket\u001b[0m\u001b[0;34m,\u001b[0m \u001b[0mself\u001b[0m\u001b[0;34m)\u001b[0m\u001b[0;34m.\u001b[0m\u001b[0msend\u001b[0m\u001b[0;34m(\u001b[0m\u001b[0mdata\u001b[0m\u001b[0;34m,\u001b[0m \u001b[0mflags\u001b[0m\u001b[0;34m=\u001b[0m\u001b[0mflags\u001b[0m\u001b[0;34m,\u001b[0m \u001b[0mcopy\u001b[0m\u001b[0;34m=\u001b[0m\u001b[0mcopy\u001b[0m\u001b[0;34m,\u001b[0m \u001b[0mtrack\u001b[0m\u001b[0;34m=\u001b[0m\u001b[0mtrack\u001b[0m\u001b[0;34m)\u001b[0m\u001b[0;34m\u001b[0m\u001b[0;34m\u001b[0m\u001b[0m\n\u001b[0m\u001b[1;32m    548\u001b[0m \u001b[0;34m\u001b[0m\u001b[0m\n\u001b[1;32m    549\u001b[0m     \u001b[0;32mdef\u001b[0m \u001b[0msend_multipart\u001b[0m\u001b[0;34m(\u001b[0m\u001b[0mself\u001b[0m\u001b[0;34m,\u001b[0m \u001b[0mmsg_parts\u001b[0m\u001b[0;34m,\u001b[0m \u001b[0mflags\u001b[0m\u001b[0;34m=\u001b[0m\u001b[0;36m0\u001b[0m\u001b[0;34m,\u001b[0m \u001b[0mcopy\u001b[0m\u001b[0;34m=\u001b[0m\u001b[0;32mTrue\u001b[0m\u001b[0;34m,\u001b[0m \u001b[0mtrack\u001b[0m\u001b[0;34m=\u001b[0m\u001b[0;32mFalse\u001b[0m\u001b[0;34m,\u001b[0m \u001b[0;34m**\u001b[0m\u001b[0mkwargs\u001b[0m\u001b[0;34m)\u001b[0m\u001b[0;34m:\u001b[0m\u001b[0;34m\u001b[0m\u001b[0;34m\u001b[0m\u001b[0m\n",
            "\u001b[0;32mzmq/backend/cython/socket.pyx\u001b[0m in \u001b[0;36mzmq.backend.cython.socket.Socket.send\u001b[0;34m()\u001b[0m\n",
            "\u001b[0;32mzmq/backend/cython/socket.pyx\u001b[0m in \u001b[0;36mzmq.backend.cython.socket.Socket.send\u001b[0;34m()\u001b[0m\n",
            "\u001b[0;32mzmq/backend/cython/socket.pyx\u001b[0m in \u001b[0;36mzmq.backend.cython.socket._send_copy\u001b[0;34m()\u001b[0m\n",
            "\u001b[0;32m/usr/local/lib/python3.7/dist-packages/zmq/backend/cython/checkrc.pxd\u001b[0m in \u001b[0;36mzmq.backend.cython.checkrc._check_rc\u001b[0;34m()\u001b[0m\n",
            "\u001b[0;31mKeyboardInterrupt\u001b[0m: "
          ]
        }
      ],
      "source": [
        "#TODO create a path \n",
        "path = os.path.join('python','files','os module')\n",
        "print(path)\n",
        "path = os.path.join(path, 'creating paths', path)\n",
        "path\n",
        "path1 = os.path.join('a')\n",
        "for i in range(1000):\n",
        "  path1 = os.path.join(path1, 'a')\n",
        "  print(path1)\n"
      ]
    },
    {
      "cell_type": "markdown",
      "metadata": {
        "id": "jj7h6DP_ZBUt"
      },
      "source": [
        "# Creating directories\n",
        "If we want to have python create a new directory for us, we can do so using the `makedirs` function. The `os.makedirs()` method in Python is used to create a directory recursively. That means while making your base directory, if any intermediate-level directory is missing, os.makedirs() method will create them all.\n",
        "---\n",
        "\n",
        "### Example\n",
        "```python\n",
        "path = \"5. Files and Exceptions/5.1 Reading and writing to files/new directory\n",
        "os.makedirs(path)\n",
        "```"
      ]
    },
    {
      "cell_type": "code",
      "execution_count": null,
      "metadata": {
        "id": "pFCunC0xZBUt"
      },
      "outputs": [],
      "source": [
        "def create_directories():\n",
        "  try:\n",
        "    os.makedirs('sample/directory1')\n",
        "    os.makedirs('sample/directory2/subdirectory')\n",
        "    os.makedirs('sample/directory3/subdirectory/finaldirectory')\n",
        "    print(\"Directories created successfully!\")\n",
        "  except Exception as e:\n",
        "    print(\"There was an error\")\n",
        "    raise e\n",
        "\n",
        "create_directories()"
      ]
    },
    {
      "cell_type": "markdown",
      "metadata": {
        "id": "Ht604hOnZBUt"
      },
      "source": [
        "# What directory are we working in?\n",
        "A directory is a collection of files and subdirectories, in other words, a directory is just a folder on your computer. When you want to interact with a folder on your computer, you can do that in the `File Explorer` if you're on windows or the `Finder` if you're on mac. In either of these programs it is easy to tell which folder you're working in because it is the folder that is currently open, for which you can see its contents. Writing code to interface with a computers filesystem is not as straightforward as it is when using a GUI like `windows file explorer` or `Mac finder`. When working with filesystems in any programming language, you always want to know which directory you are working in. Otherwise you could write files to the wrong locations or get file not found errors. We can check the current working directory using the `os.getcwd` method.\n",
        "\n",
        "\n",
        "```python\n",
        "import os\n",
        "print(os.getcwd()) -> '/Python-Course/Modules/5. Files and Exceptions/5.1 Reading and writing to files'\n",
        "```"
      ]
    },
    {
      "cell_type": "code",
      "execution_count": null,
      "metadata": {
        "id": "1V3vbX_zZBUu",
        "outputId": "6f2bae58-41a4-4ddd-e471-f42b8d24d876",
        "colab": {
          "base_uri": "https://localhost:8080/"
        }
      },
      "outputs": [
        {
          "output_type": "stream",
          "name": "stdout",
          "text": [
            "/\n"
          ]
        }
      ],
      "source": [
        "#TODO print the current working directory\n",
        "print(os.getcwd())"
      ]
    },
    {
      "cell_type": "markdown",
      "metadata": {
        "id": "_hQb2vjHZBUu"
      },
      "source": [
        "# Changing directories\n",
        "Now that we can verify our working directory in python, we can move around our file system by using the `os.chdir` method. This method expects a single argument which is a path that points to a new directory on our computer.\n",
        "---\n",
        "\n",
        "```python \n",
        "os.chdir('sample/directory1')\n",
        "print(os.getcwd()) -> 'sample/directory1'\n",
        "```\n",
        "\n",
        "*When you change your working directory, all file operations that you do will be done in the directory you've changed to unless you specify that you want to operate in a different location.*\n",
        "---"
      ]
    },
    {
      "cell_type": "code",
      "execution_count": null,
      "metadata": {
        "id": "AZAhn_7WZBUu",
        "outputId": "f2bc3268-772b-466a-d1f9-6cf26fd24a24",
        "colab": {
          "base_uri": "https://localhost:8080/",
          "height": 35
        }
      },
      "outputs": [
        {
          "output_type": "execute_result",
          "data": {
            "application/vnd.google.colaboratory.intrinsic+json": {
              "type": "string"
            },
            "text/plain": [
              "'/'"
            ]
          },
          "metadata": {},
          "execution_count": 55
        }
      ],
      "source": [
        "#TODO Change directories to the sample directory1\n",
        "os.chdir('/')\n",
        "os.getcwd()"
      ]
    },
    {
      "cell_type": "markdown",
      "metadata": {
        "id": "W3Jbq-XeZBUv"
      },
      "source": [
        "If you are in a subdirectory and want to move up a level (to the parent directory) you can do so by prepending `..` to your file path. The `..` means *'go up one directory'*\n",
        "---\n",
        "\n",
        "```python\n",
        "print(os.getcwd()) -> 'sample/directory1'\n",
        "path = '../'\n",
        "os.chdir(path)\n",
        "print(os.getcwd()) -> 'sample'\n",
        "```"
      ]
    },
    {
      "cell_type": "code",
      "execution_count": null,
      "metadata": {
        "id": "ALRnuBffZBUv",
        "outputId": "677cadec-9b04-4db1-bae3-ad816f696974",
        "colab": {
          "base_uri": "https://localhost:8080/"
        }
      },
      "outputs": [
        {
          "output_type": "stream",
          "name": "stdout",
          "text": [
            "/content/sample/directory1\n"
          ]
        }
      ],
      "source": [
        "#TODO go up to the parent directory from within directory1\n",
        "print(os.getcwd())\n",
        "os.chdir('..')"
      ]
    },
    {
      "cell_type": "code",
      "source": [
        "!ls"
      ],
      "metadata": {
        "id": "ufVNddedeg0K",
        "outputId": "a75409a2-23f3-4dd1-ae2e-8311d643f4a0",
        "colab": {
          "base_uri": "https://localhost:8080/"
        }
      },
      "execution_count": null,
      "outputs": [
        {
          "output_type": "stream",
          "name": "stdout",
          "text": [
            "directory1  directory2\tdirectory3\n"
          ]
        }
      ]
    },
    {
      "cell_type": "markdown",
      "metadata": {
        "id": "gOXFHT8eZBUv"
      },
      "source": [
        "# Listing files and directories\n",
        "The `os.listdir()` method in python is used to get the list of all files and directories in the specified directory. If we don’t specify any directory, then list of files and directories in the current working directory will be returned.\n",
        "\n",
        "```python \n",
        "# list files and directories in the working dorectory\n",
        "entities = os.listdir()\n",
        "print(entities) -> ['sample', 'directory1', 'directory2', etc...]\n",
        "\n",
        "# list files and directories in a specific directory\n",
        "entities = os.listdir('5.1 Reading and writing to files')\n",
        "print(entities) -> ['files_demo.ipynb', 'sample', etc...]\n",
        "```"
      ]
    },
    {
      "cell_type": "code",
      "execution_count": null,
      "metadata": {
        "id": "21KeHacRZBUv"
      },
      "outputs": [],
      "source": [
        "#TODO list the files and directories in the working directory\n",
        "entities = os.listdir()\n",
        "print(entities)\n",
        "#TODO list the files and directories in the '/' (root) directory\n",
        "os.listdir('/dev')\n",
        "#TODO use a for loop to print out the files and directories along with the index of each entity\n",
        "for index, entity in enumerate(os.listdir(\"/opt/nvidia/nsight-compute/2020.2.1\")):\n",
        "  print(f'{index} {entity}')"
      ]
    },
    {
      "cell_type": "markdown",
      "metadata": {
        "id": "xe0jUlIdZBUw"
      },
      "source": [
        "# Listing all files and directories\n",
        "Given a directory path, If you want to list all of the files, directories, and subdirectories in that path, you can use the `os.walk` method. This method takes a path as a required argument, however, there are other optional argument but we're not going to go into those. The `path` argument is the root path that you want to start at and the `walk` method will recursively list every entity in the root path. It returns a 3 element tuple where the elements are `(root, directories, files)`.\n",
        "\n",
        "```python\n",
        "for root, directories, files in os.walk(os.getcwd()):\n",
        "    print(root, directories, files)\n",
        "```"
      ]
    },
    {
      "cell_type": "code",
      "execution_count": null,
      "metadata": {
        "id": "MIcP33ioZBUw"
      },
      "outputs": [],
      "source": [
        "#TODO Walk the current directory and list everything\n",
        "for root, subdir, files in os.walk(os.getcwd()):\n",
        "  print(f'{root} root {subdir} subdir  {files}files')"
      ]
    },
    {
      "cell_type": "markdown",
      "metadata": {
        "id": "EZ3hd1_LZBUw"
      },
      "source": [
        "# Reading/Writing to files and context managers\n",
        "To write to a file in python we can use the built-in `open` function. This function expects 2 arguments:\n",
        "- `Filename`: The name of the file (duh)\n",
        "- `Mode`: Specifies if you want to read or write to the file\n",
        "\n",
        "**To write to a file use `'w'` (if it doesn't exist, it will be created) and to read a file use `'r'`.**\n",
        "\n",
        "```python \n",
        "file = open('test.txt', 'w')\n",
        "file.write(\"This is me writing to a file\")\n",
        "file.close()\n",
        "\n",
        "file = open(\"test.txt\", 'r')\n",
        "content = file.read()\n",
        "file.close()\n",
        "print(content) -> \"This is me writing to a file\"\n",
        "```\n",
        "**Notice how in order to read/write to a file we have to both manually open and close the file. You should not open files this way**\n",
        "\n",
        "\n",
        "## How to actually open to files\n",
        "In python, a context manager creates a runtime context that allows you to run a group of statements under a given context. What this means in plain english is that ***`a context manager allows you to run a block of code under certain conditions that allow for the safe management of resources without you having to write code to manage these resources`***. This is especially useful when working with files because any read/write operation requires that you open then close the file, which can cause problems if not done properly. In order to use a context manager, use the `with` keyword:\n",
        "\n",
        "```python \n",
        "with open('test.txt', 'w') as file:\n",
        "    file.write(\"This is how you should actually write to a file\")\n",
        "```\n",
        "\n",
        "## What does this mean and why is it better?\n",
        "Lets break this down piece by piece.\n",
        "- `with open('test.txt', 'w')`: ***'within the context of the open function, open the file \"test.txt\" and prepare it to have data written to it'***\n",
        "- `as file`: ***The current context is opening a file and I want to reference the opened file as 'file'***\n",
        "- `file.write()`: ***Write my data to the file***\n",
        "\n",
        "Opening files this way is much much better because the context manager takes care of closing the file for us, even an error occurs. That makes this method much safer because not closing a file can lead to many problems that I won't go into detail about, but you can look at them [here](https://stackoverflow.com/questions/25070854/why-should-i-close-files-in-python)\n",
        "\n"
      ]
    },
    {
      "cell_type": "code",
      "execution_count": null,
      "metadata": {
        "id": "b2gWWTQTZBUw"
      },
      "outputs": [],
      "source": [
        "#TODO create the file 'read_me.txt' and write 'You've successfully read this file' then read the file and print the contents of it.\n",
        "with open('read_me.txt', 'w') as file:\n",
        "  file.write('you successfully read from this file.')"
      ]
    },
    {
      "cell_type": "code",
      "source": [
        "with open('read_me.txt','r') as file:\n",
        "  content = file.read()\n",
        "print(content)"
      ],
      "metadata": {
        "id": "c1_Gviu0mK5T",
        "outputId": "e60037b3-841f-4408-ab9c-d35631e304dd",
        "colab": {
          "base_uri": "https://localhost:8080/"
        }
      },
      "execution_count": null,
      "outputs": [
        {
          "output_type": "stream",
          "name": "stdout",
          "text": [
            "you successfully read from this file.\n"
          ]
        }
      ]
    },
    {
      "cell_type": "code",
      "source": [
        "os.chdir('content/sample')"
      ],
      "metadata": {
        "id": "Agf2p3UalOs1"
      },
      "execution_count": null,
      "outputs": []
    },
    {
      "cell_type": "markdown",
      "metadata": {
        "id": "Xz5RQvgwZBUx"
      },
      "source": [
        "# JSON and storing data\n",
        "Writing data to a text file means that you are simply dumping everything into a file with little to no formatting. For simple one line statements this is ok, but for larger data structures, this is not ideal. Imagine having to write data to a file for our bank project. In order to get this data back into a useable python data structure requires more code than if you were to store data as something like `key:value` pairs. `JSON` or javascript object notation, is a way to do exactly that. A json file can be easily loaded to or from a python dictionary because it *is* a python dictionary. All we have to do is import the `json` module.\n",
        "\n",
        "```python \n",
        "import json\n",
        "```\n",
        "\n",
        "# Reading and writing to json\n",
        "When we import the `json` module, the 2 methods you should get familiar with are `json.dump` and `json.load`.\n",
        "- `json.dump(data, file)`: will save a dictionary as a json file\n",
        "- `json.load(file)`: will load a json file as a dictionary\n",
        "\n",
        "```python \n",
        "# saving a json file\n",
        "data = {\n",
        "    'name': \"Gabe\",\n",
        "    'age': 22,\n",
        "    'fav_food': 'shrimp alfredo'\n",
        "}\n",
        "\n",
        "with open('data.json', 'w') as file:\n",
        "    json.dump(data, file, indent = 2)\n",
        "\n",
        "\n",
        "# loading a json file\n",
        "with open('data.json','r') as file:\n",
        "    data = json.load(file)\n",
        "```"
      ]
    },
    {
      "cell_type": "code",
      "execution_count": null,
      "metadata": {
        "id": "tRPzBdxaZBUx"
      },
      "outputs": [],
      "source": [
        "#TODO create a python dictionary and write it to a json file\n",
        "data = {\n",
        "    'name': 'elias',\n",
        "    'age': 15,\n",
        "    'fav_food': 'sushi'\n",
        "}\n"
      ]
    },
    {
      "cell_type": "code",
      "source": [
        "import json\n",
        "print(json.dumps(data, indent = 4))"
      ],
      "metadata": {
        "id": "ENeDeoQmnxcW",
        "outputId": "d92faf4b-7bd6-4fb7-fd8a-4760c710c01f",
        "colab": {
          "base_uri": "https://localhost:8080/"
        }
      },
      "execution_count": null,
      "outputs": [
        {
          "output_type": "stream",
          "name": "stdout",
          "text": [
            "{\n",
            "    \"name\": \"elias\",\n",
            "    \"age\": 15,\n",
            "    \"fav_food\": \"sushi\"\n",
            "}\n"
          ]
        }
      ]
    },
    {
      "cell_type": "code",
      "source": [
        "with open('directory1/data.json', 'w') as file:\n",
        "  json.dump(data, file, indent = 4)"
      ],
      "metadata": {
        "id": "aqt3zZsUn0hX"
      },
      "execution_count": null,
      "outputs": []
    },
    {
      "cell_type": "code",
      "source": [
        "with open('directory1/data.json', 'r') as file:\n",
        "  content = json.load(file)\n",
        "  print(content)"
      ],
      "metadata": {
        "id": "9UobAFQBpIzX",
        "outputId": "3d149a86-25da-4753-b436-79753fabc465",
        "colab": {
          "base_uri": "https://localhost:8080/"
        }
      },
      "execution_count": null,
      "outputs": [
        {
          "output_type": "stream",
          "name": "stdout",
          "text": [
            "{'name': 'elias', 'age': 15, 'fav_food': 'sushi'}\n"
          ]
        }
      ]
    },
    {
      "cell_type": "code",
      "source": [
        ""
      ],
      "metadata": {
        "id": "bzzvCqfSpok0"
      },
      "execution_count": null,
      "outputs": []
    }
  ],
  "metadata": {
    "interpreter": {
      "hash": "f1a916808f2d29f1a5fbd48aa1cb9129993ca703ecce713879d0cd946e898e32"
    },
    "kernelspec": {
      "display_name": "Python 3.9.7 ('legacy')",
      "language": "python",
      "name": "python3"
    },
    "language_info": {
      "codemirror_mode": {
        "name": "ipython",
        "version": 3
      },
      "file_extension": ".py",
      "mimetype": "text/x-python",
      "name": "python",
      "nbconvert_exporter": "python",
      "pygments_lexer": "ipython3",
      "version": "3.9.7"
    },
    "orig_nbformat": 4,
    "colab": {
      "name": "Copy of files_demo.ipynb",
      "provenance": [],
      "include_colab_link": true
    }
  },
  "nbformat": 4,
  "nbformat_minor": 0
}