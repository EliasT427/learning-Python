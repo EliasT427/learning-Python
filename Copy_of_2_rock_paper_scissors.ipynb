{
  "nbformat": 4,
  "nbformat_minor": 0,
  "metadata": {
    "orig_nbformat": 4,
    "colab": {
      "name": "Copy of 2. rock_paper_scissors.ipynb",
      "provenance": [],
      "include_colab_link": true
    },
    "language_info": {
      "name": "python"
    },
    "kernelspec": {
      "name": "python3",
      "display_name": "Python 3"
    }
  },
  "cells": [
    {
      "cell_type": "markdown",
      "metadata": {
        "id": "view-in-github",
        "colab_type": "text"
      },
      "source": [
        "<a href=\"https://colab.research.google.com/github/EliasT427/learning-Python/blob/main/Copy_of_2_rock_paper_scissors.ipynb\" target=\"_parent\"><img src=\"https://colab.research.google.com/assets/colab-badge.svg\" alt=\"Open In Colab\"/></a>"
      ]
    },
    {
      "cell_type": "markdown",
      "metadata": {
        "id": "gXqP5cl3mFTY"
      },
      "source": [
        "# Instructions\n",
        "implement the game rock, paper, scissors using flow control. It's you agains the computer and your task is to implement the logic below.\n",
        "\n",
        "- have the computer randomly pick a move `rock, paper, or scissors`\n",
        "- input your move `rock, paper, or scissors`\n",
        "- determine the winner based on your choice and the computer choice\n",
        "\n",
        "<br>\n",
        "\n",
        "- rock beats scissors\n",
        "- scissors beats paper\n",
        "- paper beats rock"
      ]
    },
    {
      "cell_type": "code",
      "metadata": {
        "id": "47dqFxgZmFTc",
        "colab": {
          "base_uri": "https://localhost:8080/"
        },
        "outputId": "05f96ea2-7181-47b8-c0a7-230ab1e388b3"
      },
      "source": [
        "\n",
        "from random import choice\n",
        "game=choice(['rock','paper','scissors'])\n",
        "player_choice=input('pick rock, paper or scissors ')\n",
        "player_choice=player_choice.lower()\n",
        "if player_choice==game:\n",
        "  print('tie')\n",
        "elif player_choice=='rock':\n",
        "  if game=='scissors':\n",
        "    print('you win')\n",
        "  if game=='paper':\n",
        "    print('you suck at rock paper scissors')\n",
        "elif player_choice=='scissors':\n",
        "  if game=='paper':\n",
        "    print('you win')\n",
        "  if game=='rock':\n",
        "    print('you suck at rock paper scissors')\n",
        "else:\n",
        "  if game=='rock':\n",
        "    print('you win')\n",
        "  if game=='scissors':\n",
        "    print('you suck at rock paper scissors')\n"
      ],
      "execution_count": 10,
      "outputs": [
        {
          "output_type": "stream",
          "name": "stdout",
          "text": [
            "pick rock, paper or scissors scissors\n",
            "you suck at rock paper scissors\n"
          ]
        }
      ]
    }
  ]
}