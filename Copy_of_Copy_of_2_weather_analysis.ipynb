{
  "cells": [
    {
      "cell_type": "markdown",
      "metadata": {
        "id": "view-in-github",
        "colab_type": "text"
      },
      "source": [
        "<a href=\"https://colab.research.google.com/github/EliasT427/learning-Python/blob/main/Copy_of_Copy_of_2_weather_analysis.ipynb\" target=\"_parent\"><img src=\"https://colab.research.google.com/assets/colab-badge.svg\" alt=\"Open In Colab\"/></a>"
      ]
    },
    {
      "cell_type": "markdown",
      "metadata": {
        "id": "QfOVI5By9mo6"
      },
      "source": [
        "# Instructions\n",
        "Given some weather data find complete the analysis.\n",
        "\n",
        "https://www.kaggle.com/muthuj7/weather-dataset?select=weatherHistory.csv"
      ]
    },
    {
      "cell_type": "code",
      "execution_count": null,
      "metadata": {
        "id": "v_deVJyK9mo8",
        "outputId": "fb115515-b5cb-4733-f797-715c3fa8087d",
        "colab": {
          "base_uri": "https://localhost:8080/"
        }
      },
      "outputs": [
        {
          "output_type": "execute_result",
          "data": {
            "text/plain": [
              "{'Apparent Temperature (C)': 12.094444444444447,\n",
              " 'Daily Summary': 'Partly cloudy until night.',\n",
              " 'Formatted Date': '2006-06-06 07:00:00.000 +0200',\n",
              " 'Humidity': 0.86,\n",
              " 'Loud Cover': 0.0,\n",
              " 'Precip Type': 'rain',\n",
              " 'Pressure (millibars)': 1022.22,\n",
              " 'Summary': 'Partly Cloudy',\n",
              " 'Temperature (C)': 12.094444444444447,\n",
              " 'Visibility (km)': 9.982,\n",
              " 'Wind Bearing (degrees)': 267.0,\n",
              " 'Wind Speed (km/h)': 3.5742000000000007,\n",
              " 'month': 'June',\n",
              " 'year': 2006}"
            ]
          },
          "metadata": {},
          "execution_count": 1
        }
      ],
      "source": [
        "import pandas as pd\n",
        "import calendar\n",
        "def get_weather_data():\n",
        "    url = \"https://raw.githubusercontent.com/Gabe-flomo/Python-Course/main/Projects/3.%20Data%20structures%20/files/weatherHistory.csv\"\n",
        "    df = pd.read_csv(url)\n",
        "    df['year'] = df['Formatted Date'].apply(lambda x: pd.to_datetime(x).year)\n",
        "    df['month'] = df['Formatted Date'].apply(lambda x: calendar.month_name[pd.to_datetime(x).month])\n",
        "    return df.to_dict('records')\n",
        "\n",
        "weather = get_weather_data()\n",
        "weather[4999]"
      ]
    },
    {
      "cell_type": "markdown",
      "metadata": {
        "id": "od0YnFts9mo9"
      },
      "source": [
        "# Objective 1\n",
        "What is the average `temperature (c)` for `april` in the year 2006?\n",
        "\n",
        "## Example output\n",
        "`The average temperature in april for the year 2006 was 10℃`"
      ]
    },
    {
      "cell_type": "code",
      "execution_count": null,
      "metadata": {
        "id": "dB4yPBju9mo9",
        "outputId": "367b79a3-d240-421d-e8a6-de68048394bb",
        "colab": {
          "base_uri": "https://localhost:8080/",
          "height": 35
        }
      },
      "outputs": [
        {
          "output_type": "execute_result",
          "data": {
            "application/vnd.google.colaboratory.intrinsic+json": {
              "type": "string"
            },
            "text/plain": [
              "'The average temperature in April for the year 2006 was 12.625871913580246'"
            ]
          },
          "metadata": {},
          "execution_count": 40
        }
      ],
      "source": [
        "#TODO\n",
        "average_temp = 0\n",
        "temp_in_april = []\n",
        "for dictionary in weather:\n",
        "  if (dictionary['month'] == 'April') and (dictionary['year'] == 2006):\n",
        "    temp_in_april.append(dictionary['Temperature (C)'])\n",
        "temp_in_april = sum(temp_in_april)/len(temp_in_april)\n",
        "f'The average temperature in April for the year 2006 was {temp_in_april}'\n",
        "      "
      ]
    },
    {
      "cell_type": "markdown",
      "metadata": {
        "id": "9cYp1Ss09mo9"
      },
      "source": [
        "# Objective 2\n",
        "Find all of the data for the year 2007 and determine which `summary` was most common for each `month`.\n",
        "\n",
        "## Example output\n",
        "```python\n",
        "summaries = {\n",
        "    'january': 'partly cloudy',\n",
        "    'february': 'mostly sunny',\n",
        "    'march': 'rainy',\n",
        "    ...\n",
        "}\n",
        "```"
      ]
    },
    {
      "cell_type": "code",
      "execution_count": null,
      "metadata": {
        "id": "K9ylCQ5Z9mo-",
        "outputId": "7de655a5-5ef5-4709-9447-7a1d007fd387",
        "colab": {
          "base_uri": "https://localhost:8080/"
        }
      },
      "outputs": [
        {
          "output_type": "stream",
          "name": "stdout",
          "text": [
            "{'April': {'Breezy and Overcast': 2, 'Overcast': 12, 'Partly Cloudy': 375, 'Mostly Cloudy': 112, 'Clear': 213, 'Foggy': 1, 'Breezy and Partly Cloudy': 1, 'Dry and Partly Cloudy': 4}, 'August': {'Overcast': 39, 'Breezy and Mostly Cloudy': 1, 'Partly Cloudy': 332, 'Mostly Cloudy': 231, 'Clear': 141}, 'December': {'Overcast': 322, 'Partly Cloudy': 74, 'Mostly Cloudy': 84, 'Clear': 35, 'Foggy': 229}, 'February': {'Breezy and Overcast': 8, 'Overcast': 154, 'Breezy and Mostly Cloudy': 8, 'Partly Cloudy': 141, 'Mostly Cloudy': 195, 'Breezy': 1, 'Windy and Mostly Cloudy': 1, 'Clear': 77, 'Foggy': 67, 'Breezy and Partly Cloudy': 12, 'Windy and Partly Cloudy': 8}, 'January': {'Overcast': 147, 'Breezy and Overcast': 7, 'Breezy and Mostly Cloudy': 9, 'Partly Cloudy': 175, 'Mostly Cloudy': 220, 'Breezy': 8, 'Windy and Mostly Cloudy': 2, 'Clear': 135, 'Foggy': 25, 'Breezy and Partly Cloudy': 7, 'Windy and Overcast': 1, 'Dangerously Windy and Partly Cloudy': 1, 'Windy and Partly Cloudy': 7}, 'July': {'Overcast': 27, 'Breezy and Overcast': 3, 'Dry': 14, 'Breezy and Mostly Cloudy': 8, 'Partly Cloudy': 314, 'Mostly Cloudy': 154, 'Breezy': 1, 'Clear': 212, 'Breezy and Partly Cloudy': 6, 'Dry and Partly Cloudy': 5}, 'June': {'Overcast': 15, 'Partly Cloudy': 421, 'Mostly Cloudy': 182, 'Clear': 100, 'Foggy': 2}, 'March': {'Overcast': 152, 'Breezy and Mostly Cloudy': 7, 'Breezy and Overcast': 4, 'Partly Cloudy': 228, 'Mostly Cloudy': 193, 'Clear': 148, 'Foggy': 6, 'Breezy and Partly Cloudy': 2, 'Windy and Partly Cloudy': 3}, 'May': {'Overcast': 109, 'Partly Cloudy': 335, 'Mostly Cloudy': 234, 'Clear': 51, 'Foggy': 14, 'Windy and Partly Cloudy': 1}, 'November': {'Breezy and Overcast': 3, 'Overcast': 200, 'Breezy and Mostly Cloudy': 2, 'Partly Cloudy': 212, 'Mostly Cloudy': 142, 'Breezy': 1, 'Clear': 55, 'Foggy': 82, 'Breezy and Partly Cloudy': 22, 'Windy and Partly Cloudy': 1}, 'October': {'Overcast': 244, 'Partly Cloudy': 175, 'Mostly Cloudy': 179, 'Clear': 96, 'Foggy': 51}, 'September': {'Overcast': 84, 'Breezy and Mostly Cloudy': 3, 'Breezy and Overcast': 4, 'Partly Cloudy': 351, 'Mostly Cloudy': 149, 'Clear': 102, 'Foggy': 20, 'Breezy and Partly Cloudy': 7}}\n"
          ]
        }
      ],
      "source": [
        "#TODO\n",
        "summaries = {}\n",
        "all_summaries_2007 = []\n",
        "month_summary = {}\n",
        "summary_per_month = {}\n",
        "for dictionary in weather:\n",
        "  if dictionary['year'] == 2007:\n",
        "    all_summaries_2007.append((dictionary['month'], dictionary['Summary']))\n",
        "for month, summary in all_summaries_2007:\n",
        "  month_summary.setdefault(month, [])\n",
        "  month_summary[month].append(summary)\n",
        "for key in month_summary:\n",
        "  unique_summaries = set(month_summary[key])\n",
        "  summary_per_month.setdefault(key, {})\n",
        "  summary_per_month[key].fromkeys(unique_summaries)\n",
        "  for unique in unique_summaries:\n",
        "    summary_per_month[key][unique] = month_summary[key].count(unique)\n",
        "print(summary_per_month)"
      ]
    },
    {
      "cell_type": "code",
      "source": [
        "{\n",
        "    'April':{\n",
        "        'partly cloudy': 100,\n",
        "        'cloudy':54\n",
        "    }\n",
        "}"
      ],
      "metadata": {
        "id": "ZreHQbOiMq5K"
      },
      "execution_count": null,
      "outputs": []
    },
    {
      "cell_type": "markdown",
      "metadata": {
        "id": "hS3vRfkz9mo-"
      },
      "source": [
        "# Objective 3\n",
        "Find the max temperature for each month of each year and determine which month had the biggest increase in temperature difference from 2006 to 2007.\n",
        "\n",
        "```python \n",
        "temperatures = {\n",
        "    2006:{\n",
        "        'january': 1,\n",
        "        'february': 3,\n",
        "        'march': 9,\n",
        "        ...\n",
        "    },\n",
        "    2007: {\n",
        "        'january': 2,\n",
        "        'february': 9,\n",
        "        'march': 15,\n",
        "        ...\n",
        "    }\n",
        "\n",
        "}\n",
        "\n",
        "'The month february had the biggest temperature difference from 2006 to 2007, increaseing by 6℃'\n",
        "```"
      ]
    },
    {
      "cell_type": "code",
      "execution_count": null,
      "metadata": {
        "id": "QkaVj7z09mo-",
        "outputId": "d94d5b0e-2117-4d90-f6b0-87b9a9576929",
        "colab": {
          "base_uri": "https://localhost:8080/"
        }
      },
      "outputs": [
        {
          "output_type": "execute_result",
          "data": {
            "text/plain": [
              "{2006: {'April': 25.04444444444444,\n",
              "  'August': 32.638888888888886,\n",
              "  'December': 15.211111111111114,\n",
              "  'February': 14.083333333333336,\n",
              "  'January': 7.505555555555554,\n",
              "  'July': 33.888888888888886,\n",
              "  'June': 34.005555555555546,\n",
              "  'March': 21.183333333333326,\n",
              "  'May': 30.944444444444446,\n",
              "  'November': 18.883333333333333,\n",
              "  'October': 27.73333333333333,\n",
              "  'September': 29.88333333333334},\n",
              " 2007: {'April': 25.094444444444452,\n",
              "  'August': 37.12777777777777,\n",
              "  'December': 7.916666666666668,\n",
              "  'February': 14.972222222222221,\n",
              "  'January': 15.738888888888885,\n",
              "  'July': 39.90555555555555,\n",
              "  'June': 33.96111111111111,\n",
              "  'March': 18.49444444444445,\n",
              "  'May': 29.144444444444442,\n",
              "  'November': 13.794444444444444,\n",
              "  'October': 25.02222222222223,\n",
              "  'September': 29.83888888888889}}"
            ]
          },
          "metadata": {},
          "execution_count": 94
        }
      ],
      "source": [
        "max_temps = {\n",
        "    2006:{},\n",
        "    2007:{}\n",
        "}\n",
        "all_temps = []\n",
        "\n",
        "for dictionary in weather:\n",
        "  if (dictionary['year'] == 2007):\n",
        "    all_temps.append((dictionary['month'], dictionary['Temperature (C)'], dictionary['year']))\n",
        "  elif (dictionary['year'] == 2006):\n",
        "    all_temps.append((dictionary['month'], dictionary['Temperature (C)'], dictionary['year']))\n",
        "for month, temp, year in all_temps:\n",
        "  max_temps[2006].setdefault(month, [])\n",
        "  max_temps[2007].setdefault(month, [])\n",
        "  if year == 2006:\n",
        "    max_temps[2006][month].append(temp)\n",
        "  elif year == 2007:\n",
        "    max_temps[2007][month].append(temp)\n",
        "for year in max_temps:\n",
        "  for month in max_temps[year]:\n",
        "    max_temps[year][month] = max(max_temps[year][month])\n",
        "max_temps\n"
      ]
    },
    {
      "cell_type": "code",
      "source": [
        "temp_diff_month = {\n",
        "    \n",
        "}\n",
        "max_diff = 0\n",
        "for year in max_temps:\n",
        "  for month in max_temps[year]:\n",
        "    temp_diff_month[month] = abs(max_temps[2007][month] - max_temps[2006][month])\n",
        "max_key = max(temp_diff_month, key=temp_diff_month.get)\n",
        "max_value = temp_diff_month[max_key]\n",
        "f'the month {max_key} had the biggest temperature difference from 2006 to 2007, increasing by {max_value}c'"
      ],
      "metadata": {
        "id": "osst7Qs4dMKc",
        "outputId": "f688b0a8-d2a7-44e8-bd96-00ef43e0776a",
        "colab": {
          "base_uri": "https://localhost:8080/",
          "height": 36
        }
      },
      "execution_count": null,
      "outputs": [
        {
          "output_type": "execute_result",
          "data": {
            "application/vnd.google.colaboratory.intrinsic+json": {
              "type": "string"
            },
            "text/plain": [
              "'the month January had the biggest temperature difference from 2006 to 2007, increasing by 8.23333333333333c'"
            ]
          },
          "metadata": {},
          "execution_count": 110
        }
      ]
    },
    {
      "cell_type": "code",
      "source": [
        ""
      ],
      "metadata": {
        "id": "KAaltQfehc7t"
      },
      "execution_count": null,
      "outputs": []
    }
  ],
  "metadata": {
    "interpreter": {
      "hash": "f1a916808f2d29f1a5fbd48aa1cb9129993ca703ecce713879d0cd946e898e32"
    },
    "kernelspec": {
      "display_name": "Python 3.9.7 64-bit ('legacy': conda)",
      "language": "python",
      "name": "python3"
    },
    "language_info": {
      "codemirror_mode": {
        "name": "ipython",
        "version": 3
      },
      "file_extension": ".py",
      "mimetype": "text/x-python",
      "name": "python",
      "nbconvert_exporter": "python",
      "pygments_lexer": "ipython3",
      "version": "3.9.7"
    },
    "orig_nbformat": 4,
    "colab": {
      "name": "Copy of Copy of 2. weather_analysis.ipynb",
      "provenance": [],
      "include_colab_link": true
    }
  },
  "nbformat": 4,
  "nbformat_minor": 0
}