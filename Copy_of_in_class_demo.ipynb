{
  "cells": [
    {
      "cell_type": "markdown",
      "metadata": {
        "id": "view-in-github",
        "colab_type": "text"
      },
      "source": [
        "<a href=\"https://colab.research.google.com/github/EliasT427/learning-Python/blob/main/Copy_of_in_class_demo.ipynb\" target=\"_parent\"><img src=\"https://colab.research.google.com/assets/colab-badge.svg\" alt=\"Open In Colab\"/></a>"
      ]
    },
    {
      "cell_type": "markdown",
      "metadata": {
        "id": "g15gaMf5zv3m"
      },
      "source": [
        "# Strings\n",
        "Python represents text with the string data type. A string is a sequence of characters which also makes it an iterable object.\n",
        "\n",
        "So far, we've covered:\n",
        "- Single and double quoted strings\n",
        "- f-strings\n",
        "- string indexing/slicing\n",
        "- string concatenation\n",
        "\n",
        "In this section we will cover:\n",
        "- multiline strings (AKA docstrings)\n",
        "- string replacement\n",
        "- String splitting/joining\n",
        "- string case conversion\n",
        "- `count()`, `isnumeric()`, `startswith()`, `endswith()`\n",
        "--------\n",
        "\n",
        "# Multiline strings\n",
        "A multiline string is exactly what is sounds like... a string that can span multiple lines. Use triple quotes to create a multiline string."
      ]
    },
    {
      "cell_type": "code",
      "execution_count": null,
      "metadata": {
        "id": "6h1iv1kWzv3n",
        "outputId": "ad3d0b8d-8c3b-4b62-f5f6-7e1341c795e1",
        "colab": {
          "base_uri": "https://localhost:8080/"
        }
      },
      "outputs": [
        {
          "output_type": "stream",
          "name": "stdout",
          "text": [
            "hello i am a multiline string\n",
            "hi\n",
            "hi\n"
          ]
        }
      ],
      "source": [
        "#TODO Create a multiline string on a single line\n",
        "print('''hello i am a multiline string\n",
        "hi\n",
        "hi''')\n"
      ]
    },
    {
      "cell_type": "code",
      "execution_count": null,
      "metadata": {
        "id": "Wnd6zr1Hzv3n"
      },
      "outputs": [],
      "source": [
        "#TODO Create a multiline string over multiple lines\n"
      ]
    },
    {
      "cell_type": "markdown",
      "metadata": {
        "id": "Nf2FcOCLzv3n"
      },
      "source": [
        "----\n",
        "# String replacement\n",
        "Since strings are immutable data types, you aren't able to change it's characters once its been created. However, there are string methods that allow you to alter strings as much as you'd like. \n",
        "\n",
        "The replace method replaces target text inside of a string with substitute text you wanna replace it with."
      ]
    },
    {
      "cell_type": "code",
      "execution_count": null,
      "metadata": {
        "id": "GkVBkOxZzv3o",
        "outputId": "6991df9f-03ad-42b6-ae75-9af6fb03480e",
        "colab": {
          "base_uri": "https://localhost:8080/",
          "height": 35
        }
      },
      "outputs": [
        {
          "output_type": "execute_result",
          "data": {
            "application/vnd.google.colaboratory.intrinsic+json": {
              "type": "string"
            },
            "text/plain": [
              "'Hello universe'"
            ]
          },
          "metadata": {},
          "execution_count": 5
        }
      ],
      "source": [
        "#TODO replace 'world' with 'universe' in the string\n",
        "var = \"Hello world\"\n",
        "var = var.replace('world', 'universe')\n",
        "var"
      ]
    },
    {
      "cell_type": "code",
      "execution_count": null,
      "metadata": {
        "id": "SvOSKb4Tzv3o",
        "outputId": "b0b4f1a8-6eb7-40af-8ff2-8212b41f523c",
        "colab": {
          "base_uri": "https://localhost:8080/"
        }
      },
      "outputs": [
        {
          "output_type": "stream",
          "name": "stdout",
          "text": [
            "My name is gabe\n",
            "My name is nathan\n",
            "My name is nene\n",
            "My name is aaron\n"
          ]
        }
      ],
      "source": [
        "#TODO replace the placeholder with the names in the list\n",
        "names = ['gabe', 'nathan', 'nene', 'aaron']\n",
        "string = \"My name is placeholder\"\n",
        "for name in names:\n",
        "  string2 = string.replace('placeholder', name)\n",
        "  print(string2)"
      ]
    },
    {
      "cell_type": "markdown",
      "metadata": {
        "id": "c9AdSjyezv3o"
      },
      "source": [
        "------\n",
        "# Splitting Strings \n",
        "Consider the following string:\n",
        "\n",
        "```python\n",
        "var = \"Gabe, Nathan, Nene, Aaron\"\n",
        "```\n",
        "\n",
        "Say instead of being a long string seperated by commas, we want to just convert it into a list. At first, you may think that we can just cast the string to a list, but this is what the result of that looks like.\n",
        "\n",
        "```python\n",
        "['G', 'a', 'b', 'e', ',', ' ', 'N', 'a', 't', 'h', 'a', 'n', ',', ' ', 'N', 'e', 'n', 'e', ',', ' ', 'A', 'a', 'r', 'o', 'n']\n",
        "\n",
        "```\n",
        "\n",
        "*Which is not what we want*\n",
        "\n",
        "**The `split` method allows us to convert a string into a list around a specific delimeter, which would look like this.**\n",
        "\n",
        "```python\n",
        "var = \"Gabe, Nathan, Nene, Aaron\"\n",
        "print(var.split(\",\"))\n",
        "\n",
        "#output\n",
        "['Gabe', 'Nathan', 'Nene', 'Aaron']\n",
        "```\n",
        "\n",
        "\n",
        "*A delimeter is just something that marks the begining or end of a string*"
      ]
    },
    {
      "cell_type": "code",
      "execution_count": null,
      "metadata": {
        "id": "tlB3mcubzv3o",
        "outputId": "aa56c8ac-3691-4e22-8960-b2b90be5c6aa",
        "colab": {
          "base_uri": "https://localhost:8080/"
        }
      },
      "outputs": [
        {
          "output_type": "stream",
          "name": "stdout",
          "text": [
            "['Hello', 'world', '👋🏾']\n"
          ]
        }
      ],
      "source": [
        "#TODO split a string using the default delimeter\n",
        "var = \"Hello world 👋🏾\"\n",
        "print(var.split())"
      ]
    },
    {
      "cell_type": "code",
      "execution_count": null,
      "metadata": {
        "id": "wABYqrDSzv3o",
        "outputId": "ea718723-579e-4331-ab07-4d6120754f1f",
        "colab": {
          "base_uri": "https://localhost:8080/"
        }
      },
      "outputs": [
        {
          "output_type": "stream",
          "name": "stdout",
          "text": [
            "['I', 'am', 'a', 'hyphenated', 'string']\n"
          ]
        }
      ],
      "source": [
        "#TODO split a string using a custom delimeter\n",
        "var = \"I-am-a-hyphenated-string\"\n",
        "print(var.split('-'))\n"
      ]
    },
    {
      "cell_type": "markdown",
      "metadata": {
        "id": "XQhTx9pZzv3o"
      },
      "source": [
        "-----\n",
        "# Joining Strings\n",
        "Consider the following the list:\n",
        "\n",
        "```python\n",
        "var = ['The', 'cat', 'in', 'the', 'hat']\n",
        "```\n",
        "Say that we wanted to convert this list into a single string because it would make more sense to treat it as such. We can do this using the `join` method.\n",
        "\n",
        "**The join method allows us to convert a list into a string seperated by a delimeter**\n",
        "\n",
        "```python\n",
        "var = ['The', 'cat', 'in', 'the', 'hat']\n",
        "var = \" \".join(var)\n",
        "print(var)\n",
        "\n",
        "# output\n",
        "\"The cat in the hat\"\n",
        "```"
      ]
    },
    {
      "cell_type": "code",
      "execution_count": null,
      "metadata": {
        "id": "qo6cNQ5bzv3p",
        "outputId": "15f79ac3-7e0f-4c3f-8635-f9336aa60f36",
        "colab": {
          "base_uri": "https://localhost:8080/"
        }
      },
      "outputs": [
        {
          "output_type": "stream",
          "name": "stdout",
          "text": [
            "Gabe Nathan Nene Aaron <class 'str'>\n"
          ]
        }
      ],
      "source": [
        "#TODO join the list using a space\n",
        "var = ['Gabe', 'Nathan', 'Nene', 'Aaron']\n",
        "var = \" \".join(var)\n",
        "print(var, type(var))"
      ]
    },
    {
      "cell_type": "code",
      "execution_count": null,
      "metadata": {
        "id": "BvCZJf54zv3p",
        "outputId": "24d0764c-99eb-4da7-82d9-21599734c9b7",
        "colab": {
          "base_uri": "https://localhost:8080/"
        }
      },
      "outputs": [
        {
          "output_type": "stream",
          "name": "stdout",
          "text": [
            "Gabe,Nathan,Nene,Aaron <class 'str'>\n"
          ]
        }
      ],
      "source": [
        "#TODO join the list using a comma\n",
        "var = ['Gabe', 'Nathan', 'Nene', 'Aaron']\n",
        "var = \",\".join(var)\n",
        "print(var, type(var))"
      ]
    },
    {
      "cell_type": "markdown",
      "metadata": {
        "id": "xUDF3Bdzzv3p"
      },
      "source": [
        "----\n",
        "# Case conversion \n",
        "Case conversion is the process of changing the *capitilization* of a string. Python has 5 [conversion methods](https://www.learnbyexample.org/python-string/#string-case-conversion) and theres 3 of them that will be relevant for us. \n",
        "\n",
        "- `lower`\n",
        "- `upper`\n",
        "- `title`\n",
        "\n",
        "\n",
        "## Make everything small 🤏🏾\n",
        "Say you're working on a natural language project where you need to normailize all of the text. Normalization in this context may mean converting everything to lowercase letters. Python has a method called `.lower()` that can be appended to the end of any literal or string variable to convert the text to lowercase characters.\n",
        "```python\n",
        "var = \"I AM A FULLY CAPITALIZED STRING\"\n",
        "var.lower() -> # \"i am a fully capitalized string\"\n",
        "\n",
        "print(\"LITeral STRing to LOWERcase\".lower()) -> # \"literal string to lowercase\"\n",
        "```\n",
        "\n",
        "\n",
        "\n",
        "\n"
      ]
    },
    {
      "cell_type": "code",
      "execution_count": null,
      "metadata": {
        "id": "ZW8ur6VCzv3p",
        "outputId": "32b12cee-abf3-4d2b-94a2-792e6d47e8e5",
        "colab": {
          "base_uri": "https://localhost:8080/",
          "height": 35
        }
      },
      "outputs": [
        {
          "output_type": "execute_result",
          "data": {
            "application/vnd.google.colaboratory.intrinsic+json": {
              "type": "string"
            },
            "text/plain": [
              "'convert me'"
            ]
          },
          "metadata": {},
          "execution_count": 25
        }
      ],
      "source": [
        "# TODO convert the strings to lowercase\n",
        "var = \"COnvert ME\"\n",
        "var.lower()"
      ]
    },
    {
      "cell_type": "markdown",
      "metadata": {
        "id": "rCmpYdYizv3p"
      },
      "source": [
        "***There is also a method that allows us to check if a string is already in lowercase format or not***"
      ]
    },
    {
      "cell_type": "code",
      "execution_count": null,
      "metadata": {
        "id": "KJimbJWXzv3p",
        "outputId": "5e8945c7-ba51-4341-cd5f-4c7e0345cad8",
        "colab": {
          "base_uri": "https://localhost:8080/"
        }
      },
      "outputs": [
        {
          "output_type": "stream",
          "name": "stdout",
          "text": [
            "False\n"
          ]
        }
      ],
      "source": [
        "#TODO: use the .islower() method to check if a string is lowercase.\n",
        "var = \"Is This String Lowercase?\"\n",
        "print(var.islower())"
      ]
    },
    {
      "cell_type": "code",
      "execution_count": null,
      "metadata": {
        "id": "xsS7VEXNzv3p",
        "outputId": "18cdebbc-67b1-49c4-afb4-6ba0da8f231d",
        "colab": {
          "base_uri": "https://localhost:8080/"
        }
      },
      "outputs": [
        {
          "output_type": "stream",
          "name": "stdout",
          "text": [
            "True\n"
          ]
        }
      ],
      "source": [
        "# Convert the string from above to lowercase and call the .islower() method again. \n",
        "var = var.lower()\n",
        "print(var.islower())"
      ]
    },
    {
      "cell_type": "markdown",
      "metadata": {
        "id": "3RLHmXdHzv3q"
      },
      "source": [
        "# Make everything BIG \n",
        "Similar to the `.lower()` method that could be used to normalize some text to be all lower case, theres another method that we could use to do the opposite. The `.upper()` method will convert all of the characters in a string to their capitilized versions.\n",
        "\n",
        "```python\n",
        "var = \"I am a lower case string\"\n",
        "var.upper() -> # I AM A LOWER CASE STRING\n",
        "```"
      ]
    },
    {
      "cell_type": "code",
      "execution_count": null,
      "metadata": {
        "id": "vYcRq02Yzv3q",
        "outputId": "fe51367c-bf29-49f1-ae60-69baf28fd37c",
        "colab": {
          "base_uri": "https://localhost:8080/",
          "height": 35
        }
      },
      "outputs": [
        {
          "output_type": "execute_result",
          "data": {
            "application/vnd.google.colaboratory.intrinsic+json": {
              "type": "string"
            },
            "text/plain": [
              "'PLEASE MAKE ME BIGGER'"
            ]
          },
          "metadata": {},
          "execution_count": 30
        }
      ],
      "source": [
        "#TODO: Make the text all upper case\n",
        "var = \"please make me bigger\"\n",
        "var.upper()"
      ]
    },
    {
      "cell_type": "markdown",
      "metadata": {
        "id": "BHHzNXqczv3q"
      },
      "source": [
        "***Similar to `.islower()` we can use `.isupper()` to chect if a string is all upper case***"
      ]
    },
    {
      "cell_type": "code",
      "execution_count": null,
      "metadata": {
        "id": "SbSO2InFzv3q",
        "outputId": "57b8853d-ea7b-44bb-f481-5499edf7576f",
        "colab": {
          "base_uri": "https://localhost:8080/"
        }
      },
      "outputs": [
        {
          "output_type": "execute_result",
          "data": {
            "text/plain": [
              "False"
            ]
          },
          "metadata": {},
          "execution_count": 31
        }
      ],
      "source": [
        "#TODO: Check to see if the string is already upper case\n",
        "var = \"Am i Upper CASE?\"\n",
        "var.isupper()"
      ]
    },
    {
      "cell_type": "markdown",
      "metadata": {
        "id": "Xe4S_5BDzv3q"
      },
      "source": [
        "# Titles\n",
        "Whenever you see a book or a movie title, the first letters are always capitilazed. Who know why this is the case but just know that it is. Say you're given a task to enter a bunch of books/movies into a database and you need to make sure that the title is in the correct format, meaning every first letter of each word needs to be capitalized. In python, you can do this by calling the `.title` method on the string.\n",
        "\n",
        "```python\n",
        "title = \"i am not a title :(\"\n",
        "print(title.title()) -> # I Am Not A Title :(\n",
        "```\n"
      ]
    },
    {
      "cell_type": "code",
      "execution_count": null,
      "metadata": {
        "id": "nH24tlZXzv3q",
        "outputId": "699e59e7-3d8f-4c39-cb6f-ee077f78c927",
        "colab": {
          "base_uri": "https://localhost:8080/",
          "height": 35
        }
      },
      "outputs": [
        {
          "output_type": "execute_result",
          "data": {
            "application/vnd.google.colaboratory.intrinsic+json": {
              "type": "string"
            },
            "text/plain": [
              "'Spiderman: Take Me Home'"
            ]
          },
          "metadata": {},
          "execution_count": 32
        }
      ],
      "source": [
        "#TODO: Convert the movie title into the valid title format\n",
        "movie = \"spiderman: take me home\"\n",
        "movie.title()"
      ]
    },
    {
      "cell_type": "markdown",
      "metadata": {
        "id": "zbZKP1nIzv3q"
      },
      "source": [
        "***Similar to the previous two methods, we can check if a string is a title by using the `.istitle()` method***"
      ]
    },
    {
      "cell_type": "code",
      "execution_count": null,
      "metadata": {
        "id": "UDpytSx1zv3r",
        "outputId": "3337266c-f7d4-47ae-d32c-d6a45323a2f0",
        "colab": {
          "base_uri": "https://localhost:8080/"
        }
      },
      "outputs": [
        {
          "output_type": "execute_result",
          "data": {
            "text/plain": [
              "False"
            ]
          },
          "metadata": {},
          "execution_count": 33
        }
      ],
      "source": [
        "#TODO: Is the string a title??\n",
        "book = \"This book Has No title\"\n",
        "book.istitle()"
      ]
    },
    {
      "cell_type": "markdown",
      "metadata": {
        "id": "qPs20zWCzv3r"
      },
      "source": [
        "--------\n",
        "# Other string methods\n",
        "There are actually tons of [string methods](https://www.programiz.com/python-programming/methods/string) that you can check out on your own time, but the last most useful ones that we'll look at are:\n",
        "\n",
        "* `count`\n",
        "* `isnumeric` and `isalum`\n",
        "* `startswith` and `endswith`"
      ]
    },
    {
      "cell_type": "markdown",
      "metadata": {
        "id": "yjatUK7qzv3r"
      },
      "source": [
        "# Count\n",
        "Counts the occurrence of a given substring or character in a string.\n",
        "\n",
        "```python\n",
        "original_string = \"I am the original string\"\n",
        "character = 'i'\n",
        "substring = 'ri'\n",
        "\n",
        "original_string.count(character) -> # 3\n",
        "original_string.count(substring) -> # 2\n",
        "```"
      ]
    },
    {
      "cell_type": "code",
      "execution_count": null,
      "metadata": {
        "id": "DTPOqkFFzv3r",
        "outputId": "acfc5250-e669-44f8-d373-2512622e726b",
        "colab": {
          "base_uri": "https://localhost:8080/"
        }
      },
      "outputs": [
        {
          "output_type": "stream",
          "name": "stdout",
          "text": [
            "4 4 10 1\n"
          ]
        }
      ],
      "source": [
        "#TODO Count the occureences of 'he', 'hello', 'o', and 'world world' in the string\n",
        "var = \"Hello world, hello world hello world world hello hello world\"\n",
        "print(var.count('he'),var.count('hello'),var.count('o'),var.count('world world'))"
      ]
    },
    {
      "cell_type": "markdown",
      "metadata": {
        "id": "7OWJTcjmzv3r"
      },
      "source": [
        "# isnumeric\n",
        "This method is used to determine if a string only contains numeric characters\n",
        "\n",
        "```python \n",
        "\"100\".isnumeric() -> # True\n",
        "\"Hello\".isnumeric() -> # False\n",
        "```"
      ]
    },
    {
      "cell_type": "code",
      "execution_count": null,
      "metadata": {
        "id": "CpizjBE2zv3r",
        "outputId": "09bd8624-9734-4bf1-c350-efb526f910e5",
        "colab": {
          "base_uri": "https://localhost:8080/"
        }
      },
      "outputs": [
        {
          "output_type": "stream",
          "name": "stdout",
          "text": [
            "234\n",
            "999\n"
          ]
        }
      ],
      "source": [
        "#TODO Check to see which of the strings are numeric\n",
        "var = [\"Hello\", \"234\", 'N1c3', \"Im numeric\", '999', '23o1']\n",
        "for i in var:\n",
        "  if i.isnumeric():\n",
        "    print(i)\n"
      ]
    },
    {
      "cell_type": "markdown",
      "metadata": {
        "id": "GPMUKc5rzv3r"
      },
      "source": [
        "# isalum\n",
        "This method is used to determine if the string contains any alpha-numeric characters. If there are any non alpha-numeric charaters in the string, it will return `False`\n",
        "\n",
        "```python \n",
        "\"h3ll0\".isalum() -> # True\n",
        "\"Hello\".isalum() -> # True\n",
        "\"..no\".isalum() -> # False\n",
        "\"3.1415\".isalum() -> # False\n",
        "```"
      ]
    },
    {
      "cell_type": "code",
      "execution_count": null,
      "metadata": {
        "id": "PGWyUvXtzv3r",
        "outputId": "ea57d372-17e3-4e8b-fe30-5bc849a19845",
        "colab": {
          "base_uri": "https://localhost:8080/"
        }
      },
      "outputs": [
        {
          "output_type": "stream",
          "name": "stdout",
          "text": [
            "I am 22 years old\n",
            "This has punctuation!!\n"
          ]
        }
      ],
      "source": [
        "# TODO determine which string contains non alpha-numeric characters\n",
        "var = [\"Hello\", \"I am 22 years old\", \"This has punctuation!!\"]\n",
        "for string in var:\n",
        "  if not string.isalnum():\n",
        "    print(string)"
      ]
    },
    {
      "cell_type": "markdown",
      "metadata": {
        "id": "FvsY0ZVrzv3r"
      },
      "source": [
        "# Starts/Ends with\n",
        "There will be many times where you'll need to check the begining or the end of a string for a set of characters. Sure you can check the end or begining by using bracket notation `[]`, but that isn't always the best way to achieve this.\n",
        "\n",
        "## startswith\n",
        "Checks to see if a string ***starts*** with a given character or substring.\n",
        "\n",
        "```python\n",
        "string = \"Pictionary\"\n",
        "string.startswith(\"Pic\") -> # True\n",
        "```\n",
        "\n",
        "## endswith\n",
        "Checks to see if a string ***ends*** with a given character or substring.\n",
        "```python\n",
        "string = \"Pictionary\"\n",
        "string.endsswith(\"nary\") -> # True\n",
        "```"
      ]
    },
    {
      "cell_type": "code",
      "execution_count": null,
      "metadata": {
        "id": "yD6ydpf7zv3r",
        "outputId": "918a89e6-9176-433a-cae2-8c581489f671",
        "colab": {
          "base_uri": "https://localhost:8080/",
          "height": 35
        }
      },
      "outputs": [
        {
          "output_type": "execute_result",
          "data": {
            "application/vnd.google.colaboratory.intrinsic+json": {
              "type": "string"
            },
            "text/plain": [
              "'3 pictures are .png'"
            ]
          },
          "metadata": {},
          "execution_count": 50
        }
      ],
      "source": [
        "#TODO given a list of files names, count how many end with .png\n",
        "pictures = ['picture.png', 'picture.png', 'picture.gif', 'picture.mp4', 'picture.png', 'picture.jpg']\n",
        "count = 0\n",
        "for string in pictures:\n",
        "  if string.endswith('.png'):\n",
        "    count += 1\n",
        "f'{count} pictures are .png'\n"
      ]
    },
    {
      "cell_type": "code",
      "execution_count": null,
      "metadata": {
        "id": "No0Dv9sVzv3r",
        "outputId": "b04770cd-9747-4637-d716-b71432f8985d",
        "colab": {
          "base_uri": "https://localhost:8080/"
        }
      },
      "outputs": [
        {
          "output_type": "stream",
          "name": "stdout",
          "text": [
            "apple\n",
            "anger\n",
            "appetite\n"
          ]
        }
      ],
      "source": [
        "#TODO given a list of words, see which ones start with the letter 'a'\n",
        "words = ['apple', 'orange', 'anger', 'sadness', 'appetite', 'full']\n",
        "for i in words:\n",
        "  if i.startswith('a'):\n",
        "    print(i)"
      ]
    },
    {
      "cell_type": "markdown",
      "metadata": {
        "id": "OqDDbTulzv3r"
      },
      "source": [
        "***You can also pass a tuple of substrings to check for multiple prefixes or postfixes***"
      ]
    },
    {
      "cell_type": "code",
      "execution_count": null,
      "metadata": {
        "id": "FXSvVEQBzv3r",
        "outputId": "13a8cd58-4acd-4ccc-ea95-bde6336d35c9",
        "colab": {
          "base_uri": "https://localhost:8080/"
        }
      },
      "outputs": [
        {
          "output_type": "stream",
          "name": "stdout",
          "text": [
            "array\n",
            "ergonomic\n",
            "ostrich\n",
            "umbrella\n"
          ]
        }
      ],
      "source": [
        "#TODO Check to see if the words start with vowels\n",
        "vowels = ('a','e','i','o','u')\n",
        "words = ['friend', 'array', 'ergonomic', 'ostrich', 'happy', 'yellow', 'thot', 'umbrella']\n",
        "for i in words:\n",
        "  if i.startswith(vowels):\n",
        "    print(i)"
      ]
    },
    {
      "cell_type": "code",
      "source": [
        ""
      ],
      "metadata": {
        "id": "Kv_Mho-oRwjI"
      },
      "execution_count": null,
      "outputs": []
    }
  ],
  "metadata": {
    "interpreter": {
      "hash": "fd61235da8d855c081cbd5d7c6398e4c179a40a950675235256f7f30499f1124"
    },
    "kernelspec": {
      "display_name": "Python 3.7.4 64-bit ('base': conda)",
      "name": "python3"
    },
    "language_info": {
      "codemirror_mode": {
        "name": "ipython",
        "version": 3
      },
      "file_extension": ".py",
      "mimetype": "text/x-python",
      "name": "python",
      "nbconvert_exporter": "python",
      "pygments_lexer": "ipython3",
      "version": "3.9.7"
    },
    "orig_nbformat": 4,
    "colab": {
      "name": "Copy of in_class_demo.ipynb",
      "provenance": [],
      "include_colab_link": true
    }
  },
  "nbformat": 4,
  "nbformat_minor": 0
}