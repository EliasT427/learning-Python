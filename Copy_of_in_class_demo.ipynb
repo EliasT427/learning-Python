{
  "nbformat": 4,
  "nbformat_minor": 0,
  "metadata": {
    "interpreter": {
      "hash": "fd61235da8d855c081cbd5d7c6398e4c179a40a950675235256f7f30499f1124"
    },
    "kernelspec": {
      "display_name": "Python 3.7.4 64-bit ('base': conda)",
      "name": "python3"
    },
    "language_info": {
      "codemirror_mode": {
        "name": "ipython",
        "version": 3
      },
      "file_extension": ".py",
      "mimetype": "text/x-python",
      "name": "python",
      "nbconvert_exporter": "python",
      "pygments_lexer": "ipython3",
      "version": "3.7.4"
    },
    "orig_nbformat": 4,
    "colab": {
      "name": "Copy of in_class_demo.ipynb",
      "provenance": [],
      "include_colab_link": true
    }
  },
  "cells": [
    {
      "cell_type": "markdown",
      "metadata": {
        "id": "view-in-github",
        "colab_type": "text"
      },
      "source": [
        "<a href=\"https://colab.research.google.com/github/EliasT427/learning-Python/blob/main/Copy_of_in_class_demo.ipynb\" target=\"_parent\"><img src=\"https://colab.research.google.com/assets/colab-badge.svg\" alt=\"Open In Colab\"/></a>"
      ]
    },
    {
      "cell_type": "markdown",
      "metadata": {
        "id": "CX3-4aXcuh8Z"
      },
      "source": [
        "# Type Conversion\n",
        "The process of converting the value of one data type (integer, string, float, etc.) to another data type is called type conversion. Python has two types of type conversion.\n",
        "\n",
        "* Implicit Type Conversion\n",
        "* Explicit Type Conversion\n",
        "\n",
        "## Implicit Type Conversion\n",
        "In Implicit type conversion, Python automatically converts one data type to another data type. This process doesn't need any user involvement.\n",
        "\n",
        "Let's see an example where Python promotes the conversion of the lower data type (integer) to the higher data type (float) to avoid data loss."
      ]
    },
    {
      "cell_type": "code",
      "metadata": {
        "id": "7Rl8eNa5uh8e",
        "colab": {
          "base_uri": "https://localhost:8080/"
        },
        "outputId": "4c453bf7-f93b-41c4-cb9a-900b764f5862"
      },
      "source": [
        "var = 20\n",
        "var2 = 1.15\n",
        "val = var + var2\n",
        "\n",
        "print(f\"Type of var: {type(var)}.    Value: {var}\")\n",
        "print(f\"Type of var2: {type(var2)}. Value: {var2}\")\n",
        "print(f\"Type of val: {type(val)}.  Value: {val}\")\n"
      ],
      "execution_count": null,
      "outputs": [
        {
          "output_type": "stream",
          "name": "stdout",
          "text": [
            "Type of var: <class 'int'>.    Value: 20\n",
            "Type of var2: <class 'float'>. Value: 1.15\n",
            "Type of val: <class 'float'>.  Value: 21.15\n"
          ]
        }
      ]
    },
    {
      "cell_type": "markdown",
      "metadata": {
        "id": "YJI-5W13uh8f"
      },
      "source": [
        "**Lets see another example with string and an int**"
      ]
    },
    {
      "cell_type": "code",
      "metadata": {
        "id": "80IncWiAuh8g",
        "colab": {
          "base_uri": "https://localhost:8080/",
          "height": 232
        },
        "outputId": "4d81be1b-5a84-4b87-cac8-f5c7b53e5792"
      },
      "source": [
        "var = 23\n",
        "var2 = \"43\"\n",
        "val = var + var2\n",
        "\n",
        "print(f\"Type of var: {type(var)}. Value: {var}\")\n",
        "print(f\"Type of var2: {type(var2)}. Value: {var2}\")\n",
        "print(f\"Type of val: {type(val)}. Value: {val}\")\n"
      ],
      "execution_count": null,
      "outputs": [
        {
          "output_type": "error",
          "ename": "TypeError",
          "evalue": "ignored",
          "traceback": [
            "\u001b[0;31m---------------------------------------------------------------------------\u001b[0m",
            "\u001b[0;31mTypeError\u001b[0m                                 Traceback (most recent call last)",
            "\u001b[0;32m<ipython-input-4-c10896e76da4>\u001b[0m in \u001b[0;36m<module>\u001b[0;34m()\u001b[0m\n\u001b[1;32m      1\u001b[0m \u001b[0mvar\u001b[0m \u001b[0;34m=\u001b[0m \u001b[0;36m23\u001b[0m\u001b[0;34m\u001b[0m\u001b[0;34m\u001b[0m\u001b[0m\n\u001b[1;32m      2\u001b[0m \u001b[0mvar2\u001b[0m \u001b[0;34m=\u001b[0m \u001b[0;34m\"43\"\u001b[0m\u001b[0;34m\u001b[0m\u001b[0;34m\u001b[0m\u001b[0m\n\u001b[0;32m----> 3\u001b[0;31m \u001b[0mval\u001b[0m \u001b[0;34m=\u001b[0m \u001b[0mvar\u001b[0m \u001b[0;34m+\u001b[0m \u001b[0mvar2\u001b[0m\u001b[0;34m\u001b[0m\u001b[0;34m\u001b[0m\u001b[0m\n\u001b[0m\u001b[1;32m      4\u001b[0m \u001b[0;34m\u001b[0m\u001b[0m\n\u001b[1;32m      5\u001b[0m \u001b[0mprint\u001b[0m\u001b[0;34m(\u001b[0m\u001b[0;34mf\"Type of var: {type(var)}. Value: {var}\"\u001b[0m\u001b[0;34m)\u001b[0m\u001b[0;34m\u001b[0m\u001b[0;34m\u001b[0m\u001b[0m\n",
            "\u001b[0;31mTypeError\u001b[0m: unsupported operand type(s) for +: 'int' and 'str'"
          ]
        }
      ]
    },
    {
      "cell_type": "markdown",
      "metadata": {
        "id": "D3cp9BaFuh8g"
      },
      "source": [
        "**Unfortunately, python isn't able to perform the addition of a string and an int because the data types can't be implicitly converted. So lets look at a method for explicitly converting data types so that we can do these types of operations**\n",
        "\n",
        "# Explicit conversions\n",
        "\n",
        "This means to change the type of an object to the required data type by using predefined functions like int(), float(), str(), etc to perform explicit type conversion.\n",
        "\n",
        "***This type of conversion is also called typecasting because the user casts (changes) the data type of the objects.***"
      ]
    },
    {
      "cell_type": "code",
      "metadata": {
        "id": "nG0Pz4sDuh8g",
        "colab": {
          "base_uri": "https://localhost:8080/"
        },
        "outputId": "153e8cd7-c0fb-4f6b-d544-c687475ade61"
      },
      "source": [
        "\n",
        "var= 20\n",
        "var2= \"30\" \n",
        "\n",
        "print(f\"Type of var: {type(var)}.  Value: {var}\")\n",
        "print(f\"Type of var2: {type(var2)}. Value: {var2}\\n\")\n",
        "\n",
        "#TODO: convert a string to an int and add the values\n",
        "var2 = int(var2)\n",
        "var + var2\n",
        "\n",
        "# print(f\"Type of var: {type(var)}.  Value: {var}\")\n",
        "# print(f\"Type of var2: {type(var2)}. Value: {var2}\")\n",
        "# print(f\"Type of val: {type(val)}.  Value: {val}\")\n",
        "\n",
        "\n"
      ],
      "execution_count": null,
      "outputs": [
        {
          "output_type": "stream",
          "name": "stdout",
          "text": [
            "Type of var: <class 'int'>.  Value: 20\n",
            "Type of var2: <class 'str'>. Value: 30\n",
            "\n"
          ]
        },
        {
          "output_type": "execute_result",
          "data": {
            "text/plain": [
              "50"
            ]
          },
          "metadata": {},
          "execution_count": 9
        }
      ]
    },
    {
      "cell_type": "markdown",
      "metadata": {
        "id": "_KaHdCxZuh8h"
      },
      "source": [
        "## Allowable conversions\n",
        "- int -> str \n",
        "- int -> float \n",
        "#\n",
        "- float -> int\n",
        "- float -> str\n",
        "#\n",
        "- str -> int (if the string is a number)\n",
        "- str -> float (if the string is a number)\n",
        "- str -> list \n",
        "- str -> tuple\n",
        "#\n",
        "- list -> tuple \n",
        "- list -> set \n",
        "- list -> str\n",
        "#\n",
        "- tuple -> list \n",
        "- tuple -> set\n",
        "- tuple -> str"
      ]
    },
    {
      "cell_type": "code",
      "metadata": {
        "id": "0XdW_uqSuh8i",
        "colab": {
          "base_uri": "https://localhost:8080/"
        },
        "outputId": "1eb0ac68-1449-49ae-95b3-1def850118a7"
      },
      "source": [
        "#TODO: Convert a float to an int\n",
        "var=10.65\n",
        "int(var)\n"
      ],
      "execution_count": null,
      "outputs": [
        {
          "output_type": "execute_result",
          "data": {
            "text/plain": [
              "10"
            ]
          },
          "metadata": {},
          "execution_count": 10
        }
      ]
    },
    {
      "cell_type": "code",
      "metadata": {
        "id": "3v6b1KC9uh8i",
        "colab": {
          "base_uri": "https://localhost:8080/"
        },
        "outputId": "ddbad006-9c88-491f-8d92-0764b715b4af"
      },
      "source": [
        "#TODO: Convert a string to a float\n",
        "var = \"67.69420\"\n",
        "var=float(var)\n",
        "var"
      ],
      "execution_count": null,
      "outputs": [
        {
          "output_type": "execute_result",
          "data": {
            "text/plain": [
              "67.6942"
            ]
          },
          "metadata": {},
          "execution_count": 12
        }
      ]
    },
    {
      "cell_type": "code",
      "metadata": {
        "id": "oM0T815i3bvT"
      },
      "source": [
        "var = '25'\n",
        "v = int(var[0])\n",
        "x = int(var[1])\n",
        "v + x\n"
      ],
      "execution_count": null,
      "outputs": []
    },
    {
      "cell_type": "code",
      "metadata": {
        "id": "hvkEpbQYuh8j",
        "colab": {
          "base_uri": "https://localhost:8080/"
        },
        "outputId": "40c2c048-c4aa-4aad-fa21-85a378f215fc"
      },
      "source": [
        "# TODO: Convert a string to a list \n",
        "var ='washburn'\n",
        "var= list(var)\n",
        "type(var),var\n"
      ],
      "execution_count": null,
      "outputs": [
        {
          "output_type": "execute_result",
          "data": {
            "text/plain": [
              "(list, ['w', 'a', 's', 'h', 'b', 'u', 'r', 'n'])"
            ]
          },
          "metadata": {},
          "execution_count": 20
        }
      ]
    },
    {
      "cell_type": "code",
      "metadata": {
        "id": "-nr4uzmguh8j",
        "colab": {
          "base_uri": "https://localhost:8080/"
        },
        "outputId": "8d3dd07a-2f3c-477c-9ffb-ff5e26f5dde9"
      },
      "source": [
        "#TODO: Convert a string to a tuple\n",
        "var ='washburn'\n",
        "var= tuple(var)\n",
        "type(var),var"
      ],
      "execution_count": null,
      "outputs": [
        {
          "output_type": "execute_result",
          "data": {
            "text/plain": [
              "(tuple, ('w', 'a', 's', 'h', 'b', 'u', 'r', 'n'))"
            ]
          },
          "metadata": {},
          "execution_count": 21
        }
      ]
    },
    {
      "cell_type": "code",
      "metadata": {
        "id": "gmSJGLSBuh8j",
        "colab": {
          "base_uri": "https://localhost:8080/"
        },
        "outputId": "9b3eae9e-3b06-4c74-fe4d-245bc931f7da"
      },
      "source": [
        "#TODO: Convert a list to a string\n",
        "var =[1,2,3,4]\n",
        "var=str(var)\n",
        "type(var),var"
      ],
      "execution_count": null,
      "outputs": [
        {
          "output_type": "execute_result",
          "data": {
            "text/plain": [
              "(str, '[1, 2, 3, 4]')"
            ]
          },
          "metadata": {},
          "execution_count": 23
        }
      ]
    },
    {
      "cell_type": "code",
      "metadata": {
        "id": "3sRVncCSuh8k",
        "colab": {
          "base_uri": "https://localhost:8080/"
        },
        "outputId": "47d37396-360c-4374-8881-3f1dd8493afb"
      },
      "source": [
        "#TODO: Convert a tuple to a string\n",
        "var =(1,2,3,4)\n",
        "var=str(var)\n",
        "type(var),var"
      ],
      "execution_count": null,
      "outputs": [
        {
          "output_type": "execute_result",
          "data": {
            "text/plain": [
              "(str, '(1, 2, 3, 4)')"
            ]
          },
          "metadata": {},
          "execution_count": 24
        }
      ]
    },
    {
      "cell_type": "code",
      "metadata": {
        "id": "bbfaWffSuh8k",
        "colab": {
          "base_uri": "https://localhost:8080/"
        },
        "outputId": "355739a4-b880-443f-e366-434cf3409e63"
      },
      "source": [
        "#TODO: Convert a list to a tuple\n",
        "var=[1,2,3,4,5]\n",
        "var=tuple(var)\n",
        "type(var),var"
      ],
      "execution_count": null,
      "outputs": [
        {
          "output_type": "execute_result",
          "data": {
            "text/plain": [
              "(tuple, (1, 2, 3, 4, 5))"
            ]
          },
          "metadata": {},
          "execution_count": 26
        }
      ]
    },
    {
      "cell_type": "markdown",
      "metadata": {
        "id": "UbgzpRhPuh8k"
      },
      "source": [
        "# User Input\n",
        "Sometimes in our programs, we want or expect the user to input some information that we can use in the rest of the program.\n",
        "\n",
        "To do this, python provides us with a function called `input()`."
      ]
    },
    {
      "cell_type": "code",
      "metadata": {
        "id": "PK_P208guh8l",
        "colab": {
          "base_uri": "https://localhost:8080/",
          "height": 52
        },
        "outputId": "a1d17d13-21c6-4c01-fb19-f2969a4c261c"
      },
      "source": [
        "#TODO: input your name\n",
        "name=input()\n",
        "name"
      ],
      "execution_count": null,
      "outputs": [
        {
          "name": "stdout",
          "output_type": "stream",
          "text": [
            "Elias\n"
          ]
        },
        {
          "output_type": "execute_result",
          "data": {
            "application/vnd.google.colaboratory.intrinsic+json": {
              "type": "string"
            },
            "text/plain": [
              "'Elias'"
            ]
          },
          "metadata": {},
          "execution_count": 32
        }
      ]
    },
    {
      "cell_type": "code",
      "metadata": {
        "id": "YRopxHIm6wNy",
        "colab": {
          "base_uri": "https://localhost:8080/",
          "height": 35
        },
        "outputId": "831964f8-837c-4af9-866c-dde8e5739d2d"
      },
      "source": [
        "name"
      ],
      "execution_count": null,
      "outputs": [
        {
          "output_type": "execute_result",
          "data": {
            "application/vnd.google.colaboratory.intrinsic+json": {
              "type": "string"
            },
            "text/plain": [
              "'Elias'"
            ]
          },
          "metadata": {},
          "execution_count": 35
        }
      ]
    },
    {
      "cell_type": "markdown",
      "metadata": {
        "id": "huaAdA06uh8l"
      },
      "source": [
        "## Prompt\n",
        "The `input` function can also be given a prompt so that the user knows what you want them to do."
      ]
    },
    {
      "cell_type": "code",
      "metadata": {
        "id": "J5qjDivOuh8l",
        "colab": {
          "base_uri": "https://localhost:8080/"
        },
        "outputId": "71544fe6-f6fe-4b7e-b1e2-9e09f3226bae"
      },
      "source": [
        "#TODO: Input your name using a prompt and print the type\n",
        "name = input('Enter your name:')\n",
        "print(type(name))\n"
      ],
      "execution_count": null,
      "outputs": [
        {
          "output_type": "stream",
          "name": "stdout",
          "text": [
            "Enter your name:Elias\n",
            "<class 'str'>\n"
          ]
        }
      ]
    },
    {
      "cell_type": "code",
      "metadata": {
        "id": "LeYHemhRuh8l",
        "colab": {
          "base_uri": "https://localhost:8080/"
        },
        "outputId": "172666ca-9984-437a-da01-01633c774577"
      },
      "source": [
        "#TODO: Input your age using a prompt and print the type\n",
        "age = input('Type your age:')\n",
        "age = int(age)\n",
        "print(age)\n",
        "print(type(age)) "
      ],
      "execution_count": null,
      "outputs": [
        {
          "output_type": "stream",
          "name": "stdout",
          "text": [
            "Type your age:15\n",
            "15\n",
            "<class 'int'>\n"
          ]
        }
      ]
    },
    {
      "cell_type": "markdown",
      "metadata": {
        "id": "Lag6t3DOuh8m"
      },
      "source": [
        "## All input are strings\n",
        "When using the `input()` function, all input is returned as a string. So when we enter a number, list, or tuple, we will need to convert it to the corresponding data type.\n",
        "\n",
        "**There are two ways to do this**\n",
        "* wrap the input function around the data type we want to convert to  \n",
        "* convert the variable after input is provided"
      ]
    },
    {
      "cell_type": "code",
      "metadata": {
        "id": "aW5hvjgcuh8m",
        "colab": {
          "base_uri": "https://localhost:8080/"
        },
        "outputId": "460c2c7d-cb86-4e9d-a864-1f6b84bf1cf1"
      },
      "source": [
        "#TODO: wrap the input function around the data type\n",
        "age = int(input('type your age:'))\n",
        "print(type(age))\n"
      ],
      "execution_count": null,
      "outputs": [
        {
          "output_type": "stream",
          "name": "stdout",
          "text": [
            "type your age:15\n",
            "<class 'int'>\n"
          ]
        },
        {
          "output_type": "execute_result",
          "data": {
            "text/plain": [
              "(None, 15)"
            ]
          },
          "metadata": {},
          "execution_count": 50
        }
      ]
    },
    {
      "cell_type": "code",
      "metadata": {
        "id": "IaqjhtP4uh8m"
      },
      "source": [
        "#TODO: Convert the variable after user input is given\n"
      ],
      "execution_count": null,
      "outputs": []
    },
    {
      "cell_type": "code",
      "metadata": {
        "id": "b0Zs_V6j85Yb"
      },
      "source": [
        ""
      ],
      "execution_count": null,
      "outputs": []
    }
  ]
}