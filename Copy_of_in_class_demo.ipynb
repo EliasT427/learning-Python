{
  "nbformat": 4,
  "nbformat_minor": 0,
  "metadata": {
    "interpreter": {
      "hash": "fd61235da8d855c081cbd5d7c6398e4c179a40a950675235256f7f30499f1124"
    },
    "kernelspec": {
      "display_name": "Python 3.7.4 64-bit ('base': conda)",
      "name": "python3"
    },
    "language_info": {
      "codemirror_mode": {
        "name": "ipython",
        "version": 3
      },
      "file_extension": ".py",
      "mimetype": "text/x-python",
      "name": "python",
      "nbconvert_exporter": "python",
      "pygments_lexer": "ipython3",
      "version": "3.7.4"
    },
    "orig_nbformat": 4,
    "colab": {
      "name": "Copy of in_class_demo.ipynb",
      "provenance": [],
      "include_colab_link": true
    }
  },
  "cells": [
    {
      "cell_type": "markdown",
      "metadata": {
        "id": "view-in-github",
        "colab_type": "text"
      },
      "source": [
        "<a href=\"https://colab.research.google.com/github/EliasT427/learning-Python/blob/main/Copy_of_in_class_demo.ipynb\" target=\"_parent\"><img src=\"https://colab.research.google.com/assets/colab-badge.svg\" alt=\"Open In Colab\"/></a>"
      ]
    },
    {
      "cell_type": "markdown",
      "metadata": {
        "id": "TMaxCGx5ZRNY"
      },
      "source": [
        "# Expressions\n",
        "Expressions are evaluations or operations that are reduced down to one or more values. In other words, expressions are ways to represent values. \n",
        "\n",
        "Examples of expressions are:\n",
        "* Doing Math        \n",
        "* evaluating Truth\n",
        "* concatenating strings\n",
        "* checking for membership\n",
        "\n",
        "**Lets look at some examples to see what this means**"
      ]
    },
    {
      "cell_type": "code",
      "metadata": {
        "id": "M16esfEHZRNd",
        "colab": {
          "base_uri": "https://localhost:8080/"
        },
        "outputId": "d3d704fe-141d-4a74-d7f1-62080c2b5056"
      },
      "source": [
        "# expressions always produce a value \n",
        "#TODO: Write an expression that evaluates to 10\n",
        "5+5\n",
        "5*2"
      ],
      "execution_count": null,
      "outputs": [
        {
          "output_type": "execute_result",
          "data": {
            "text/plain": [
              "10"
            ]
          },
          "metadata": {},
          "execution_count": 10
        }
      ]
    },
    {
      "cell_type": "code",
      "metadata": {
        "id": "hVB74cQ3ZRNf",
        "colab": {
          "base_uri": "https://localhost:8080/"
        },
        "outputId": "46678d1a-d714-4320-8529-69b6623341fc"
      },
      "source": [
        "# more complex expression\n",
        "#TODO:  write an expression that uses multiplication, division, subtraction and addition\n",
        "(5**100)+30\n",
        "\n",
        "\n"
      ],
      "execution_count": null,
      "outputs": [
        {
          "output_type": "execute_result",
          "data": {
            "text/plain": [
              "7888609052210118054117285652827862296732064351090230047702789306640655"
            ]
          },
          "metadata": {},
          "execution_count": 15
        }
      ]
    },
    {
      "cell_type": "markdown",
      "metadata": {
        "id": "PLTAedHNZRNg"
      },
      "source": [
        "<b>Expressions always involve values or functions and operators that evaluate to a new value</b>"
      ]
    },
    {
      "cell_type": "markdown",
      "metadata": {
        "id": "2cOF5qarZRNg"
      },
      "source": [
        "# Statements\n",
        "Statements are actions or commands that do something. Statements are like sentences that are made up of expressions.\n",
        "\n",
        "Examples of statements are:\n",
        "* variable assignment\n",
        "* printing \n",
        "* conditionals\n",
        "* loops"
      ]
    },
    {
      "cell_type": "code",
      "metadata": {
        "id": "9xzpf12dZRNg",
        "colab": {
          "base_uri": "https://localhost:8080/"
        },
        "outputId": "4f500922-e1ad-4c90-e4d6-09c49f5de21a"
      },
      "source": [
        "#TODO:  write variable assignment statement that creates a 5 element list\n",
        "var = [1,2,3,4,5]\n",
        "type(var)\n"
      ],
      "execution_count": null,
      "outputs": [
        {
          "output_type": "execute_result",
          "data": {
            "text/plain": [
              "list"
            ]
          },
          "metadata": {},
          "execution_count": 18
        }
      ]
    },
    {
      "cell_type": "code",
      "metadata": {
        "id": "JKckpAOsZRNh",
        "colab": {
          "base_uri": "https://localhost:8080/"
        },
        "outputId": "25421e10-43c6-4b16-c727-6bf4927072ad"
      },
      "source": [
        "#TODO:  Write a print statement\n",
        "print('hello teacher')"
      ],
      "execution_count": null,
      "outputs": [
        {
          "output_type": "stream",
          "name": "stdout",
          "text": [
            "hello teacher\n"
          ]
        }
      ]
    },
    {
      "cell_type": "code",
      "metadata": {
        "id": "fAUPZdiEZRNi",
        "colab": {
          "base_uri": "https://localhost:8080/"
        },
        "outputId": "35288c52-31d5-4edd-e7ca-9699770a656c"
      },
      "source": [
        "#TODO:  create a statement made from an expression\n",
        "message='hello'+' teacher'\n",
        "print(message)"
      ],
      "execution_count": null,
      "outputs": [
        {
          "output_type": "stream",
          "name": "stdout",
          "text": [
            "hello teacher\n"
          ]
        }
      ]
    },
    {
      "cell_type": "markdown",
      "metadata": {
        "id": "sv8sg3oKZRNi"
      },
      "source": [
        "# The boolean Data type\n",
        "Booleans are used to indicate truth and can only have the values: True or False\n",
        "\n",
        "They are useful when writing logical or conditional expressions, or evaluating the truth of an expression (you will see examples of this soon)."
      ]
    },
    {
      "cell_type": "code",
      "metadata": {
        "id": "DvCJfrm6ZRNj",
        "colab": {
          "base_uri": "https://localhost:8080/"
        },
        "outputId": "2c62290c-669e-4abd-edbd-ecce3ade9522"
      },
      "source": [
        "var = True\n",
        "var is True"
      ],
      "execution_count": null,
      "outputs": [
        {
          "output_type": "execute_result",
          "data": {
            "text/plain": [
              "True"
            ]
          },
          "metadata": {},
          "execution_count": 26
        }
      ]
    },
    {
      "cell_type": "code",
      "metadata": {
        "id": "ZEWEMb_IZRNk",
        "colab": {
          "base_uri": "https://localhost:8080/"
        },
        "outputId": "7a9e9740-b3c0-49ba-ef47-b8a18ddb7f4b"
      },
      "source": [
        "var = False\n",
        "var is True"
      ],
      "execution_count": null,
      "outputs": [
        {
          "output_type": "execute_result",
          "data": {
            "text/plain": [
              "False"
            ]
          },
          "metadata": {},
          "execution_count": 23
        }
      ]
    },
    {
      "cell_type": "markdown",
      "metadata": {
        "id": "1NZjLAPfZRNk"
      },
      "source": [
        "# Arithmetic Operators\n",
        "**Arithmetic operators are used to perform mathematical operations like addition, subtraction, multiplication, etc.**\n",
        "\n",
        "| Operator | Meaning                                                      | Example                  |\n",
        "| :------: | :----------------------------------------------------------- | :----------------------- |\n",
        "|    +     | Add two operands or unary plus                               | x + y+ 2                 |\n",
        "|    -     | Subtract right operand from the left or unary minus          | x - y- 2                 |\n",
        "|    *     | Multiply two operands                                        | x * y                    |\n",
        "|    /     | Divide left operand by the right one (always results into float) | x / y                |\n",
        "|    %     | Modulus - remainder of the division of left operand by the right | x % y (remainder of x/y) |\n",
        "|    //    | Floor division - division that results into whole number adjusted to the left in the number line | x // y  |\n",
        "|    **    | Exponent - left operand raised to the power of right         | x**y (x to the power y)  |\n",
        "\n"
      ]
    },
    {
      "cell_type": "code",
      "metadata": {
        "id": "kGQ9zwywZRNl",
        "colab": {
          "base_uri": "https://localhost:8080/"
        },
        "outputId": "c788de5f-ca00-4934-e96a-896479699c4f"
      },
      "source": [
        "# arithmetic expressions \n",
        "#TODO SHow use cases for each operator\n",
        "10%3"
      ],
      "execution_count": null,
      "outputs": [
        {
          "output_type": "execute_result",
          "data": {
            "text/plain": [
              "1"
            ]
          },
          "metadata": {},
          "execution_count": 36
        }
      ]
    },
    {
      "cell_type": "code",
      "metadata": {
        "id": "eGOqMij4gJ47",
        "colab": {
          "base_uri": "https://localhost:8080/"
        },
        "outputId": "3cd0dc3b-4657-416d-c09e-113e2be10ae5"
      },
      "source": [
        "#rounding down to a whole number \n",
        "5//2"
      ],
      "execution_count": null,
      "outputs": [
        {
          "output_type": "execute_result",
          "data": {
            "text/plain": [
              "2"
            ]
          },
          "metadata": {},
          "execution_count": 38
        }
      ]
    },
    {
      "cell_type": "markdown",
      "metadata": {
        "id": "lZX-BzN_ZRNl"
      },
      "source": [
        "# Using the Modulus operator to check if a number is even or odd\n",
        "In programming, there will be a time where you may want to check if a number is even or odd. The Modulus operator gives us an easy way to do this check.\n",
        "\n",
        "**Remeber: Modulus division gives us the remainder**\n",
        "--\n",
        "\n",
        "**So if I were to do the following:**\n",
        "\n",
        "\n",
        "$9/2$ I get 4.5. Pretty simple\n",
        "\n",
        "**But now, If Instead I did:**\n",
        "\n",
        "$9\\% 2$ I get 1.\n",
        "\n",
        "This is because `2` can be multiplied `4` whole times which gives us `8`, but we can't add another `2`, otherwise we get `10`. So the remainder is `1`.\n",
        "\n",
        "**If I were to do this with an even number:**\n",
        "\n",
        "$10 \\% 2$ I get 0. *This is the case for any even number*\n",
        "\n",
        "**So, if we want to check if a number is even or odd, all we have to do is mod the number by 2 and check if the remainder is 0 or not.**\n",
        "--"
      ]
    },
    {
      "cell_type": "code",
      "metadata": {
        "id": "jddhEo1tZRNm",
        "colab": {
          "base_uri": "https://localhost:8080/"
        },
        "outputId": "9332a73f-490b-497f-ba3f-0e54549d6ab8"
      },
      "source": [
        "from random import randint\n",
        "#TODO: Check if the values are even or odd\n",
        "var=randint(0,10)\n",
        "print(var%2, var)"
      ],
      "execution_count": null,
      "outputs": [
        {
          "output_type": "stream",
          "name": "stdout",
          "text": [
            "1 3\n"
          ]
        }
      ]
    },
    {
      "cell_type": "markdown",
      "metadata": {
        "id": "S87m3OcNZRNm"
      },
      "source": [
        "# Assignment Operators\n",
        "Assignment operators are used in Python to assign values to variables.\n",
        "\n",
        "a = 5 is a simple assignment operator that assigns the value 5 on the right to the variable a on the left.\n",
        "\n",
        "There are also various compound operators in Python like a += 5 that adds to the variable and later assigns the same. It is equivalent to a = a + 5.\n",
        "| Operator | Example | Equivalent to |\n",
        "| :------- | :------ | :------------ |\n",
        "| =        | x = 5   | x = 5         |\n",
        "| +=       | x += 5  | x = x + 5     |\n",
        "| -=       | x -= 5  | x = x - 5     |\n",
        "| *=       | x *= 5  | x = x * 5     |\n",
        "| /=       | x /= 5  | x = x / 5     |\n",
        "| %=       | x %= 5  | x = x % 5     |\n",
        "| //=      | x //= 5 | x = x // 5    |\n",
        "| **=      | x **= 5 | x = x ** 5    |"
      ]
    },
    {
      "cell_type": "code",
      "metadata": {
        "id": "3Iv0XiUqZRNm",
        "colab": {
          "base_uri": "https://localhost:8080/"
        },
        "outputId": "dbbba82f-5076-4b0b-8408-2316e9639cb3"
      },
      "source": [
        "# Write a simple assignment\n",
        "x=7\n",
        "print(f\"x = {x}\")\n",
        "\n",
        "# Write Compound assignments\n",
        "\n",
        "#TODO:  addition\n",
        "x+=10\n",
        "print(f\"x = {x}\")\n",
        "\n",
        "#TODO: subtraction\n",
        "x-=15\n",
        "print(f\"x = {x}\")\n",
        "\n",
        "#TODO: multiplication\n",
        "x*=2\n",
        "print(f\"x = {x}\")\n",
        "\n",
        "#TODO: division\n",
        "x/=3\n",
        "print(f\"x = {x}\")\n",
        "\n",
        "#TODO: exponentiation\n",
        "x**=4\n",
        "print(f\"x = {x}\")\n"
      ],
      "execution_count": null,
      "outputs": [
        {
          "output_type": "stream",
          "name": "stdout",
          "text": [
            "x = 7\n",
            "x = 17\n",
            "x = 2\n",
            "x = 4\n",
            "x = 1.3333333333333333\n",
            "x = 3.160493827160493\n"
          ]
        }
      ]
    },
    {
      "cell_type": "markdown",
      "metadata": {
        "id": "BXuchM25ZRNn"
      },
      "source": [
        "# Comparison operators\n",
        "Comparison operators are used to compare values. It returns either True or False according to the condition.\n",
        "\n",
        "| Operator | Meaning                                                      | Example |\n",
        "| :------- | :----------------------------------------------------------- | :------ |\n",
        "| >        | Greater than - True if left operand is greater than the right | x > y   |\n",
        "| <        | Less than - True if left operand is less than the right      | x < y   |\n",
        "| ==       | Equal to - True if both operands are equal                   | x == y  |\n",
        "| !=       | Not equal to - True if operands are not equal                | x != y  |\n",
        "| >=       | Greater than or equal to - True if left operand is greater than or equal to the right | x >= y  |\n",
        "| <=       | Less than or equal to - True if left operand is less than or equal to the right | x <= y  |"
      ]
    },
    {
      "cell_type": "code",
      "metadata": {
        "id": "ADlY4BfkZRNn",
        "colab": {
          "base_uri": "https://localhost:8080/"
        },
        "outputId": "74c0a9d4-d38d-4f51-9050-418d2d423157"
      },
      "source": [
        "# comparison expressions\n",
        "#TODO showcase each comparison operator\n",
        "5>=6"
      ],
      "execution_count": null,
      "outputs": [
        {
          "output_type": "execute_result",
          "data": {
            "text/plain": [
              "False"
            ]
          },
          "metadata": {},
          "execution_count": 79
        }
      ]
    },
    {
      "cell_type": "markdown",
      "metadata": {
        "id": "aapMMJ84ZRNn"
      },
      "source": [
        "# Logical operators\n",
        "Logical operators are used to evaluate the truth of an expression.\n",
        "\n",
        "| Operator | Meaning                                            | Example |\n",
        "| :------- | :------------------------------------------------- | :------ |\n",
        "| and      | True if both the operands are true                 | x and y |\n",
        "| or       | True if either of the operands is true             | x or y  |\n",
        "| not      | True if operand is false (complements the operand) | not x   |"
      ]
    },
    {
      "cell_type": "code",
      "metadata": {
        "id": "P4g7iMZIZRNn",
        "colab": {
          "base_uri": "https://localhost:8080/"
        },
        "outputId": "4b859851-b0e8-4f07-a6ef-aecf6d2a5eb7"
      },
      "source": [
        "# Logical Expressions\n",
        "\n",
        "# AND\n",
        "var=True\n",
        "var and True\n",
        "\n",
        "# OR\n",
        "True or False\n",
        "\n",
        "# NOT\n",
        "not True"
      ],
      "execution_count": null,
      "outputs": [
        {
          "output_type": "execute_result",
          "data": {
            "text/plain": [
              "False"
            ]
          },
          "metadata": {},
          "execution_count": 92
        }
      ]
    },
    {
      "cell_type": "code",
      "metadata": {
        "id": "u8rSxjABZRNn",
        "colab": {
          "base_uri": "https://localhost:8080/"
        },
        "outputId": "574bfdd7-67fc-4565-edbd-f62c49607e76"
      },
      "source": [
        "# More Complex logical expressions\n",
        "\n",
        "# AND\n",
        "(True and True) or (True and False)\n",
        "\n",
        "# OR\n",
        "(True or True) and False or not True\n"
      ],
      "execution_count": null,
      "outputs": [
        {
          "output_type": "execute_result",
          "data": {
            "text/plain": [
              "False"
            ]
          },
          "metadata": {},
          "execution_count": 98
        }
      ]
    },
    {
      "cell_type": "markdown",
      "metadata": {
        "id": "z6b6MM29ZRNo"
      },
      "source": [
        "# Membership Operators\n",
        "used to test whether a value or variable is found in a sequence (string, list, tuple, set and dictionary).\n",
        "\n",
        "**<em>In a dictionary we can only test for presence of key, not the value.</em>**\n",
        "| Operator | Meaning                                             | Example    |\n",
        "| :------- | :-------------------------------------------------- | :--------- |\n",
        "| in       | True if value/variable is found in the sequence     | 5 in x     |\n",
        "| not in   | True if value/variable is not found in the sequence | 5 not in x |"
      ]
    },
    {
      "cell_type": "code",
      "metadata": {
        "id": "je-kAABvZRNo",
        "colab": {
          "base_uri": "https://localhost:8080/"
        },
        "outputId": "dfa0d3f7-0ed7-4e31-d8c1-c2f737bb3948"
      },
      "source": [
        "#TODO: check if 'world' is in the string 'hello world'\n",
        "var = \"Hello World\"\n",
        "'rld' in var and 'Hell'in var\n"
      ],
      "execution_count": null,
      "outputs": [
        {
          "output_type": "execute_result",
          "data": {
            "text/plain": [
              "True"
            ]
          },
          "metadata": {},
          "execution_count": 104
        }
      ]
    },
    {
      "cell_type": "code",
      "metadata": {
        "id": "IqVBCfhQZRNo",
        "colab": {
          "base_uri": "https://localhost:8080/"
        },
        "outputId": "a3d179f3-1965-4d57-a12f-0505f658add8"
      },
      "source": [
        "#TODO: check to see if the value 23 is in the list\n",
        "var = [23, 34, 1.43, 99]\n",
        "23 in var"
      ],
      "execution_count": null,
      "outputs": [
        {
          "output_type": "execute_result",
          "data": {
            "text/plain": [
              "True"
            ]
          },
          "metadata": {},
          "execution_count": 105
        }
      ]
    },
    {
      "cell_type": "code",
      "metadata": {
        "id": "E-_WFBYXZRNo",
        "colab": {
          "base_uri": "https://localhost:8080/"
        },
        "outputId": "b8678727-1252-48f8-b7ce-5ff805ac60e1"
      },
      "source": [
        "#TODO: check to see if the value 11 is not in the list\n",
        "var = [12,23,34,45,56]\n",
        "11 not in var"
      ],
      "execution_count": null,
      "outputs": [
        {
          "output_type": "execute_result",
          "data": {
            "text/plain": [
              "True"
            ]
          },
          "metadata": {},
          "execution_count": 106
        }
      ]
    },
    {
      "cell_type": "markdown",
      "metadata": {
        "id": "uoJmERFoZRNo"
      },
      "source": [
        "# Identity Operators\n",
        "**is** and **is not** are the identity operators in Python. They are used to check if two values (or variables) are located on the same part of the memory. \n",
        "\n",
        "***Two variables that are equal does not imply that they are identical.***\n",
        "\n",
        "| Operator | Meaning                                                      | Example       |\n",
        "| :------- | :----------------------------------------------------------- | :------------ |\n",
        "| is       | True if the operands are identical (refer to the same object) | x is True     |\n",
        "| is not   | True if the operands are not identical (do not refer to the same object) | x is not True |\n",
        "\n",
        "<em><b>The concept of objects will make more sense when we cover objects in Module 7</b></em>"
      ]
    },
    {
      "cell_type": "code",
      "metadata": {
        "id": "65NIjJgdZRNp",
        "colab": {
          "base_uri": "https://localhost:8080/"
        },
        "outputId": "091bf4c4-7146-4452-9b1f-0a86c837dfa1"
      },
      "source": [
        "# remember the id() function?\n",
        "var = 25\n",
        "#TODO What is the memory address of var\n",
        "print(id(var))\n",
        "#TODO What is the memory address of 25\n",
        "print(id(25))\n",
        "#TODO is var and 25 identical?\n",
        "print(var is 25)\n",
        "# Two variables that are equal does not imply that they are identical.\n",
        "var2 = [1,2,3,4]\n",
        "var3 = [1,2,3,4]\n",
        "#TODO What is the memory address of the list [1,2,3,4]\n",
        "print(id([1,2,3,4]))\n",
        "#TODO What is the memory address of var2 and var3\n",
        "print(id(var2),(id(var3)))\n",
        "#TODO Is var2 and var3 identical?\n",
        "print(var2 is var3)\n",
        "\n",
        "# creating identical variables\n",
        "var4 = [4,3,2,1]\n",
        "var5 = var4\n",
        "#TODO What is the momry address of the list [4,3,2,1]\n",
        "#TODO What is the memory address of var4 and var5\n",
        "#TODO Is var4 and var5 identical?\n"
      ],
      "execution_count": null,
      "outputs": [
        {
          "output_type": "stream",
          "name": "stdout",
          "text": [
            "94195584605440\n",
            "94195584605440\n",
            "True\n",
            "140603863561872\n",
            "140603863608048 140603863900960\n",
            "False\n"
          ]
        }
      ]
    },
    {
      "cell_type": "markdown",
      "metadata": {
        "id": "8yzN_vv-ZRNq"
      },
      "source": [
        "## Why is this the case???\n",
        "\n",
        "In the first example, we have the literal value 25. When we assign 25 to var, nothing new happens, we are simply referencing the memory address where 25 is located with a variable. \n",
        "\n",
        "In the second example, we create a list of 4 elements. Lists aren't literal values, they're objects. Each time an object is created, it is assigned its own location in memory, even if the elements are the same. This is because we don't actually care about what the list is holding, we only care about the object itself. Since each list is created at different moments, they are different instances of list objects. Since theyre different objects, they are assigned different memory locations. So when we check to see if the two lists are identical, we see that this is false because they do not share memory locations.\n",
        "\n",
        "In the third example, we create the variable 'var4' and assign a 4 element list to it. We then create the variable 'var5' and assign it the value of 'var4'. What this basically does is make var5 and var4 point to the value at the same memory address, which is the 4 element list. No new object is created, it's just that two variable now reference the same memory location.\n",
        "\n",
        "<img src = \"objects.png\" width = 900 height = 500>\n"
      ]
    },
    {
      "cell_type": "code",
      "metadata": {
        "id": "P212Ngp1xs85"
      },
      "source": [
        ""
      ],
      "execution_count": null,
      "outputs": []
    }
  ]
}