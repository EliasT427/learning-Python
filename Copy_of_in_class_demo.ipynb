{
  "nbformat": 4,
  "nbformat_minor": 0,
  "metadata": {
    "interpreter": {
      "hash": "fd61235da8d855c081cbd5d7c6398e4c179a40a950675235256f7f30499f1124"
    },
    "kernelspec": {
      "display_name": "Python 3.7.4 64-bit ('base': conda)",
      "name": "python3"
    },
    "language_info": {
      "codemirror_mode": {
        "name": "ipython",
        "version": 3
      },
      "file_extension": ".py",
      "mimetype": "text/x-python",
      "name": "python",
      "nbconvert_exporter": "python",
      "pygments_lexer": "ipython3",
      "version": "3.7.4"
    },
    "orig_nbformat": 4,
    "colab": {
      "name": "Copy of in_class_demo.ipynb",
      "provenance": [],
      "include_colab_link": true
    }
  },
  "cells": [
    {
      "cell_type": "markdown",
      "metadata": {
        "id": "view-in-github",
        "colab_type": "text"
      },
      "source": [
        "<a href=\"https://colab.research.google.com/github/EliasT427/learning-Python/blob/main/Copy_of_in_class_demo.ipynb\" target=\"_parent\"><img src=\"https://colab.research.google.com/assets/colab-badge.svg\" alt=\"Open In Colab\"/></a>"
      ]
    },
    {
      "cell_type": "markdown",
      "metadata": {
        "id": "ogMKz2vtdjz6"
      },
      "source": [
        "<style>\n",
        "    h1{\n",
        "        /* color: #A900FF; */\n",
        "        font-family: \"fira code\";\n",
        "    }\n",
        "</style> \n",
        "<h1>Variables</h1>\n",
        "Variables are like named containers that store data in memory and can be changed throughout the program. "
      ]
    },
    {
      "cell_type": "code",
      "metadata": {
        "id": "3FibkZb6djz-"
      },
      "source": [
        "#TODO: create a variable with the value of 25 and print it\n"
      ],
      "execution_count": null,
      "outputs": []
    },
    {
      "cell_type": "markdown",
      "metadata": {
        "id": "sJtXNKt9djz_"
      },
      "source": [
        "<p style = \"font-size: 20px\"> In a computer, Memory is like a giant container that can store values and/or objects. Think of memory as being like lockers in a hallway. Each locker is assigned a number, and inside each locker there are objects like backpacks, or books, maybe even people. I won't judge yall for what u keep in there. The only information that I would need to access the contents of any given locker, is the value that it is assigned. </p>\n",
        "\n",
        "<p style = \"font-size: 20px\"> Memory or RAM, works the same way. Each \"cell\" in memory is associated with a unique number, which is called a memory address. When a computer wants to read/write data to memory, all it needs to know is the address of the cell that it's storing the data in. </p>\n",
        "\n",
        "**In Python, we can view a object or values memory address by using the `id()` method**"
      ]
    },
    {
      "cell_type": "code",
      "metadata": {
        "id": "NzumICKCdj0B",
        "colab": {
          "base_uri": "https://localhost:8080/"
        },
        "outputId": "862c2b05-acf9-4ce7-d709-723768be33ff"
      },
      "source": [
        "#TODO: print the memory address of the literal value 25 and 'var'\n",
        "var=25 \n",
        "print(var)\n",
        "id(var)"
      ],
      "execution_count": null,
      "outputs": [
        {
          "output_type": "stream",
          "name": "stdout",
          "text": [
            "25\n"
          ]
        },
        {
          "output_type": "execute_result",
          "data": {
            "text/plain": [
              "93898409549056"
            ]
          },
          "metadata": {},
          "execution_count": 5
        }
      ]
    },
    {
      "cell_type": "markdown",
      "metadata": {
        "id": "rYGLr458dj0B"
      },
      "source": [
        "All Memory addresses are unique, but if two variabes reference the same value in memory, then they will share memory addresses.\n",
        "\n",
        "<p style = \"font-size: 15px\"> This is like two people sharing a locker. </p>"
      ]
    },
    {
      "cell_type": "code",
      "metadata": {
        "id": "235U-YjDdj0C",
        "colab": {
          "base_uri": "https://localhost:8080/"
        },
        "outputId": "e9109b11-6dc7-42cb-d8a1-47568ef51b8f"
      },
      "source": [
        "var = 10\n",
        "var2 = var\n",
        "message = \"hello\"\n",
        "\n",
        "#TODO Print the memory address of the value 10\n",
        "print(id(10), \"this is the memory address of the value 10\")\n",
        "#TODO Print the memory address of var\n",
        "print(id(var), \"this is the memory address of the value var\")\n",
        "#TODO Print the memory address of var2\n",
        "print(id(var2), \"this is the memory address of the value var2\")\n",
        "#TODO Print the memory address of message\n",
        "print(id(message), \"memory address of value message\")\n"
      ],
      "execution_count": null,
      "outputs": [
        {
          "output_type": "stream",
          "name": "stdout",
          "text": [
            "93898409548576 this is the memory address of the value 10\n",
            "93898409548576 this is the memory address of the value var\n",
            "93898409548576 this is the memory address of the value var2\n",
            "139904636400944 memory address of value message\n"
          ]
        }
      ]
    },
    {
      "cell_type": "markdown",
      "metadata": {
        "id": "KXOgsqW_dj0C"
      },
      "source": [
        "<img src = \"memory.png\" width = 700 height = 400>"
      ]
    },
    {
      "cell_type": "markdown",
      "metadata": {
        "id": "TVIooS3_dj0D"
      },
      "source": [
        "------------------------------\n",
        "# Variable assignment and Manipulation\n",
        "\n",
        "<p style = \"font-size: 15px\"> You assign a value to a variable by using the equals sign. </p>\n",
        "\n",
        "<p style = \"font-size: 15px\"> Python is a type-inffered language so you dont need to explicitly define the variable type. If you change the value of the variable later in the program, it can be of a different type, however, this can cause errors if you're not careful. </p>"
      ]
    },
    {
      "cell_type": "code",
      "metadata": {
        "id": "mdzW-HbTdj0E",
        "colab": {
          "base_uri": "https://localhost:8080/"
        },
        "outputId": "90e7dba0-73e6-47bd-c078-b2b812891dfc"
      },
      "source": [
        "# assigning a value to a variable then change the value\n",
        "\n",
        "#TODO: Assign an int to var\n",
        "var=100\n",
        "print(var)\n",
        "\n",
        "\n",
        "#TODO: Assign a new int value to var\n",
        "var=200\n",
        "print(var)\n"
      ],
      "execution_count": null,
      "outputs": [
        {
          "output_type": "stream",
          "name": "stdout",
          "text": [
            "100\n",
            "200\n"
          ]
        }
      ]
    },
    {
      "cell_type": "code",
      "metadata": {
        "id": "bHqKLGWsdj0E",
        "colab": {
          "base_uri": "https://localhost:8080/"
        },
        "outputId": "9c2afae9-2009-489c-9049-5d8113887677"
      },
      "source": [
        "# assigning a value to a variable then changing its type\n",
        "#TODO: assign an int to var\n",
        "var=400\n",
        "print(var)\n",
        "\n",
        "#TODO: assign a string to var\n",
        "var=\"string\"\n",
        "print(var)"
      ],
      "execution_count": null,
      "outputs": [
        {
          "output_type": "stream",
          "name": "stdout",
          "text": [
            "400\n",
            "string\n"
          ]
        }
      ]
    },
    {
      "cell_type": "markdown",
      "metadata": {
        "id": "fZa40PnHdj0F"
      },
      "source": [
        "**you can also assign multiple values to multiple variables at the same time**"
      ]
    },
    {
      "cell_type": "code",
      "metadata": {
        "id": "XunMkm3Zdj0F",
        "colab": {
          "base_uri": "https://localhost:8080/"
        },
        "outputId": "19a00aa6-172e-44a4-a8d6-29c000b627f9"
      },
      "source": [
        "#TODO: create the variables x y and z and assign different values to them simultaneously.\n",
        "x, y, z =12, 15, -958\n",
        "print(x, y, z)\n",
        "m=1, 2, 3\n",
        "print(m)\n"
      ],
      "execution_count": null,
      "outputs": [
        {
          "output_type": "stream",
          "name": "stdout",
          "text": [
            "12 15 -958\n",
            "(1, 2, 3)\n"
          ]
        }
      ]
    },
    {
      "cell_type": "markdown",
      "metadata": {
        "id": "D8qZIolwdj0F"
      },
      "source": [
        "----------------------\n",
        "# Variables Key Ideas\n",
        "* variables are containers that hold data\n",
        "* the data that variables can hold may change throughout the program\n",
        "* you can create multiple variables at the same time\n",
        "\n",
        "Now that we know what variables are, lets talk about the type of data they can hold."
      ]
    },
    {
      "cell_type": "markdown",
      "metadata": {
        "id": "vl-jiQ1Bdj0G"
      },
      "source": [
        "-----------\n",
        "# Data Types\n",
        "A data type is a description of what type of data you're working with.\n",
        "\n",
        "All values in python have a data type and the type of data allows for different types of operations.\n",
        "\n",
        "\n",
        "# Numbers\n",
        "In python numbers come in 3 flavors \n",
        "\n",
        "* **Integers**, which are any positive or negative whole number.\n",
        "* **Floats**, which are any positive or negative number with a fractional part\n",
        "* **Complex numbers**, which are specified as real_part + imaginary_part, where the imaginary_part is written with a j or J."
      ]
    },
    {
      "cell_type": "code",
      "metadata": {
        "id": "E_0jMUpWdj0G"
      },
      "source": [
        "Integer = 4\n",
        "Integer = 30\n",
        "Integer = -64\n",
        "Integer = 23555431588754\n",
        "\n",
        "Float = 4.0\n",
        "Float = 35.87\n",
        "Float = -842.555734\n",
        "Float = 3.141592653589793\n",
        "\n",
        "Complex = 1j\n",
        "Complex = 43 + 2j\n",
        "Complex = -3 + 10j"
      ],
      "execution_count": null,
      "outputs": []
    },
    {
      "cell_type": "markdown",
      "metadata": {
        "id": "iM9otYLPdj0H"
      },
      "source": [
        "# The `type()` funtion\n",
        "This method is useful for inspecting the type of an object. A type is simply a description of the category of data being worked with.\n",
        "\n",
        "**Check the data type of an object by putting the object/variable indide of the `type` functions arguments**"
      ]
    },
    {
      "cell_type": "code",
      "metadata": {
        "id": "ihrNdENDdj0H",
        "colab": {
          "base_uri": "https://localhost:8080/"
        },
        "outputId": "f0781280-3661-4eaf-cf3c-d2af1df9f5f7"
      },
      "source": [
        "# use the type function to inspect a variables type\n",
        "\n",
        "var = 4555854 # what is the type?\n",
        "#TODO: Print the variables type\n",
        "print(type(var))\n",
        "var = 45.2544558 # what is the type?\n",
        "#TODO: Print the variables type\n",
        "print(type(var))\n",
        "var = 4j + 56 # what is the type?\n",
        "#TODO: Print the variables type\n",
        "print(type(var))"
      ],
      "execution_count": null,
      "outputs": [
        {
          "output_type": "stream",
          "name": "stdout",
          "text": [
            "<class 'int'>\n",
            "<class 'float'>\n",
            "<class 'complex'>\n"
          ]
        }
      ]
    },
    {
      "cell_type": "markdown",
      "metadata": {
        "id": "yh40VegXdj0H"
      },
      "source": [
        "# Strings\n",
        "Strings are used to represent text, or more technically, a sequence of Unicode characters. Strings are denoted using either single ('') or double (\"\") qutoes."
      ]
    },
    {
      "cell_type": "code",
      "metadata": {
        "id": "bfr9otJ9dj0H",
        "colab": {
          "base_uri": "https://localhost:8080/"
        },
        "outputId": "1e71c464-bfb0-4851-e9d2-4160c6512195"
      },
      "source": [
        "#TODO: creating strings\n",
        "var='I am a single quoted string'\n",
        "var2= \"i am a double quoted string\"\n",
        "print(var, var2)\n",
        "print(type(var))\n",
        "print(type(var2))"
      ],
      "execution_count": null,
      "outputs": [
        {
          "output_type": "stream",
          "name": "stdout",
          "text": [
            "I am a single quoted string i am a double quoted string\n",
            "<class 'str'>\n",
            "<class 'str'>\n"
          ]
        }
      ]
    },
    {
      "cell_type": "markdown",
      "metadata": {
        "id": "NQO33zn0dj0I"
      },
      "source": [
        "# Strings and Indexing\n",
        "Because strings are a sequence of characters, you can select parts of a string by using an index.\n",
        "\n",
        "<em style = \"color: #6F69AC\">An index is a numerical representation of an item's position in a sequence.</em>\n",
        "\n",
        "In most programming languages, python included, index values start at 0. Since they start at zero, the last index value will be equal to the length of the sequence minus 1. \n",
        "\n",
        "<img src =\"strings.png\" width = \"700\" height = \"400\">\n",
        "\n",
        "<em><b>You will learn more about indexing in the lists module</b></em>"
      ]
    },
    {
      "cell_type": "code",
      "metadata": {
        "id": "bbFFsZ_4dj0I",
        "colab": {
          "base_uri": "https://localhost:8080/",
          "height": 35
        },
        "outputId": "cff885a4-96bf-4621-d8c9-6a4b30b65532"
      },
      "source": [
        "word = \"Python\"\n",
        "#TODO: Print the first character in the string\n",
        "word[0]\n"
      ],
      "execution_count": null,
      "outputs": [
        {
          "output_type": "execute_result",
          "data": {
            "application/vnd.google.colaboratory.intrinsic+json": {
              "type": "string"
            },
            "text/plain": [
              "'P'"
            ]
          },
          "metadata": {},
          "execution_count": 31
        }
      ]
    },
    {
      "cell_type": "code",
      "metadata": {
        "id": "4EfQLcahdj0I",
        "colab": {
          "base_uri": "https://localhost:8080/",
          "height": 35
        },
        "outputId": "616ce8ac-556c-49e4-f5de-bf09f0c6e529"
      },
      "source": [
        "word = \"Python\"\n",
        "#TODO: print the last character in the string\n",
        "word[5]"
      ],
      "execution_count": null,
      "outputs": [
        {
          "output_type": "execute_result",
          "data": {
            "application/vnd.google.colaboratory.intrinsic+json": {
              "type": "string"
            },
            "text/plain": [
              "'n'"
            ]
          },
          "metadata": {},
          "execution_count": 34
        }
      ]
    },
    {
      "cell_type": "markdown",
      "metadata": {
        "id": "fqnZMmoDdj0I"
      },
      "source": [
        "## The len() function\n",
        "The len() function is used to find the length of a sequence. It returns the total number of items present in a sequence, making it a useful tool when working with sequences."
      ]
    },
    {
      "cell_type": "code",
      "metadata": {
        "id": "M33KbeBNdj0J",
        "colab": {
          "base_uri": "https://localhost:8080/"
        },
        "outputId": "926feba9-6d84-4555-cf61-165e19039f5e"
      },
      "source": [
        "word = 'Washburn'\n",
        "#TODO: print the length of the string\n",
        "len(word)"
      ],
      "execution_count": null,
      "outputs": [
        {
          "output_type": "execute_result",
          "data": {
            "text/plain": [
              "8"
            ]
          },
          "metadata": {},
          "execution_count": 35
        }
      ]
    },
    {
      "cell_type": "code",
      "metadata": {
        "id": "sxwrWT22dj0J",
        "colab": {
          "base_uri": "https://localhost:8080/"
        },
        "outputId": "33e931bc-699e-4139-969b-a672256cd87e"
      },
      "source": [
        "# using the len function to return the last value in a sequence \n",
        "seq = \"I am a sequence 😊\"\n",
        "len(seq)\n",
        "# remember, sequences start at index 0, so the last index is -> (the length of the sequence - 1)\n",
        "#TODO: assign the numerical location of the last character in `seq` to index using the len() function\n",
        "index=len(seq)-1\n",
        "print(index)\n",
        "#TODO Print the length of the sequence\n",
        "print(len(seq))\n",
        "#TODO Print the value of index (which is the last position in the sequence)\n",
        "print(index)\n",
        "#TODO use the index variable to print the last character in the sequence\n",
        "print(seq[index])\n"
      ],
      "execution_count": null,
      "outputs": [
        {
          "output_type": "stream",
          "name": "stdout",
          "text": [
            "16\n",
            "17\n",
            "16\n",
            "😊\n"
          ]
        }
      ]
    },
    {
      "cell_type": "markdown",
      "metadata": {
        "id": "z-lCqNDkdj0J"
      },
      "source": [
        "## Strings are Immutable\n",
        "When a data type is immutable, that means that you can't change its values once it has been created. \n",
        "\n",
        "For example, if we create the string 'hello' and try to change the first character to a j so we can change it to 'jello', python will throw us an error."
      ]
    },
    {
      "cell_type": "code",
      "metadata": {
        "id": "NcasxMQqdj0J",
        "colab": {
          "base_uri": "https://localhost:8080/",
          "height": 215
        },
        "outputId": "8a0b0208-aef8-4138-c213-707fda3f0504"
      },
      "source": [
        "var = \"hello\"\n",
        "#TODO: try and change the 'h' to a 'j'\n",
        "var[0]=j\n",
        "print(var)"
      ],
      "execution_count": null,
      "outputs": [
        {
          "output_type": "error",
          "ename": "NameError",
          "evalue": "ignored",
          "traceback": [
            "\u001b[0;31m---------------------------------------------------------------------------\u001b[0m",
            "\u001b[0;31mNameError\u001b[0m                                 Traceback (most recent call last)",
            "\u001b[0;32m<ipython-input-64-5507d2959e0f>\u001b[0m in \u001b[0;36m<module>\u001b[0;34m()\u001b[0m\n\u001b[1;32m      1\u001b[0m \u001b[0mvar\u001b[0m \u001b[0;34m=\u001b[0m \u001b[0;34m\"hello\"\u001b[0m\u001b[0;34m\u001b[0m\u001b[0;34m\u001b[0m\u001b[0m\n\u001b[1;32m      2\u001b[0m \u001b[0;31m#TODO: try and change the 'h' to a 'j'\u001b[0m\u001b[0;34m\u001b[0m\u001b[0;34m\u001b[0m\u001b[0;34m\u001b[0m\u001b[0m\n\u001b[0;32m----> 3\u001b[0;31m \u001b[0mvar\u001b[0m\u001b[0;34m[\u001b[0m\u001b[0;36m0\u001b[0m\u001b[0;34m]\u001b[0m\u001b[0;34m=\u001b[0m\u001b[0mj\u001b[0m\u001b[0;34m\u001b[0m\u001b[0;34m\u001b[0m\u001b[0m\n\u001b[0m\u001b[1;32m      4\u001b[0m \u001b[0mprint\u001b[0m\u001b[0;34m(\u001b[0m\u001b[0mvar\u001b[0m\u001b[0;34m)\u001b[0m\u001b[0;34m\u001b[0m\u001b[0;34m\u001b[0m\u001b[0m\n",
            "\u001b[0;31mNameError\u001b[0m: name 'j' is not defined"
          ]
        }
      ]
    },
    {
      "cell_type": "markdown",
      "metadata": {
        "id": "H-g4NmVxdj0K"
      },
      "source": [
        "## String concatenation\n",
        "**Concatenations means: The action of linking things together.**\n",
        "\n",
        "In python, we can concatenate strings by using the addition operator (+). "
      ]
    },
    {
      "cell_type": "code",
      "metadata": {
        "id": "yHQYVT-zdj0K",
        "colab": {
          "base_uri": "https://localhost:8080/",
          "height": 35
        },
        "outputId": "c0005025-c9cd-49ba-b8dd-d8e11f58ac58"
      },
      "source": [
        "#TODO: Concatenate two strings and print the result\n",
        "'hello' + ' '+'harper'"
      ],
      "execution_count": null,
      "outputs": [
        {
          "output_type": "execute_result",
          "data": {
            "application/vnd.google.colaboratory.intrinsic+json": {
              "type": "string"
            },
            "text/plain": [
              "'hello harper'"
            ]
          },
          "metadata": {},
          "execution_count": 46
        }
      ]
    },
    {
      "cell_type": "code",
      "metadata": {
        "id": "VB7_MFpddj0K",
        "colab": {
          "base_uri": "https://localhost:8080/"
        },
        "outputId": "36af3417-383c-4f2f-b820-3eab20637d76"
      },
      "source": [
        "var1 = \"I am\"\n",
        "var2 = \" the goat\"\n",
        "#TODO: Concatenate the variables and print the result\n",
        "print(var1+var2)"
      ],
      "execution_count": null,
      "outputs": [
        {
          "output_type": "stream",
          "name": "stdout",
          "text": [
            "I am the goat\n"
          ]
        }
      ]
    },
    {
      "cell_type": "code",
      "metadata": {
        "id": "wzdrrQZqdj0K",
        "colab": {
          "base_uri": "https://localhost:8080/"
        },
        "outputId": "2a2360bd-04e1-4959-8115-38f91289c2f8"
      },
      "source": [
        "var = \"I am a string variable\"\n",
        "#TODO: assign the concatination of `var` and \" I am a string literal\", to message\n",
        "message= var+'I am a string literal'\n",
        "print(message)"
      ],
      "execution_count": null,
      "outputs": [
        {
          "output_type": "stream",
          "name": "stdout",
          "text": [
            "I am a string variableI am a string literal\n"
          ]
        }
      ]
    },
    {
      "cell_type": "markdown",
      "metadata": {
        "id": "Hr7kL_kmdj0K"
      },
      "source": [
        "# Lists\n",
        "A list is a sequence of items separated by commas.\n",
        "<hr>\n",
        "\n",
        "### Creating Lists\n",
        "A list is created by putting elements within square brackets [] separated by commas.\n",
        "```python\n",
        "var = [1,2,3,4]\n",
        "```\n",
        "\n",
        "**You can also add elements of different types to a list, including other lists**\n",
        "```python\n",
        "var = [1, 2, 'list with string', 4.32, [5,4,3,2]]\n",
        "```\n",
        "\n",
        "Lists, like strings, are sequences meaning their elements are accessed using an index. \n",
        "\n",
        "**Remember:**<em> An index is a numerical representation of an item's position in a sequence. The index of the first item in a sequence always starts at 0</em>"
      ]
    },
    {
      "cell_type": "code",
      "metadata": {
        "id": "XOfYX-wEdj0K",
        "colab": {
          "base_uri": "https://localhost:8080/"
        },
        "outputId": "38bc4f5e-714f-42b9-a4a9-fc6a71558197"
      },
      "source": [
        "# creation of a list \n",
        "var = [10, 20, 30, 40, 50]\n",
        "\n",
        "# TODO: accessing list elements\n",
        "# what is the first value\n",
        "print=var[0]\n",
        "# what is the middle value\n",
        "print=var[2]\n",
        "# what is the last value\n",
        "print=var[4]\n",
        "\n"
      ],
      "execution_count": null,
      "outputs": [
        {
          "output_type": "execute_result",
          "data": {
            "text/plain": [
              "50"
            ]
          },
          "metadata": {},
          "execution_count": 55
        }
      ]
    },
    {
      "cell_type": "code",
      "metadata": {
        "id": "PdDucQqrrGn0",
        "colab": {
          "base_uri": "https://localhost:8080/"
        },
        "outputId": "1c9828f3-6f5b-4dda-bfcc-c8f53951b583"
      },
      "source": [
        "var = [1,2,3,4, [5,6,7,8]]\n",
        "var[3]\n",
        "var[4]\n",
        "var[4][1]"
      ],
      "execution_count": null,
      "outputs": [
        {
          "output_type": "execute_result",
          "data": {
            "text/plain": [
              "6"
            ]
          },
          "metadata": {},
          "execution_count": 62
        }
      ]
    },
    {
      "cell_type": "markdown",
      "metadata": {
        "id": "IMlfESnEdj0L"
      },
      "source": [
        "## Lists are Mutable\n",
        "You can change the values of elements in a list by indicating the index of the value you want to change, and assigning the new value to that index."
      ]
    },
    {
      "cell_type": "code",
      "metadata": {
        "id": "dzbjCX0idj0L",
        "colab": {
          "base_uri": "https://localhost:8080/"
        },
        "outputId": "858e0322-76cd-4e71-dd92-f7f70d36289b"
      },
      "source": [
        "# changing list elements\n",
        "var = [1, 2, 3, 4, 5]\n",
        "print(f\"List before editing: {var}\")\n",
        "var[2]=30\n",
        "\n",
        "\n",
        "# TODO: change the third list element from 3 to 30\n",
        "print(f\"List after editing: {var}\")\n"
      ],
      "execution_count": null,
      "outputs": [
        {
          "output_type": "stream",
          "name": "stdout",
          "text": [
            "List before editing: [1, 2, 3, 4, 5]\n",
            "List after editing: [1, 2, 30, 4, 5]\n"
          ]
        }
      ]
    },
    {
      "cell_type": "markdown",
      "metadata": {
        "id": "PpDqinvmdj0L"
      },
      "source": [
        "## Adding new elements to a list\n",
        "The list object has a method called `append()`. This method instructs python to add new values to the end of a list."
      ]
    },
    {
      "cell_type": "code",
      "metadata": {
        "id": "IMLJ_9cCdj0L",
        "colab": {
          "base_uri": "https://localhost:8080/"
        },
        "outputId": "d638e3f9-80db-41bb-b5a3-705d268e984d"
      },
      "source": [
        "#TODO: create a list of names and append 3 new names to it.\n",
        "print(var)\n",
        "var.append(100)\n",
        "print(var)\n",
        "var.append([100])"
      ],
      "execution_count": null,
      "outputs": [
        {
          "output_type": "stream",
          "name": "stdout",
          "text": [
            "[1, 2, 30, 4, 5, 100, 100, 100, 100, 100, [100.0]]\n",
            "[1, 2, 30, 4, 5, 100, 100, 100, 100, 100, [100.0], 100]\n"
          ]
        }
      ]
    },
    {
      "cell_type": "markdown",
      "metadata": {
        "id": "fQyunLwVdj0L"
      },
      "source": [
        "# Mutable vs. Immutable data types \n",
        "* **Mutable** - Has the ability to change, or mutate.\n",
        "* **Immutable** - Does not have the ability to change, or mutate.\n",
        "\n",
        "Data types that are mutable **are allowed** to have their values changed throughout the program. \n",
        "-----\n",
        "\n",
        "> <p style = \"color:#D36582\"><b>Imagine Mutable data types as going to a class where you don't have assigned seats. Since there was no seat assignment from the start, you are allowed to change your seat anytime during the year.</b></p>\n",
        "\n",
        "<br><br>\n",
        "\n",
        "Data types that are immutable **aren't allowed** to have their values changed throughout the program.\n",
        "----\n",
        "> <p style = \"color:#D36582\"><b>Imagine Immutable data types as going to a class where you do have assigned seats. Since there was a specific seating arrangement from the start, that seating arrangement stays the same throughout the year.</b></p>\n",
        "\n",
        "### **Lets look at an immutable data type to get a better understanding of this**\n",
        "\n",
        "-----------------\n",
        "# Tuples \n",
        "A tuple is like a list, in that it is a sequence of elements. However, once a tuple is created, it never changes. \n",
        "\n",
        "Tuples are created by putting elements inside of parenthesis ().\n",
        "\n",
        "**<em>All of these concepts will be explored further in the data structures and methods section</em>**"
      ]
    },
    {
      "cell_type": "code",
      "metadata": {
        "id": "Qsq8Fm-Wdj0M",
        "colab": {
          "base_uri": "https://localhost:8080/"
        },
        "outputId": "7ad1191f-8e41-4ebb-9265-dbcfadcdbb6b"
      },
      "source": [
        "# TODO: create a 4 element tuple and print the variable\n",
        "var=(1,2,3,4)\n",
        "print(var)\n",
        "print(type(var))\n"
      ],
      "execution_count": null,
      "outputs": [
        {
          "output_type": "stream",
          "name": "stdout",
          "text": [
            "(1, 2, 3, 4)\n",
            "<class 'tuple'>\n"
          ]
        }
      ]
    },
    {
      "cell_type": "code",
      "metadata": {
        "id": "Qoi8WF9wdj0M",
        "colab": {
          "base_uri": "https://localhost:8080/"
        },
        "outputId": "47e6481c-8ce3-41ec-a982-d43442e7e963"
      },
      "source": [
        "# TODO: Create a tuple with a string, float, list and integer\n",
        "var = (1,2, [54,45,52], True, False)\n",
        "print(var)\n"
      ],
      "execution_count": null,
      "outputs": [
        {
          "output_type": "stream",
          "name": "stdout",
          "text": [
            "(1, 2, [54, 45, 52], True, False)\n"
          ]
        }
      ]
    },
    {
      "cell_type": "code",
      "metadata": {
        "id": "YJjgnDuodj0M",
        "colab": {
          "base_uri": "https://localhost:8080/"
        },
        "outputId": "e66ffe88-197c-4428-8d5f-7bd09924aaca"
      },
      "source": [
        "#TODO: indexing tuples is the same as indexing lists\n",
        "#index a tuple element\n",
        "var[0]"
      ],
      "execution_count": null,
      "outputs": [
        {
          "output_type": "execute_result",
          "data": {
            "text/plain": [
              "1"
            ]
          },
          "metadata": {},
          "execution_count": 86
        }
      ]
    },
    {
      "cell_type": "code",
      "metadata": {
        "id": "Ei-9osNudj0M",
        "colab": {
          "base_uri": "https://localhost:8080/",
          "height": 198
        },
        "outputId": "9633b8d4-572c-465b-e755-9f071858c33f"
      },
      "source": [
        "var = (1, 2, 3, 4)\n",
        "# TODO: try to change the first element in the tuple\n",
        "var[0]=1"
      ],
      "execution_count": null,
      "outputs": [
        {
          "output_type": "error",
          "ename": "TypeError",
          "evalue": "ignored",
          "traceback": [
            "\u001b[0;31m---------------------------------------------------------------------------\u001b[0m",
            "\u001b[0;31mTypeError\u001b[0m                                 Traceback (most recent call last)",
            "\u001b[0;32m<ipython-input-87-b64643ba273b>\u001b[0m in \u001b[0;36m<module>\u001b[0;34m()\u001b[0m\n\u001b[1;32m      1\u001b[0m \u001b[0mvar\u001b[0m \u001b[0;34m=\u001b[0m \u001b[0;34m(\u001b[0m\u001b[0;36m1\u001b[0m\u001b[0;34m,\u001b[0m \u001b[0;36m2\u001b[0m\u001b[0;34m,\u001b[0m \u001b[0;36m3\u001b[0m\u001b[0;34m,\u001b[0m \u001b[0;36m4\u001b[0m\u001b[0;34m)\u001b[0m\u001b[0;34m\u001b[0m\u001b[0;34m\u001b[0m\u001b[0m\n\u001b[1;32m      2\u001b[0m \u001b[0;31m# TODO: try to change the first element in the tuple\u001b[0m\u001b[0;34m\u001b[0m\u001b[0;34m\u001b[0m\u001b[0;34m\u001b[0m\u001b[0m\n\u001b[0;32m----> 3\u001b[0;31m \u001b[0mvar\u001b[0m\u001b[0;34m[\u001b[0m\u001b[0;36m0\u001b[0m\u001b[0;34m]\u001b[0m\u001b[0;34m=\u001b[0m\u001b[0;36m1\u001b[0m\u001b[0;34m\u001b[0m\u001b[0;34m\u001b[0m\u001b[0m\n\u001b[0m",
            "\u001b[0;31mTypeError\u001b[0m: 'tuple' object does not support item assignment"
          ]
        }
      ]
    },
    {
      "cell_type": "code",
      "metadata": {
        "id": "V_q_6vxZuhMU",
        "colab": {
          "base_uri": "https://localhost:8080/"
        },
        "outputId": "d2078faa-84ce-471e-8de8-53b049e0c210"
      },
      "source": [
        "#boolean\n",
        "True"
      ],
      "execution_count": null,
      "outputs": [
        {
          "output_type": "execute_result",
          "data": {
            "text/plain": [
              "True"
            ]
          },
          "metadata": {},
          "execution_count": 88
        }
      ]
    },
    {
      "cell_type": "code",
      "metadata": {
        "id": "4we5bgjculpk",
        "colab": {
          "base_uri": "https://localhost:8080/"
        },
        "outputId": "0f58478c-5970-4bb3-dc33-fd97efaa61bc"
      },
      "source": [
        "False"
      ],
      "execution_count": null,
      "outputs": [
        {
          "output_type": "execute_result",
          "data": {
            "text/plain": [
              "False"
            ]
          },
          "metadata": {},
          "execution_count": 89
        }
      ]
    },
    {
      "cell_type": "code",
      "metadata": {
        "id": "JMz1-9l5uosj",
        "colab": {
          "base_uri": "https://localhost:8080/"
        },
        "outputId": "4d733964-5e9a-493d-c431-6c263ee92520"
      },
      "source": [
        "True and False"
      ],
      "execution_count": null,
      "outputs": [
        {
          "output_type": "execute_result",
          "data": {
            "text/plain": [
              "False"
            ]
          },
          "metadata": {},
          "execution_count": 90
        }
      ]
    },
    {
      "cell_type": "code",
      "metadata": {
        "id": "mT3FyKNPu_9K",
        "colab": {
          "base_uri": "https://localhost:8080/"
        },
        "outputId": "b676c147-1efc-40a9-9e93-1e0067460146"
      },
      "source": [
        "True or False"
      ],
      "execution_count": null,
      "outputs": [
        {
          "output_type": "execute_result",
          "data": {
            "text/plain": [
              "True"
            ]
          },
          "metadata": {},
          "execution_count": 91
        }
      ]
    },
    {
      "cell_type": "code",
      "metadata": {
        "id": "16MSzgM3vBxa"
      },
      "source": [
        ""
      ],
      "execution_count": null,
      "outputs": []
    }
  ]
}