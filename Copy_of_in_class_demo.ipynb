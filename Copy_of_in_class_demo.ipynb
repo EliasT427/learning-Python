{
  "nbformat": 4,
  "nbformat_minor": 0,
  "metadata": {
    "interpreter": {
      "hash": "fd61235da8d855c081cbd5d7c6398e4c179a40a950675235256f7f30499f1124"
    },
    "kernelspec": {
      "display_name": "Python 3.7.4 64-bit ('base': conda)",
      "name": "python3"
    },
    "language_info": {
      "codemirror_mode": {
        "name": "ipython",
        "version": 3
      },
      "file_extension": ".py",
      "mimetype": "text/x-python",
      "name": "python",
      "nbconvert_exporter": "python",
      "pygments_lexer": "ipython3",
      "version": "3.7.4"
    },
    "orig_nbformat": 4,
    "colab": {
      "name": "Copy of in_class_demo.ipynb",
      "provenance": [],
      "include_colab_link": true
    }
  },
  "cells": [
    {
      "cell_type": "markdown",
      "metadata": {
        "id": "view-in-github",
        "colab_type": "text"
      },
      "source": [
        "<a href=\"https://colab.research.google.com/github/EliasT427/learning-Python/blob/main/Copy_of_in_class_demo.ipynb\" target=\"_parent\"><img src=\"https://colab.research.google.com/assets/colab-badge.svg\" alt=\"Open In Colab\"/></a>"
      ]
    },
    {
      "cell_type": "markdown",
      "metadata": {
        "id": "2j1JXCeJhHtE"
      },
      "source": [
        "# What Are Methods?\n",
        "In python Data structures like `lists`, `tuples`, `strings` and basically any other data type that isn't a literal value, are objects. Objects will be explained more thoroughly in ***Module 6*** but for now you can think of them as a collection of properties and functions.\n",
        "--\n",
        "\n",
        "<br>\n",
        "\n",
        "**For Example:** If we think of a car as an object, it has properties like `color`, `weight`, `make`, and `price` along with functionality such as `start()`, `stop()`, `drive()`, `brake()`, and so on.\n",
        "--\n",
        "<br>\n",
        "\n",
        "**Methods are functionality that is associated with objects**\n",
        "--\n",
        "\n",
        "\n",
        "------------------------"
      ]
    },
    {
      "cell_type": "markdown",
      "metadata": {
        "id": "bz9IJvIUhHtG"
      },
      "source": [
        "# Slicing, Negative Indexing, and Comprehensions\n",
        "Although slicing, indexing, and comprehensions aren't methods, the functionality they provide is important enough for them to be talked about here.\n",
        "--\n",
        "\n",
        "<br>\n",
        "\n",
        "## **Negative Indexing**\n",
        "In python, we index values in a sequence from left to right, starting at 0. However, you can also index items in a sequence from right to left, starting at -1.\n",
        "\n",
        "<div style = \"text-align:center\">\n",
        "    <img src = \"images/indexing.png\" style = \"\">\n",
        "</div>\n"
      ]
    },
    {
      "cell_type": "code",
      "metadata": {
        "id": "MZleQGoThHtH",
        "colab": {
          "base_uri": "https://localhost:8080/"
        },
        "outputId": "7d4c78c6-69fe-4c39-bb04-2e03a186162b"
      },
      "source": [
        "#TODO: Return elements in the list using negative indexing\n",
        "var = [5,4,3,2,1]\n",
        "var[-2]"
      ],
      "execution_count": null,
      "outputs": [
        {
          "output_type": "execute_result",
          "data": {
            "text/plain": [
              "2"
            ]
          },
          "metadata": {},
          "execution_count": 1
        }
      ]
    },
    {
      "cell_type": "code",
      "metadata": {
        "id": "PBe84D-9hHtI",
        "colab": {
          "base_uri": "https://localhost:8080/",
          "height": 35
        },
        "outputId": "db6ef6d5-7fb3-4ea0-e68d-6eed1785d9f3"
      },
      "source": [
        "#TODO: Return characters in the string using negative indexing\n",
        "string = 'washburn'\n",
        "string[-1]"
      ],
      "execution_count": null,
      "outputs": [
        {
          "output_type": "execute_result",
          "data": {
            "application/vnd.google.colaboratory.intrinsic+json": {
              "type": "string"
            },
            "text/plain": [
              "'n'"
            ]
          },
          "metadata": {},
          "execution_count": 6
        }
      ]
    },
    {
      "cell_type": "markdown",
      "metadata": {
        "id": "qp5u_sC6hHtI"
      },
      "source": [
        "# Slicing\n",
        "To access a range of items in a list, you need to slice a list. One way to do this is to use the simple slicing operator `:`.\n",
        "With this operator you can specify where to start the slicing, where to end and specify the step.\n",
        "--\n",
        "\n",
        "<div style = \"text-align:center\">\n",
        "    <img src = \"images/slice.png\" style = \"\">\n",
        "</div>\n"
      ]
    },
    {
      "cell_type": "code",
      "metadata": {
        "id": "36N2OVxkhHtI",
        "colab": {
          "base_uri": "https://localhost:8080/"
        },
        "outputId": "6a4b02f6-9e5f-4921-a883-0d93a6ab8cfc"
      },
      "source": [
        "L = ['a', 'b', 'c', 'd', 'e', 'f', 'g', 'h', 'i']\n",
        "L[0:3:2]\n",
        "L[::-1]"
      ],
      "execution_count": null,
      "outputs": [
        {
          "output_type": "execute_result",
          "data": {
            "text/plain": [
              "['i', 'h', 'g', 'f', 'e', 'd', 'c', 'b', 'a']"
            ]
          },
          "metadata": {},
          "execution_count": 11
        }
      ]
    },
    {
      "cell_type": "markdown",
      "metadata": {
        "id": "Mo8oYk93hHtJ"
      },
      "source": [
        "<div style = \"text-align:center\">\n",
        "    <img src = \"images/slice2.png\" style = \"\">\n",
        "</div>"
      ]
    },
    {
      "cell_type": "code",
      "metadata": {
        "id": "4spkeWNfhHtJ",
        "colab": {
          "base_uri": "https://localhost:8080/"
        },
        "outputId": "2cc10d50-6d8d-4351-9399-93c4ecf842f9"
      },
      "source": [
        "#TODO: Slice the list to return the values 3 to 9\n",
        "var = [1,2,3,4,5,6,7,8,9,10,11,12,13,14,15]\n",
        "var[2:9]"
      ],
      "execution_count": null,
      "outputs": [
        {
          "output_type": "execute_result",
          "data": {
            "text/plain": [
              "[3, 4, 5, 6, 7, 8, 9]"
            ]
          },
          "metadata": {},
          "execution_count": 12
        }
      ]
    },
    {
      "cell_type": "code",
      "metadata": {
        "id": "eNGx2FJmhHtK",
        "colab": {
          "base_uri": "https://localhost:8080/"
        },
        "outputId": "6733bfff-b6fc-4d68-c4b8-e20394f3548d"
      },
      "source": [
        "#TODO: Slice everything from the beginning up to the 5th index\n",
        "var = [10, True, 11, False, 12, True, 13, False]\n",
        "var[:6]"
      ],
      "execution_count": null,
      "outputs": [
        {
          "output_type": "execute_result",
          "data": {
            "text/plain": [
              "[10, True, 11, False, 12, True]"
            ]
          },
          "metadata": {},
          "execution_count": 14
        }
      ]
    },
    {
      "cell_type": "code",
      "metadata": {
        "id": "CvPrNDxshHtK",
        "colab": {
          "base_uri": "https://localhost:8080/",
          "height": 35
        },
        "outputId": "ba2e1e9e-0c7d-46cc-bc59-38ba2e56543b"
      },
      "source": [
        "\n",
        "#TODO: Slice the string to return the substring 'burn'\n",
        "var = \"Washburn\"\n",
        "var[4:]"
      ],
      "execution_count": null,
      "outputs": [
        {
          "output_type": "execute_result",
          "data": {
            "application/vnd.google.colaboratory.intrinsic+json": {
              "type": "string"
            },
            "text/plain": [
              "'burn'"
            ]
          },
          "metadata": {},
          "execution_count": 16
        }
      ]
    },
    {
      "cell_type": "markdown",
      "metadata": {
        "id": "V6zOcu6whHtK"
      },
      "source": [
        "# List Comprehensions\n",
        "\n",
        "Suppose you want to create a list of all integer square numbers from 2 to 4. You could build that list creating a `for loop` with a range of 2-5 and append the square of each value to a list.\n",
        "--"
      ]
    },
    {
      "cell_type": "code",
      "metadata": {
        "id": "0eILKoOihHtK",
        "colab": {
          "base_uri": "https://localhost:8080/"
        },
        "outputId": "b9a47ff7-7ee8-4a69-a781-be96a8a45171"
      },
      "source": [
        "#TODO: write a for loop to add all squared values from 2 to 4 to a list\n",
        "squares = []\n",
        "for i in range(2,5):\n",
        "  squares.append(i**2)\n",
        "squares"
      ],
      "execution_count": null,
      "outputs": [
        {
          "output_type": "execute_result",
          "data": {
            "text/plain": [
              "[4, 9, 16]"
            ]
          },
          "metadata": {},
          "execution_count": 17
        }
      ]
    },
    {
      "cell_type": "markdown",
      "metadata": {
        "id": "nqccnRNLhHtL"
      },
      "source": [
        "However, this method uses more code than what is necessary for this task and we can simplify it using a list comprehension instead.\n",
        "--\n",
        "\n",
        "**List comprehensions are a way to build a new list by applying an expression to each item in an iterable.**\n",
        "--\n",
        "\n",
        "<div style = \"text-align:center\">\n",
        "    <img src = \"images/comprehension.png\" style = \"\">\n",
        "</div>"
      ]
    },
    {
      "cell_type": "code",
      "metadata": {
        "id": "qgtZ2x9dhHtL",
        "colab": {
          "base_uri": "https://localhost:8080/"
        },
        "outputId": "77131221-f59c-483a-fe0c-f6915403bd56"
      },
      "source": [
        "#TODO: Recreate the code from above using a list comprehension\n",
        "var = [i**2 for i in range(2,5)]\n",
        "var"
      ],
      "execution_count": null,
      "outputs": [
        {
          "output_type": "execute_result",
          "data": {
            "text/plain": [
              "[4, 9, 16]"
            ]
          },
          "metadata": {},
          "execution_count": 18
        }
      ]
    },
    {
      "cell_type": "code",
      "metadata": {
        "id": "NxjQ9pW7hHtL"
      },
      "source": [
        "#TODO: Use a list comprehension to create a list of values from 1 to 100\n",
        "var = [i for i in range(1,101)]\n",
        "var"
      ],
      "execution_count": null,
      "outputs": []
    },
    {
      "cell_type": "code",
      "metadata": {
        "id": "QfAIsn4GhHtL",
        "colab": {
          "base_uri": "https://localhost:8080/"
        },
        "outputId": "3f66895e-4538-4299-9875-aa41f6419786"
      },
      "source": [
        "names = [\"Gabe\", \"Flomo\", \"Nathan\", \"Aaron\", \"Nene\"]\n",
        "#TODO: Use a list comprehension to get the first and last characters of the name\n",
        "var = [i[0] + i[-1] for i in names]\n",
        "var"
      ],
      "execution_count": null,
      "outputs": [
        {
          "output_type": "execute_result",
          "data": {
            "text/plain": [
              "['Ge', 'Fo', 'Nn', 'An', 'Ne']"
            ]
          },
          "metadata": {},
          "execution_count": 23
        }
      ]
    },
    {
      "cell_type": "markdown",
      "metadata": {
        "id": "l1jIo7z9hHtL"
      },
      "source": [
        "-----\n",
        "# List Methods\n",
        "Ever since the Variables and data types chapter, you have already been exposed to the `.append()` method, which is probably the most common list methodsed. In this section of the chapter we will go over 5 new methods that will be useful for future tasks.\n",
        "\n",
        "* `.sort()`\n",
        "* `.copy()`\n",
        "* `.pop()`\n",
        "* `.extend()`\n",
        "* `.index()`"
      ]
    },
    {
      "cell_type": "markdown",
      "metadata": {
        "id": "E0QdCmy9hHtL"
      },
      "source": [
        "# List Method: `.sort()`\n",
        "used to sort the elements in the list.\n",
        "--"
      ]
    },
    {
      "cell_type": "code",
      "metadata": {
        "id": "3NOAOh9GhHtM",
        "colab": {
          "base_uri": "https://localhost:8080/"
        },
        "outputId": "2c4242f8-5e7f-4c58-a847-f13151021158"
      },
      "source": [
        "#TODO: Sort a list of numbers\n",
        "var = [23, 0, 34, 211, 64, 775, 3, 7, 33445623, 76, .66542, -.00601]\n",
        "var.sort()\n",
        "var"
      ],
      "execution_count": null,
      "outputs": [
        {
          "output_type": "execute_result",
          "data": {
            "text/plain": [
              "[-0.00601, 0, 0.66542, 3, 7, 23, 34, 64, 76, 211, 775, 33445623]"
            ]
          },
          "metadata": {},
          "execution_count": 26
        }
      ]
    },
    {
      "cell_type": "code",
      "metadata": {
        "id": "6PFnhLORhHtM",
        "colab": {
          "base_uri": "https://localhost:8080/"
        },
        "outputId": "3fc3adfd-4912-4ef2-fb9b-eac205836b5d"
      },
      "source": [
        "#TODO: Sort a list of strings\n",
        "var = [\"B\", \"C\", \"Z\", \"A\", \"Apple\", \"Banana\"]\n",
        "var.sort()\n",
        "var"
      ],
      "execution_count": null,
      "outputs": [
        {
          "output_type": "execute_result",
          "data": {
            "text/plain": [
              "['A', 'Apple', 'B', 'Banana', 'C', 'Z']"
            ]
          },
          "metadata": {},
          "execution_count": 29
        }
      ]
    },
    {
      "cell_type": "code",
      "metadata": {
        "id": "OvsrL3iDhHtM",
        "colab": {
          "base_uri": "https://localhost:8080/"
        },
        "outputId": "a88afbac-91d2-481a-9fa2-4c027c008212"
      },
      "source": [
        "#TODO: Sort a list of lists\n",
        "var = [[3,2,3], [0,2,1], [0, .5, 3]]\n",
        "var.sort()\n",
        "var"
      ],
      "execution_count": null,
      "outputs": [
        {
          "output_type": "execute_result",
          "data": {
            "text/plain": [
              "[[0, 0.5, 3], [0, 2, 1], [3, 2, 3]]"
            ]
          },
          "metadata": {},
          "execution_count": 30
        }
      ]
    },
    {
      "cell_type": "markdown",
      "metadata": {
        "id": "OsEaE6s5hHtM"
      },
      "source": [
        "# List Method: `.copy()`\n",
        "Returns a copy of the list.\n",
        "--"
      ]
    },
    {
      "cell_type": "code",
      "metadata": {
        "id": "eYmkFtAdhHtM",
        "colab": {
          "base_uri": "https://localhost:8080/"
        },
        "outputId": "7c9af794-0857-49d1-90d0-41c42d9d7157"
      },
      "source": [
        "#TODO: create a copy of the list\n",
        "var = [1,2,3,4,5]\n",
        "var2 = var.copy()\n",
        "var2[0]=100\n",
        "var, var2"
      ],
      "execution_count": null,
      "outputs": [
        {
          "output_type": "execute_result",
          "data": {
            "text/plain": [
              "([1, 2, 3, 4, 5], [100, 2, 3, 4, 5])"
            ]
          },
          "metadata": {},
          "execution_count": 35
        }
      ]
    },
    {
      "cell_type": "markdown",
      "metadata": {
        "id": "SdOBD0OphHtM"
      },
      "source": [
        "In order to create a copy of a list, you need to use the copy method. Assigning an existing list to a new variable doesn't create a new list, it creates a new reference to a list that already exists, meaning that altering one will alter the other.\n",
        "---"
      ]
    },
    {
      "cell_type": "code",
      "metadata": {
        "id": "jnnBB1C1hHtM",
        "colab": {
          "base_uri": "https://localhost:8080/"
        },
        "outputId": "a1573aa6-c9c2-4c81-8159-588657032c3a"
      },
      "source": [
        "#TODO: show that assigning an existing list to a new variable does't actually copy the list\n",
        "var = [1,2,3,4,5]\n",
        "var2 = var[:]\n",
        "var, var2"
      ],
      "execution_count": null,
      "outputs": [
        {
          "output_type": "execute_result",
          "data": {
            "text/plain": [
              "([1, 2, 3, 4, 5], [1, 2, 3, 4, 5])"
            ]
          },
          "metadata": {},
          "execution_count": 37
        }
      ]
    },
    {
      "cell_type": "code",
      "metadata": {
        "id": "LDkzMqE0hHtN"
      },
      "source": [
        "#TODO: copy a list using slicing [:]\n",
        "var = [\"I\", \"am\", \"a\", \"person\"]\n"
      ],
      "execution_count": null,
      "outputs": []
    },
    {
      "cell_type": "markdown",
      "metadata": {
        "id": "bJDZpCzOhHtN"
      },
      "source": [
        "# List Method: `.pop()`\n",
        "The pop() method removes a single list element at specified index and returns it. If no index is specified, pop() method removes and returns the last item in the list.\n",
        "--"
      ]
    },
    {
      "cell_type": "code",
      "metadata": {
        "id": "nUxrJumshHtN",
        "colab": {
          "base_uri": "https://localhost:8080/"
        },
        "outputId": "84a08824-0d20-4b0a-d1d1-8398e35be379"
      },
      "source": [
        "#TODO: showcase the pop method\n",
        "var = [.32, 1.89, 'flamingo']\n",
        "var.pop(0)\n",
        "var"
      ],
      "execution_count": null,
      "outputs": [
        {
          "output_type": "execute_result",
          "data": {
            "text/plain": [
              "[1.89, 'flamingo']"
            ]
          },
          "metadata": {},
          "execution_count": 52
        }
      ]
    },
    {
      "cell_type": "code",
      "metadata": {
        "id": "gNzrmELchHtN"
      },
      "source": [
        "#TODO: pop the first element of the list and print the value and the length before and after popping\n",
        "var = [12, 9, .432]\n"
      ],
      "execution_count": null,
      "outputs": []
    },
    {
      "cell_type": "markdown",
      "metadata": {
        "id": "y1DS9K6AhHtN"
      },
      "source": [
        "# List Method: `.extend()`\n",
        "The extend() method extends the list by appending all the items from the iterable to the end of the list. This method does not return anything; it modifies the list in place.\n",
        "--"
      ]
    },
    {
      "cell_type": "code",
      "metadata": {
        "id": "c7UFkOE_hHtN"
      },
      "source": [
        "#TODO: Show what happens when you append an iterable to a list\n",
        "var = [5,6,7,8,9,10]\n",
        "var2 = [1,2,3,4,]\n",
        "var.append(var2)\n",
        "var"
      ],
      "execution_count": null,
      "outputs": []
    },
    {
      "cell_type": "code",
      "metadata": {
        "id": "09gQKS-3hHtN",
        "colab": {
          "base_uri": "https://localhost:8080/"
        },
        "outputId": "e184a566-7b4d-4486-8b08-176d81a35bc7"
      },
      "source": [
        "#TODO: Show what happens when you extend a list with another iterable\n",
        "var = [5, 6, 7, 8, 9, 10]\n",
        "var2 = [1,2,3,4,5]\n",
        "var.extend(var2)\n",
        "var"
      ],
      "execution_count": null,
      "outputs": [
        {
          "output_type": "execute_result",
          "data": {
            "text/plain": [
              "[5, 6, 7, 8, 9, 10, 1, 2, 3, 4, 5]"
            ]
          },
          "metadata": {},
          "execution_count": 53
        }
      ]
    },
    {
      "cell_type": "markdown",
      "metadata": {
        "id": "HJ4VEE11hHtN"
      },
      "source": [
        "# List method: `.index()`\n",
        "The index() method searches for the first occurrence of the given item and returns its index. If specified item is not found, it raises ‘ValueError’ exception.\n",
        "--"
      ]
    },
    {
      "cell_type": "code",
      "metadata": {
        "id": "I8lIvRLshHtO",
        "colab": {
          "base_uri": "https://localhost:8080/"
        },
        "outputId": "c8299ff7-d58d-49ce-c2b9-c2061e8c92e1"
      },
      "source": [
        "#TODO: What is the index of `green`\n",
        "colors = ['red', 'green', 'blue', 'yellow']\n",
        "colors.index('yellow')"
      ],
      "execution_count": null,
      "outputs": [
        {
          "output_type": "execute_result",
          "data": {
            "text/plain": [
              "3"
            ]
          },
          "metadata": {},
          "execution_count": 62
        }
      ]
    },
    {
      "cell_type": "code",
      "metadata": {
        "id": "SIW9wAjqzDb7",
        "colab": {
          "base_uri": "https://localhost:8080/"
        },
        "outputId": "e1c1ba8a-b1a6-4dbb-e997-1310fbe07edb"
      },
      "source": [
        "# this is the count method in action\n",
        "var = ['red', 'green', 'blue', 'yellow', 'red']\n",
        "var.count('red')"
      ],
      "execution_count": null,
      "outputs": [
        {
          "output_type": "execute_result",
          "data": {
            "text/plain": [
              "2"
            ]
          },
          "metadata": {},
          "execution_count": 65
        }
      ]
    },
    {
      "cell_type": "markdown",
      "metadata": {
        "id": "8dho6tF5hHtO"
      },
      "source": [
        "-----\n",
        "# Creating Lists with unique values only\n",
        "Say we have a list of names of students in a school and we don't actually care about how many student there, we only care about what the unique names are. For example, consider the following list.\n",
        "---\n",
        "\n",
        "```python \n",
        "[\n",
        "    'Gabe',\n",
        "    'Alex',\n",
        "    'Matt',\n",
        "    'Alex',\n",
        "    'Naomi',\n",
        "    'Alex'\n",
        "]\n",
        "```\n",
        "\n",
        "There are 6 students total, but I only care about how many unique names are present in the list. The unique names in this list are `[\"Gabe\", \"Alex\", \"Matt\", \"Naomi\"]` which reduces our list from 6 to 4. One way to achieve this result in python is to cast our list to the `set` data type then back into a `list`.\n",
        "--\n",
        "\n",
        "## [sets](https://www.learnbyexample.org/python-set/)\n",
        "Sets are not going to be formally covered in this course, however, they do have some functionality that will be useful for future projects so we will briefly cover them here. A set is similar to a list or tuple with the only difference being that it does not allow you to have duplicate elements. To create a set from a list, use the `set()` constructor.\n",
        "--\n",
        "\n",
        "```python \n",
        "var = [1,2,3,3,3,4,5,5,5]\n",
        "converted = set(var) -> {1,2,3,4,5}\n",
        "```\n",
        "\n",
        "Since we aren't interested in using the `set` as it is, we can convert it back to a list by calling the list constructor around the set.\n",
        "--\n",
        "\n",
        "```python\n",
        "var = [1,2,3,3,3,4,5,5,5]\n",
        "converted = list(set(var)) -> [1,2,3,4,5]\n",
        "```\n",
        "\n",
        "Now we have a list with only the unique values from our original list.\n",
        "--\n",
        "\n"
      ]
    },
    {
      "cell_type": "code",
      "metadata": {
        "id": "2h7J23YOhHtO",
        "colab": {
          "base_uri": "https://localhost:8080/"
        },
        "outputId": "8991f4b8-aadd-4f5a-9fa4-dd573eeeeb6f"
      },
      "source": [
        "#TODO convert the list into a list with only the unique elements\n",
        "var = [5, 6, 5, 5, 6, 4, 7,6, 6, 7, 8, 4, 5, 5, 4]\n",
        "list(set(var))"
      ],
      "execution_count": null,
      "outputs": [
        {
          "output_type": "execute_result",
          "data": {
            "text/plain": [
              "[4, 5, 6, 7, 8]"
            ]
          },
          "metadata": {},
          "execution_count": 63
        }
      ]
    },
    {
      "cell_type": "markdown",
      "metadata": {
        "id": "Efny2PT_hHtO"
      },
      "source": [
        "One use case for doing this is to create a count of all the unique elements in a list. By creating a list with only the unique elements from the original list, we can loop over the elements in the set and count how many times that element appears in our original list.\n",
        "--"
      ]
    },
    {
      "cell_type": "code",
      "metadata": {
        "id": "RwLBy_1WhHtO",
        "colab": {
          "base_uri": "https://localhost:8080/"
        },
        "outputId": "bcdb401f-2d19-4d01-b475-0f211d6029a9"
      },
      "source": [
        "#TODO create a counter using a set\n",
        "var = [5, 6, 5, 5, 6, 4, 7, 6, 6, 7, 8, 4, 5, 5, 4]\n",
        "unique = list(set(var))\n",
        "for value in unique:\n",
        "  print(f'the count of {value} in the list is {var.count(value)}')\n",
        "\n"
      ],
      "execution_count": null,
      "outputs": [
        {
          "output_type": "stream",
          "name": "stdout",
          "text": [
            "the count of 4 in the list is 3\n",
            "the count of 5 in the list is 5\n",
            "the count of 6 in the list is 4\n",
            "the count of 7 in the list is 2\n",
            "the count of 8 in the list is 1\n"
          ]
        }
      ]
    }
  ]
}