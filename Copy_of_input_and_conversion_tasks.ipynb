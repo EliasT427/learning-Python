{
  "nbformat": 4,
  "nbformat_minor": 0,
  "metadata": {
    "orig_nbformat": 4,
    "colab": {
      "name": "Copy of input and conversion tasks.ipynb",
      "provenance": [],
      "include_colab_link": true
    },
    "language_info": {
      "name": "python"
    },
    "kernelspec": {
      "name": "python3",
      "display_name": "Python 3"
    }
  },
  "cells": [
    {
      "cell_type": "markdown",
      "metadata": {
        "id": "view-in-github",
        "colab_type": "text"
      },
      "source": [
        "<a href=\"https://colab.research.google.com/github/EliasT427/learning-Python/blob/main/Copy_of_input_and_conversion_tasks.ipynb\" target=\"_parent\"><img src=\"https://colab.research.google.com/assets/colab-badge.svg\" alt=\"Open In Colab\"/></a>"
      ]
    },
    {
      "cell_type": "markdown",
      "metadata": {
        "id": "t6s05QTMADwW"
      },
      "source": [
        "# Explicit Conversion"
      ]
    },
    {
      "cell_type": "markdown",
      "metadata": {
        "id": "oeuv7aL5ADwc"
      },
      "source": [
        "## TASK 1\n",
        "Convert the string to an integer value"
      ]
    },
    {
      "cell_type": "code",
      "metadata": {
        "id": "YKyPBDJeADwd",
        "colab": {
          "base_uri": "https://localhost:8080/"
        },
        "outputId": "5fe6b8f0-237c-4ac0-d68d-8cd2d7cf7447"
      },
      "source": [
        "#TODO: \n",
        "var = '12'\n",
        "var = int(var)\n",
        "print(type(var))"
      ],
      "execution_count": null,
      "outputs": [
        {
          "output_type": "stream",
          "name": "stdout",
          "text": [
            "<class 'int'>\n"
          ]
        }
      ]
    },
    {
      "cell_type": "markdown",
      "metadata": {
        "id": "32zsQKxeADwe"
      },
      "source": [
        "## TASK 2\n",
        "Convert the list into a tuple"
      ]
    },
    {
      "cell_type": "code",
      "metadata": {
        "id": "EuU7WsJaADwe",
        "colab": {
          "base_uri": "https://localhost:8080/"
        },
        "outputId": "f3402db8-aa75-4e35-8145-0205f3316d77"
      },
      "source": [
        "#TODO\n",
        "var = [1,2,3,4,5]\n",
        "var =tuple(var)\n",
        "print(type(var))"
      ],
      "execution_count": null,
      "outputs": [
        {
          "output_type": "stream",
          "name": "stdout",
          "text": [
            "<class 'tuple'>\n"
          ]
        }
      ]
    },
    {
      "cell_type": "markdown",
      "metadata": {
        "id": "EQXL7vj8ADwf"
      },
      "source": [
        "## TASK 3\n",
        "convert the tuple into a string"
      ]
    },
    {
      "cell_type": "code",
      "metadata": {
        "id": "YCUcci9xADwf",
        "colab": {
          "base_uri": "https://localhost:8080/"
        },
        "outputId": "09a7b43d-5375-4119-9ba7-0faf0c335b4c"
      },
      "source": [
        "#TODO\n",
        "var = (14)\n",
        "var=str(var)\n",
        "print(type(var))"
      ],
      "execution_count": null,
      "outputs": [
        {
          "output_type": "stream",
          "name": "stdout",
          "text": [
            "<class 'str'>\n"
          ]
        }
      ]
    },
    {
      "cell_type": "markdown",
      "metadata": {
        "id": "xZekiWwsADwg"
      },
      "source": [
        "# User input\n",
        "\n",
        "## TASK 1\n",
        "Ask the user for their name then ask for their age and print the results"
      ]
    },
    {
      "cell_type": "code",
      "metadata": {
        "id": "xN8wOatjADwg",
        "colab": {
          "base_uri": "https://localhost:8080/"
        },
        "outputId": "e0bfafad-852c-4555-beba-309f1a43726e"
      },
      "source": [
        "#TODO\n",
        "var = input('Enter your age')\n",
        "print(var)"
      ],
      "execution_count": null,
      "outputs": [
        {
          "output_type": "stream",
          "name": "stdout",
          "text": [
            "Enter your age15\n",
            "15\n"
          ]
        }
      ]
    },
    {
      "cell_type": "markdown",
      "metadata": {
        "id": "MSb8PFNoADwh"
      },
      "source": [
        "## TASK 2\n",
        "Ask the user for how many classes they're taking this semester and print the results."
      ]
    },
    {
      "cell_type": "code",
      "metadata": {
        "id": "paLBHOOeADwh",
        "colab": {
          "base_uri": "https://localhost:8080/"
        },
        "outputId": "fd248d08-65d7-4c18-a337-8165f511df88"
      },
      "source": [
        "#TODO\n",
        "var = input('how many classes are you taking this semester')\n",
        "print(var)"
      ],
      "execution_count": null,
      "outputs": [
        {
          "output_type": "stream",
          "name": "stdout",
          "text": [
            "how many classes are you taking this semester6\n",
            "6\n"
          ]
        }
      ]
    },
    {
      "cell_type": "markdown",
      "metadata": {
        "id": "7rWgX6flADwi"
      },
      "source": [
        "## TASK 3\n",
        "Ask the user for their name and age, then convert their age to a integer and multiply by the length of their name."
      ]
    },
    {
      "cell_type": "code",
      "metadata": {
        "id": "MAmHeqQ3ADwi",
        "colab": {
          "base_uri": "https://localhost:8080/"
        },
        "outputId": "754f613d-8df2-4c17-cd25-5feb6e2c5736"
      },
      "source": [
        "#TODO\n",
        "name = input('what is your name ')\n",
        "age = int(input('how old are you '))\n",
        "print(len(name)*age)\n",
        "\n"
      ],
      "execution_count": null,
      "outputs": [
        {
          "output_type": "stream",
          "name": "stdout",
          "text": [
            "what is your name Elias\n",
            "how old are you 15\n",
            "75\n"
          ]
        }
      ]
    },
    {
      "cell_type": "markdown",
      "metadata": {
        "id": "V5bMMKH9ADwi"
      },
      "source": [
        "## TASK 4\n",
        "Matilda has 10 pets (she's a crazy cat lady). Input the amount of pets you have and do a comparison to see if she has more pets than you."
      ]
    },
    {
      "cell_type": "code",
      "metadata": {
        "id": "SRWrkHITADwj",
        "colab": {
          "base_uri": "https://localhost:8080/"
        },
        "outputId": "6876a439-3588-43bc-8cc2-79cf9378140f"
      },
      "source": [
        "#TODO\n",
        "pet = int(input(\"how many pets do you have \"))\n",
        "10>pet\n"
      ],
      "execution_count": null,
      "outputs": [
        {
          "name": "stdout",
          "output_type": "stream",
          "text": [
            "how many pets do you have 11\n"
          ]
        },
        {
          "output_type": "execute_result",
          "data": {
            "text/plain": [
              "False"
            ]
          },
          "metadata": {},
          "execution_count": 20
        }
      ]
    },
    {
      "cell_type": "code",
      "metadata": {
        "id": "015cYQtTCBgF"
      },
      "source": [
        ""
      ],
      "execution_count": null,
      "outputs": []
    }
  ]
}