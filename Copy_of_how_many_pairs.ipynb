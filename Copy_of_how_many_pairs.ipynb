{
  "nbformat": 4,
  "nbformat_minor": 0,
  "metadata": {
    "orig_nbformat": 4,
    "colab": {
      "name": "Copy of how many pairs.ipynb",
      "provenance": [],
      "include_colab_link": true
    },
    "language_info": {
      "name": "python"
    },
    "kernelspec": {
      "name": "python3",
      "display_name": "Python 3"
    }
  },
  "cells": [
    {
      "cell_type": "markdown",
      "metadata": {
        "id": "view-in-github",
        "colab_type": "text"
      },
      "source": [
        "<a href=\"https://colab.research.google.com/github/EliasT427/learning-Python/blob/main/Copy_of_how_many_pairs.ipynb\" target=\"_parent\"><img src=\"https://colab.research.google.com/assets/colab-badge.svg\" alt=\"Open In Colab\"/></a>"
      ]
    },
    {
      "cell_type": "markdown",
      "metadata": {
        "id": "39S7uSLHZ9-j"
      },
      "source": [
        "# Instructions\n",
        "Generate a list of 50 random numbers between 1 and 10 and write an algorithm that can count how many times a pair of numbers appears. A pair is any number that appears at least twice, so if the number `3` appears 5 times then there are 2 pairs of `3`. Create a list of tuples with the first index as the original number and the second index as the count of pairs. Print out the list of pair tuples and out how many pairs there were total.\n",
        "\n",
        "## Expectations\n",
        "1. Generate a list of 50 random numbers\n",
        "2. Count the amount of pairs for each number\n",
        "3. Create a list of pair tuples `(original_number, pair_count)` \n",
        "4. Count the total number of pairs\n",
        "\n",
        "## Example\n",
        "```python\n",
        "numbers = [2,9,1,5,2,7,5,9,9,9,2,1,1,5,1]\n",
        "pairs = [\n",
        "    (1, 2),\n",
        "    (2, 1),\n",
        "    (4, 1),\n",
        "    (5, 1),\n",
        "    (7, 0),\n",
        "    (9, 2)\n",
        "]\n",
        "\n",
        "print(pairs)\n",
        "```\n",
        "`There are 7 pairs total`\n"
      ]
    },
    {
      "cell_type": "code",
      "metadata": {
        "id": "2tavHoCSZ9-p",
        "colab": {
          "base_uri": "https://localhost:8080/"
        },
        "outputId": "3ec9747e-fabb-4a7b-81b4-4a1367b2084e"
      },
      "source": [
        "#TODO Code goes here \n",
        "from random import randint\n",
        "number_list = []\n",
        "pairs = []\n",
        "total_pairs = 0\n",
        "while len(number_list)< 50:\n",
        "  number_list.append(randint(1,10))\n",
        "num_numbers = list(set(number_list))\n",
        "for num_pairs in num_numbers:\n",
        "  pairs.append((num_pairs,(number_list.count(num_pairs))//2))\n",
        "for total_pair in pairs:\n",
        "  total_pairs=total_pair[1] + total_pairs\n",
        "  \n",
        "print(pairs)\n",
        "print(f'there was {total_pairs} pairs total')\n"
      ],
      "execution_count": null,
      "outputs": [
        {
          "output_type": "stream",
          "name": "stdout",
          "text": [
            "[(1, 3), (2, 2), (3, 3), (4, 3), (5, 1), (6, 2), (7, 3), (8, 2), (9, 2), (10, 2)]\n",
            "there was 23 pairs total\n"
          ]
        }
      ]
    }
  ]
}