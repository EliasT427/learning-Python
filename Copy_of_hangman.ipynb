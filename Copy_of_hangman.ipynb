{
  "nbformat": 4,
  "nbformat_minor": 0,
  "metadata": {
    "interpreter": {
      "hash": "fd61235da8d855c081cbd5d7c6398e4c179a40a950675235256f7f30499f1124"
    },
    "kernelspec": {
      "display_name": "Python 3.7.4 64-bit ('base': conda)",
      "language": "python",
      "name": "python3"
    },
    "language_info": {
      "codemirror_mode": {
        "name": "ipython",
        "version": 3
      },
      "file_extension": ".py",
      "mimetype": "text/x-python",
      "name": "python",
      "nbconvert_exporter": "python",
      "pygments_lexer": "ipython3",
      "version": "3.7.4"
    },
    "orig_nbformat": 4,
    "colab": {
      "name": "Copy of hangman.ipynb",
      "provenance": [],
      "collapsed_sections": [],
      "include_colab_link": true
    }
  },
  "cells": [
    {
      "cell_type": "markdown",
      "metadata": {
        "id": "view-in-github",
        "colab_type": "text"
      },
      "source": [
        "<a href=\"https://colab.research.google.com/github/EliasT427/learning-Python/blob/main/Copy_of_hangman.ipynb\" target=\"_parent\"><img src=\"https://colab.research.google.com/assets/colab-badge.svg\" alt=\"Open In Colab\"/></a>"
      ]
    },
    {
      "cell_type": "markdown",
      "metadata": {
        "id": "j5I4Qd2Skt3U"
      },
      "source": [
        "\n",
        "\n",
        "# Instructions \n",
        "In this challenge, you are taksed with creating the hangman game in python. The goal is to write some code that allows the user to continue guessing words until they are able to guess the word that the computer has chosen. \n",
        "\n",
        "## Expectations\n",
        "- use the predefined `get_word()` function to generate a random word\n",
        "- give the user an amount of attempts equal to the length of the word +3\n",
        "- create an empty list that will hold the guesses that the user has made\n",
        "- during each guess the user is expected to either enter a single character (all lowercase), or the entire word if they think they know what it is.\n",
        "- if the user guesses a letter that has already been guessed, they should be told that they've already guessed that letter and their number of attempts should not be decreased.\n",
        "- Each time the user guesses a letter, print out a string with underscores where letters havent been guessed yet and characters from the word where it has been **(for example. p_th_n if the user has correctly guessed these letter in the word python)**\n",
        "\n",
        "### Example output\n",
        "```\n",
        "You have 11 attempts left\n",
        "__u_____\n",
        "\n",
        "You have 10 attempts left\n",
        "a_ua__a_\n",
        "\n",
        "You have 9 attempts left\n",
        "a_uar_a_\n",
        "\n",
        "You have 8 attempts left\n",
        "aquar_a_\n",
        "\n",
        "You have 7 attempts left\n",
        "aquaria_\n",
        "\n",
        "You have 6 attempts left\n",
        "aquarial\n",
        "\n",
        "You've successfuly guessed the word aquarial\n",
        "```"
      ]
    },
    {
      "cell_type": "code",
      "metadata": {
        "id": "5hE0RyWWkt3a"
      },
      "source": [
        "import requests\n",
        "from random import randint\n",
        "\n",
        "def get_word():\n",
        "    words = requests.get(f\"https://random-word-api.herokuapp.com/word?number=1\")\n",
        "    return words.json()[0]"
      ],
      "execution_count": 9,
      "outputs": []
    },
    {
      "cell_type": "code",
      "metadata": {
        "id": "XcTvpp03kt3c"
      },
      "source": [
        "#TODO Your solution starts here\n",
        "\n",
        "word = get_word()\n",
        "attempts = len(word)\n",
        "word_attempt = []\n",
        "guess_list = []\n",
        "print(f\"You have {attempts} attempts to guess the word\")\n",
        "print(word)\n",
        "# loop until attempts is not equal to 0\n",
        "while attempts != 0:\n",
        "    # get the users guess\n",
        "  guess = input('what is your guess')\n",
        "  if len(guess)>1:\n",
        "    print('must be one letter')\n",
        "  else:\n",
        "    if guess not in guess_list:\n",
        "      attempts = attempts - 1\n",
        "      print(f'you have {attempts} left')\n",
        "      guess_list.append(guess)\n",
        "      guess_string = ''\n",
        "      for i in word:\n",
        "        if i in guess_list:\n",
        "          guess_string += i\n",
        "        else:\n",
        "\n",
        "          guess_string += '_'\n",
        "    else:\n",
        "      print('you already guessed that')\n",
        "    print(guess_string)\n",
        "    # make sure that the guess is a single character\n",
        "  \n",
        "        # dont decrease attempts if the letter has already been guessed\n",
        "    \n",
        "        # otherwise \n",
        "\n",
        "            # add the guess to guesses\n",
        "\n",
        "            # decrease the attempts\n",
        "            \n",
        "            # start with an empty string\n",
        "            \n",
        "            # add letters to the empty string that are in the guest list\n",
        "            \n",
        "            # print the string with the correctly guessed letters so far\n",
        "            \n",
        "            # if all of the letters have been guessed correctly, then they've won the game and you can stop the loop\n",
        "            \n",
        "    # if the guess is the word, then the user won the game and you can stop the loop    \n",
        "   \n",
        "    # otherwise, explain that the user can only enter a single letter or the entire word\n",
        "\n",
        "# if the while loop has completed and they havent guessed the word, then they've lost the game\n",
        "\n",
        "\n"
      ],
      "execution_count": null,
      "outputs": []
    },
    {
      "cell_type": "code",
      "metadata": {
        "id": "jwMQmhZrkt3e",
        "colab": {
          "base_uri": "https://localhost:8080/",
          "height": 140
        },
        "outputId": "1a3af1e7-4cb8-4495-bfce-72f4e62d5060"
      },
      "source": [
        "word = \"python\"\n",
        "c = \"\"\n",
        "guesses_ = 'o', 't'\n",
        "for w in word:\n",
        "  print(c)\n",
        "  if w in guesses_:\n",
        "    c += w\n",
        "  else:\n",
        "    c += \"_\"\n",
        "  \n",
        "c"
      ],
      "execution_count": 21,
      "outputs": [
        {
          "output_type": "stream",
          "name": "stdout",
          "text": [
            "\n",
            "_\n",
            "__\n",
            "__t\n",
            "__t_\n",
            "__t_o\n"
          ]
        },
        {
          "output_type": "execute_result",
          "data": {
            "application/vnd.google.colaboratory.intrinsic+json": {
              "type": "string"
            },
            "text/plain": [
              "'__t_o_'"
            ]
          },
          "metadata": {},
          "execution_count": 21
        }
      ]
    },
    {
      "cell_type": "code",
      "metadata": {
        "id": "Z1RyDVj_YtoR"
      },
      "source": [
        ""
      ],
      "execution_count": null,
      "outputs": []
    }
  ]
}