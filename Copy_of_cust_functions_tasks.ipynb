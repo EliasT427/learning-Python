{
  "cells": [
    {
      "cell_type": "markdown",
      "metadata": {
        "id": "view-in-github",
        "colab_type": "text"
      },
      "source": [
        "<a href=\"https://colab.research.google.com/github/EliasT427/learning-Python/blob/main/Copy_of_cust_functions_tasks.ipynb\" target=\"_parent\"><img src=\"https://colab.research.google.com/assets/colab-badge.svg\" alt=\"Open In Colab\"/></a>"
      ]
    },
    {
      "cell_type": "markdown",
      "metadata": {
        "id": "RM4eMB8Tk06W"
      },
      "source": [
        "# TASK 1\n",
        "Have the user input 2 numbers and write a function that returns the largest of the two.\n",
        "\n",
        "## Example output\n",
        "```python\n",
        "def function(arg1, arg2):\n",
        "    return largest\n",
        "\n",
        "# output\n",
        "\"10 is bigger than 2\"\n",
        "```"
      ]
    },
    {
      "cell_type": "code",
      "execution_count": null,
      "metadata": {
        "id": "vqsdaJs-k06W",
        "outputId": "febb98b7-2b5c-4d07-86b8-cb4db2ecc412",
        "colab": {
          "base_uri": "https://localhost:8080/",
          "height": 35
        }
      },
      "outputs": [
        {
          "output_type": "execute_result",
          "data": {
            "application/vnd.google.colaboratory.intrinsic+json": {
              "type": "string"
            },
            "text/plain": [
              "'100 and 100 are equal'"
            ]
          },
          "metadata": {},
          "execution_count": 9
        }
      ],
      "source": [
        "#TODO\n",
        "def bigger_num(num1, num2):\n",
        "  if num1 > num2:\n",
        "    return f'{num1} > {num2}'\n",
        "  elif num1 == num2:\n",
        "    return f'{num1} and {num2} are equal'\n",
        "  else:\n",
        "    return f'{num2} > {num1}'\n",
        "bigger_num(100, 100)\n",
        "  "
      ]
    },
    {
      "cell_type": "markdown",
      "metadata": {
        "id": "PCkfMaNUk06X"
      },
      "source": [
        "# TASK 2\n",
        "Given a lists, write a function named `average` that returns the average value of a list and print the output as message like:\n",
        "\n",
        "`The mean of the list is: 43.3`"
      ]
    },
    {
      "cell_type": "code",
      "execution_count": null,
      "metadata": {
        "id": "yLxQtJIdk06X",
        "outputId": "96b3ca92-c55d-4718-97d8-19d216beac37",
        "colab": {
          "base_uri": "https://localhost:8080/"
        }
      },
      "outputs": [
        {
          "output_type": "execute_result",
          "data": {
            "text/plain": [
              "63.642857142857146"
            ]
          },
          "metadata": {},
          "execution_count": 35
        }
      ],
      "source": [
        "from random import randint\n",
        "values = [randint(10, 100) for _ in range(randint(10, 20))]\n",
        "\n",
        "#TODO: function goes here\n",
        "def average(value):\n",
        "  return sum(value)/len(value)\n",
        "average(values)"
      ]
    },
    {
      "cell_type": "markdown",
      "metadata": {
        "id": "k546mb6lk06X"
      },
      "source": [
        "# TASK 3\n",
        "Write a function called `new_list` that returns a list of 10 random numbers, then call the function inside of a list comprehension to create a list of lists.\n",
        "\n",
        "### Expected output\n",
        "```python\n",
        "[\n",
        "    [1, 5, 3, 7, 2, 5, 3],\n",
        "    [4, 6, 2, 7, 44, 2, 11],\n",
        "    [0, 43, 23, 66, 2, 54],\n",
        "    [23, 56, 23, 6, 7, 4],\n",
        "    [1,2,3,4,5,6],\n",
        "]\n",
        "\n",
        "```"
      ]
    },
    {
      "cell_type": "code",
      "execution_count": null,
      "metadata": {
        "id": "OdBznLeck06X",
        "outputId": "c1f75727-6c3c-4f72-ef47-5d90d583018a",
        "colab": {
          "base_uri": "https://localhost:8080/"
        }
      },
      "outputs": [
        {
          "output_type": "execute_result",
          "data": {
            "text/plain": [
              "[[13, 29, 21, 52, 51, 57, 58, 83, 2, 79],\n",
              " [83, 98, 74, 100, 32, 50, 41, 9, 30, 100],\n",
              " [10, 8, 60, 59, 67, 95, 63, 75, 30, 69],\n",
              " [90, 60, 95, 87, 81, 87, 84, 54, 53, 9],\n",
              " [39, 52, 22, 92, 26, 98, 84, 69, 13, 49]]"
            ]
          },
          "metadata": {},
          "execution_count": 37
        }
      ],
      "source": [
        "#TODO: Create function here\n",
        "def new_list():\n",
        "  return [randint(0, 100) for _ in range(10)]\n",
        "new_list()\n",
        "\n",
        "#TODO: Create list of lists here\n",
        "list_of_lists = [new_list() for _ in range(5)]\n",
        "list_of_lists"
      ]
    },
    {
      "cell_type": "markdown",
      "metadata": {
        "id": "QY4mseQ1k06X"
      },
      "source": [
        "# TASK 3\n",
        "Using the list of lists from task 2, write a function called `highest_average` that will return the index position of the row with the highest average.\n",
        "\n",
        "### Expected output\n",
        "```python\n",
        "def your_function(list):\n",
        "    return index, average\n",
        "\n",
        "[\n",
        "    [1,2,3,4,5],\n",
        "    [5,6,7,8,9],\n",
        "    [1,3,5,7,9],\n",
        "    [2,4,6,8,10],\n",
        "    [1,2,3,9,8],\n",
        "]\n",
        "\n",
        "# output should look like\n",
        "\"Row 4 has the highest average of 22.3\"\n",
        "```"
      ]
    },
    {
      "cell_type": "code",
      "execution_count": null,
      "metadata": {
        "id": "d6F6sRFkk06X",
        "outputId": "58a95747-e2be-4c5a-d52c-e8a7d3c86d54",
        "colab": {
          "base_uri": "https://localhost:8080/",
          "height": 35
        }
      },
      "outputs": [
        {
          "output_type": "execute_result",
          "data": {
            "application/vnd.google.colaboratory.intrinsic+json": {
              "type": "string"
            },
            "text/plain": [
              "'the highest average is 70.0 in row 3'"
            ]
          },
          "metadata": {},
          "execution_count": 38
        }
      ],
      "source": [
        "#TODO: function goes here\n",
        "\n",
        "def highest_average():\n",
        "  max_avg = 0\n",
        "  which_row = 0\n",
        "  for index in range(len(list_of_lists)):\n",
        "    if average(list_of_lists[index]) > max_avg:\n",
        "      max_avg = average(list_of_lists[index])\n",
        "      which_row = index\n",
        "  return f'the highest average is {max_avg} in row {which_row}'\n",
        "highest_average()\n",
        "    \n",
        "\n",
        "  \n",
        "  "
      ]
    },
    {
      "cell_type": "markdown",
      "metadata": {
        "id": "POqOU7qAk06X"
      },
      "source": [
        "# TASK 5\n",
        "Write a function named `generate_data` to generate fake user data for a social media account. The arguments to your function should be structured as follows:\n",
        "* **`int:`**    `num_of_users`: Lets the function know how many users to create\n",
        "* **`tuple:`**  `like_range`: Lets the function know the lower and upper limits for like data. ***(Default (5, 100))***\n",
        "* **`tuple:`**  `comment_range`: Lets the function know the lower and upper limits for comment data ***(Default (5, 30))***\n",
        "* **`tuple:`**  `saved_range`: Lets the function know the lower and upper limits for saved data  ***(Default (0, 10))***\n",
        "\n",
        "The function should return a nested dictionary where the keys are the username and the values are dictionaries with the folllowing `key:value` pairs:\n",
        "* `following`: True or False\n",
        "* `likes`: an int within the range of `like_range`\n",
        "* `comments`: an int within the range of `comment_range`\n",
        "* `saved`: an int within the range of `saved_range` \n",
        "\n",
        "## Expected output\n",
        "```python\n",
        "\n",
        "data = {\n",
        "    \"user_1\":{\n",
        "        \"following\": True,\n",
        "        \"Likes\": 85,\n",
        "        \"Comments\": 31,\n",
        "        \"Saved\": 4\n",
        "    },\n",
        "    \"user_2\":{\n",
        "        \"following\": True,\n",
        "        \"Likes\": 45,\n",
        "        \"Comments\": 23,\n",
        "        \"Saved\": 0\n",
        "    },\n",
        "    \"user_3\":{\n",
        "        \"following\": False,\n",
        "        \"Likes\": 15,\n",
        "        \"Comments\": 3,\n",
        "        \"Saved\": 1\n",
        "    }\n",
        "}\n",
        "```"
      ]
    },
    {
      "cell_type": "code",
      "execution_count": null,
      "metadata": {
        "id": "w4s2Phplk06Y",
        "outputId": "09470388-01e4-47dd-990c-906da7b4e806",
        "colab": {
          "base_uri": "https://localhost:8080/",
          "height": 340
        }
      },
      "outputs": [
        {
          "output_type": "error",
          "ename": "TypeError",
          "evalue": "ignored",
          "traceback": [
            "\u001b[0;31m---------------------------------------------------------------------------\u001b[0m",
            "\u001b[0;31mTypeError\u001b[0m                                 Traceback (most recent call last)",
            "\u001b[0;32m<ipython-input-43-3a37c97e294c>\u001b[0m in \u001b[0;36m<module>\u001b[0;34m()\u001b[0m\n\u001b[1;32m      7\u001b[0m     \u001b[0mdata\u001b[0m\u001b[0;34m[\u001b[0m\u001b[0muser_count\u001b[0m\u001b[0;34m]\u001b[0m \u001b[0;34m=\u001b[0m \u001b[0;34m{\u001b[0m\u001b[0;34m}\u001b[0m\u001b[0;34m\u001b[0m\u001b[0;34m\u001b[0m\u001b[0m\n\u001b[1;32m      8\u001b[0m     \u001b[0mamount\u001b[0m \u001b[0;34m+=\u001b[0m \u001b[0;36m1\u001b[0m\u001b[0;34m\u001b[0m\u001b[0;34m\u001b[0m\u001b[0m\n\u001b[0;32m----> 9\u001b[0;31m \u001b[0mgenerate_data\u001b[0m\u001b[0;34m(\u001b[0m\u001b[0;36m10\u001b[0m\u001b[0;34m)\u001b[0m\u001b[0;34m\u001b[0m\u001b[0;34m\u001b[0m\u001b[0m\n\u001b[0m\u001b[1;32m     10\u001b[0m \u001b[0;34m\u001b[0m\u001b[0m\n",
            "\u001b[0;32m<ipython-input-43-3a37c97e294c>\u001b[0m in \u001b[0;36mgenerate_data\u001b[0;34m(num_users)\u001b[0m\n\u001b[1;32m      3\u001b[0m   \u001b[0mdata\u001b[0m \u001b[0;34m=\u001b[0m \u001b[0;34m{\u001b[0m\u001b[0;34m}\u001b[0m\u001b[0;34m\u001b[0m\u001b[0;34m\u001b[0m\u001b[0m\n\u001b[1;32m      4\u001b[0m   \u001b[0mamount\u001b[0m \u001b[0;34m=\u001b[0m \u001b[0;36m1\u001b[0m\u001b[0;34m\u001b[0m\u001b[0;34m\u001b[0m\u001b[0m\n\u001b[0;32m----> 5\u001b[0;31m   \u001b[0muser_count\u001b[0m \u001b[0;34m=\u001b[0m \u001b[0;34m'user_'\u001b[0m\u001b[0;34m+\u001b[0m \u001b[0mamount\u001b[0m\u001b[0;34m\u001b[0m\u001b[0;34m\u001b[0m\u001b[0m\n\u001b[0m\u001b[1;32m      6\u001b[0m   \u001b[0;32mfor\u001b[0m \u001b[0musers\u001b[0m \u001b[0;32min\u001b[0m \u001b[0mrange\u001b[0m\u001b[0;34m(\u001b[0m\u001b[0mnum_users\u001b[0m\u001b[0;34m)\u001b[0m\u001b[0;34m:\u001b[0m\u001b[0;34m\u001b[0m\u001b[0;34m\u001b[0m\u001b[0m\n\u001b[1;32m      7\u001b[0m     \u001b[0mdata\u001b[0m\u001b[0;34m[\u001b[0m\u001b[0muser_count\u001b[0m\u001b[0;34m]\u001b[0m \u001b[0;34m=\u001b[0m \u001b[0;34m{\u001b[0m\u001b[0;34m}\u001b[0m\u001b[0;34m\u001b[0m\u001b[0;34m\u001b[0m\u001b[0m\n",
            "\u001b[0;31mTypeError\u001b[0m: can only concatenate str (not \"int\") to str"
          ]
        }
      ],
      "source": [
        "#TODO\n",
        "def generate_data(num_users, like_range, comment_range, saved_range):\n",
        "  data = {}\n",
        "  for users in range(num_users):\n",
        "    data[\n",
        "    \n"
      ]
    },
    {
      "cell_type": "markdown",
      "metadata": {
        "id": "58662vzqk06Y"
      },
      "source": [
        "# TASK 6\n",
        "using the fake social media account data generated from the function above, write a new function named `follower_types` that returns a list of primary followers or secondary followers. \n",
        "* A primary follower is any user that follows you and you also follow them\n",
        "* A secondary follower is any user that follows you but you don't follow them \n",
        "\n",
        "The function should accept the following arguments:\n",
        "* `data`: a dictionary that contains all of the follower data\n",
        "* `mode`: a string that determines how the list should be returned ***(Default: both)***\n",
        "    * `mode = \"primary\"`: returns a list of primary followers only\n",
        "    * `mode = \"secondary\"`: returns a list of secondary followers only\n",
        "\n",
        "## Example output\n",
        "```python\n",
        "data = {\n",
        "    \"user_1\":{\n",
        "        \"following\": True,\n",
        "        \"Likes\": 85,\n",
        "        \"Comments\": 31,\n",
        "        \"Saved\": 4\n",
        "    },\n",
        "    \"user_2\":{\n",
        "        \"following\": True,\n",
        "        \"Likes\": 45,\n",
        "        \"Comments\": 23,\n",
        "        \"Saved\": 0\n",
        "    },\n",
        "    \"user_3\":{\n",
        "        \"following\": False,\n",
        "        \"Likes\": 15,\n",
        "        \"Comments\": 3,\n",
        "        \"Saved\": 1\n",
        "    }\n",
        "}\n",
        "\n",
        "primary = follower_types(data, mode = \"primary\")\n",
        "secondary = follower_types(data, mode = \"secondary\")\n",
        "\n",
        "#output\n",
        "print(primary) -> [\"user_1\", \"user_2\"]\n",
        "print(secondary) -> [\"user_3\"]\n",
        "```"
      ]
    },
    {
      "cell_type": "code",
      "source": [
        "#TODO"
      ],
      "metadata": {
        "id": "pEZnhiZrk22x"
      },
      "execution_count": null,
      "outputs": []
    }
  ],
  "metadata": {
    "language_info": {
      "name": "python"
    },
    "orig_nbformat": 4,
    "colab": {
      "name": "Copy of cust_functions_tasks.ipynb",
      "provenance": [],
      "include_colab_link": true
    },
    "kernelspec": {
      "name": "python3",
      "display_name": "Python 3"
    }
  },
  "nbformat": 4,
  "nbformat_minor": 0
}