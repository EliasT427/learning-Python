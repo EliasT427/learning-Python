{
  "cells": [
    {
      "cell_type": "markdown",
      "metadata": {
        "id": "NcNAi7ADulYo"
      },
      "source": [
        "# What are classes\n",
        "In programmimg, there is a concept called *Object Oriented Programming*. In this model of programming, the way that you interact with and manipulate data is done through the means of an object. An object in this context is just a data structure that has certain properties that can describe the object and functionality that allows the object to behave in specific ways.\n",
        "\n",
        "`Classes` are a blueprint for creating `objects`. \n",
        "\n",
        "***For Example:*** Consider the objects below\n",
        "- Tesla \n",
        "- Lamborghini\n",
        "- Ferrari\n",
        "\n",
        "Something that is common about all of these objects is that they are all instances of vehicles. So we could make a generic blueprint called `Vehicle` and create all of these objects as instances of the vehicle class with different properties. The properties are what creates the variety in your objects, if the properties you gave to one object were the same as the properties you gave to another object, then you'd have *identical* objects."
      ]
    },
    {
      "cell_type": "markdown",
      "metadata": {
        "id": "0LVdDrj2ulYr"
      },
      "source": [
        "# Creating a class\n",
        "To create a class, use the `class` keyword followed by the name of your class.\n",
        "```python\n",
        "class Vehicle:\n",
        "    pass\n",
        "```"
      ]
    },
    {
      "cell_type": "code",
      "execution_count": 2,
      "metadata": {
        "id": "gncco6GPulYs"
      },
      "outputs": [],
      "source": [
        "# Create a vehicle class\n",
        "class Vehicle:\n",
        "  pass\n"
      ]
    },
    {
      "cell_type": "markdown",
      "metadata": {
        "id": "THceumkOulYu"
      },
      "source": [
        "# Instantiating a class\n",
        "To actually use our class as an object we have to create an instance of our class. In order to do that, all we have to do is call our class (like a function) and assign it to a variable.\n",
        "```python \n",
        "class Vehicle:\n",
        "    pass\n",
        "\n",
        "tesla = Vehicle()\n",
        "```"
      ]
    },
    {
      "cell_type": "code",
      "execution_count": 7,
      "metadata": {
        "id": "ymoQeUsCulYu",
        "outputId": "8e1509cc-6686-442f-de0b-d8bd82f50631",
        "colab": {
          "base_uri": "https://localhost:8080/",
          "height": 35
        }
      },
      "outputs": [
        {
          "output_type": "execute_result",
          "data": {
            "application/vnd.google.colaboratory.intrinsic+json": {
              "type": "string"
            },
            "text/plain": [
              "'black'"
            ]
          },
          "metadata": {},
          "execution_count": 7
        }
      ],
      "source": [
        "#TODO Create an instance of the vehicle class\n",
        "tesla = Vehicle()\n",
        "tesla.color = 'black'\n",
        "tesla.color"
      ]
    },
    {
      "cell_type": "code",
      "source": [
        "class Vehicle:\n",
        "  def __init__(self, color):\n",
        "    self.color = color\n",
        "tesla = Vehicle('black')\n",
        "tesla.color"
      ],
      "metadata": {
        "id": "ZlheiwdIwLJ1",
        "outputId": "c5a09775-97c4-4276-e036-89ed398adc5c",
        "colab": {
          "base_uri": "https://localhost:8080/",
          "height": 35
        }
      },
      "execution_count": 11,
      "outputs": [
        {
          "output_type": "execute_result",
          "data": {
            "application/vnd.google.colaboratory.intrinsic+json": {
              "type": "string"
            },
            "text/plain": [
              "'black'"
            ]
          },
          "metadata": {},
          "execution_count": 11
        }
      ]
    },
    {
      "cell_type": "markdown",
      "metadata": {
        "id": "re7U9QATulYv"
      },
      "source": [
        "# Constructors and Attributes\n",
        "A constructor is a special class method that is used to \"build\" an initial instance of a class. Without constructors, all instances of a class would have the exact same starting conditions making each instance identical to every other instance. Constructors make it so that each class can be 'setup' with specific values that allow for different instances of the same class to have different properties.\n",
        "\n",
        "```python \n",
        "class Vehicle:\n",
        "\n",
        "    # constructor\n",
        "    def __init__(self, name):\n",
        "        self.name = name\n",
        "```\n",
        "\n",
        "## Magic methods\n",
        "Notice how the `__init__` method has two underscores before and after it, this is because this is one of pythons many *magic methods*. A magic method is a class function that is not explicitly invoked (called) by you, these methods are only called in the background when necessary. For example, the `__init__` method is only called once during the creation of the class, otherwise it is never called again. \n",
        "\n",
        "***You will see other examples of these magic methods and they will be explained as they come up.***\n",
        "\n",
        "## The `self` keyword\n",
        "Also notice how the keyword `self` shows up two times in two different contexts. The first time you see it is in the context of an `argument`, and the second time you see it is in the context of an `instance attribute`. The `self` keyword is used to represent an instance of the given class inside of the class. \n",
        "\n",
        "The `self` keyword is used in all class functions and attributes so that when you create an instance of that class, it can have its own *\"Identity\"*. All `instance attributes` need to start with `self` and all `instance methods` need to have the first argument be `self`.\n",
        "\n",
        "## Instantiating a class using a constructor\n",
        "```python \n",
        "class Vehicle:\n",
        "\n",
        "    # constructor\n",
        "    def __init__(self, name):\n",
        "        self.name = name\n",
        "\n",
        "tesla = Vehicle(\"Tesla\")\n",
        "print(tesla.name) -> \"Tesla\"\n",
        "```"
      ]
    },
    {
      "cell_type": "code",
      "execution_count": 14,
      "metadata": {
        "id": "jlJseGEFulYv",
        "outputId": "1663677b-45e4-45a4-a82e-bcb38161a9e4",
        "colab": {
          "base_uri": "https://localhost:8080/"
        }
      },
      "outputs": [
        {
          "output_type": "execute_result",
          "data": {
            "text/plain": [
              "('red', 'tesla', 'electric')"
            ]
          },
          "metadata": {},
          "execution_count": 14
        }
      ],
      "source": [
        "#TODO create a constructor for the vehicle class with the attributes 'name' and 'engine_type'\n",
        "class Vehicle:\n",
        "  \n",
        "  def __init__(self, name, color, engine_type):\n",
        "    self.color = color\n",
        "    self.name = name\n",
        "    self.engine_type = engine_type\n",
        "tesla = Vehicle('tesla', 'red', 'electric')\n",
        "tesla.color, tesla.name, tesla.engine_type"
      ]
    },
    {
      "cell_type": "markdown",
      "metadata": {
        "id": "1KaE7jSRulYv"
      },
      "source": [
        "## Adding more attributes\n",
        "Attributes are class variables that represent the state of an instance of the class. You can add as many attributes you want to your class and not all of them need to be passed as arguments to the class.\n",
        "```python \n",
        "from random import randint, choice\n",
        "\n",
        "class Vehicle:\n",
        "\n",
        "    def __init__(self, name, engine_type):\n",
        "        self.name = name\n",
        "        self.engine_type = engine_type\n",
        "        self.year = randint(2012, 2021)\n",
        "\n",
        "ford = Vehicle('focus', 'gasoline')\n",
        "ford.year -> 2017\n",
        "```"
      ]
    },
    {
      "cell_type": "code",
      "execution_count": 35,
      "metadata": {
        "id": "-8jfVtGWulYw",
        "outputId": "fb9bfed0-fb8a-47ad-ed80-6cf08970835e",
        "colab": {
          "base_uri": "https://localhost:8080/"
        }
      },
      "outputs": [
        {
          "output_type": "execute_result",
          "data": {
            "text/plain": [
              "True"
            ]
          },
          "metadata": {},
          "execution_count": 35
        }
      ],
      "source": [
        "#TODO add the attributes for year, color, and a boolean representing if the car was used or not\n",
        "from random import randint, choice\n",
        "\n",
        "class Vehicle:\n",
        "\n",
        "  def __init__(self, name, color, engine_type):\n",
        "    self.color = color\n",
        "    self.name = name\n",
        "    self.engine_type = engine_type\n",
        "    self.used = choice([True, False])\n",
        "\n",
        "tesla = Vehicle('tesla','red','e')\n",
        "tesla.used     "
      ]
    },
    {
      "cell_type": "markdown",
      "metadata": {
        "id": "DhRRRUPdulYw"
      },
      "source": [
        "# Methods\n",
        "If an attribute is a variable that determines the current state of the object, then methods are functions that can change the state of the object. You write methods for your class the same way you would write a normal function, the only difference  is that the first argument when defining it needs to be `self`.\n",
        "\n",
        "```python\n",
        "class Vehicle:\n",
        "\n",
        "    def __init__(self, name, engine_type):\n",
        "        self.name = name\n",
        "        self.engine_type = engine_type\n",
        "        self.year = randint(2012, 2021)\n",
        "\n",
        "    def go_vroom(self, times):\n",
        "        vroom = \", \".join([\"Vroom\" for _ in range(times)])\n",
        "        print(vroom)\n",
        "    \n",
        "    def honk(self, times):\n",
        "        honk = \", \".join([\"honk\" for _ in range(times)])\n",
        "        print(honk)\n",
        "```\n",
        "\n"
      ]
    },
    {
      "cell_type": "code",
      "execution_count": 46,
      "metadata": {
        "id": "6q9V3KkKulYw",
        "outputId": "f8426b80-10de-4469-fd85-117dc33b0132",
        "colab": {
          "base_uri": "https://localhost:8080/"
        }
      },
      "outputs": [
        {
          "output_type": "stream",
          "name": "stdout",
          "text": [
            "the car has move forward to the new position is [10, -8]\n",
            "the car has move up to the new position is [10, -3]\n",
            "the car has move up to the new position is [10, 2]\n",
            "the car has move forward to the new position is [15, 2]\n"
          ]
        }
      ],
      "source": [
        "#TODO: lets add a position (x, y) attribute to our class that will determine where our `Vehicle` is located, \n",
        "# then write a move horizontal function that will change the position of our x coordinate,\n",
        "# then write a move vertical function that will change our y coordinate.\n",
        "# print out the new position every time the car is moved\n",
        "class Vehicle:\n",
        "\n",
        "  def __init__(self, name, color, engine_type):\n",
        "\n",
        "    self.color = color\n",
        "    self.name = name\n",
        "    self.engine_type = engine_type\n",
        "    self.used = choice([True, False])\n",
        "    self.position = [randint(-10,10), randint(-10,10)]\n",
        "\n",
        "  def move(self, direction):\n",
        "\n",
        "    if direction.lower() == 'forward':\n",
        "      self.position[0] += 5\n",
        "    if direction.lower() == 'backward':\n",
        "      self.position[0] -= 5\n",
        "    if direction.lower() == 'up':\n",
        "      self.position[-1] += 5\n",
        "    if direction.lower() == 'down':\n",
        "      self.position[0] -= 5\n",
        "    print(f'the car has move {direction} to the new position is {self.position}')\n",
        "tesla = Vehicle('tesla','red','e')\n",
        "tesla.move('forward')\n",
        "tesla.move('up')\n",
        "tesla.move('up')\n",
        "tesla.move('forward')\n"
      ]
    },
    {
      "cell_type": "code",
      "execution_count": 50,
      "metadata": {
        "id": "3ctXs6oAulYx",
        "outputId": "2914e49a-d6f4-472c-f107-74c6dd788b48",
        "colab": {
          "base_uri": "https://localhost:8080/"
        }
      },
      "outputs": [
        {
          "output_type": "stream",
          "name": "stdout",
          "text": [
            "the car has move forward to the new position is [2, -3]\n",
            "the car has move up to the new position is [2, 2]\n",
            "the car has move up to the new position is [2, 7]\n",
            "the car has move forward to the new position is [7, 7]\n"
          ]
        },
        {
          "output_type": "execute_result",
          "data": {
            "text/plain": [
              "['forward', 'up', 'up', 'forward']"
            ]
          },
          "metadata": {},
          "execution_count": 50
        }
      ],
      "source": [
        "#TODO: add an attribute called `traveled` that will be a single value that is updated every time the car either moves forward or backwards\n",
        "class Vehicle:\n",
        "\n",
        "  def __init__(self, name, color, engine_type):\n",
        "\n",
        "    self.color = color\n",
        "    self.name = name\n",
        "    self.engine_type = engine_type\n",
        "    self.used = choice([True, False])\n",
        "    self.position = [randint(-10,10), randint(-10,10)]\n",
        "    self.traveled = 0\n",
        "    self.moves = []\n",
        "\n",
        "  def move(self, direction):\n",
        "\n",
        "    if direction.lower() == 'forward':\n",
        "      self.position[0] += 5\n",
        "    if direction.lower() == 'backward':\n",
        "      self.position[0] -= 5\n",
        "    if direction.lower() == 'up':\n",
        "      self.position[-1] += 5\n",
        "    if direction.lower() == 'down':\n",
        "      self.position[0] -= 5\n",
        "\n",
        "    print(f'the car has move {direction} to the new position is {self.position}')\n",
        "    \n",
        "    self.moves.append(direction.lower())\n",
        "    self.traveled += 1\n",
        "\n",
        "tesla = Vehicle('tesla','red','e')\n",
        "tesla.move('forward')\n",
        "tesla.move('up')\n",
        "tesla.move('up')\n",
        "tesla.move('forward')\n",
        "tesla.traveled\n",
        "tesla.moves"
      ]
    },
    {
      "cell_type": "markdown",
      "metadata": {
        "id": "9b9Qn0HXulYx"
      },
      "source": [
        "# Classes and other Data structures"
      ]
    },
    {
      "cell_type": "code",
      "execution_count": 64,
      "metadata": {
        "id": "YnjpY5oLulYx",
        "outputId": "5c97768a-3b40-42cf-a86e-70027292885e",
        "colab": {
          "base_uri": "https://localhost:8080/"
        }
      },
      "outputs": [
        {
          "output_type": "stream",
          "name": "stdout",
          "text": [
            "blue car_0\n",
            "black car_1\n",
            "black car_2\n",
            "blue car_3\n",
            "blue car_4\n",
            "blue car_5\n",
            "red car_6\n",
            "black car_7\n",
            "blue car_8\n",
            "blue car_9\n"
          ]
        }
      ],
      "source": [
        "#TODO Generate a list 10 of cars \n",
        "cars = [Vehicle(f\"car_{number}\",f\"{choice(['black', 'blue', 'red'])}\",f\"{choice(['gas','electric'])}\",) for number in range(10)]\n",
        "for car in cars:\n",
        "  print(car.color, car.name)"
      ]
    },
    {
      "cell_type": "code",
      "execution_count": 67,
      "metadata": {
        "id": "9Be2bSmvulYx",
        "outputId": "16dbfe40-3ee8-49a1-ede8-4cb36d340d55",
        "colab": {
          "base_uri": "https://localhost:8080/"
        }
      },
      "outputs": [
        {
          "output_type": "stream",
          "name": "stdout",
          "text": [
            "black car_1\n",
            "black car_2\n",
            "black car_7\n",
            "blue car_0\n",
            "blue car_3\n",
            "blue car_4\n",
            "blue car_5\n",
            "blue car_8\n",
            "blue car_9\n",
            "red car_6\n"
          ]
        }
      ],
      "source": [
        "#TODO sort the cars by name\n",
        "cars.sort(key = lambda car: car.color)\n",
        "for car in cars:\n",
        "  print(car.color, car.name)"
      ]
    },
    {
      "cell_type": "code",
      "execution_count": 68,
      "metadata": {
        "id": "Rfeq-MmxulYx",
        "outputId": "6f5ad9dd-798f-4517-a56c-c5bb316f558d",
        "colab": {
          "base_uri": "https://localhost:8080/"
        }
      },
      "outputs": [
        {
          "output_type": "stream",
          "name": "stdout",
          "text": [
            "[-7, -8] car_1 True\n",
            "[-10, 1] car_2 False\n",
            "[7, -7] car_7 True\n",
            "[8, 8] car_0 True\n",
            "[4, -4] car_3 False\n",
            "[9, -7] car_4 False\n",
            "[10, -7] car_5 False\n",
            "[8, -8] car_8 True\n",
            "[3, 0] car_9 False\n",
            "[-7, 1] car_6 False\n"
          ]
        }
      ],
      "source": [
        "# print out each cars name and the year\n",
        "for car in cars:\n",
        "  print(car.position, car.name, car.used)"
      ]
    }
  ],
  "metadata": {
    "interpreter": {
      "hash": "f1a916808f2d29f1a5fbd48aa1cb9129993ca703ecce713879d0cd946e898e32"
    },
    "kernelspec": {
      "display_name": "Python 3.9.7 ('legacy')",
      "language": "python",
      "name": "python3"
    },
    "language_info": {
      "codemirror_mode": {
        "name": "ipython",
        "version": 3
      },
      "file_extension": ".py",
      "mimetype": "text/x-python",
      "name": "python",
      "nbconvert_exporter": "python",
      "pygments_lexer": "ipython3",
      "version": "3.9.7"
    },
    "orig_nbformat": 4,
    "colab": {
      "name": "in_class_demo.ipynb",
      "provenance": []
    }
  },
  "nbformat": 4,
  "nbformat_minor": 0
}