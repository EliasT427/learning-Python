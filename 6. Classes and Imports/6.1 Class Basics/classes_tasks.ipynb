{
  "cells": [
    {
      "cell_type": "markdown",
      "metadata": {
        "id": "VNIZfS6p8x7p"
      },
      "source": [
        "# TASK 1\n",
        "Create a class called user that has the following attributes\n",
        "\n",
        "- username (string)\n",
        "- follower_type `[secondary, primary]` (string)\n",
        "- private (bool)\n",
        "\n",
        "### Example output\n",
        "```python\n",
        "user = User(\"gabeflomo\", \"primary\", True)\n",
        "print(user.username) -> \"gabeflomo\"\n",
        "```"
      ]
    },
    {
      "cell_type": "code",
      "execution_count": 5,
      "metadata": {
        "id": "xZ2-lzyA8x7q",
        "outputId": "8320e121-b7c1-481f-e607-b7abf0a8cbdf",
        "colab": {
          "base_uri": "https://localhost:8080/",
          "height": 35
        }
      },
      "outputs": [
        {
          "output_type": "execute_result",
          "data": {
            "application/vnd.google.colaboratory.intrinsic+json": {
              "type": "string"
            },
            "text/plain": [
              "'primary'"
            ]
          },
          "metadata": {},
          "execution_count": 5
        }
      ],
      "source": [
        "#TODO\n",
        "from random import choice, randint\n",
        "\n",
        "class User:\n",
        "\n",
        "  def __init__(self, user, follow_type, private):\n",
        "\n",
        "    self.user = user\n",
        "    self.follow_type = follow_type\n",
        "    self.private = private\n",
        "\n",
        "elias = User('elias_is_cool', 'primary', False)\n",
        "elias.user\n",
        "elias.follow_type"
      ]
    },
    {
      "cell_type": "markdown",
      "metadata": {
        "id": "JlgU1qGC8x7r"
      },
      "source": [
        "# TASK 2\n",
        "Write a method for your user class called `greet` that will print out:\n",
        "```python\n",
        "\"Hello my name is {username} and I am a {follower_type} follower.\n",
        "```"
      ]
    },
    {
      "cell_type": "code",
      "execution_count": 16,
      "metadata": {
        "id": "DW4YVGXc8x7r",
        "outputId": "b7b17dec-e9b6-45c1-ed9e-b6c06b6532ad",
        "colab": {
          "base_uri": "https://localhost:8080/"
        }
      },
      "outputs": [
        {
          "output_type": "stream",
          "name": "stdout",
          "text": [
            "hello my name is elias_is_cool and i am a primary follower\n"
          ]
        }
      ],
      "source": [
        "#TODO\n",
        "class User:\n",
        "\n",
        "  def __init__(self, user, follow_type, private):\n",
        "\n",
        "    self.user = user\n",
        "    self.follow_type = follow_type\n",
        "    self.private = private\n",
        "\n",
        "  def greet(self):\n",
        "\n",
        "    print(f'hello my name is {self.user} and i am a {self.follow_type} follower')\n",
        "\n",
        "elias = User('elias_is_cool', 'primary', False)\n",
        "elias.greet()"
      ]
    },
    {
      "cell_type": "markdown",
      "metadata": {
        "id": "HiSncaEB8x7r"
      },
      "source": [
        "# TASK 3\n",
        "Below is a function that will download some user data as a list of dictionaries. Create an instance of a user object for each user from the downloaded dataset as a list of users. Then print out every users `username` and `private` values.\n",
        "\n",
        "### Example output\n",
        "```python\n",
        "data = [\n",
        "    {'friend_of': '232825282',\n",
        "  'username': 'psyfusion20',\n",
        "  'name': 'wickr me: tommy076',\n",
        "  'is_private': True,\n",
        "  'type': 'secondary'},\n",
        "\n",
        "  {'friend_of': '232825282',\n",
        "  'username': 'ewvissss',\n",
        "  'name': 'p. elvis',\n",
        "  'is_private': True,\n",
        "  'type': 'primary'}\n",
        "]\n",
        "\n",
        "# create a user instance for each user\n",
        "users = [list of users]\n",
        "\n",
        "# print each username and private\n",
        "\"psyfusion20\", True\n",
        "\"ewvissss\", True\n",
        "```"
      ]
    },
    {
      "cell_type": "code",
      "execution_count": null,
      "metadata": {
        "id": "4-enuAlJ8x7s"
      },
      "outputs": [],
      "source": [
        "import requests\n",
        "import json\n",
        "def generate_json():\n",
        "    url = \"https://raw.githubusercontent.com/Gabe-flomo/Instagram-Dashboard/master/JSON/followers.json?token=GHSAT0AAAAAABPLRJR656YF6L6OW7XUG4GMYQ7XCFQ\"\n",
        "    data = requests.get(url).json()\n",
        "    data = [data[user] for user in data][100:120]\n",
        "    return data\n",
        "    \n",
        "generate_json()"
      ]
    },
    {
      "cell_type": "code",
      "execution_count": 21,
      "metadata": {
        "id": "VGy5bOcz8x7s",
        "outputId": "eb0c3999-4283-4ac4-b11e-9634e9075008",
        "colab": {
          "base_uri": "https://localhost:8080/"
        }
      },
      "outputs": [
        {
          "output_type": "stream",
          "name": "stdout",
          "text": [
            "4tyking False\n",
            "briah_612 True\n",
            "hasta_aztlan False\n",
            "fuck12fuck1ce False\n",
            "she.mpls False\n",
            "centennial_centre True\n",
            "kokobanik18 False\n",
            "skateclipstoday False\n",
            "bevygirrl True\n",
            "zabdullahii False\n",
            "jojo_maves False\n",
            "tigrillo.fana True\n",
            "rockstar_key False\n",
            "ewvissss True\n",
            "khaghighi_16 False\n",
            "writegroove False\n",
            "a.ngalula True\n",
            "malisha06 True\n",
            "nathannflomo False\n",
            "hotleasebeats False\n"
          ]
        }
      ],
      "source": [
        "#TODO\n",
        "users = []\n",
        "\n",
        "for dicts in generate_json():\n",
        "  user = dicts['username']\n",
        "  private = dicts['is_private']\n",
        "  type_follow = dicts['type']\n",
        "  \n",
        "  users.append(User(user, type_follow, private))\n",
        "for user in users:\n",
        "  print(user.user, user.private)\n",
        "\n"
      ]
    },
    {
      "cell_type": "markdown",
      "metadata": {
        "id": "uvXnoOsb8x7t"
      },
      "source": [
        "# TASK 4\n",
        "Create a planet class that has the following attributes\n",
        "- `name:` the name of the planet\n",
        "- `position (x, y):` Randon integer between `-1000 - 1000` for `x` and `-500 - 500` for `y`\n",
        "- `size:` a random choice of `small, medium, large`\n",
        "- `life:` a random boolean that is `True` or `False`\n",
        "\n",
        "### Example output\n",
        "```python\n",
        "planet = Planet('Earth')\n",
        "\n",
        "print(planet.life) -> True\n",
        "print(planet.size) -> medium\n",
        "print(planet.position) -> (230, 47)\n",
        "```"
      ]
    },
    {
      "cell_type": "code",
      "execution_count": 23,
      "metadata": {
        "id": "4-KGKzn68x7t"
      },
      "outputs": [],
      "source": [
        "#TODO\n",
        "class Planet:\n",
        "\n",
        "  def __init__(self, name):\n",
        "    self.name = name\n",
        "    self.position = [randint(-1000,1000), randint(-500,500)]\n",
        "    self.size = choice(['small', 'medium', 'large'])\n",
        "    self.life = choice([True, False])\n",
        "    "
      ]
    },
    {
      "cell_type": "markdown",
      "metadata": {
        "id": "kx1iQoZ08x7t"
      },
      "source": [
        "# TASK 5\n",
        "Create a list of 25 planets, then write a function that will create a dictionary that will group the planets by size.\n",
        "\n",
        "### Example output\n",
        "```python\n",
        "planets = [list_of_planets]\n",
        "groups = group_planets(planets)\n",
        "\n",
        "groups = {\n",
        "    'small': [\n",
        "        'planet_1',\n",
        "        'planet_2'\n",
        "    ],\n",
        "    'medium': [\n",
        "        'planet_10',\n",
        "        'planet_5',\n",
        "        'planet_3'\n",
        "    ],\n",
        "    'large': [\n",
        "        'planet_9',\n",
        "        'planet_7',\n",
        "    ]\n",
        "}\n",
        "```\n",
        "\n",
        "***Print out how many planets there are per group***"
      ]
    },
    {
      "cell_type": "code",
      "execution_count": 43,
      "metadata": {
        "id": "3XO8pobZ8x7u",
        "outputId": "33c975a7-13ec-4eba-cc3a-73e4d15a9344",
        "colab": {
          "base_uri": "https://localhost:8080/"
        }
      },
      "outputs": [
        {
          "output_type": "execute_result",
          "data": {
            "text/plain": [
              "{'large': ['planet_3',\n",
              "  'planet_8',\n",
              "  'planet_10',\n",
              "  'planet_15',\n",
              "  'planet_18',\n",
              "  'planet_19',\n",
              "  'planet_23',\n",
              "  'planet_24'],\n",
              " 'medium': ['planet_0',\n",
              "  'planet_1',\n",
              "  'planet_9',\n",
              "  'planet_11',\n",
              "  'planet_13',\n",
              "  'planet_14',\n",
              "  'planet_16',\n",
              "  'planet_20',\n",
              "  'planet_22'],\n",
              " 'small': ['planet_2',\n",
              "  'planet_4',\n",
              "  'planet_5',\n",
              "  'planet_6',\n",
              "  'planet_7',\n",
              "  'planet_12',\n",
              "  'planet_17',\n",
              "  'planet_21']}"
            ]
          },
          "metadata": {},
          "execution_count": 43
        }
      ],
      "source": [
        "#TODO\n",
        "groups = {}\n",
        "\n",
        "planets = [Planet(f'planet_{i}') for i in range(25)]\n",
        "for planet in planets:\n",
        "  groups.setdefault(planet.size, [])\n",
        "  groups[planet.size].append(planet.name)\n",
        "groups"
      ]
    },
    {
      "cell_type": "markdown",
      "metadata": {
        "id": "CH7WTK978x7u"
      },
      "source": [
        "# TASK 6\n",
        "In your planet class, write a method called `distance` that will be used to calculate the distance between the current planet and another planet using the `position` attribute. \n",
        "\n",
        "The distance function should take a tuple coordinates `(x, y)` as an argument and will use the distance formula below to calculate the distance in meters. The function should return a single value.\n",
        "\n",
        "### Distance formula\n",
        "$d=\\sqrt{\\left( x_{2}-x_{1}\\right) ^{2}+\\left( y_{2}-y_{1}\\right) ^{2}}$\n",
        "\n",
        "### Expected output\n",
        "```python\n",
        "planet1 = Planet('Planet1')\n",
        "planet2 = Planet('Planet2')\n",
        "\n",
        "planet1.distance(planet2.position) -> 34.8\n",
        "\n",
        "\"Planet1 is 34.8 miles away from Planet2\"\n",
        "```"
      ]
    },
    {
      "cell_type": "code",
      "execution_count": null,
      "metadata": {
        "id": "A8zZkxlr8x7u"
      },
      "outputs": [],
      "source": [
        "#TODO\n",
        "from math import sqrt # use this to calculate the square root of a value"
      ]
    },
    {
      "cell_type": "markdown",
      "metadata": {
        "id": "9f1RRA4m8x7v"
      },
      "source": [
        "# TASK 7\n",
        "Write a class method called `move_planet` that will move the planet to a new position. If new coordinates aren't given, have the planet move to a random position, if coordinates are given (as an argument to the function) move the planet to those coordinates. Then print out the new position and calculate the distance the planet has moved from its previous position.\n",
        "\n",
        "***By default, the `coordinate` argument should be set to `None`*** \n",
        "\n",
        "### Example output\n",
        "```python \n",
        "planet = Planet('new_planet')\n",
        "planet.position -> (532, 177)\n",
        "\n",
        "# move to specific location\n",
        "planet.move_planet(coordinates = (333, 125)) -> f\"The planet has moved {distance} miles from the previous position of {previous_position}\"\n",
        "\n",
        "# move to a random location\n",
        "planet.move_planet() -> f\"The planet has moved {distance} miles from the previous position of {previous_position}\""
      ]
    },
    {
      "cell_type": "code",
      "execution_count": null,
      "metadata": {
        "id": "M0qTfjoP8x7v"
      },
      "outputs": [],
      "source": [
        "#TODO"
      ]
    },
    {
      "cell_type": "markdown",
      "metadata": {
        "id": "I8FlBnVZ8x7v"
      },
      "source": [
        "# TASK 8\n",
        "Create three new attibutes and one method\n",
        "\n",
        "- `trips`: A list that keeps track of the distance the planet has moved every time the planet moves\n",
        "- `distance_traveled`: A value that tells you to total distance the planet has traveled\n",
        "- `trip_count`: A value that is equal to the amount of times the planet has moved\n",
        "- `status()`: A function that will print out the status of the planet such as:\n",
        "    - The number of trips the planet has made\n",
        "    - The total distance traveled\n",
        "    - The average distance traveled\n",
        "    - The longest trip (trip with the highest distance)\n",
        "\n",
        "\n",
        "Each time the `move_planet` function is called, all three of these attributes should be updated.\n",
        "\n",
        "### Example output\n",
        "```python\n",
        "planet = Planet('new_planet')\n",
        "planet.position -> (532, 177)\n",
        "\n",
        "# move to random location\n",
        "planet.move_planet() -> \"The planet has moved 14 miles from the previous position of (532, 177)\"\n",
        "\n",
        "# get the planet info\n",
        "planet.status()\n",
        "# \"The planet has made 1 trip\"\n",
        "# \"The total distance traveled is 14 miles\"\n",
        "# \"The average distance traveled is 14 miles\"\n",
        "# \"The longest trip was 14 miles\"\n",
        "\n",
        "# move to random location\n",
        "planet.move_planet() -> \"The planet has moved 53 miles from the previous position of (511, 17)\"\n",
        "planet.status()\n",
        "# \"The planet has made 2 trips\"\n",
        "# \"The total distance traveled is 67 miles\"\n",
        "# \"The average distance traveled is 33.5 miles\"\n",
        "# \"The longest trip was 53 miles\"\n",
        "```"
      ]
    },
    {
      "cell_type": "code",
      "execution_count": null,
      "metadata": {
        "id": "xo1d1mcd8x7w"
      },
      "outputs": [],
      "source": [
        ""
      ]
    }
  ],
  "metadata": {
    "interpreter": {
      "hash": "f1a916808f2d29f1a5fbd48aa1cb9129993ca703ecce713879d0cd946e898e32"
    },
    "kernelspec": {
      "display_name": "Python 3.9.7 ('legacy')",
      "language": "python",
      "name": "python3"
    },
    "language_info": {
      "codemirror_mode": {
        "name": "ipython",
        "version": 3
      },
      "file_extension": ".py",
      "mimetype": "text/x-python",
      "name": "python",
      "nbconvert_exporter": "python",
      "pygments_lexer": "ipython3",
      "version": "3.9.7"
    },
    "orig_nbformat": 4,
    "colab": {
      "name": "classes_tasks.ipynb",
      "provenance": []
    }
  },
  "nbformat": 4,
  "nbformat_minor": 0
}