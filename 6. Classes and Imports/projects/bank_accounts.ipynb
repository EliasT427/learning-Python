{
  "cells": [
    {
      "cell_type": "markdown",
      "metadata": {
        "id": "S1Z9Z3WKcQBF"
      },
      "source": [
        "# Instructions\n",
        "In this version of the project you are tasked with using the previous code from your bank project (Functional Accounts) but each user will be its own object and you will be adding the functionality for users to save and load data.\n",
        "\n",
        "The login function should be called inside of the class constructor after the username and password has been provided.\n",
        "```python\n",
        "class Account:\n",
        "    def __init__(self, username, password):\n",
        "        self.username = username\n",
        "        self.password = password\n",
        "        self.login(username, password)\n",
        "\n",
        "    # this code is not complete and you will have to finish it\n",
        "    def login(self, username, password):\n",
        "        # if the file exists\n",
        "            # load the file content and set attributes\n",
        "            content = json.read()\n",
        "            self.accounts = content['accounts']\n",
        "\n",
        "        # if the file doesn't exist\n",
        "            # save the username as the filename and save the password and default account data\n",
        "            self.accounts = {\n",
        "                'checkins':50\n",
        "            }\n",
        "\n",
        "            data = {\n",
        "                'password': self.password,\n",
        "                'accounts': self.accounts\n",
        "            }\n",
        "\n",
        "            json.dump(data)          \n",
        "```\n",
        "\n",
        "When a user logs in for the first time, their account should be created (do this inside the login function). This means that their username should be saved as a file, for example, `gabe.json` and all account data should be saved to the file. Inside of your login function, the class attribute `accounts` should also be created. If the user is logging in for the first time `accounts` should be a default dictionary with a `checkings` account with a balance of 50. If the user isn't logging in for the first time, then load the accounts dictionary from the file as the `accounts` attribute.\n",
        "\n",
        "\n",
        "```python\n",
        "class Account:\n",
        "    #TODO account code\n",
        "    def __init__(self, username, password):\n",
        "        self.username = username\n",
        "        self.password = password\n",
        "        self.login(username, password)\n",
        "        \n",
        "    \n",
        "    def deposit():\n",
        "        pass\n",
        "\n",
        "    def withdraw():\n",
        "        pass\n",
        "\n",
        "    def add_account():\n",
        "        pass\n",
        "\n",
        "    def remove_account():\n",
        "        pass\n",
        "\n",
        "    def info():\n",
        "        pass\n",
        "\n",
        "    # this code is not complete and you will have to finish it\n",
        "    def login(self, username, password):\n",
        "        # if the file exists\n",
        "            # load the file content and set attributes\n",
        "            filename = username + '.json'\n",
        "            content = json.read(filename)\n",
        "            self.accounts = content['accounts']\n",
        "\n",
        "        # if the file doesn't exist (create the file)\n",
        "            # save the username as the filename and save the password and default account data\n",
        "            self.accounts = {\n",
        "                'checkins':50\n",
        "            }\n",
        "\n",
        "            data = {\n",
        "                'password': self.password,\n",
        "                'accounts': self.accounts\n",
        "            }\n",
        "\n",
        "            json.dump(data) \n",
        "\n",
        "    def logout():\n",
        "        pass\n",
        "\n",
        "    def change_password():\n",
        "        pass\n",
        "\n",
        "    def delete_account():\n",
        "        pass\n",
        "\n",
        "    def delete_user():\n",
        "        pass\n",
        "\n",
        "```\n",
        "\n",
        "# New functions\n",
        "* `logout`: allows users to logout of their account and all account balances will be saved.\n",
        "* `login`: will use the username to locate the file and load the previous state of the users account\n",
        "    * `username`: used to locate the file\n",
        "    * `password`: Used to log the user into the account\n",
        "* `delete account`: allows the user to delete an account\n",
        "* `delete user`: allows the user to delete themselves from the bank. This should also delete the file associated with this user and log the user out. see how to delete files [here](https://www.w3schools.com/python/python_file_remove.asp)\n",
        "\n",
        "\n",
        "# IMPORTANT\n",
        "This class object should only handle the flow of data, it should not handle user input or anything else like that. This means that any input you need from the user should be given outside of the object and the information is passed to the object as arguments to functions. \n",
        "\n",
        "### For example\n",
        "If a user wants to deposit some money, it should be done like this.\n",
        "```python\n",
        "# login to account\n",
        "gabe = Account('gabeflomo', 'password')\n",
        "\n",
        "ans = input(\"What transaction would you like to do? \") -> \"deposit\"\n",
        "\n",
        "if ans == \"deposit\":\n",
        "    amount = int(input(\"How much would you like to deposit? \")) -> 100\n",
        "    account = input(\"Which account would you like to deposit into? \") -> \"Checkings\"\n",
        "\n",
        "    # this will deposit $100 into the checkings account\n",
        "    gabe.deposit(amount, account)\n",
        "```"
      ]
    },
    {
      "cell_type": "code",
      "source": [
        "import os\n",
        "import json\n"
      ],
      "metadata": {
        "id": "6yhZ50bPdv8C"
      },
      "execution_count": 1,
      "outputs": []
    },
    {
      "cell_type": "code",
      "execution_count": 125,
      "metadata": {
        "id": "sMYLD4sbcQBN"
      },
      "outputs": [],
      "source": [
        "class Account:\n",
        "\n",
        "    def __init__(self, username, password):\n",
        "      self.username = username\n",
        "      self.password = password\n",
        "      self.login(username, password)\n",
        "\n",
        "\n",
        "    def deposit(self, amount, account = 'checkings'):\n",
        "      if account in self.accounts:\n",
        "        self.accounts[account] += amount\n",
        "      else:\n",
        "        print(f'account username is incorrect. you have these accounts {self.accounts}')\n",
        "\n",
        "    def withdraw(self, amount, account = 'checkings'):\n",
        "      if amount == 'all':\n",
        "        self.accounts[account] -= self.accounts[account]\n",
        "        print(f\"you withdrew {amount} your money and you have {self.accounts[account]} remaining \")\n",
        "      elif self.accounts[account] >= amount:\n",
        "        self.accounts[account] -= amount\n",
        "        print(f\"you withdrew {amount} and you have {self.accounts[account]} remaining \")\n",
        "      else: \n",
        "        print(f\"you do not have sufficent funds. your current balance is {self.accounts[account]}\")\n",
        "\n",
        "    def add_account(self, name):\n",
        "      self.accounts[name] = 0\n",
        "\n",
        "    def remove_account(self, name, transfer):\n",
        "      if transfer in self.accounts:\n",
        "        self.accounts[transfer] += self.accounts[name]\n",
        "      else:\n",
        "        print('incorrect username')\n",
        "      if name in self.accounts:\n",
        "        del self.accounts[name]\n",
        "      else:\n",
        "        print('incorrect username')\n",
        "    def info():\n",
        "      print(self.accounts)\n",
        "\n",
        "    def login(self, username, password):\n",
        "      filename = username + '.json'\n",
        "      if os.path.isfile(filename) == True:\n",
        "        with open(filename, 'r') as file:\n",
        "          data = json.load(file)\n",
        "          if password == data['password']:\n",
        "            self.accounts = data['accounts']\n",
        "            print(self.accounts)\n",
        "          else:\n",
        "            print(f\"password is incorrect, correct password is {data['password']}\")\n",
        "      else:\n",
        "        self.accounts = {\n",
        "                'checkings': 50\n",
        "            }\n",
        "        data = {\n",
        "                'password': password,\n",
        "                'accounts': self.accounts\n",
        "          }\n",
        "        with open(filename, 'w') as file:\n",
        "          json.dump(data, file, indent = 2)\n",
        "        print('your account was created successfully')\n",
        "\n",
        "    def logout(self):\n",
        "      filename = self.username + '.json'\n",
        "      data = {\n",
        "                'password': self.password,\n",
        "                'accounts': self.accounts\n",
        "          }\n",
        "      with open(filename, 'w') as file:\n",
        "        json.dump(data, file, indent = 2)\n",
        "\n",
        "    def delete_user(self, password):\n",
        "      if password == self.password:\n",
        "        os.remove(self.username + '.json')\n",
        "        print('goodbye ;-;')"
      ]
    },
    {
      "cell_type": "code",
      "source": [
        "gabe = Account('gabe', 1234)"
      ],
      "metadata": {
        "id": "EPExhafwgETs",
        "outputId": "240b5c71-6d61-4e22-93ba-c77f884d68a2",
        "colab": {
          "base_uri": "https://localhost:8080/"
        }
      },
      "execution_count": 130,
      "outputs": [
        {
          "output_type": "stream",
          "name": "stdout",
          "text": [
            "your account was created successfully\n"
          ]
        }
      ]
    },
    {
      "cell_type": "code",
      "source": [
        "elias.deposit(account = 'checkings', amount = 100)\n",
        "elias.add_account('savings')"
      ],
      "metadata": {
        "id": "IwE3P2s9gOkO"
      },
      "execution_count": 119,
      "outputs": []
    },
    {
      "cell_type": "code",
      "source": [
        "gabe.delete_user(1234)"
      ],
      "metadata": {
        "id": "Fx_nx4VEgYOv",
        "outputId": "8848ba29-1a75-43e2-b3d3-a742e61c5784",
        "colab": {
          "base_uri": "https://localhost:8080/"
        }
      },
      "execution_count": 131,
      "outputs": [
        {
          "output_type": "stream",
          "name": "stdout",
          "text": [
            "goodbye ;-;\n"
          ]
        }
      ]
    },
    {
      "cell_type": "code",
      "source": [
        ""
      ],
      "metadata": {
        "id": "PJ8M41r8nk9i"
      },
      "execution_count": null,
      "outputs": []
    }
  ],
  "metadata": {
    "language_info": {
      "name": "python"
    },
    "orig_nbformat": 4,
    "colab": {
      "name": "bank_accounts.ipynb",
      "provenance": []
    },
    "kernelspec": {
      "name": "python3",
      "display_name": "Python 3"
    }
  },
  "nbformat": 4,
  "nbformat_minor": 0
}