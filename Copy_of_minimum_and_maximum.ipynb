{
  "cells": [
    {
      "cell_type": "markdown",
      "metadata": {
        "id": "view-in-github",
        "colab_type": "text"
      },
      "source": [
        "<a href=\"https://colab.research.google.com/github/EliasT427/learning-Python/blob/main/Copy_of_minimum_and_maximum.ipynb\" target=\"_parent\"><img src=\"https://colab.research.google.com/assets/colab-badge.svg\" alt=\"Open In Colab\"/></a>"
      ]
    },
    {
      "cell_type": "markdown",
      "metadata": {
        "id": "85uGw_NKSOdP"
      },
      "source": [
        "# Instructions\n",
        "Given a dictionary of subjects and scores for each, find the subject with the highes score and the subject with the lowest score and create a new dictionary called `range` that only contains the subject with the min and max score.\n",
        "\n",
        "### Example output\n",
        "```\n",
        "{\n",
        "    math: 87,\n",
        "    english: 72,\n",
        "    physics: 91,\n",
        "    history: 86,\n",
        "    health: 100,\n",
        "    programming: 82\n",
        "}\n",
        "\n",
        "range = {\n",
        "    health: 100,\n",
        "    english: 72\n",
        "}\n",
        "\n",
        "```"
      ]
    },
    {
      "cell_type": "code",
      "execution_count": null,
      "metadata": {
        "id": "UtlzBjbASOdQ",
        "outputId": "a873f80c-dfd8-4e98-fb13-c7ac077429b4",
        "colab": {
          "base_uri": "https://localhost:8080/"
        }
      },
      "outputs": [
        {
          "output_type": "stream",
          "name": "stdout",
          "text": [
            "{'english': 72, 'health': 100}\n"
          ]
        }
      ],
      "source": [
        "subjects = {\n",
        "    \"math\": 87,\n",
        "    \"english\": 72,\n",
        "    \"physics\": 91,\n",
        "    \"history\": 86,\n",
        "    \"health\": 100,\n",
        "    \"programming\": 82\n",
        "}\n",
        "range = {}\n",
        "max_score = 0\n",
        "min_score = 100\n",
        "\n",
        "for keys in subjects:\n",
        "  if subjects[keys] > max_score:\n",
        "    max_score = subjects[keys]\n",
        "  if subjects[keys] < min_score:\n",
        "    min_score = subjects[keys]\n",
        "for keys in subjects:\n",
        "  if (subjects[keys] == min_score) or (subjects[keys] == max_score):\n",
        "    range[keys] = subjects[keys]\n",
        "print(range)"
      ]
    }
  ],
  "metadata": {
    "language_info": {
      "name": "python"
    },
    "orig_nbformat": 4,
    "colab": {
      "name": "Copy of minimum and maximum.ipynb",
      "provenance": [],
      "include_colab_link": true
    },
    "kernelspec": {
      "name": "python3",
      "display_name": "Python 3"
    }
  },
  "nbformat": 4,
  "nbformat_minor": 0
}