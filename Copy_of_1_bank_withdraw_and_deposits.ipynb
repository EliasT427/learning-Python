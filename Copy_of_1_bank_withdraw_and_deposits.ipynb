{
  "nbformat": 4,
  "nbformat_minor": 0,
  "metadata": {
    "interpreter": {
      "hash": "fd61235da8d855c081cbd5d7c6398e4c179a40a950675235256f7f30499f1124"
    },
    "kernelspec": {
      "display_name": "Python 3.7.4 64-bit ('base': conda)",
      "language": "python",
      "name": "python3"
    },
    "language_info": {
      "codemirror_mode": {
        "name": "ipython",
        "version": 3
      },
      "file_extension": ".py",
      "mimetype": "text/x-python",
      "name": "python",
      "nbconvert_exporter": "python",
      "pygments_lexer": "ipython3",
      "version": "3.7.4"
    },
    "orig_nbformat": 4,
    "colab": {
      "name": "Copy of 1. bank_withdraw_and_deposits.ipynb",
      "provenance": [],
      "include_colab_link": true
    }
  },
  "cells": [
    {
      "cell_type": "markdown",
      "metadata": {
        "id": "view-in-github",
        "colab_type": "text"
      },
      "source": [
        "<a href=\"https://colab.research.google.com/github/EliasT427/learning-Python/blob/main/Copy_of_1_bank_withdraw_and_deposits.ipynb\" target=\"_parent\"><img src=\"https://colab.research.google.com/assets/colab-badge.svg\" alt=\"Open In Colab\"/></a>"
      ]
    },
    {
      "cell_type": "markdown",
      "metadata": {
        "id": "pJFT80nLl2vd"
      },
      "source": [
        "# Instructions\n",
        "This is the beginning of a project that we will build upon until we have a fully function ATM simulation working. For now your task is to implement the following logic.\n",
        "\n",
        "- the computer generates a random bank balance between $100 and $10,000 that gets assigned to the variable `balance`\n",
        "- get user input for one of the available options `D for deposit, W for withdraw` that gets assinged to the variable `action`\n",
        "- if the `action` is withdrawl, ask the user for the amount and decrease `balance` by that amount\n",
        "- if the `action` is deposit, ask the user for the amount and increase `balance` by that amount\n",
        "- lastly print out the action the user did, how much their account increased/decreased by, and their current account balance\n",
        "\n",
        "### Example output\n",
        "`\"You deposited $423 into your account. Your current balance is: $723\"`\n"
      ]
    },
    {
      "cell_type": "code",
      "metadata": {
        "id": "0bQGrMK0l2vg",
        "colab": {
          "base_uri": "https://localhost:8080/"
        },
        "outputId": "935ef1fe-b113-41de-c258-5175137d8f46"
      },
      "source": [
        "#TODO\n",
        "from random import randint, choice\n",
        "balance=randint(100,10000)\n",
        "action=input('Type D to deposit or type W to withdraw')\n",
        "action = action.lower()\n",
        "if action == 'd':\n",
        "  deposit_amount = int(input('How much would you like to deposit'))\n",
        "  if deposit_amount>0:\n",
        "    new_balance=deposit_amount+balance\n",
        "    print(new_balance)\n",
        "  else:\n",
        "    print('Number must be positive')\n",
        "  print(f'You deposited ${deposit_amount} and your current balance is ${new_balance}')\n",
        "if action == 'w':\n",
        "  withdraw_amount=int(input('How much would you like to withdraw'))\n",
        "  if withdraw_amount>balance:\n",
        "    print('You dont have enough money to withdraw this amount')\n",
        "  elif withdraw_amount>0:\n",
        "    new_balance=balance-withdraw_amount\n",
        "    print(new_balance)\n",
        "  else:\n",
        "    print('Number must be positive')\n",
        "  print(f'You withdrew ${withdraw_amount} and your currently balance is ${new_balance}')\n",
        "    \n",
        "  "
      ],
      "execution_count": null,
      "outputs": [
        {
          "output_type": "stream",
          "name": "stdout",
          "text": [
            "Type D to deposit or type W to withdrawd\n",
            "How much would you like to deposit10\n",
            "5575\n",
            "You deposited $10 and your current balance is $5575\n"
          ]
        }
      ]
    }
  ]
}