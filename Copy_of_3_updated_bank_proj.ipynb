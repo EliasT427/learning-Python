{
  "nbformat": 4,
  "nbformat_minor": 0,
  "metadata": {
    "colab": {
      "name": "Copy of 3. updated_bank_proj.ipynb",
      "provenance": [],
      "collapsed_sections": [],
      "include_colab_link": true
    },
    "orig_nbformat": 4,
    "language_info": {
      "name": "python"
    },
    "kernelspec": {
      "name": "python3",
      "display_name": "Python 3"
    }
  },
  "cells": [
    {
      "cell_type": "markdown",
      "metadata": {
        "id": "view-in-github",
        "colab_type": "text"
      },
      "source": [
        "<a href=\"https://colab.research.google.com/github/EliasT427/learning-Python/blob/main/Copy_of_3_updated_bank_proj.ipynb\" target=\"_parent\"><img src=\"https://colab.research.google.com/assets/colab-badge.svg\" alt=\"Open In Colab\"/></a>"
      ]
    },
    {
      "cell_type": "markdown",
      "metadata": {
        "id": "_5_wDW2T7nO2"
      },
      "source": [
        "# Instructions\n",
        "Using the code from our previous bank project, update it so that all of the operations can be done inside of a loop. Doing this this will let users do multiple operations one after another.\n",
        "-----\n",
        "\n",
        "**For example: I could deposit $100, withdraw $27, then deposit another $100**\n",
        "\n",
        "- Let the users choose which transaction they want to do (withdraw or deposit)\n",
        "- keep updating the total bank balance after each transaction\n",
        "- create a list (or two) that will keep track of each transaction the user makes\n",
        "- break the loop if the user enters `logout` as a transaction\n",
        "- when the user logs out, print that the user has logged out along with the current bank balance and how many deposits and withdraws they made\n",
        "\n",
        "### Example output\n",
        "- `\"You deposited $100\"`\n",
        "- `\"You withdrew $57\"`\n",
        "- `\"You withdrew $19\"`\n",
        "- `\"You have logged out. Your current balance is $24 and you made 1 deposit and 2 withdrawls\"`"
      ]
    },
    {
      "cell_type": "code",
      "metadata": {
        "id": "TBniS9jx7nO-",
        "colab": {
          "base_uri": "https://localhost:8080/"
        },
        "outputId": "f00a8d08-14f3-46e1-e0be-e9a568b6087c"
      },
      "source": [
        "from random import randint, choice\n",
        "balance=randint(100,10000)\n",
        "while True:\n",
        "  action=input('Type D to deposit, type W to withdraw or logout to stop')\n",
        "  action = action.lower()\n",
        "  if action == 'd':\n",
        "    deposit_amount = int(input('How much would you like to deposit'))\n",
        "    if deposit_amount>0:\n",
        "      balance=deposit_amount+balance\n",
        "      print(balance)\n",
        "    else:\n",
        "      print('Number must be positive')\n",
        "  elif action == 'w':\n",
        "    withdraw_amount=int(input('How much would you like to withdraw'))\n",
        "    if withdraw_amount>balance:\n",
        "      print('You dont have enough money to withdraw this amount')\n",
        "    elif withdraw_amount>0:\n",
        "      balance=balance-withdraw_amount\n",
        "      print(balance)\n",
        "    else:\n",
        "      print('Number must be positive')\n",
        "  elif action == 'logout':\n",
        "    break\n"
      ],
      "execution_count": 5,
      "outputs": [
        {
          "name": "stdout",
          "output_type": "stream",
          "text": [
            "Type D to deposit, type W to withdraw or logout to stopd\n",
            "How much would you like to deposit10\n",
            "6317\n",
            "Type D to deposit, type W to withdraw or logout to stopw\n",
            "How much would you like to withdraw10\n",
            "6307\n",
            "Type D to deposit, type W to withdraw or logout to stopd\n",
            "How much would you like to deposit500\n",
            "6807\n",
            "Type D to deposit, type W to withdraw or logout to stopw\n",
            "How much would you like to withdraw957\n",
            "5850\n",
            "Type D to deposit, type W to withdraw or logout to stoplogout\n"
          ]
        }
      ]
    }
  ]
}