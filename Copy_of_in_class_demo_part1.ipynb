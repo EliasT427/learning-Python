{
  "nbformat": 4,
  "nbformat_minor": 0,
  "metadata": {
    "interpreter": {
      "hash": "fd61235da8d855c081cbd5d7c6398e4c179a40a950675235256f7f30499f1124"
    },
    "kernelspec": {
      "display_name": "Python 3.7.4 64-bit ('base': conda)",
      "name": "python3"
    },
    "language_info": {
      "codemirror_mode": {
        "name": "ipython",
        "version": 3
      },
      "file_extension": ".py",
      "mimetype": "text/x-python",
      "name": "python",
      "nbconvert_exporter": "python",
      "pygments_lexer": "ipython3",
      "version": "3.9.7"
    },
    "orig_nbformat": 4,
    "colab": {
      "name": "Copy of in_class_demo part1.ipynb",
      "provenance": [],
      "collapsed_sections": [],
      "include_colab_link": true
    }
  },
  "cells": [
    {
      "cell_type": "markdown",
      "metadata": {
        "id": "view-in-github",
        "colab_type": "text"
      },
      "source": [
        "<a href=\"https://colab.research.google.com/github/EliasT427/learning-Python/blob/main/Copy_of_in_class_demo_part1.ipynb\" target=\"_parent\"><img src=\"https://colab.research.google.com/assets/colab-badge.svg\" alt=\"Open In Colab\"/></a>"
      ]
    },
    {
      "cell_type": "markdown",
      "metadata": {
        "id": "q3lb6seWeeDr"
      },
      "source": [
        "# Dictionaries\n",
        "\n",
        "You can think of a dictionary as a mapping between a set of keys and a set of values. Each key maps to a value. The association of a key and a value is called a **key:value** pair or sometimes an item.\n",
        "--\n",
        "\n",
        "**As an example, we’ll build a dictionary that stores employee record.**\n",
        "--\n",
        "\n",
        "<img src = \"imgs/dict.png\">\n"
      ]
    },
    {
      "cell_type": "markdown",
      "metadata": {
        "id": "KxVMca_4eeDt"
      },
      "source": [
        "# Creating Dictionaries\n",
        "You can create a dictionary by placing a comma-separated list of `key:value` pairs in curly braces `{}`. Each key is separated from its associated value by a colon `:`\n",
        "--\n",
        "\n",
        "```python\n",
        "dictionary = {'key': 'value',\n",
        "              'key2': 'value2'}\n",
        "```\n",
        "\n",
        ">Think about a dictionary in python as being like an actual dictionary, or phone book. All of the words in a dictionary are unique yet two unique words may share similar definitions"
      ]
    },
    {
      "cell_type": "code",
      "metadata": {
        "id": "4hGUnDY1eeDt",
        "colab": {
          "base_uri": "https://localhost:8080/"
        },
        "outputId": "2b05be74-69ad-4781-f4d4-725aea22a7e5"
      },
      "source": [
        "#TODO: Build the dictionary that stores employee records\n",
        "employees = {'name': 'Elias',\n",
        "             'age': 15,\n",
        "             'job': 'Highschooler',\n",
        "             'city': 'Minneapolis'}\n",
        "employees"
      ],
      "execution_count": null,
      "outputs": [
        {
          "output_type": "execute_result",
          "data": {
            "text/plain": [
              "{'age': 15, 'city': 'Minneapolis', 'job': 'Highschooler', 'name': 'Elias'}"
            ]
          },
          "metadata": {},
          "execution_count": 11
        }
      ]
    },
    {
      "cell_type": "markdown",
      "metadata": {
        "id": "y5IMoxNfeeDu"
      },
      "source": [
        "# Properties of a Dictionary\n",
        "----------\n",
        "\n",
        "## **Keys must be unique:**\n",
        "A key can appear in a dictionary only once.\n",
        "---\n",
        "\n",
        "**if you specify a key more than once during the creation of a dictionary, the last value for that key becomes the associated value.**\n"
      ]
    },
    {
      "cell_type": "code",
      "metadata": {
        "id": "Emrdm7_GeeDu",
        "colab": {
          "base_uri": "https://localhost:8080/"
        },
        "outputId": "2e6b1dac-90f2-4fa7-8378-223d32460f38"
      },
      "source": [
        "#TODO: Create a dictionary with some of the keys being identical\n",
        "identical_keys = {'cat': 'bad',\n",
        "                  'dog': 'good',\n",
        "                  'cat': 'not good'}\n",
        "identical_keys\n"
      ],
      "execution_count": null,
      "outputs": [
        {
          "output_type": "execute_result",
          "data": {
            "text/plain": [
              "{'cat': 'not good', 'dog': 'good'}"
            ]
          },
          "metadata": {},
          "execution_count": 14
        }
      ]
    },
    {
      "cell_type": "markdown",
      "metadata": {
        "id": "C7BmPsxQeeDu"
      },
      "source": [
        "## **Keys must be immutable:**\n",
        "> *Remember, immutable types can't change.* \n",
        "\n",
        "You can create a key in a dictionary using any immutable data type – such as *numbers, strings, booleans or tuples.*\n",
        "--"
      ]
    },
    {
      "cell_type": "code",
      "metadata": {
        "id": "foq2fR9ueeDv",
        "colab": {
          "base_uri": "https://localhost:8080/",
          "height": 35
        },
        "outputId": "53b82fda-958e-47e1-85ac-85132eda4359"
      },
      "source": [
        "#TODO Create a dictionary with the key data types -> number, string, tuple\n",
        "data = {'int': 90,\n",
        "        'string': 'hello',\n",
        "        'float': 90.1,\n",
        "        (1, 0): 'coordinates'}\n",
        "data[(1, 0)]"
      ],
      "execution_count": null,
      "outputs": [
        {
          "output_type": "execute_result",
          "data": {
            "application/vnd.google.colaboratory.intrinsic+json": {
              "type": "string"
            },
            "text/plain": [
              "'coordinates'"
            ]
          },
          "metadata": {},
          "execution_count": 21
        }
      ]
    },
    {
      "cell_type": "code",
      "metadata": {
        "id": "0K4onEOkeeDv",
        "colab": {
          "base_uri": "https://localhost:8080/",
          "height": 184
        },
        "outputId": "7461a02e-ce07-4ae1-d188-4f6d626772a0"
      },
      "source": [
        "#TODO Show what happens when a key is created with a mutable type, such as a list\n",
        "data = {[1,2]:'list'}"
      ],
      "execution_count": null,
      "outputs": [
        {
          "output_type": "error",
          "ename": "TypeError",
          "evalue": "ignored",
          "traceback": [
            "\u001b[0;31m---------------------------------------------------------------------------\u001b[0m",
            "\u001b[0;31mTypeError\u001b[0m                                 Traceback (most recent call last)",
            "\u001b[0;32m<ipython-input-25-d8aa5be4e1e3>\u001b[0m in \u001b[0;36m<module>\u001b[0;34m()\u001b[0m\n\u001b[1;32m      1\u001b[0m \u001b[0;31m#TODO Show what happens when a key is created with a mutable type, such as a list\u001b[0m\u001b[0;34m\u001b[0m\u001b[0;34m\u001b[0m\u001b[0;34m\u001b[0m\u001b[0m\n\u001b[0;32m----> 2\u001b[0;31m \u001b[0mdata\u001b[0m \u001b[0;34m=\u001b[0m \u001b[0;34m{\u001b[0m\u001b[0;34m[\u001b[0m\u001b[0;36m1\u001b[0m\u001b[0;34m,\u001b[0m\u001b[0;36m2\u001b[0m\u001b[0;34m]\u001b[0m\u001b[0;34m:\u001b[0m\u001b[0;34m'list'\u001b[0m\u001b[0;34m}\u001b[0m\u001b[0;34m\u001b[0m\u001b[0;34m\u001b[0m\u001b[0m\n\u001b[0m",
            "\u001b[0;31mTypeError\u001b[0m: unhashable type: 'list'"
          ]
        }
      ]
    },
    {
      "cell_type": "markdown",
      "metadata": {
        "id": "jOd4QG_xeeDv"
      },
      "source": [
        "## **Value can be of any type:**\n",
        "There are no restrictions on dictionary values. A dictionary value can be any type of object and can appear in a dictionary multiple times.\n",
        "--"
      ]
    },
    {
      "cell_type": "code",
      "metadata": {
        "id": "wQSpG6Z9eeDw",
        "colab": {
          "base_uri": "https://localhost:8080/"
        },
        "outputId": "87d51309-1475-4c27-e9f2-d445b1f7aa80"
      },
      "source": [
        "#TODO Create dictionary values of types -> string, list, tuple\n",
        "data = {\n",
        "    'string': 'I am a string',\n",
        "    'list': [1,2,3,4,5],\n",
        "    'tuple': (1,2,3,4,5)\n",
        "}\n",
        "data"
      ],
      "execution_count": null,
      "outputs": [
        {
          "output_type": "execute_result",
          "data": {
            "text/plain": [
              "{'list': [1, 2, 3, 4, 5], 'string': 'I am a string', 'tuple': (1, 2, 3, 4, 5)}"
            ]
          },
          "metadata": {},
          "execution_count": 26
        }
      ]
    },
    {
      "cell_type": "code",
      "metadata": {
        "id": "R7z0wAvLeeDw",
        "colab": {
          "base_uri": "https://localhost:8080/"
        },
        "outputId": "1cae8a8e-c16e-42c3-b7a7-8e0259129a14"
      },
      "source": [
        "#TODO Create a dictionary with all identical values\n",
        "data = {\n",
        "    'name': None,\n",
        "    'age': None,\n",
        "    'position': None\n",
        "}\n",
        "data"
      ],
      "execution_count": null,
      "outputs": [
        {
          "output_type": "execute_result",
          "data": {
            "text/plain": [
              "{'age': None, 'name': None, 'position': None}"
            ]
          },
          "metadata": {},
          "execution_count": 29
        }
      ]
    },
    {
      "cell_type": "markdown",
      "metadata": {
        "id": "2f_prb8deeDw"
      },
      "source": [
        "# Accessing Dictionary Items\n",
        "-----\n",
        "Unlike lists or tuples, the items of a dictionary are not indexed with integer indices. Instead, you use the keys to access the corresponding values.\n",
        "--\n",
        "\n",
        "***You can fetch a value from a dictionary by referring to its key in square brackets [].***\n",
        "\n",
        "```python\n",
        "D = {'name': 'Bob',\n",
        "     'age': 25,\n",
        "     'job': 'Dev'}\n",
        "\n",
        "print(D['name'])\n",
        "# Prints Bob\n",
        "```"
      ]
    },
    {
      "cell_type": "code",
      "metadata": {
        "id": "RoT2GskMeeDw",
        "colab": {
          "base_uri": "https://localhost:8080/"
        },
        "outputId": "75a908d8-5d3f-4218-d455-77afc25eadfa"
      },
      "source": [
        "#TODO print the name and age from the dictionary\n",
        "var = {'name': 'Gabe',\n",
        "       'age': 22,\n",
        "       'job': 'Dev',\n",
        "       'city': 'Minneapolis',\n",
        "       'email': 'Gabe@lituation.com'}\n",
        "print(var['name'],var['age'])\n",
        "\n"
      ],
      "execution_count": null,
      "outputs": [
        {
          "output_type": "stream",
          "name": "stdout",
          "text": [
            "Gabe 22\n"
          ]
        }
      ]
    },
    {
      "cell_type": "code",
      "metadata": {
        "id": "iWjkk3_HeeDx",
        "colab": {
          "base_uri": "https://localhost:8080/"
        },
        "outputId": "9f1d3590-c987-4d5a-ead0-6ab412a7fe66"
      },
      "source": [
        "#TODO print the first and last dictionary values\n",
        "var = {\n",
        "    101: \"Intro to python\",\n",
        "    \"location\": \"Washburn\",\n",
        "    \"Currently teaching\": True,\n",
        "    (3.15, 5.30): \"time\"\n",
        "}\n",
        "var[101], var[(3.15, 5.30)]\n"
      ],
      "execution_count": null,
      "outputs": [
        {
          "output_type": "execute_result",
          "data": {
            "text/plain": [
              "('Intro to python', 'time')"
            ]
          },
          "metadata": {},
          "execution_count": 33
        }
      ]
    },
    {
      "cell_type": "markdown",
      "metadata": {
        "id": "M-jUQfgxeeDx"
      },
      "source": [
        "If you refer to a key that is not in the dictionary, you’ll get an error. To avoid such exception, you can use the special dictionary `get()` method. This method returns the value for key if key is in the dictionary, else None, so that this method never raises an error.\n",
        "--\n",
        "\n"
      ]
    },
    {
      "cell_type": "code",
      "metadata": {
        "id": "fqii6i00eeDx",
        "colab": {
          "base_uri": "https://localhost:8080/"
        },
        "outputId": "5031ab1d-8c82-41ac-b12a-97a83640c0d3"
      },
      "source": [
        "#TODO Try an access a key that is not in the dictionary\n",
        "var = {\n",
        "    \"Snapchat\": \"Photo messaging\",\n",
        "    \"Instagram\": \"Photo and video\",\n",
        "    \"Twitter\": \"MicroBlogging\"\n",
        "}\n",
        "print(var.get('facebook'))"
      ],
      "execution_count": null,
      "outputs": [
        {
          "output_type": "stream",
          "name": "stdout",
          "text": [
            "None\n"
          ]
        }
      ]
    },
    {
      "cell_type": "code",
      "metadata": {
        "id": "N7W3vblLeeDx"
      },
      "source": [
        "#TODO Try an access a key that is not in the dictionary using the get method"
      ],
      "execution_count": null,
      "outputs": []
    },
    {
      "cell_type": "code",
      "metadata": {
        "id": "qtD6W6wVeeDx",
        "colab": {
          "base_uri": "https://localhost:8080/",
          "height": 35
        },
        "outputId": "20185aae-0011-408a-843b-a54fbfa267f2"
      },
      "source": [
        "#TODO: Set a default value for when a key is not found\n",
        "key = 'facebook'\n",
        "default = f'{key} was not found'\n",
        "var.get(key, default)"
      ],
      "execution_count": null,
      "outputs": [
        {
          "output_type": "execute_result",
          "data": {
            "application/vnd.google.colaboratory.intrinsic+json": {
              "type": "string"
            },
            "text/plain": [
              "'facebook was not found'"
            ]
          },
          "metadata": {},
          "execution_count": 37
        }
      ]
    },
    {
      "cell_type": "markdown",
      "metadata": {
        "id": "2FNVGRlreeDx"
      },
      "source": [
        "# Adding/Updating dictionary values\n",
        "-----\n",
        "Adding or updating dictionary values is easy. Just refer to the item by its key and assign a value. If the key is already present in the dictionary, its value is replaced by the new one.\n",
        "--\n",
        "\n"
      ]
    },
    {
      "cell_type": "code",
      "metadata": {
        "id": "_BAgpkIieeDy",
        "colab": {
          "base_uri": "https://localhost:8080/"
        },
        "outputId": "936ebe26-c2d5-4512-dd2a-cd16f0a756e3"
      },
      "source": [
        "#TODO Update the snapchat value to \"Sneaky Media\"\n",
        "print(f\"Value before edit: {var['Snapchat']}\")\n",
        "var['Snapchat'] = 'Sneaky Media'\n",
        "print(f\"Value after edit: {var['Snapchat']}\")"
      ],
      "execution_count": null,
      "outputs": [
        {
          "output_type": "stream",
          "name": "stdout",
          "text": [
            "Value before edit: Sneaky Media\n",
            "Value after edit: Sneaky Media\n"
          ]
        }
      ]
    },
    {
      "cell_type": "markdown",
      "metadata": {
        "id": "r7a9flpNeeDy"
      },
      "source": [
        "You can also add a new `key:value` pair by referring to the item by its key and assign a value. If the key is already present in the dictionary, its value is replaced by the new one.\n",
        "--"
      ]
    },
    {
      "cell_type": "code",
      "metadata": {
        "id": "YnOI39KdeeDy",
        "colab": {
          "base_uri": "https://localhost:8080/"
        },
        "outputId": "c4ccab07-37bc-4203-c1b3-adf2f8846363"
      },
      "source": [
        "#TODO add a new key value pair to the dictionary\n",
        "var['Meta'] = 'facebook'\n",
        "var\n",
        "\n"
      ],
      "execution_count": null,
      "outputs": [
        {
          "output_type": "execute_result",
          "data": {
            "text/plain": [
              "{'Instagram': 'Photo and video',\n",
              " 'Meta': 'facebook',\n",
              " 'Snapchat': 'Sneaky Media',\n",
              " 'Twitter': 'MicroBlogging'}"
            ]
          },
          "metadata": {},
          "execution_count": 42
        }
      ]
    },
    {
      "cell_type": "markdown",
      "metadata": {
        "id": "jN3lZDvTeeDy"
      },
      "source": [
        "# Using loops with dictionaries\n",
        "There are many ways to use loop with dictionaries, many of which are useful for the creation of or updating dictionaries.\n",
        "\n",
        "## Creating dictionaries from a list using for loops\n",
        "Given a list, you can loop through the elements and use them as either the keys or values for a dictionary. In this example, we will use the list of names to create 3 different dictionaries using loops.\n",
        "- Names as keys\n",
        "- Names as values\n",
        "- Names as values, Name length as values"
      ]
    },
    {
      "cell_type": "code",
      "metadata": {
        "id": "0l5nwE-D1Ayq"
      },
      "source": [
        "names = ['Elias', 'Gabe', 'Oliver', 'Harper']\n",
        "data = {}"
      ],
      "execution_count": null,
      "outputs": []
    },
    {
      "cell_type": "code",
      "metadata": {
        "id": "riU6dEqIeeDy",
        "colab": {
          "base_uri": "https://localhost:8080/"
        },
        "outputId": "7808c0c9-fdbb-473b-ce38-e13ceb52ee67"
      },
      "source": [
        "#TODO create a dictionary using the names list with the names being the keys and\n",
        "# the amount of times the name is in the list as the value\n",
        "for name in names:\n",
        "  data[name] = names.count(name)\n",
        "data"
      ],
      "execution_count": null,
      "outputs": [
        {
          "output_type": "execute_result",
          "data": {
            "text/plain": [
              "{'Elias': 1, 'Gabe': 1, 'Harper': 1, 'Oliver': 1}"
            ]
          },
          "metadata": {},
          "execution_count": 49
        }
      ]
    },
    {
      "cell_type": "code",
      "metadata": {
        "id": "_1hjV3iCeeDy",
        "colab": {
          "base_uri": "https://localhost:8080/"
        },
        "outputId": "51422d23-6e94-41ba-cf65-e29a81ef31d3"
      },
      "source": [
        "#TODO Create a dictionary where the index of the name is the key and the name is the value\n",
        "data = {}\n",
        "for name in range(len(names)):\n",
        "  data[name] = names[name]\n",
        "data\n",
        "for name in names:\n",
        "  data[names.index(name)] = name\n",
        "data"
      ],
      "execution_count": null,
      "outputs": [
        {
          "output_type": "execute_result",
          "data": {
            "text/plain": [
              "{0: 'Elias', 1: 'Gabe', 2: 'Oliver', 3: 'Harper'}"
            ]
          },
          "metadata": {},
          "execution_count": 74
        }
      ]
    },
    {
      "cell_type": "code",
      "metadata": {
        "id": "6WiCFlc3eeDy",
        "colab": {
          "base_uri": "https://localhost:8080/"
        },
        "outputId": "80e26bbd-9e65-4fd4-a822-257cd96df0e2"
      },
      "source": [
        "#TODO create a dictionary where the names are keys and the name length are the values\n",
        "data = {}\n",
        "for name in names:\n",
        "  data[name] = len(name)\n",
        "\n",
        "data"
      ],
      "execution_count": null,
      "outputs": [
        {
          "output_type": "execute_result",
          "data": {
            "text/plain": [
              "{'Elias': 5, 'Gabe': 4, 'Harper': 6, 'Oliver': 6}"
            ]
          },
          "metadata": {},
          "execution_count": 76
        }
      ]
    },
    {
      "cell_type": "markdown",
      "metadata": {
        "id": "ASI-GVx5eeDy"
      },
      "source": [
        "# Checking for Key Memebership\n",
        "---\n",
        "You can use the `in` operator to check if a key is present inside of a dictionary. This can be useful for updating dictionaries, as well as creating things like counters (we will go over this in part 2 of this lesson).\n",
        "--"
      ]
    },
    {
      "cell_type": "code",
      "metadata": {
        "id": "sR5-xZB6eeDy",
        "colab": {
          "base_uri": "https://localhost:8080/"
        },
        "outputId": "92114caa-4983-4c0d-919b-ef357057c2eb"
      },
      "source": [
        "contacts = {\n",
        "    \"Oliver\": '612-542-7787',\n",
        "    \"Elias\": '651-990-1102',\n",
        "    \"Harper\": '952-665-9088'\n",
        "}\n",
        "\n",
        "#TODO Check is Harper is in the dictionary\n",
        "'Harper' in contacts\n",
        "#TODO Check if Gabe is in the dictionary\n",
        "'gabe' in contacts"
      ],
      "execution_count": 2,
      "outputs": [
        {
          "output_type": "execute_result",
          "data": {
            "text/plain": [
              "False"
            ]
          },
          "metadata": {},
          "execution_count": 2
        }
      ]
    },
    {
      "cell_type": "markdown",
      "metadata": {
        "id": "K6y6L74zeeDy"
      },
      "source": [
        "# Looping through Dictionary keys\n",
        "---------\n",
        "Although dictionaries aren't considered sequences in python, they are still iterable objects. You can loop through the keys in a dictionary by using a `for in` loop.\n",
        "--\n",
        "\n",
        "```python\n",
        "d = {'key':'value', 'key2':'value2'}\n",
        "for key in d:\n",
        "    print(key)\n",
        "```"
      ]
    },
    {
      "cell_type": "code",
      "metadata": {
        "id": "a8sSPiWteeDy",
        "colab": {
          "base_uri": "https://localhost:8080/"
        },
        "outputId": "71eeaa0b-799b-4bca-b5df-9bc1a5befaee"
      },
      "source": [
        "contacts = {\n",
        "    \"Oliver\": '612-542-7787',\n",
        "    \"Elias\": '651-990-1102',\n",
        "    \"Harper\": '952-665-9088'\n",
        "}\n",
        "\n",
        "#TODO loop over the contacts dictionary\n",
        "for contact in contacts:\n",
        "  print(contacts[contact])\n",
        "#TODO loop over the contacts and print the values\n",
        "  print(contacts[contact],contact)"
      ],
      "execution_count": 6,
      "outputs": [
        {
          "output_type": "stream",
          "name": "stdout",
          "text": [
            "612-542-7787\n",
            "612-542-7787 Oliver\n",
            "651-990-1102\n",
            "651-990-1102 Elias\n",
            "952-665-9088\n",
            "952-665-9088 Harper\n"
          ]
        }
      ]
    },
    {
      "cell_type": "code",
      "metadata": {
        "colab": {
          "base_uri": "https://localhost:8080/"
        },
        "id": "0p4JBVz37YkW",
        "outputId": "6ec0b38d-4aee-44b6-a023-76d866dc8735"
      },
      "source": [
        "items = list(contacts.items())\n",
        "print(items)"
      ],
      "execution_count": 9,
      "outputs": [
        {
          "output_type": "stream",
          "name": "stdout",
          "text": [
            "[('Oliver', '612-542-7787'), ('Elias', '651-990-1102'), ('Harper', '952-665-9088')]\n"
          ]
        }
      ]
    }
  ]
}